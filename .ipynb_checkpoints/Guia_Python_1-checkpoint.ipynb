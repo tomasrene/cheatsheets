{
 "cells": [
  {
   "cell_type": "code",
   "execution_count": 920,
   "metadata": {},
   "outputs": [
    {
     "data": {
      "text/plain": [
       "'\\n### COMO CARGAR Y GRABAR DATASETS\\n## CSV\\nwith open as\\nread, append, write\\n\\n## PANDAS\\nread_csv\\nread_csv para txt\\n\\n### ESTADISTICOS BASICOS\\ncount, sum, mean, avg, std\\ngroup by\\napply? agg{}?\\n\\n### VISUALIZACION\\nplot básico\\nkinds\\nmodificar leyendas\\nmodificar formatos\\n\\n## BIGQUERY\\nimport gcloud?\\n\\n### MODELOS\\nque es sklearn\\n\\n## MODELOS BASICOS\\n# REGRESION LINEAL\\n\\n# REGRESION LOGISTICA\\n\\n# ARBOLES DE DECISION\\n\\n## SEPARACION TRAIN Y TEST\\n\\n## METRICAS DE EVALUACION\\n\\n## MODELOS AVANZADOS\\n\\n'"
      ]
     },
     "execution_count": 920,
     "metadata": {},
     "output_type": "execute_result"
    }
   ],
   "source": [
    "'''\n",
    "# GUIA 0\n",
    "Que es python\n",
    "Como instalar Jupyter Notebook\n",
    "Como instalar librerías (pip)\n",
    "Qué es Google Colab\n",
    "Qué es gitHub\n",
    "\n",
    "### MODELOS\n",
    "que es sklearn\n",
    "\n",
    "## MODELOS BASICOS\n",
    "# REGRESION LINEAL\n",
    "\n",
    "# REGRESION LOGISTICA\n",
    "\n",
    "# ARBOLES DE DECISION\n",
    "\n",
    "## SEPARACION TRAIN Y TEST\n",
    "\n",
    "## METRICAS DE EVALUACION\n",
    "\n",
    "## MODELOS AVANZADOS\n",
    "\n",
    "'''"
   ]
  },
  {
   "cell_type": "markdown",
   "metadata": {},
   "source": [
    "# GUIA DE PYTHON #"
   ]
  },
  {
   "cell_type": "markdown",
   "metadata": {},
   "source": [
    "En esta guía vamos a abordar los conceptos y funciones básicas que necesitamos en Python para trabajar en proyectos de data science y procesamiento de datos a diferentes escalas, buscando siempre entender por qué las cosas funcionan de la manera que lo hacen y cómo encontrar la mejor manera de hacerlo.\n",
    "\n",
    "Mucha de esta documentación la podrán encontrar en internet (especialmente en Stackoverflow, cursos en DataCamp, Udemy, Coursera, etcétera, en la documentación oficial o en los libros de O'Reilly entre otros). Sin embargo, acá tratamos de ordenarlos y listar solo los más relevantes.\n",
    "\n",
    "El primer módulo empieza por los tipos de datos y estructuras básicos de Python. Luego, vamos a introducir una librería estándar que es Pandas. Vamos a aprender para ambos mundos (python básico y pandas) cómo crear variables, estructuras más complejas, cómo consultarlas, filtrarlas y realizar ciertas operaciones básicas. Luego de eso, veremos cómo interactuar con archivos externos (en nuestro disco local o en Drive por ejemplo).\n",
    "\n",
    "En el segundo módulo vamos a ver cómo realizar cálculos estadísticos básicos, cómo visualizar los datos de una manera más o menos sencilla y rápida y vamos a trabajar con los primeros modelos con la librería sklearn (otro estándar)."
   ]
  },
  {
   "cell_type": "markdown",
   "metadata": {},
   "source": [
    "# 1) ESTRUCTURAS DE DATOS (PYTHON Y PANDAS)"
   ]
  },
  {
   "cell_type": "markdown",
   "metadata": {},
   "source": [
    "## PYTHON BÁSICO"
   ]
  },
  {
   "cell_type": "markdown",
   "metadata": {},
   "source": [
    "Vamos a aprender algunas funciones básicas (asignación, impresión, for e ir) además de 2 estructuras de datos que nos van a servir habitualmente (listas y diccionarios). Hay más funciones y más estructuras de datos pero estas son las básicas y que vamos a seguir usando incluso una vez que pasemos a Pandas."
   ]
  },
  {
   "cell_type": "markdown",
   "metadata": {},
   "source": [
    "### VARIABLES"
   ]
  },
  {
   "cell_type": "markdown",
   "metadata": {},
   "source": [
    "Una variable es lo que se crea para almacenar información. Hay ciertos tipoos de datos básicos que podemoa almacenar en una variable. La asignación se realiza con el =."
   ]
  },
  {
   "cell_type": "code",
   "execution_count": 16,
   "metadata": {},
   "outputs": [],
   "source": [
    "# Asignación y tipos de datos\n",
    "numero_entero = 1\n",
    "numero_decimal = 1.0\n",
    "palabra = 'hola'\n",
    "booleano = True"
   ]
  },
  {
   "cell_type": "markdown",
   "metadata": {},
   "source": [
    "#### IMPRESIÓN"
   ]
  },
  {
   "cell_type": "markdown",
   "metadata": {},
   "source": [
    "Para ver esos resultados en pantalla, usamos el comando print."
   ]
  },
  {
   "cell_type": "code",
   "execution_count": 310,
   "metadata": {},
   "outputs": [
    {
     "name": "stdout",
     "output_type": "stream",
     "text": [
      "1\n",
      "1.0\n",
      "hola\n",
      "True\n"
     ]
    }
   ],
   "source": [
    "# Impresion\n",
    "print(numero_entero)\n",
    "print(numero_decimal)\n",
    "print(palabra)\n",
    "print(booleano)"
   ]
  },
  {
   "cell_type": "markdown",
   "metadata": {},
   "source": [
    "Hay diferentes opciones para no solo imprimir el valor de una variable sino poder ponerlo en contexto."
   ]
  },
  {
   "cell_type": "code",
   "execution_count": 837,
   "metadata": {},
   "outputs": [
    {
     "name": "stdout",
     "output_type": "stream",
     "text": [
      "1 1.0\n",
      "1 | 1.0\n",
      "Numero entero: 1 \tNumero decimal: 1.0\n",
      "Numero entero: 1 \tNumero decimal: 1.0\n",
      "Será hola una palabra? \n",
      "Es True\n"
     ]
    }
   ],
   "source": [
    "# Impresion más compleja\n",
    "print(numero_entero,numero_decimal) # La separación entre las variables es por default un espacio en blanco\n",
    "print(numero_entero,numero_decimal,sep = \" | \") # Pero podemos pasarle otro valor para separar las variables\n",
    "print(\"Numero entero:\",numero_entero,\"\\tNumero decimal:\",numero_decimal) # Con \\t separamos como si fuera un TAB\n",
    "print(f\"Numero entero: {numero_entero} \\tNumero decimal: {numero_decimal}\") # Con f pasamos variables entre llaves\n",
    "print(f\"Será {palabra} una palabra? \\nEs {booleano}\") # con \\n hacemos un salto de línea"
   ]
  },
  {
   "cell_type": "markdown",
   "metadata": {},
   "source": [
    "### LISTAS"
   ]
  },
  {
   "cell_type": "markdown",
   "metadata": {},
   "source": [
    "Más allá de estas variables que hasta ahora solo tienen un valor, en python podemos crear distintas estructuras de datos más complejas. El primer caso son las listas (o arrays) que nos permiten almacenar distintos valores de distinto tipo. Se simbolizan con llaves []."
   ]
  },
  {
   "cell_type": "code",
   "execution_count": 312,
   "metadata": {},
   "outputs": [
    {
     "name": "stdout",
     "output_type": "stream",
     "text": [
      "[1, 2, 3, 4]\n",
      "[1, 1.0, 'hola', True]\n"
     ]
    }
   ],
   "source": [
    "# Crear array\n",
    "lista = [1, 2, 3, 4] # Pasamos los valores entre comas\n",
    "lista_tipos_diferentes = [1, 1.0, \"hola\", True] # Podemos pasar distintos tipos de datos dentro del array\n",
    "print(lista)\n",
    "print(lista_tipos_diferentes)"
   ]
  },
  {
   "cell_type": "markdown",
   "metadata": {},
   "source": [
    "Una vez creado un array podemos obtener información sobre la misma y filtrar ciertos valores"
   ]
  },
  {
   "cell_type": "code",
   "execution_count": 313,
   "metadata": {},
   "outputs": [
    {
     "name": "stdout",
     "output_type": "stream",
     "text": [
      "La lista tiene 4 elementos\n"
     ]
    }
   ],
   "source": [
    "# Longitud de la lista\n",
    "print(f\"La lista tiene {len(lista)} elementos\") # Con la función len obtenemos la cantidad de elementos"
   ]
  },
  {
   "cell_type": "code",
   "execution_count": 314,
   "metadata": {},
   "outputs": [
    {
     "name": "stdout",
     "output_type": "stream",
     "text": [
      "1\n",
      "hola\n"
     ]
    }
   ],
   "source": [
    "# Seleccionar un elemento\n",
    "print(lista_tipos_diferentes[0]) # El primer elemento en las listas es el elemento 0 por convención\n",
    "print(lista_tipos_diferentes[2])"
   ]
  },
  {
   "cell_type": "code",
   "execution_count": 315,
   "metadata": {},
   "outputs": [
    {
     "name": "stdout",
     "output_type": "stream",
     "text": [
      "<class 'str'>\n"
     ]
    }
   ],
   "source": [
    "# Tipo de dato de un elemento\n",
    "print(type(lista_tipos_diferentes[2])) # La funcion type nos permite saber el tipo de dato, en este caso 'string'"
   ]
  },
  {
   "cell_type": "code",
   "execution_count": 316,
   "metadata": {},
   "outputs": [
    {
     "name": "stdout",
     "output_type": "stream",
     "text": [
      "[1, 2]\n",
      "[1, 2, 3, 4]\n",
      "[1, 3]\n",
      "[1, 3]\n",
      "4\n",
      "[2, 3]\n",
      "[]\n"
     ]
    }
   ],
   "source": [
    "# Seleccionar varios elementos (se llama slicing)\n",
    "print(lista[0:2]) # Esto indica desde el elemento 0 hasta el 2 (no inclusive)\n",
    "print(lista[0:len(lista)]) # Esto debería imprimir todos los elementos\n",
    "print(lista[0:len(lista):2]) # El tercer parámetro indica que imprimimos de 2 en 2\n",
    "print(lista[::2]) # Lo mismo pero menos verboso\n",
    "print(lista[-1]) # También podemos usar valores negativos para empezar por el final\n",
    "print(lista[-3:-1]) # Usamos los mismos operadores pero para los negativos\n",
    "print(lista[-1:-3]) # Cuidado porque en este caso cambia el orden en que se recorre la lista, por eso da vacio"
   ]
  },
  {
   "cell_type": "code",
   "execution_count": 317,
   "metadata": {},
   "outputs": [
    {
     "ename": "IndexError",
     "evalue": "list index out of range",
     "output_type": "error",
     "traceback": [
      "\u001b[0;31m---------------------------------------------------------------------------\u001b[0m",
      "\u001b[0;31mIndexError\u001b[0m                                Traceback (most recent call last)",
      "\u001b[0;32m<ipython-input-317-6c23e7c40c4f>\u001b[0m in \u001b[0;36m<module>\u001b[0;34m\u001b[0m\n\u001b[0;32m----> 1\u001b[0;31m \u001b[0mprint\u001b[0m\u001b[0;34m(\u001b[0m\u001b[0mlista_tipos_diferentes\u001b[0m\u001b[0;34m[\u001b[0m\u001b[0;36m4\u001b[0m\u001b[0;34m]\u001b[0m\u001b[0;34m)\u001b[0m \u001b[0;31m# Esto debería arrojar error por estar por fuera de la lista\u001b[0m\u001b[0;34m\u001b[0m\u001b[0;34m\u001b[0m\u001b[0m\n\u001b[0m",
      "\u001b[0;31mIndexError\u001b[0m: list index out of range"
     ]
    }
   ],
   "source": [
    "print(lista_tipos_diferentes[4]) # Esto debería arrojar error por estar por fuera de la lista"
   ]
  },
  {
   "cell_type": "markdown",
   "metadata": {},
   "source": [
    "#### METODOS"
   ]
  },
  {
   "cell_type": "markdown",
   "metadata": {},
   "source": [
    "Vamos a ver lo que se llaman métodos, es decir funciones que puedo aplicar sobre las listas"
   ]
  },
  {
   "cell_type": "code",
   "execution_count": 318,
   "metadata": {},
   "outputs": [
    {
     "name": "stdout",
     "output_type": "stream",
     "text": [
      "[1, 2, 3, 4, 5]\n"
     ]
    }
   ],
   "source": [
    "# Append\n",
    "lista.append(5) # Agregamos un elemento al final de la lista\n",
    "print(lista)"
   ]
  },
  {
   "cell_type": "code",
   "execution_count": 319,
   "metadata": {},
   "outputs": [
    {
     "name": "stdout",
     "output_type": "stream",
     "text": [
      "[1, 2, 3, 4]\n",
      "[2, 3, 4]\n"
     ]
    }
   ],
   "source": [
    "# Pop\n",
    "lista.pop() # Pop elimina y devuelve el ultimo valor de la lista\n",
    "print(lista)\n",
    "lista.pop(0) # Tambien podemos pasarle el indice (el numero de orden) del elemento a eliminar\n",
    "print(lista)"
   ]
  },
  {
   "cell_type": "code",
   "execution_count": 320,
   "metadata": {},
   "outputs": [
    {
     "name": "stdout",
     "output_type": "stream",
     "text": [
      "[2, 3, 4]\n",
      "[2, 3, 4, 1, 5]\n",
      "[2, 3, 4, 1, 5, 6, 7, 8, 9]\n"
     ]
    }
   ],
   "source": [
    "# Concatenate\n",
    "lista + [1,5] # Con el + podemos agregar otra lista al final\n",
    "print(lista) # Sin embargo la lista sigue igual\n",
    "lista = lista + [1,5] # Para que se haga efectivo, tenemos que volver a asignarla\n",
    "print(lista)\n",
    "lista += [6,7,8,9] # Esta es una forma abreviada\n",
    "print(lista)"
   ]
  },
  {
   "cell_type": "code",
   "execution_count": 838,
   "metadata": {},
   "outputs": [
    {
     "name": "stdout",
     "output_type": "stream",
     "text": [
      "[1, 2, 3, 4, 5, 6, 7, 8, 9]\n",
      "[9, 8, 7, 6, 5, 4, 3, 2, 1]\n"
     ]
    }
   ],
   "source": [
    "# Sort\n",
    "lista.sort() # Con sort la podemos ordenar en orden creciente\n",
    "print(lista)\n",
    "lista.sort(reverse=True) # O también en orden decreciente con este parámetro\n",
    "print(lista)"
   ]
  },
  {
   "cell_type": "markdown",
   "metadata": {},
   "source": [
    "### Funciones básicas"
   ]
  },
  {
   "cell_type": "markdown",
   "metadata": {},
   "source": [
    "#### FOR"
   ]
  },
  {
   "cell_type": "markdown",
   "metadata": {},
   "source": [
    "Un for es una función que recorre una variable. El nombre de la variable que recorre es indiferente (acá la llamamos i pero podría llamarse JuanCarlos). Siempre un for se termina con 2 puntos y la instrucción que viene abajo tiene que estar \"indentada\" (es decir, separada por tab o 4 espacios)."
   ]
  },
  {
   "cell_type": "code",
   "execution_count": 322,
   "metadata": {},
   "outputs": [
    {
     "name": "stdout",
     "output_type": "stream",
     "text": [
      "9\n",
      "La mitad es: 4.5\n",
      "8\n",
      "La mitad es: 4.0\n",
      "7\n",
      "La mitad es: 3.5\n",
      "6\n",
      "La mitad es: 3.0\n",
      "5\n",
      "La mitad es: 2.5\n",
      "4\n",
      "La mitad es: 2.0\n",
      "3\n",
      "La mitad es: 1.5\n",
      "2\n",
      "La mitad es: 1.0\n",
      "1\n",
      "La mitad es: 0.5\n"
     ]
    }
   ],
   "source": [
    "# Imprimir todos los elementos con for\n",
    "for i in lista: # El for se usa para recorrer todos los elementos de una lista con una variable i\n",
    "    print(i) # Imprimimos el valor de esa variable\n",
    "    print(\"La mitad es:\",i/2) # O la mitad de ese valor"
   ]
  },
  {
   "cell_type": "markdown",
   "metadata": {},
   "source": [
    "Con la función range creamos un rango de números. Se define por el número inicial, el final y la distancia entre uno y otro. Por default el inicial es 0 y la distancia es 1. Esta función solo sirve para números enteros. Si queremos usar decimales, tenemos que pasar a Numpy (lo veremos más adelante)."
   ]
  },
  {
   "cell_type": "code",
   "execution_count": 323,
   "metadata": {},
   "outputs": [],
   "source": [
    "# Crear un rango\n",
    "rango_10 = range(10)\n",
    "rango_1a10 = range(1,10)\n",
    "rango_pares = range(2,20,2)"
   ]
  },
  {
   "cell_type": "markdown",
   "metadata": {},
   "source": [
    "También podemos meter un for dentro de otro para iterar sobre el elemento del elemento. Siempre cuidar los espacios (indentados) para saber que estamos haciendo lo que queremos hacer."
   ]
  },
  {
   "cell_type": "code",
   "execution_count": 324,
   "metadata": {},
   "outputs": [
    {
     "name": "stdout",
     "output_type": "stream",
     "text": [
      "range(0, 10)\n",
      "Cantidad de elementos 10\n",
      "0\n",
      "1\n",
      "2\n",
      "3\n",
      "4\n",
      "5\n",
      "6\n",
      "7\n",
      "8\n",
      "9\n",
      "\n",
      "\n",
      "range(1, 10)\n",
      "Cantidad de elementos 9\n",
      "1\n",
      "2\n",
      "3\n",
      "4\n",
      "5\n",
      "6\n",
      "7\n",
      "8\n",
      "9\n",
      "\n",
      "\n",
      "range(2, 20, 2)\n",
      "Cantidad de elementos 9\n",
      "2\n",
      "4\n",
      "6\n",
      "8\n",
      "10\n",
      "12\n",
      "14\n",
      "16\n",
      "18\n",
      "\n",
      "\n"
     ]
    }
   ],
   "source": [
    "x = [rango_10,rango_1a10,rango_pares] # Creamos una lista con todos los rangos\n",
    "for i in x: # Creamos un for para recorrer los elementos de la lista\n",
    "    print(i)\n",
    "    print(\"Cantidad de elementos\",len(i)) \n",
    "    for j in i: # Creamos otro for para recorrer los elementos de cada rango\n",
    "        print(j) # Imprimimos cada elemento.\n",
    "    print(\"\\n\")"
   ]
  },
  {
   "cell_type": "markdown",
   "metadata": {},
   "source": [
    "#### IF"
   ]
  },
  {
   "cell_type": "markdown",
   "metadata": {},
   "source": [
    "Otra función importante es el IF. Funciona de una manera similar al Excel: definimos una condición que se evalua True o False y definimos un comportamiento para cada caso"
   ]
  },
  {
   "cell_type": "code",
   "execution_count": 1387,
   "metadata": {},
   "outputs": [
    {
     "name": "stdout",
     "output_type": "stream",
     "text": [
      "Tamo tranca\n"
     ]
    }
   ],
   "source": [
    "# If\n",
    "if 2+2 == 3: # Definimos la condición. Usamos == porque no estamos asignando sino comparando\n",
    "    print(\"El mundo no seria como es\") # El caso verdadero\n",
    "else: # Cualquier otro caso\n",
    "    print(\"Tamo tranca\")"
   ]
  },
  {
   "cell_type": "markdown",
   "metadata": {},
   "source": [
    "Estas funciones se pueden aplicar a lo que ya sabemos de las listas."
   ]
  },
  {
   "cell_type": "code",
   "execution_count": 326,
   "metadata": {},
   "outputs": [
    {
     "name": "stdout",
     "output_type": "stream",
     "text": [
      "[1, 2, 3, 4, 5, 6, 7, 8, 9]\n",
      "[1, 2, 3, 4, 5, 6, 7, 8, 9]\n"
     ]
    }
   ],
   "source": [
    "# Crear array vacío y llenarlo\n",
    "lista_vacia = []\n",
    "for i in range(1,10):\n",
    "    lista_vacia.append(i)\n",
    "print(lista_vacia)\n",
    "lista_rango = list(range(1,10)) # Esto es lo mismo pero menos verbose\n",
    "print(lista_rango)"
   ]
  },
  {
   "cell_type": "code",
   "execution_count": 327,
   "metadata": {},
   "outputs": [
    {
     "name": "stdout",
     "output_type": "stream",
     "text": [
      "[1, 2, 3, 4, 5, 6, 7, 8, 9]\n"
     ]
    }
   ],
   "source": [
    "# Completar un array\n",
    "lista_incompleta = [2,4,6]\n",
    "for i in range(1,10):\n",
    "    if i not in lista_incompleta: # Si no lo encontramos en la lista\n",
    "        lista_incompleta.append(i) # Lo agregamos al final\n",
    "lista_incompleta.sort() # Después ordenamos. Fijensé la importancia del indentado.\n",
    "print(lista_incompleta) # Imprimimos"
   ]
  },
  {
   "cell_type": "code",
   "execution_count": 457,
   "metadata": {},
   "outputs": [
    {
     "name": "stdout",
     "output_type": "stream",
     "text": [
      "[6, 7, 8, 9]\n"
     ]
    }
   ],
   "source": [
    "# Filtrar valores\n",
    "grandes = [number for number in lista_incompleta if number > 5] # Una lista que cumple la condición\n",
    "print(grandes)"
   ]
  },
  {
   "cell_type": "markdown",
   "metadata": {},
   "source": [
    "### DICCIONARIOS"
   ]
  },
  {
   "cell_type": "markdown",
   "metadata": {},
   "source": [
    "En una lista los elementos están definidos por un índice que, como vimos, arranca en 0 y va hasta el último elemento de la lista. En un diccionario, el índice lo definimos nosotros. Eso nos permite generar estructuras del tipo clave-valor. Los diccionarios los definimos con {}. Dentro de las llaves, cada par clave valor se define entre comillas (o comillas simples) para la clave y separado por : el valor (que va entre comillas solo si es un string). Los pares clave-valor se separan por comas."
   ]
  },
  {
   "cell_type": "code",
   "execution_count": 329,
   "metadata": {},
   "outputs": [],
   "source": [
    "# Diccionario\n",
    "diccionario = {'x':1,'y':2,'z':3} # Esta es la forma tradicional\n",
    "diccionario2 = dict(x='equis',y='i griega',z='zeta') # Esta es una forma alternativa de crear un diccionario\n",
    "diccionario3 = dict(zip(['x','y','z'],[1,2,3])) # La funcion zip agrupa en funcion de los indices"
   ]
  },
  {
   "cell_type": "code",
   "execution_count": 330,
   "metadata": {},
   "outputs": [
    {
     "name": "stdout",
     "output_type": "stream",
     "text": [
      "{'x': 1, 'y': 2, 'z': 3}\n",
      "{'x': 'equis', 'y': 'i griega', 'z': 'zeta'}\n",
      "{'x': 1, 'y': 2, 'z': 3}\n"
     ]
    }
   ],
   "source": [
    "# Impresion de todo el diccionario\n",
    "print(diccionario)\n",
    "print(diccionario2)\n",
    "print(diccionario3)"
   ]
  },
  {
   "cell_type": "code",
   "execution_count": 331,
   "metadata": {},
   "outputs": [],
   "source": [
    "# Para agregar un elemento\n",
    "diccionario['a'] = 0"
   ]
  },
  {
   "cell_type": "code",
   "execution_count": 332,
   "metadata": {},
   "outputs": [
    {
     "name": "stdout",
     "output_type": "stream",
     "text": [
      "4\n"
     ]
    }
   ],
   "source": [
    "# Cantidad de elementos\n",
    "print(len(diccionario))"
   ]
  },
  {
   "cell_type": "markdown",
   "metadata": {},
   "source": [
    "En los diccionarios tenemos otras formas de acceder a los valores que almacenamos distintas a las de las listas. Podemos acceder a los índices (claves) o a los valores. Si sabemos la clave, podemos acceder al valor para esa clave."
   ]
  },
  {
   "cell_type": "code",
   "execution_count": 333,
   "metadata": {},
   "outputs": [
    {
     "data": {
      "text/plain": [
       "1"
      ]
     },
     "execution_count": 333,
     "metadata": {},
     "output_type": "execute_result"
    }
   ],
   "source": [
    "# Acceder con un indice\n",
    "diccionario['x']"
   ]
  },
  {
   "cell_type": "markdown",
   "metadata": {},
   "source": [
    "También podemos quedarnos con las claves o los valores por separado, y los podemos almacenar en una lista para manipularlos más fácilmente"
   ]
  },
  {
   "cell_type": "code",
   "execution_count": 334,
   "metadata": {},
   "outputs": [
    {
     "name": "stdout",
     "output_type": "stream",
     "text": [
      "dict_items([('x', 1), ('y', 2), ('z', 3), ('a', 0)])\n",
      "dict_values([1, 2, 3, 0])\n",
      "dict_keys(['x', 'y', 'z', 'a'])\n"
     ]
    }
   ],
   "source": [
    "# Items, valores y claves\n",
    "print(diccionario.items())\n",
    "print(diccionario.values())\n",
    "print(diccionario.keys())"
   ]
  },
  {
   "cell_type": "code",
   "execution_count": 335,
   "metadata": {},
   "outputs": [
    {
     "name": "stdout",
     "output_type": "stream",
     "text": [
      "['x', 'y', 'z', 'a']\n",
      "[1, 2, 3, 0]\n"
     ]
    }
   ],
   "source": [
    "# En una lista\n",
    "lista_keys = list(diccionario.keys())\n",
    "lista_values = list(diccionario.values())\n",
    "print(lista_keys)\n",
    "print(lista_values)"
   ]
  },
  {
   "cell_type": "code",
   "execution_count": 336,
   "metadata": {},
   "outputs": [
    {
     "name": "stdout",
     "output_type": "stream",
     "text": [
      "[('x', 1), ('y', 2), ('z', 3), ('a', 0)]\n"
     ]
    }
   ],
   "source": [
    "# En una lista con listas por pares clave-valor\n",
    "list_pairs = list(zip(diccionario.keys(), diccionario.values()))\n",
    "print(list_pairs)"
   ]
  },
  {
   "cell_type": "markdown",
   "metadata": {},
   "source": [
    "Los diccionarios nos dan la posibilidad de iterar sobre las claves y valores. Esto nos puede servir para filtrar por ejemplo."
   ]
  },
  {
   "cell_type": "code",
   "execution_count": 337,
   "metadata": {},
   "outputs": [
    {
     "name": "stdout",
     "output_type": "stream",
     "text": [
      "[('y', 2)]\n"
     ]
    }
   ],
   "source": [
    "# Lista filtrando el valor\n",
    "list_filtrada = [(key,value) for (key,value) in diccionario.items() if value == 2]\n",
    "print(list_filtrada)"
   ]
  },
  {
   "cell_type": "markdown",
   "metadata": {},
   "source": [
    "## NUMPY"
   ]
  },
  {
   "cell_type": "markdown",
   "metadata": {},
   "source": [
    "Las dos librerías estándar en Python para procesamiento de datos son Pandas y Numpy. Numpy nos permite básicamente manipular arrays (listas) de una manera mucho más eficiente. Además, trae consigo algunos métodos que nos van a ahorrar bastante trabajo a la hora de manipular ese tipo de estructuras. No vamos a ver en gran detalle esta librería  ya que sus mejores funcionalidades entran en juego cuando procesamos una cantidad enorme de información y sobre todo en el manejo de espacios vectoriales. Sin embargo, veremos cómo crear arrays y algunos métodos útiles. Una de las principales diferencias con las listas de Python es que los arrays de Numpy solo pueden ser de un tipo de datos. El trade-off es entre flexibilidad y eficiencia. Con Numpy ganamos muchísimo en eficiencia a costa de sacrificar un poco de la flexibilidad de las listas de Python. "
   ]
  },
  {
   "cell_type": "markdown",
   "metadata": {},
   "source": [
    "Primero, vamos a ver que hasta ahora vimos un arrray (lista) como una colección de objetos. Sin embargo, cada elemento del array a su vez puede ser otro array o lista. En ese caso, podremos acceder a los elementos con sucesivos corchetes."
   ]
  },
  {
   "cell_type": "code",
   "execution_count": 1432,
   "metadata": {},
   "outputs": [],
   "source": [
    "lista_doble = [[1,2,3],\n",
    "               [4,5,6]]"
   ]
  },
  {
   "cell_type": "code",
   "execution_count": 1433,
   "metadata": {},
   "outputs": [
    {
     "data": {
      "text/plain": [
       "5"
      ]
     },
     "execution_count": 1433,
     "metadata": {},
     "output_type": "execute_result"
    }
   ],
   "source": [
    "lista_doble[1][1]"
   ]
  },
  {
   "cell_type": "code",
   "execution_count": 1430,
   "metadata": {},
   "outputs": [],
   "source": [
    "lista_de_listas = [1,[2,[3,[4,5]]]]"
   ]
  },
  {
   "cell_type": "code",
   "execution_count": 1431,
   "metadata": {},
   "outputs": [
    {
     "data": {
      "text/plain": [
       "5"
      ]
     },
     "execution_count": 1431,
     "metadata": {},
     "output_type": "execute_result"
    }
   ],
   "source": [
    "lista_de_listas[1][1][1][1]"
   ]
  },
  {
   "cell_type": "markdown",
   "metadata": {},
   "source": [
    "Ahora veremos cómo sucede todo esto en el contexto de Numpy."
   ]
  },
  {
   "cell_type": "code",
   "execution_count": 1434,
   "metadata": {},
   "outputs": [],
   "source": [
    "import numpy as np # Este es el seudónimo estándar para la librería"
   ]
  },
  {
   "cell_type": "markdown",
   "metadata": {},
   "source": [
    "A continuación varios métodos para inicializar arrays"
   ]
  },
  {
   "cell_type": "code",
   "execution_count": 1436,
   "metadata": {},
   "outputs": [
    {
     "data": {
      "text/plain": [
       "array([1, 2, 3, 4])"
      ]
     },
     "execution_count": 1436,
     "metadata": {},
     "output_type": "execute_result"
    }
   ],
   "source": [
    "np.array([1,2,3,4]) # Con np.array creamos un array a partir de una lista"
   ]
  },
  {
   "cell_type": "code",
   "execution_count": 1703,
   "metadata": {},
   "outputs": [
    {
     "name": "stdout",
     "output_type": "stream",
     "text": [
      "[0. 0. 0. 0.]\n",
      "[1 1 1 1]\n",
      "[ 2  4  6  8 10 12 14 16 18 20]\n",
      "[0.55732159 0.30700887 0.88746043 0.76064123]\n",
      "[ 0.75141195 -1.2646687   0.02371054 -1.06349794]\n",
      "[2 2 1 4]\n"
     ]
    }
   ],
   "source": [
    "print(np.zeros(4)) # Podemos crear arrays de 0s\n",
    "print(np.ones(4, dtype='int')) # De 1s, especificando el tipo de dato\n",
    "print(np.arange(2,21,2)) # Con rangos (inicio,fin,pasos)\n",
    "print(np.random.random(4)) # Con numeros random entre 0 y 1\n",
    "print(np.random.normal(0, 1, 4)) # Con numeros random pero distribuidos normalmente alrededor de media y desvio\n",
    "print(np.random.randint(1, 10, 4)) # Con numeros random enteros entre dos valores"
   ]
  },
  {
   "cell_type": "markdown",
   "metadata": {},
   "source": [
    "Otra ventaja de Numpy es que incorpora la creación de valores nulos con np.nan."
   ]
  },
  {
   "cell_type": "code",
   "execution_count": 1712,
   "metadata": {},
   "outputs": [
    {
     "data": {
      "text/plain": [
       "array([nan, nan, nan, nan])"
      ]
     },
     "execution_count": 1712,
     "metadata": {},
     "output_type": "execute_result"
    }
   ],
   "source": [
    "array_nan = np.empty((4)) # Creamos un array vacío\n",
    "array_nan[:] = np.nan # Lo llenamos con valores nulos\n",
    "array_nan"
   ]
  },
  {
   "cell_type": "markdown",
   "metadata": {},
   "source": [
    "Y todos estos métodos también los podemos aplicar para construir arrays multidimensionales"
   ]
  },
  {
   "cell_type": "code",
   "execution_count": 1572,
   "metadata": {},
   "outputs": [
    {
     "name": "stdout",
     "output_type": "stream",
     "text": [
      "\n",
      " [[5 9 2 3]\n",
      " [2 2 8 5]\n",
      " [7 3 5 2]\n",
      " [7 5 9 8]]\n"
     ]
    }
   ],
   "source": [
    "print(\"\\n\",np.random.randint(1,10,size=(4,4))) # Siempre la dimensión de la matriz la pasamos entre paréntesis (tupla)"
   ]
  },
  {
   "cell_type": "markdown",
   "metadata": {},
   "source": [
    "Si corremos el código de arriba veremos que cada vez que lo corremos se crea una matriz distinta porque los valores se eligen de manera random. Sin embargo, si queremos construir la misma matriz con una primer iniciación random tenemos que fijar lo que se llama una semilla. Una semilla es un valor a partir del cual se \"determina\" el random y eso hace que podamos replicar la misma matriz."
   ]
  },
  {
   "cell_type": "code",
   "execution_count": 1473,
   "metadata": {},
   "outputs": [
    {
     "data": {
      "text/plain": [
       "array([[6, 5, 1, 5],\n",
       "       [7, 7, 5, 9],\n",
       "       [5, 3, 9, 8],\n",
       "       [3, 9, 9, 6]])"
      ]
     },
     "execution_count": 1473,
     "metadata": {},
     "output_type": "execute_result"
    }
   ],
   "source": [
    "np.random.seed(22) # Fijamos la semilla en un número cualquiera\n",
    "np.random.randint(1,10,(4,4)) # Mientras corramos en la misma celda, se va a preservar la semilla"
   ]
  },
  {
   "cell_type": "code",
   "execution_count": 1474,
   "metadata": {},
   "outputs": [
    {
     "ename": "AttributeError",
     "evalue": "module 'numpy.random' has no attribute 'randomState'",
     "output_type": "error",
     "traceback": [
      "\u001b[0;31m---------------------------------------------------------------------------\u001b[0m",
      "\u001b[0;31mAttributeError\u001b[0m                            Traceback (most recent call last)",
      "\u001b[0;32m<ipython-input-1474-2443c77f7d39>\u001b[0m in \u001b[0;36m<module>\u001b[0;34m\u001b[0m\n\u001b[0;32m----> 1\u001b[0;31m \u001b[0mnp\u001b[0m\u001b[0;34m.\u001b[0m\u001b[0mrandom\u001b[0m\u001b[0;34m.\u001b[0m\u001b[0mrandomState\u001b[0m\u001b[0;34m(\u001b[0m\u001b[0mseed\u001b[0m\u001b[0;34m=\u001b[0m\u001b[0;36m22\u001b[0m\u001b[0;34m)\u001b[0m\u001b[0;34m\u001b[0m\u001b[0;34m\u001b[0m\u001b[0m\n\u001b[0m",
      "\u001b[0;31mAttributeError\u001b[0m: module 'numpy.random' has no attribute 'randomState'"
     ]
    }
   ],
   "source": [
    "np.random.randomState(seed=22)"
   ]
  },
  {
   "cell_type": "markdown",
   "metadata": {},
   "source": [
    "En los arrays además podemos incluir una dimensión más"
   ]
  },
  {
   "cell_type": "code",
   "execution_count": 1519,
   "metadata": {},
   "outputs": [
    {
     "data": {
      "text/plain": [
       "array([[[3, 8, 2, 1, 6],\n",
       "        [4, 5, 7, 4, 2],\n",
       "        [4, 8, 6, 1, 3],\n",
       "        [9, 2, 6, 2, 3]],\n",
       "\n",
       "       [[8, 5, 8, 1, 1],\n",
       "        [4, 2, 2, 9, 2],\n",
       "        [1, 8, 4, 1, 1],\n",
       "        [3, 1, 9, 7, 7]],\n",
       "\n",
       "       [[9, 2, 1, 9, 1],\n",
       "        [5, 8, 2, 5, 3],\n",
       "        [4, 3, 2, 1, 1],\n",
       "        [8, 2, 3, 5, 3]]])"
      ]
     },
     "execution_count": 1519,
     "metadata": {},
     "output_type": "execute_result"
    }
   ],
   "source": [
    "array_1 = np.random.randint(1,10,(4,5)) # Este es el array que ya creamos antes\n",
    "array_3 = np.random.randint(1, 10, (3, 4, 5))  # En este caso el 3 implica que tenemos 3 arrays de tamaño 4x5\n",
    "array_3"
   ]
  },
  {
   "cell_type": "markdown",
   "metadata": {},
   "source": [
    "Algunos métodos para saber la forma del array"
   ]
  },
  {
   "cell_type": "code",
   "execution_count": 1499,
   "metadata": {},
   "outputs": [
    {
     "name": "stdout",
     "output_type": "stream",
     "text": [
      "Ndim: 2  |  3\n",
      "Shape: (4, 5)  |  (3, 4, 5)\n",
      "Size: 20  |  60\n"
     ]
    }
   ],
   "source": [
    "print(\"Ndim:\",array_1.ndim,\" | \", array_3.ndim)\n",
    "print(\"Shape:\",array_1.shape ,\" | \", array_3.shape)\n",
    "print(\"Size:\",array_1.size ,\" | \", array_3.size)"
   ]
  },
  {
   "cell_type": "markdown",
   "metadata": {},
   "source": [
    "A su vez, tenemos varias formas de acceder a la información en estos arrays multidiimensionales."
   ]
  },
  {
   "cell_type": "code",
   "execution_count": 1504,
   "metadata": {},
   "outputs": [
    {
     "data": {
      "text/plain": [
       "6"
      ]
     },
     "execution_count": 1504,
     "metadata": {},
     "output_type": "execute_result"
    }
   ],
   "source": [
    "array_3[0][1][1] # Igual que en las listas, con sucesión de corchetes"
   ]
  },
  {
   "cell_type": "code",
   "execution_count": 1507,
   "metadata": {},
   "outputs": [
    {
     "data": {
      "text/plain": [
       "6"
      ]
     },
     "execution_count": 1507,
     "metadata": {},
     "output_type": "execute_result"
    }
   ],
   "source": [
    "array_3[0,1,1] # O dentro del corchete con comas"
   ]
  },
  {
   "cell_type": "markdown",
   "metadata": {},
   "source": [
    "También podemos utilizar métodos de slicing que veremos también para las estructuras de datos de Pandas. El slicing consiste en seleccionar un subset de los datos a través de parámetros de inicio, fin y pasos pasados entre corchetes y separados por dos puntos."
   ]
  },
  {
   "cell_type": "code",
   "execution_count": 1527,
   "metadata": {},
   "outputs": [
    {
     "data": {
      "text/plain": [
       "array([[9, 3, 7, 6, 9],\n",
       "       [9, 5, 4, 7, 7],\n",
       "       [4, 1, 2, 3, 9],\n",
       "       [7, 6, 3, 3, 9]])"
      ]
     },
     "execution_count": 1527,
     "metadata": {},
     "output_type": "execute_result"
    }
   ],
   "source": [
    "array_1 # Array multidimensional de 1x4x5"
   ]
  },
  {
   "cell_type": "code",
   "execution_count": 1528,
   "metadata": {},
   "outputs": [
    {
     "data": {
      "text/plain": [
       "array([9, 3, 7, 6, 9])"
      ]
     },
     "execution_count": 1528,
     "metadata": {},
     "output_type": "execute_result"
    }
   ],
   "source": [
    "array_1[0] # Seleccionamos la primer fila"
   ]
  },
  {
   "cell_type": "code",
   "execution_count": 1530,
   "metadata": {},
   "outputs": [
    {
     "data": {
      "text/plain": [
       "3"
      ]
     },
     "execution_count": 1530,
     "metadata": {},
     "output_type": "execute_result"
    }
   ],
   "source": [
    "array_1[0,1] # El primer elemento de la primer fila"
   ]
  },
  {
   "cell_type": "code",
   "execution_count": 1531,
   "metadata": {},
   "outputs": [
    {
     "data": {
      "text/plain": [
       "array([9, 3, 7, 6, 9])"
      ]
     },
     "execution_count": 1531,
     "metadata": {},
     "output_type": "execute_result"
    }
   ],
   "source": [
    "array_1[0,0:] # Todos los elementos de la primer fila"
   ]
  },
  {
   "cell_type": "code",
   "execution_count": 1532,
   "metadata": {},
   "outputs": [
    {
     "data": {
      "text/plain": [
       "array([9, 7, 9])"
      ]
     },
     "execution_count": 1532,
     "metadata": {},
     "output_type": "execute_result"
    }
   ],
   "source": [
    "array_1[0,0::2] # Todos los elementos de la primer fila, de 2 en 2"
   ]
  },
  {
   "cell_type": "code",
   "execution_count": 1537,
   "metadata": {},
   "outputs": [
    {
     "data": {
      "text/plain": [
       "array([9, 1, 1])"
      ]
     },
     "execution_count": 1537,
     "metadata": {},
     "output_type": "execute_result"
    }
   ],
   "source": [
    "array_3[2,0,0::2] # Lo mismo pero agregamos una dimensión más para indicar el primer array multidimensional"
   ]
  },
  {
   "cell_type": "markdown",
   "metadata": {},
   "source": [
    "Otra diferencia sustancial de los arrays de Numpy respecto a las listas de Python es que al crear un subset del array orginal, este se mantiene como una vista y no como una copia. Es decir que si modifico el subset, también se va a modificar el array original. Veamos con un ejemplo"
   ]
  },
  {
   "cell_type": "code",
   "execution_count": 1563,
   "metadata": {},
   "outputs": [
    {
     "data": {
      "text/plain": [
       "array([0, 0, 0, 0, 0])"
      ]
     },
     "execution_count": 1563,
     "metadata": {},
     "output_type": "execute_result"
    }
   ],
   "source": [
    "fila_0_array_1 = array_1[0] # Creamos una variable con un subset del array\n",
    "fila_0_array_1[:] = [0,0,0,0,0] # Reasignamos ese array con nuevos valores\n",
    "fila_0_array_1"
   ]
  },
  {
   "cell_type": "code",
   "execution_count": 1564,
   "metadata": {},
   "outputs": [
    {
     "data": {
      "text/plain": [
       "array([[0, 0, 0, 0, 0],\n",
       "       [9, 5, 4, 7, 7],\n",
       "       [4, 1, 2, 3, 9],\n",
       "       [7, 6, 3, 3, 9]])"
      ]
     },
     "execution_count": 1564,
     "metadata": {},
     "output_type": "execute_result"
    }
   ],
   "source": [
    "array_1"
   ]
  },
  {
   "cell_type": "markdown",
   "metadata": {},
   "source": [
    "Si lo que queremos es trabajar sobre un array nuevo hecho a partir de un subset del array original, tenemos que hacer una copia."
   ]
  },
  {
   "cell_type": "code",
   "execution_count": 1565,
   "metadata": {},
   "outputs": [],
   "source": [
    "copia_array_1 = array_1.copy()\n",
    "copia_array_1[0] = [100,100,100,100,100]"
   ]
  },
  {
   "cell_type": "code",
   "execution_count": 1566,
   "metadata": {},
   "outputs": [
    {
     "data": {
      "text/plain": [
       "array([[0, 0, 0, 0, 0],\n",
       "       [9, 5, 4, 7, 7],\n",
       "       [4, 1, 2, 3, 9],\n",
       "       [7, 6, 3, 3, 9]])"
      ]
     },
     "execution_count": 1566,
     "metadata": {},
     "output_type": "execute_result"
    }
   ],
   "source": [
    "array_1"
   ]
  },
  {
   "cell_type": "code",
   "execution_count": 1567,
   "metadata": {},
   "outputs": [
    {
     "data": {
      "text/plain": [
       "array([[100, 100, 100, 100, 100],\n",
       "       [  9,   5,   4,   7,   7],\n",
       "       [  4,   1,   2,   3,   9],\n",
       "       [  7,   6,   3,   3,   9]])"
      ]
     },
     "execution_count": 1567,
     "metadata": {},
     "output_type": "execute_result"
    }
   ],
   "source": [
    "copia_array_1"
   ]
  },
  {
   "cell_type": "markdown",
   "metadata": {},
   "source": [
    "También tenemos métodos para concatenar arrays con parámetros que nos dan mucha flexibilidad a la hora de hacerlo."
   ]
  },
  {
   "cell_type": "code",
   "execution_count": 1570,
   "metadata": {},
   "outputs": [
    {
     "data": {
      "text/plain": [
       "array([[0, 0, 0, 0, 0],\n",
       "       [9, 5, 4, 7, 7],\n",
       "       [4, 1, 2, 3, 9],\n",
       "       [7, 6, 3, 3, 9],\n",
       "       [3, 8, 2, 1, 6],\n",
       "       [4, 5, 7, 4, 2],\n",
       "       [4, 8, 6, 1, 3],\n",
       "       [9, 2, 6, 2, 3]])"
      ]
     },
     "execution_count": 1570,
     "metadata": {},
     "output_type": "execute_result"
    }
   ],
   "source": [
    "np.concatenate([array_1,array_3[0]])"
   ]
  },
  {
   "cell_type": "code",
   "execution_count": 1571,
   "metadata": {},
   "outputs": [
    {
     "data": {
      "text/plain": [
       "array([[0, 0, 0, 0, 0, 3, 8, 2, 1, 6],\n",
       "       [9, 5, 4, 7, 7, 4, 5, 7, 4, 2],\n",
       "       [4, 1, 2, 3, 9, 4, 8, 6, 1, 3],\n",
       "       [7, 6, 3, 3, 9, 9, 2, 6, 2, 3]])"
      ]
     },
     "execution_count": 1571,
     "metadata": {},
     "output_type": "execute_result"
    }
   ],
   "source": [
    "np.concatenate([array_1,array_3[0]],axis=1)"
   ]
  },
  {
   "cell_type": "markdown",
   "metadata": {},
   "source": [
    "Otro método útil es el reshape que nos permite cambiar la forma que tiene un array."
   ]
  },
  {
   "cell_type": "code",
   "execution_count": 1576,
   "metadata": {},
   "outputs": [
    {
     "name": "stdout",
     "output_type": "stream",
     "text": [
      "[1 2 3 4 5 6 7 8 9]\n"
     ]
    },
    {
     "data": {
      "text/plain": [
       "array([[1, 2, 3],\n",
       "       [4, 5, 6],\n",
       "       [7, 8, 9]])"
      ]
     },
     "execution_count": 1576,
     "metadata": {},
     "output_type": "execute_result"
    }
   ],
   "source": [
    "print(np.arange(1,10))\n",
    "np.arange(1,10).reshape(3,3)"
   ]
  },
  {
   "cell_type": "markdown",
   "metadata": {},
   "source": [
    "También contamos con funciones para obtener estadísticos básicos sobre los arrays. En muchos casos, son similares a las funciones que podemos correr en Python pero con una performance mucho más eficiente."
   ]
  },
  {
   "cell_type": "code",
   "execution_count": 1599,
   "metadata": {},
   "outputs": [],
   "source": [
    "normal = np.random.normal(0,1, size = 1000000) # Creamos un array de 1 millon de elementos"
   ]
  },
  {
   "cell_type": "code",
   "execution_count": 1600,
   "metadata": {},
   "outputs": [
    {
     "name": "stdout",
     "output_type": "stream",
     "text": [
      "103 ms ± 12.8 ms per loop (mean ± std. dev. of 7 runs, 1 loop each)\n"
     ]
    }
   ],
   "source": [
    "%timeit min(normal) # Calculamos el minimo con la funcion de Python"
   ]
  },
  {
   "cell_type": "code",
   "execution_count": 1601,
   "metadata": {},
   "outputs": [
    {
     "name": "stdout",
     "output_type": "stream",
     "text": [
      "638 µs ± 12 µs per loop (mean ± std. dev. of 7 runs, 1000 loops each)\n"
     ]
    }
   ],
   "source": [
    "%timeit np.min(normal) # Calculamos el minimo con la funcion de Numpy"
   ]
  },
  {
   "cell_type": "markdown",
   "metadata": {},
   "source": [
    "Además, Numpy nos permite realizar cálculos de una manera flexible: sobre todo el array, sobre las filas o las columnas."
   ]
  },
  {
   "cell_type": "code",
   "execution_count": 1607,
   "metadata": {},
   "outputs": [],
   "source": [
    "normal_matrix = normal.reshape(10,100000) # Hacemos un reshape para tener una matriz de 10x100000"
   ]
  },
  {
   "cell_type": "code",
   "execution_count": 1608,
   "metadata": {},
   "outputs": [
    {
     "data": {
      "text/plain": [
       "1820.0146136030746"
      ]
     },
     "execution_count": 1608,
     "metadata": {},
     "output_type": "execute_result"
    }
   ],
   "source": [
    "normal_matrix.sum() # Calculamos la suma de todos los elementos de la matriz"
   ]
  },
  {
   "cell_type": "code",
   "execution_count": 1621,
   "metadata": {},
   "outputs": [
    {
     "data": {
      "text/plain": [
       "array([ 5.74319394,  1.3551936 ,  5.79754508, ..., -1.00449261,\n",
       "        5.42355389, -3.81382059])"
      ]
     },
     "execution_count": 1621,
     "metadata": {},
     "output_type": "execute_result"
    }
   ],
   "source": [
    "normal_matrix.sum(axis=0) # Calculamos ese valor por fila"
   ]
  },
  {
   "cell_type": "code",
   "execution_count": 1610,
   "metadata": {},
   "outputs": [
    {
     "data": {
      "text/plain": [
       "array([-28.63218034, 406.73852686, 223.78062929, 382.65444368,\n",
       "       125.52006906, 998.99640036, -98.46687455, -84.68307754,\n",
       "       -24.51250385, -81.38081936])"
      ]
     },
     "execution_count": 1610,
     "metadata": {},
     "output_type": "execute_result"
    }
   ],
   "source": [
    "normal_matrix.sum(axis=1) # Calculamos ese valor por columna"
   ]
  },
  {
   "cell_type": "markdown",
   "metadata": {},
   "source": [
    "También podemos filtrar el array en base a ciertas condiciones. Al filtrar, nos va a devolver un array de igual dimensión compuesto por valores booleanos (True o False). Si aplicamos sum sobre ese array, podemos contar la cantidad de Trues (interpretados como 1). O podemos aplicar esa condición sobre el array original, lo cual nos va a devolver un array con los valores que la cumplan."
   ]
  },
  {
   "cell_type": "code",
   "execution_count": 1631,
   "metadata": {},
   "outputs": [
    {
     "data": {
      "text/plain": [
       "array([ True,  True,  True, ...,  True,  True, False])"
      ]
     },
     "execution_count": 1631,
     "metadata": {},
     "output_type": "execute_result"
    }
   ],
   "source": [
    "normal<1"
   ]
  },
  {
   "cell_type": "code",
   "execution_count": 1649,
   "metadata": {},
   "outputs": [
    {
     "data": {
      "text/plain": [
       "841008"
      ]
     },
     "execution_count": 1649,
     "metadata": {},
     "output_type": "execute_result"
    }
   ],
   "source": [
    "(normal<1).sum() # Obtenemos la cantidad  de lementos que cumplen la condicion"
   ]
  },
  {
   "cell_type": "code",
   "execution_count": 1650,
   "metadata": {},
   "outputs": [
    {
     "data": {
      "text/plain": [
       "array([2.00544766, 1.41795792, 1.14724764, ..., 1.32814658, 1.3676579 ,\n",
       "       1.19183456])"
      ]
     },
     "execution_count": 1650,
     "metadata": {},
     "output_type": "execute_result"
    }
   ],
   "source": [
    "normal[~(normal < 1)] # El operador ~ indica que no se cumple la condicion siguiente"
   ]
  },
  {
   "cell_type": "code",
   "execution_count": 1651,
   "metadata": {},
   "outputs": [
    {
     "data": {
      "text/plain": [
       "158992"
      ]
     },
     "execution_count": 1651,
     "metadata": {},
     "output_type": "execute_result"
    }
   ],
   "source": [
    "normal[~(normal < 1)].size # Vemos la cantidad de elementos del nuevo array"
   ]
  },
  {
   "cell_type": "markdown",
   "metadata": {},
   "source": [
    "Además de estos métodos, Numpy tiene una gran cantidad de funciones definidas para realizar operaciones sobre los arrays de una manera mucho más eficiente. Estas son llamadas ufunc y se pueden encontrar documentadas aquí: https://numpy.org/doc/stable/reference/ufuncs.html"
   ]
  },
  {
   "cell_type": "markdown",
   "metadata": {},
   "source": [
    "## PANDAS"
   ]
  },
  {
   "cell_type": "markdown",
   "metadata": {},
   "source": [
    "Pandas es una de las librerías básicas y fundamentales por las posibilidades que nos permite en el manejo de datos. Una vez que conozcamos las dos estructuras básicas de datos (series y data frames), vamos a ver algunas funciones (por ejemplo para cargar o guardar un dataset) pero también vamos a explicitar en qué casos hace falta usar Pandas y en cuáles podemos trabajar más fácilmente con las estructuras de datos básicas de Python."
   ]
  },
  {
   "cell_type": "markdown",
   "metadata": {},
   "source": [
    "### SERIES"
   ]
  },
  {
   "cell_type": "markdown",
   "metadata": {},
   "source": [
    "Al empezar a trabajar con librerías, lo primero que tenemos que hacer es instalarlas y luego importalas. En el caso de pandas, ya se encuentra instalada por defecto en la instalación de Jupyter Notebook, por eso solo la importamos"
   ]
  },
  {
   "cell_type": "code",
   "execution_count": 565,
   "metadata": {},
   "outputs": [],
   "source": [
    "# Importamos la librería\n",
    "import pandas as pd # Le damos un pseudónimo para no tener que escribis \"pandas\" cada vez"
   ]
  },
  {
   "cell_type": "markdown",
   "metadata": {},
   "source": [
    "Las series son objetos asimilables a las listas que vimos anteriormente. Mientras que las listas tienen índices implícitos (sabíamos que el primer elemento era el 0 pero no era visible), en las series estos índices se vuelven explícitos"
   ]
  },
  {
   "cell_type": "code",
   "execution_count": 574,
   "metadata": {},
   "outputs": [
    {
     "name": "stdout",
     "output_type": "stream",
     "text": [
      "0    a\n",
      "1    b\n",
      "2    c\n",
      "3    d\n",
      "4    e\n",
      "5    f\n",
      "6    g\n",
      "7    h\n",
      "dtype: object\n"
     ]
    }
   ],
   "source": [
    "# Creamos la serie\n",
    "serie = pd.Series(['a','b','c','d','e','f','g','h']) # Para eso tenemos que llamar la funcion pd.Series()\n",
    "print(serie)"
   ]
  },
  {
   "cell_type": "markdown",
   "metadata": {},
   "source": [
    "Los indices de las series no tienen por qué ser numéricos"
   ]
  },
  {
   "cell_type": "code",
   "execution_count": 1389,
   "metadata": {},
   "outputs": [
    {
     "data": {
      "text/plain": [
       "a    1\n",
       "b    2\n",
       "c    3\n",
       "d    4\n",
       "e    5\n",
       "f    6\n",
       "g    7\n",
       "h    8\n",
       "dtype: int64"
      ]
     },
     "execution_count": 1389,
     "metadata": {},
     "output_type": "execute_result"
    }
   ],
   "source": [
    "serie2 = pd.Series([1,2,3,4,5,6,7,8], index = ['a','b','c','d','e','f','g','h'])\n",
    "serie2"
   ]
  },
  {
   "cell_type": "markdown",
   "metadata": {},
   "source": [
    "Muchas de las funciones y métodos que podemos aplicar son similares pero también se agregan otros atributos o métodos"
   ]
  },
  {
   "cell_type": "code",
   "execution_count": 575,
   "metadata": {},
   "outputs": [
    {
     "name": "stdout",
     "output_type": "stream",
     "text": [
      "8\n",
      "8\n"
     ]
    }
   ],
   "source": [
    "# Cantidad de elementos\n",
    "print(len(serie)) # Siempre el largo va a ser uno mas que el ultimo indice, porque empieza en 0 guiño guiño\n",
    "print(serie.size) # Otra opción es usar el atributo size"
   ]
  },
  {
   "cell_type": "code",
   "execution_count": 576,
   "metadata": {},
   "outputs": [
    {
     "name": "stdout",
     "output_type": "stream",
     "text": [
      "1    b\n",
      "3    d\n",
      "5    f\n",
      "7    h\n",
      "dtype: object\n",
      "1    b\n",
      "3    d\n",
      "5    f\n",
      "7    h\n",
      "dtype: object\n"
     ]
    }
   ],
   "source": [
    "# Seleccion de elementos\n",
    "print(serie[1:8:2]) # El slicing es igual a las listas\n",
    "print(serie.iloc[1:8:2]) # Pero se agrega loc e iloc, que los veremos mejor con los dataframes"
   ]
  },
  {
   "cell_type": "code",
   "execution_count": 1390,
   "metadata": {},
   "outputs": [
    {
     "name": "stdout",
     "output_type": "stream",
     "text": [
      "<class 'list'>\n",
      "<class 'pandas.core.series.Series'>\n",
      "<class 'numpy.ndarray'>\n",
      "<class 'list'>\n",
      "<class 'list'>\n"
     ]
    }
   ],
   "source": [
    "# Tipos de datos\n",
    "serie_lista = pd.Series(lista) # Podemos crear una serie a partir de una lista existente\n",
    "print(type(lista))\n",
    "print(type(serie_lista))\n",
    "print(type(serie_lista.values)) # Al crear una serie, la lista se transforma en un array de Numpy\n",
    "print(type(serie_lista.tolist())) # Siempre podemos volver a la lista con el método tolist()\n",
    "print(type(serie_lista.to_list())) # También sirve to_list()"
   ]
  },
  {
   "cell_type": "markdown",
   "metadata": {},
   "source": [
    "#### METODOS"
   ]
  },
  {
   "cell_type": "markdown",
   "metadata": {},
   "source": [
    "A continuación, vemos algunas de las funciones o métodos más relevantes que aportan las Series en Pandas. Para más información, se puede consultar en https://pandas.pydata.org/pandas-docs/stable/reference/api/pandas.Series.html el listado completo de métodos y atributos."
   ]
  },
  {
   "cell_type": "code",
   "execution_count": 578,
   "metadata": {},
   "outputs": [
    {
     "name": "stdout",
     "output_type": "stream",
     "text": [
      "0    a\n",
      "1    b\n",
      "2    c\n",
      "3    d\n",
      "4    e\n",
      "5    f\n",
      "6    g\n",
      "7    h\n",
      "8    i\n",
      "dtype: object\n"
     ]
    }
   ],
   "source": [
    "# Agregar elementos\n",
    "serie[8] = 'i' # Tenemos que usar el indice para agregar un elemento\n",
    "print(serie)"
   ]
  },
  {
   "cell_type": "markdown",
   "metadata": {},
   "source": [
    "Para la mayoría de los métodos que vamos a ver a continuación tenemos que tener en cuenta que al ejecutarlos devuelven una serie. Esta serie tenemos que asignarla a alguna variable porque, sino, la perdemos. Lo más usual es renombrar la misma serie corriendo el método elegido."
   ]
  },
  {
   "cell_type": "code",
   "execution_count": 579,
   "metadata": {},
   "outputs": [
    {
     "name": "stdout",
     "output_type": "stream",
     "text": [
      "Esto pasa si no definimos los indices: \n",
      " 0    a\n",
      "1    b\n",
      "2    c\n",
      "3    d\n",
      "4    e\n",
      "5    f\n",
      "6    g\n",
      "7    h\n",
      "8    i\n",
      "0    j\n",
      "1    k\n",
      "2    l\n",
      "dtype: object\n",
      "\n",
      "O directamente dejar que lo haga solo:\n",
      " 0     a\n",
      "1     b\n",
      "2     c\n",
      "3     d\n",
      "4     e\n",
      "5     f\n",
      "6     g\n",
      "7     h\n",
      "8     i\n",
      "9     m\n",
      "10    n\n",
      "11    o\n",
      "dtype: object\n"
     ]
    }
   ],
   "source": [
    "# Append\n",
    "test = serie.append(pd.Series(['j','k','l'])) # El metodo append solo sirve para agregar otra Serie\n",
    "print(\"Esto pasa si no definimos los indices: \\n\",test) # Pero tenemos que tener cuidado con los indices\n",
    "serie = serie.append(pd.Series(['m','n','o']),ignore_index = True) # Para eso pedimos que ignore los índices originales\n",
    "print(\"\\nTambién podemos pedir que los ignore:\\n\",serie) # En el paso anterior asignamos la serie resultante a \"serie\""
   ]
  },
  {
   "cell_type": "code",
   "execution_count": 553,
   "metadata": {},
   "outputs": [
    {
     "name": "stdout",
     "output_type": "stream",
     "text": [
      "Serie de objects/strings: \n",
      " count     15\n",
      "unique    15\n",
      "top        i\n",
      "freq       1\n",
      "dtype: object\n",
      "\n",
      "Serie de floats: \n",
      " count    9.000000\n",
      "mean     5.000000\n",
      "std      2.738613\n",
      "min      1.000000\n",
      "25%      3.000000\n",
      "50%      5.000000\n",
      "75%      7.000000\n",
      "max      9.000000\n",
      "dtype: float64\n"
     ]
    }
   ],
   "source": [
    "# Describe\n",
    "print(\"Serie de objects/strings: \\n\",serie.describe()) # Para una serie conformada por una lista de strings\n",
    "print(\"\\nSerie de floats: \\n\",serie_lista.describe()) # Para una serie conformada por una lista de integers"
   ]
  },
  {
   "cell_type": "code",
   "execution_count": 554,
   "metadata": {},
   "outputs": [
    {
     "name": "stdout",
     "output_type": "stream",
     "text": [
      "0     False\n",
      "1     False\n",
      "2     False\n",
      "3     False\n",
      "4     False\n",
      "5     False\n",
      "6      True\n",
      "7     False\n",
      "8     False\n",
      "9     False\n",
      "10    False\n",
      "11    False\n",
      "12    False\n",
      "13    False\n",
      "14    False\n",
      "dtype: bool\n"
     ]
    }
   ],
   "source": [
    "# Duplicated\n",
    "serie[6] = 'a' # Asigno una a para que encuentre un valor duplicado\n",
    "print(serie.duplicated()) # Devuelve True para el segundo valor"
   ]
  },
  {
   "cell_type": "code",
   "execution_count": 555,
   "metadata": {},
   "outputs": [
    {
     "data": {
      "text/plain": [
       "0     a\n",
       "1     b\n",
       "2     c\n",
       "3     d\n",
       "4     e\n",
       "5     f\n",
       "7     h\n",
       "8     i\n",
       "9     j\n",
       "10    k\n",
       "11    l\n",
       "12    m\n",
       "13    n\n",
       "14    o\n",
       "dtype: object"
      ]
     },
     "execution_count": 555,
     "metadata": {},
     "output_type": "execute_result"
    }
   ],
   "source": [
    "# Drop_duplicates\n",
    "serie.drop_duplicates() # Eliminamos los duplicados pero mantiene los indices originales"
   ]
  },
  {
   "cell_type": "markdown",
   "metadata": {},
   "source": [
    "Como veremos a continuación, los métodos se pueden encadenar para correr varios de ellos sobre la misma serie"
   ]
  },
  {
   "cell_type": "code",
   "execution_count": 556,
   "metadata": {},
   "outputs": [
    {
     "name": "stdout",
     "output_type": "stream",
     "text": [
      "Con drop = False (por defecto):\n",
      "     index  0\n",
      "0       0  a\n",
      "1       1  b\n",
      "2       2  c\n",
      "3       3  d\n",
      "4       4  e\n",
      "5       5  f\n",
      "6       7  h\n",
      "7       8  i\n",
      "8       9  j\n",
      "9      10  k\n",
      "10     11  l\n",
      "11     12  m\n",
      "12     13  n\n",
      "13     14  o\n",
      "\n",
      "Con drop = True:\n",
      " 0     a\n",
      "1     b\n",
      "2     c\n",
      "3     d\n",
      "4     e\n",
      "5     f\n",
      "6     h\n",
      "7     i\n",
      "8     j\n",
      "9     k\n",
      "10    l\n",
      "11    m\n",
      "12    n\n",
      "13    o\n",
      "dtype: object\n"
     ]
    }
   ],
   "source": [
    "# Reset_index\n",
    "print(\"Con drop = False (por defecto):\\n\",serie.drop_duplicates().reset_index()) # Reseteamos el index\n",
    "print(\"\\nCon drop = True:\\n\",serie.drop_duplicates().reset_index(drop=True)) # Lo dropeamos para que no agregue una columna"
   ]
  },
  {
   "cell_type": "markdown",
   "metadata": {},
   "source": [
    "Una vez que estamos contentos con el resultado, almacenamos la serie."
   ]
  },
  {
   "cell_type": "code",
   "execution_count": 1391,
   "metadata": {},
   "outputs": [
    {
     "data": {
      "text/plain": [
       "0     a\n",
       "1     b\n",
       "2     c\n",
       "3     e\n",
       "4     f\n",
       "5     g\n",
       "6     h\n",
       "7     i\n",
       "8     m\n",
       "9     n\n",
       "10    o\n",
       "dtype: object"
      ]
     },
     "execution_count": 1391,
     "metadata": {},
     "output_type": "execute_result"
    }
   ],
   "source": [
    "# Almacenar la serie\n",
    "serie_unicos = serie.drop_duplicates().reset_index(drop=True)\n",
    "serie_unicos"
   ]
  },
  {
   "cell_type": "code",
   "execution_count": 557,
   "metadata": {},
   "outputs": [
    {
     "data": {
      "text/plain": [
       "0    a\n",
       "1    b\n",
       "2    c\n",
       "3    d\n",
       "dtype: object"
      ]
     },
     "execution_count": 557,
     "metadata": {},
     "output_type": "execute_result"
    }
   ],
   "source": [
    "# Head\n",
    "serie.head(4) # Muestra los primeros n elementos de la serie"
   ]
  },
  {
   "cell_type": "code",
   "execution_count": 558,
   "metadata": {},
   "outputs": [
    {
     "data": {
      "text/plain": [
       "0     False\n",
       "1     False\n",
       "2     False\n",
       "3      True\n",
       "4     False\n",
       "5     False\n",
       "6     False\n",
       "7     False\n",
       "8     False\n",
       "9     False\n",
       "10    False\n",
       "11    False\n",
       "12    False\n",
       "13    False\n",
       "14    False\n",
       "dtype: bool"
      ]
     },
     "execution_count": 558,
     "metadata": {},
     "output_type": "execute_result"
    }
   ],
   "source": [
    "# Isna\n",
    "serie[3] = float('nan') # Asignamos un nulo. Otra opción es con Numpy, con numpy.nan\n",
    "serie.isna()"
   ]
  },
  {
   "cell_type": "code",
   "execution_count": 559,
   "metadata": {},
   "outputs": [
    {
     "data": {
      "text/plain": [
       "13"
      ]
     },
     "execution_count": 559,
     "metadata": {},
     "output_type": "execute_result"
    }
   ],
   "source": [
    "# Nunique\n",
    "serie.nunique() # Devuelve la cantidad de valores únicos"
   ]
  },
  {
   "cell_type": "code",
   "execution_count": 560,
   "metadata": {},
   "outputs": [
    {
     "name": "stdout",
     "output_type": "stream",
     "text": [
      "0    9\n",
      "1    8\n",
      "2    7\n",
      "3    6\n",
      "4    5\n",
      "5    4\n",
      "6    3\n",
      "7    2\n",
      "8    1\n",
      "dtype: int64\n",
      "\n",
      " 8    1\n",
      "7    2\n",
      "6    3\n",
      "5    4\n",
      "4    5\n",
      "3    6\n",
      "2    7\n",
      "1    8\n",
      "0    9\n",
      "dtype: int64\n",
      "\n",
      " 0    1\n",
      "1    2\n",
      "2    3\n",
      "3    4\n",
      "4    5\n",
      "5    6\n",
      "6    7\n",
      "7    8\n",
      "8    9\n",
      "dtype: int64\n"
     ]
    }
   ],
   "source": [
    "# Sort_values\n",
    "print(serie_lista) # Lista original\n",
    "print(\"\\n\",serie_lista.sort_values()) # Lista ordenada manteniendo los índices\n",
    "print(\"\\n\",serie_lista.sort_values(ignore_index=True)) # Lista ordenada reseteando los índices"
   ]
  },
  {
   "cell_type": "markdown",
   "metadata": {},
   "source": [
    "### DATA FRAME"
   ]
  },
  {
   "cell_type": "markdown",
   "metadata": {},
   "source": [
    "El data frame es una de las estructuras más importantes que nos habilita pandas. Es una estructura similar a una matriz con filas y columnas pero optimizada para las tareas de Data Science. Aprender a manipular dataframes es fundamental porque probablemente sea la estructura que usemos para almacenar los datos con los que trabajemos."
   ]
  },
  {
   "cell_type": "markdown",
   "metadata": {},
   "source": [
    "Para crear un data frame tenemos muchas opciones. Cada columna va a equivaler a una lista o serie y sus índices son los que vienen implícitos o explícitos en estas estructuras. A su vez, los nombres de las columnas pueden venir dados en la propia creación del data frame o bien los podemos setear explícitamente."
   ]
  },
  {
   "cell_type": "markdown",
   "metadata": {},
   "source": [
    "#### CREACION"
   ]
  },
  {
   "cell_type": "code",
   "execution_count": 630,
   "metadata": {},
   "outputs": [
    {
     "name": "stdout",
     "output_type": "stream",
     "text": [
      "            Brand  Price\n",
      "0     Honda Civic  22000\n",
      "1  Toyota Corolla  25000\n",
      "2      Ford Focus  27000\n",
      "3         Audi A4  35000\n"
     ]
    }
   ],
   "source": [
    "# Creación de un data frame 1. A partir de un diccionario\n",
    "cars = {'Brand': ['Honda Civic','Toyota Corolla','Ford Focus','Audi A4'],\n",
    "        'Price': [22000,25000,27000,35000]} \n",
    "df_cars = df_cars1 = pd.DataFrame(cars) # Con el diccionario, las keys pasan a ser nombres de las columnas\n",
    "print(df_cars1)"
   ]
  },
  {
   "cell_type": "code",
   "execution_count": 516,
   "metadata": {},
   "outputs": [
    {
     "name": "stdout",
     "output_type": "stream",
     "text": [
      "                 0               1           2        3\n",
      "Brand  Honda Civic  Toyota Corolla  Ford Focus  Audi A4\n",
      "Price        22000           25000       27000    35000\n"
     ]
    }
   ],
   "source": [
    "# Creación de un data frame 1 BIS. A partir de un diccionario\n",
    "df_cars1bis = pd.DataFrame.from_dict(cars, orient='index') # Para que las keys sean filas, usamos from_dict\n",
    "print(df_cars1bis)"
   ]
  },
  {
   "cell_type": "code",
   "execution_count": 1393,
   "metadata": {},
   "outputs": [
    {
     "data": {
      "text/html": [
       "<div>\n",
       "<style scoped>\n",
       "    .dataframe tbody tr th:only-of-type {\n",
       "        vertical-align: middle;\n",
       "    }\n",
       "\n",
       "    .dataframe tbody tr th {\n",
       "        vertical-align: top;\n",
       "    }\n",
       "\n",
       "    .dataframe thead th {\n",
       "        text-align: right;\n",
       "    }\n",
       "</style>\n",
       "<table border=\"1\" class=\"dataframe\">\n",
       "  <thead>\n",
       "    <tr style=\"text-align: right;\">\n",
       "      <th></th>\n",
       "      <th>0</th>\n",
       "    </tr>\n",
       "  </thead>\n",
       "  <tbody>\n",
       "    <tr>\n",
       "      <th>Honda Civic</th>\n",
       "      <td>22000</td>\n",
       "    </tr>\n",
       "    <tr>\n",
       "      <th>Toyota Corolla</th>\n",
       "      <td>25000</td>\n",
       "    </tr>\n",
       "    <tr>\n",
       "      <th>Ford Focus</th>\n",
       "      <td>27000</td>\n",
       "    </tr>\n",
       "    <tr>\n",
       "      <th>Audi A4</th>\n",
       "      <td>35000</td>\n",
       "    </tr>\n",
       "  </tbody>\n",
       "</table>\n",
       "</div>"
      ],
      "text/plain": [
       "                    0\n",
       "Honda Civic     22000\n",
       "Toyota Corolla  25000\n",
       "Ford Focus      27000\n",
       "Audi A4         35000"
      ]
     },
     "execution_count": 1393,
     "metadata": {},
     "output_type": "execute_result"
    }
   ],
   "source": [
    "# Creación de un data frame 2. A partir de un diccionario con datos por fila\n",
    "cars2 = {'Honda Civic':22000, 'Toyota Corolla':25000, 'Ford Focus':27000, 'Audi A4':35000}\n",
    "df_cars2 = pd.DataFrame(cars2.values(), index = cars2.keys())\n",
    "df_cars2"
   ]
  },
  {
   "cell_type": "code",
   "execution_count": 1104,
   "metadata": {},
   "outputs": [
    {
     "name": "stdout",
     "output_type": "stream",
     "text": [
      "            Brand  Price\n",
      "0           Honda  22000\n",
      "1  Toyota Corolla  25000\n",
      "2      Ford Focus  27000\n",
      "3         Audi A4  35000\n"
     ]
    }
   ],
   "source": [
    "# Creación de un data frame 3. A partir de una lista de listas\n",
    "lista_de_listas = [['Honda',22000],['Toyota Corolla',25000],['Ford Focus',27000],['Audi A4',35000]]\n",
    "df_cars3 = pd.DataFrame(lista_de_listas,columns = ['Brand','Price']) # Tenemos que nombrar las columnas\n",
    "print(df_cars3)"
   ]
  },
  {
   "cell_type": "code",
   "execution_count": 1105,
   "metadata": {},
   "outputs": [
    {
     "name": "stdout",
     "output_type": "stream",
     "text": [
      "            Brand  Price\n",
      "0     Honda Civic  22000\n",
      "1  Toyota Corolla  25000\n",
      "2      Ford Focus  27000\n",
      "3         Audi A4  35000\n"
     ]
    }
   ],
   "source": [
    "# Creación de un data frame 4. A partir de 2 listas\n",
    "cars_brand = ['Honda Civic','Toyota Corolla','Ford Focus','Audi A4']\n",
    "cars_price = [22000,25000,27000,35000]\n",
    "df_cars4 = pd.DataFrame(zip(cars_brand,cars_price),columns=[\"Brand\",\"Price\"]) # Usamos zip\n",
    "print(df_cars4)"
   ]
  },
  {
   "cell_type": "code",
   "execution_count": 1106,
   "metadata": {},
   "outputs": [
    {
     "name": "stdout",
     "output_type": "stream",
     "text": [
      "            Brand  Price\n",
      "0     Honda Civic  22000\n",
      "1  Toyota Corolla  25000\n",
      "2      Ford Focus  27000\n",
      "3         Audi A4  35000\n"
     ]
    }
   ],
   "source": [
    "# Creación de un data frame 4bis. A partir de 2 listas en 2 pasos\n",
    "df_cars4bis = pd.DataFrame()\n",
    "df_cars4bis['Brand'] = cars_brand # Con el índice asignamos una nueva columna\n",
    "df_cars4bis['Price'] = cars_price \n",
    "print(df_cars4bis)"
   ]
  },
  {
   "cell_type": "markdown",
   "metadata": {},
   "source": [
    "#### SELECCION"
   ]
  },
  {
   "cell_type": "markdown",
   "metadata": {},
   "source": [
    "Para filtrar un data frame tenemos algunos métodos con los que tenemos que familiarizarnos ya que van a ser la base de nuestro trabajo manipulando esta estructura. Además, la forma de seleccionar y filtrar datos es distinta a la de las series, los arrays y distinta también a otros lenguajes de programación.\n",
    "\n",
    "Lo mejor es familizarnos con loc e iloc ya que son los métodos más versátiles y claros. La notación de corchetes tiene algunas particularidades que podemos olvidarnos, dando lugar a comportamientos que no son los deseados. De todas maneras, dejamos registrado como funciona por si algún día necesitamos volver a eso aunque la sugerencia sea usar loc e iloc."
   ]
  },
  {
   "cell_type": "code",
   "execution_count": 962,
   "metadata": {},
   "outputs": [
    {
     "data": {
      "text/html": [
       "<div>\n",
       "<style scoped>\n",
       "    .dataframe tbody tr th:only-of-type {\n",
       "        vertical-align: middle;\n",
       "    }\n",
       "\n",
       "    .dataframe tbody tr th {\n",
       "        vertical-align: top;\n",
       "    }\n",
       "\n",
       "    .dataframe thead th {\n",
       "        text-align: right;\n",
       "    }\n",
       "</style>\n",
       "<table border=\"1\" class=\"dataframe\">\n",
       "  <thead>\n",
       "    <tr style=\"text-align: right;\">\n",
       "      <th></th>\n",
       "      <th>Marca</th>\n",
       "      <th>Modelo</th>\n",
       "      <th>Precio</th>\n",
       "      <th>Tanque</th>\n",
       "      <th>Kilometros</th>\n",
       "    </tr>\n",
       "  </thead>\n",
       "  <tbody>\n",
       "    <tr>\n",
       "      <th>0</th>\n",
       "      <td>Honda Civic</td>\n",
       "      <td>2018</td>\n",
       "      <td>22000</td>\n",
       "      <td>1.6</td>\n",
       "      <td>2000</td>\n",
       "    </tr>\n",
       "    <tr>\n",
       "      <th>1</th>\n",
       "      <td>Toyota Corolla</td>\n",
       "      <td>2019</td>\n",
       "      <td>25000</td>\n",
       "      <td>1.6</td>\n",
       "      <td>1500</td>\n",
       "    </tr>\n",
       "    <tr>\n",
       "      <th>2</th>\n",
       "      <td>Ford Focus</td>\n",
       "      <td>2020</td>\n",
       "      <td>27000</td>\n",
       "      <td>1.4</td>\n",
       "      <td>0</td>\n",
       "    </tr>\n",
       "    <tr>\n",
       "      <th>3</th>\n",
       "      <td>Audi A4</td>\n",
       "      <td>2017</td>\n",
       "      <td>35000</td>\n",
       "      <td>2.0</td>\n",
       "      <td>3500</td>\n",
       "    </tr>\n",
       "  </tbody>\n",
       "</table>\n",
       "</div>"
      ],
      "text/plain": [
       "            Marca  Modelo  Precio  Tanque  Kilometros\n",
       "0     Honda Civic    2018   22000     1.6        2000\n",
       "1  Toyota Corolla    2019   25000     1.6        1500\n",
       "2      Ford Focus    2020   27000     1.4           0\n",
       "3         Audi A4    2017   35000     2.0        3500"
      ]
     },
     "execution_count": 962,
     "metadata": {},
     "output_type": "execute_result"
    }
   ],
   "source": [
    "df_cars"
   ]
  },
  {
   "cell_type": "code",
   "execution_count": 1394,
   "metadata": {},
   "outputs": [
    {
     "data": {
      "text/plain": [
       "4"
      ]
     },
     "execution_count": 1394,
     "metadata": {},
     "output_type": "execute_result"
    }
   ],
   "source": [
    "len(df_cars)"
   ]
  },
  {
   "cell_type": "markdown",
   "metadata": {},
   "source": [
    "Como en este caso len nos queda corto, agregamos el método shape para saber cantidad de filas y columnas del data frame."
   ]
  },
  {
   "cell_type": "code",
   "execution_count": 963,
   "metadata": {},
   "outputs": [
    {
     "data": {
      "text/plain": [
       "(4, 5)"
      ]
     },
     "execution_count": 963,
     "metadata": {},
     "output_type": "execute_result"
    }
   ],
   "source": [
    "# Shape\n",
    "df_cars.shape"
   ]
  },
  {
   "cell_type": "markdown",
   "metadata": {},
   "source": [
    "Si usamos los corchetes sobre un dataset, podemos seleccionar una columna y nos va a devolver una Serie. Este método funciona con una sola columna, solo lo vamos a usar en caso de querer pasar intencionadamente a un formato de Serie."
   ]
  },
  {
   "cell_type": "code",
   "execution_count": 876,
   "metadata": {},
   "outputs": [
    {
     "data": {
      "text/plain": [
       "0       Honda Civic\n",
       "1    Toyota Corolla\n",
       "2        Ford Focus\n",
       "3           Audi A4\n",
       "Name: Marca, dtype: object"
      ]
     },
     "execution_count": 876,
     "metadata": {},
     "output_type": "execute_result"
    }
   ],
   "source": [
    "df_cars['Marca']"
   ]
  },
  {
   "cell_type": "markdown",
   "metadata": {},
   "source": [
    "Si usamos doble corchetes, lo que devuelve es un data frame de una sola columna, aunque también podemos usarlo para seleccionar más de una columna."
   ]
  },
  {
   "cell_type": "code",
   "execution_count": 887,
   "metadata": {},
   "outputs": [
    {
     "data": {
      "text/html": [
       "<div>\n",
       "<style scoped>\n",
       "    .dataframe tbody tr th:only-of-type {\n",
       "        vertical-align: middle;\n",
       "    }\n",
       "\n",
       "    .dataframe tbody tr th {\n",
       "        vertical-align: top;\n",
       "    }\n",
       "\n",
       "    .dataframe thead th {\n",
       "        text-align: right;\n",
       "    }\n",
       "</style>\n",
       "<table border=\"1\" class=\"dataframe\">\n",
       "  <thead>\n",
       "    <tr style=\"text-align: right;\">\n",
       "      <th></th>\n",
       "      <th>Marca</th>\n",
       "    </tr>\n",
       "  </thead>\n",
       "  <tbody>\n",
       "    <tr>\n",
       "      <th>0</th>\n",
       "      <td>Honda Civic</td>\n",
       "    </tr>\n",
       "    <tr>\n",
       "      <th>1</th>\n",
       "      <td>Toyota Corolla</td>\n",
       "    </tr>\n",
       "    <tr>\n",
       "      <th>2</th>\n",
       "      <td>Ford Focus</td>\n",
       "    </tr>\n",
       "    <tr>\n",
       "      <th>3</th>\n",
       "      <td>Audi A4</td>\n",
       "    </tr>\n",
       "  </tbody>\n",
       "</table>\n",
       "</div>"
      ],
      "text/plain": [
       "            Marca\n",
       "0     Honda Civic\n",
       "1  Toyota Corolla\n",
       "2      Ford Focus\n",
       "3         Audi A4"
      ]
     },
     "execution_count": 887,
     "metadata": {},
     "output_type": "execute_result"
    }
   ],
   "source": [
    "df_cars[['Marca']]"
   ]
  },
  {
   "cell_type": "code",
   "execution_count": 885,
   "metadata": {},
   "outputs": [
    {
     "data": {
      "text/html": [
       "<div>\n",
       "<style scoped>\n",
       "    .dataframe tbody tr th:only-of-type {\n",
       "        vertical-align: middle;\n",
       "    }\n",
       "\n",
       "    .dataframe tbody tr th {\n",
       "        vertical-align: top;\n",
       "    }\n",
       "\n",
       "    .dataframe thead th {\n",
       "        text-align: right;\n",
       "    }\n",
       "</style>\n",
       "<table border=\"1\" class=\"dataframe\">\n",
       "  <thead>\n",
       "    <tr style=\"text-align: right;\">\n",
       "      <th></th>\n",
       "      <th>Marca</th>\n",
       "      <th>Modelo</th>\n",
       "    </tr>\n",
       "  </thead>\n",
       "  <tbody>\n",
       "    <tr>\n",
       "      <th>0</th>\n",
       "      <td>Honda Civic</td>\n",
       "      <td>2018</td>\n",
       "    </tr>\n",
       "    <tr>\n",
       "      <th>1</th>\n",
       "      <td>Toyota Corolla</td>\n",
       "      <td>2019</td>\n",
       "    </tr>\n",
       "    <tr>\n",
       "      <th>2</th>\n",
       "      <td>Ford Focus</td>\n",
       "      <td>2020</td>\n",
       "    </tr>\n",
       "    <tr>\n",
       "      <th>3</th>\n",
       "      <td>Audi A4</td>\n",
       "      <td>2017</td>\n",
       "    </tr>\n",
       "  </tbody>\n",
       "</table>\n",
       "</div>"
      ],
      "text/plain": [
       "            Marca  Modelo\n",
       "0     Honda Civic    2018\n",
       "1  Toyota Corolla    2019\n",
       "2      Ford Focus    2020\n",
       "3         Audi A4    2017"
      ]
     },
     "execution_count": 885,
     "metadata": {},
     "output_type": "execute_result"
    }
   ],
   "source": [
    "df_cars[['Marca','Modelo']]"
   ]
  },
  {
   "cell_type": "code",
   "execution_count": 884,
   "metadata": {},
   "outputs": [
    {
     "name": "stdout",
     "output_type": "stream",
     "text": [
      "<class 'pandas.core.series.Series'>\n",
      "<class 'pandas.core.frame.DataFrame'>\n"
     ]
    }
   ],
   "source": [
    "print(type(df_cars['Marca']))\n",
    "print(type(df_cars[['Marca']]))"
   ]
  },
  {
   "cell_type": "markdown",
   "metadata": {},
   "source": [
    "Para seleccionar un subset de filas también podemos usar corchetes simples. La forma de determinar el rango es con dos puntos. Es la diferencia entre indexing (columnas) y slicing (filas)."
   ]
  },
  {
   "cell_type": "code",
   "execution_count": 1396,
   "metadata": {},
   "outputs": [
    {
     "data": {
      "text/html": [
       "<div>\n",
       "<style scoped>\n",
       "    .dataframe tbody tr th:only-of-type {\n",
       "        vertical-align: middle;\n",
       "    }\n",
       "\n",
       "    .dataframe tbody tr th {\n",
       "        vertical-align: top;\n",
       "    }\n",
       "\n",
       "    .dataframe thead th {\n",
       "        text-align: right;\n",
       "    }\n",
       "</style>\n",
       "<table border=\"1\" class=\"dataframe\">\n",
       "  <thead>\n",
       "    <tr style=\"text-align: right;\">\n",
       "      <th></th>\n",
       "      <th>Marca</th>\n",
       "      <th>Modelo</th>\n",
       "      <th>Precio</th>\n",
       "      <th>Tanque</th>\n",
       "      <th>Kilometros</th>\n",
       "    </tr>\n",
       "  </thead>\n",
       "  <tbody>\n",
       "    <tr>\n",
       "      <th>2</th>\n",
       "      <td>Ford Focus</td>\n",
       "      <td>2020</td>\n",
       "      <td>27000</td>\n",
       "      <td>1.4</td>\n",
       "      <td>0</td>\n",
       "    </tr>\n",
       "    <tr>\n",
       "      <th>3</th>\n",
       "      <td>Audi A4</td>\n",
       "      <td>2017</td>\n",
       "      <td>35000</td>\n",
       "      <td>2.0</td>\n",
       "      <td>3500</td>\n",
       "    </tr>\n",
       "  </tbody>\n",
       "</table>\n",
       "</div>"
      ],
      "text/plain": [
       "        Marca  Modelo  Precio  Tanque  Kilometros\n",
       "2  Ford Focus    2020   27000     1.4           0\n",
       "3     Audi A4    2017   35000     2.0        3500"
      ]
     },
     "execution_count": 1396,
     "metadata": {},
     "output_type": "execute_result"
    }
   ],
   "source": [
    "df_cars[2:]"
   ]
  },
  {
   "cell_type": "markdown",
   "metadata": {},
   "source": [
    "Si queremos seleccionar una sola fila, tenemos que usar n:n+1"
   ]
  },
  {
   "cell_type": "code",
   "execution_count": 888,
   "metadata": {},
   "outputs": [
    {
     "data": {
      "text/html": [
       "<div>\n",
       "<style scoped>\n",
       "    .dataframe tbody tr th:only-of-type {\n",
       "        vertical-align: middle;\n",
       "    }\n",
       "\n",
       "    .dataframe tbody tr th {\n",
       "        vertical-align: top;\n",
       "    }\n",
       "\n",
       "    .dataframe thead th {\n",
       "        text-align: right;\n",
       "    }\n",
       "</style>\n",
       "<table border=\"1\" class=\"dataframe\">\n",
       "  <thead>\n",
       "    <tr style=\"text-align: right;\">\n",
       "      <th></th>\n",
       "      <th>Marca</th>\n",
       "      <th>Modelo</th>\n",
       "      <th>Precio</th>\n",
       "      <th>Tanque</th>\n",
       "      <th>Kilometros</th>\n",
       "    </tr>\n",
       "  </thead>\n",
       "  <tbody>\n",
       "    <tr>\n",
       "      <th>2</th>\n",
       "      <td>Ford Focus</td>\n",
       "      <td>2020</td>\n",
       "      <td>27000</td>\n",
       "      <td>1.4</td>\n",
       "      <td>0</td>\n",
       "    </tr>\n",
       "  </tbody>\n",
       "</table>\n",
       "</div>"
      ],
      "text/plain": [
       "        Marca  Modelo  Precio  Tanque  Kilometros\n",
       "2  Ford Focus    2020   27000     1.4           0"
      ]
     },
     "execution_count": 888,
     "metadata": {},
     "output_type": "execute_result"
    }
   ],
   "source": [
    "df_cars[2:3]"
   ]
  },
  {
   "cell_type": "markdown",
   "metadata": {},
   "source": [
    "#### LOC, ILOC"
   ]
  },
  {
   "cell_type": "markdown",
   "metadata": {},
   "source": [
    "Sin embargo, la mejor forma de filtrar es a partir de loc e iloc. El método loc utiliza los nombres de las columnas o índices explícitos para hacer el particionado mientras que iloc utiliza los número de columnas e índices implícitos (siempre numéricos, empezando por 0). En ambos casos, tenemos que separar con una coma las filas de las columnas. En caso de que queramos tomar el subset entero de filas o columnas, alcanza con pasar el valor \":\"."
   ]
  },
  {
   "cell_type": "code",
   "execution_count": 893,
   "metadata": {},
   "outputs": [
    {
     "data": {
      "text/html": [
       "<div>\n",
       "<style scoped>\n",
       "    .dataframe tbody tr th:only-of-type {\n",
       "        vertical-align: middle;\n",
       "    }\n",
       "\n",
       "    .dataframe tbody tr th {\n",
       "        vertical-align: top;\n",
       "    }\n",
       "\n",
       "    .dataframe thead th {\n",
       "        text-align: right;\n",
       "    }\n",
       "</style>\n",
       "<table border=\"1\" class=\"dataframe\">\n",
       "  <thead>\n",
       "    <tr style=\"text-align: right;\">\n",
       "      <th></th>\n",
       "      <th>Marca</th>\n",
       "      <th>Modelo</th>\n",
       "      <th>Precio</th>\n",
       "      <th>Tanque</th>\n",
       "      <th>Kilometros</th>\n",
       "    </tr>\n",
       "  </thead>\n",
       "  <tbody>\n",
       "    <tr>\n",
       "      <th>0</th>\n",
       "      <td>Honda Civic</td>\n",
       "      <td>2018</td>\n",
       "      <td>22000</td>\n",
       "      <td>1.6</td>\n",
       "      <td>2000</td>\n",
       "    </tr>\n",
       "    <tr>\n",
       "      <th>1</th>\n",
       "      <td>Toyota Corolla</td>\n",
       "      <td>2019</td>\n",
       "      <td>25000</td>\n",
       "      <td>1.6</td>\n",
       "      <td>1500</td>\n",
       "    </tr>\n",
       "    <tr>\n",
       "      <th>2</th>\n",
       "      <td>Ford Focus</td>\n",
       "      <td>2020</td>\n",
       "      <td>27000</td>\n",
       "      <td>1.4</td>\n",
       "      <td>0</td>\n",
       "    </tr>\n",
       "    <tr>\n",
       "      <th>3</th>\n",
       "      <td>Audi A4</td>\n",
       "      <td>2017</td>\n",
       "      <td>35000</td>\n",
       "      <td>2.0</td>\n",
       "      <td>3500</td>\n",
       "    </tr>\n",
       "  </tbody>\n",
       "</table>\n",
       "</div>"
      ],
      "text/plain": [
       "            Marca  Modelo  Precio  Tanque  Kilometros\n",
       "0     Honda Civic    2018   22000     1.6        2000\n",
       "1  Toyota Corolla    2019   25000     1.6        1500\n",
       "2      Ford Focus    2020   27000     1.4           0\n",
       "3         Audi A4    2017   35000     2.0        3500"
      ]
     },
     "execution_count": 893,
     "metadata": {},
     "output_type": "execute_result"
    }
   ],
   "source": [
    "df_cars.iloc[:,:]"
   ]
  },
  {
   "cell_type": "code",
   "execution_count": 906,
   "metadata": {},
   "outputs": [
    {
     "data": {
      "text/html": [
       "<div>\n",
       "<style scoped>\n",
       "    .dataframe tbody tr th:only-of-type {\n",
       "        vertical-align: middle;\n",
       "    }\n",
       "\n",
       "    .dataframe tbody tr th {\n",
       "        vertical-align: top;\n",
       "    }\n",
       "\n",
       "    .dataframe thead th {\n",
       "        text-align: right;\n",
       "    }\n",
       "</style>\n",
       "<table border=\"1\" class=\"dataframe\">\n",
       "  <thead>\n",
       "    <tr style=\"text-align: right;\">\n",
       "      <th></th>\n",
       "      <th>Marca</th>\n",
       "      <th>Modelo</th>\n",
       "      <th>Precio</th>\n",
       "      <th>Tanque</th>\n",
       "      <th>Kilometros</th>\n",
       "    </tr>\n",
       "  </thead>\n",
       "  <tbody>\n",
       "    <tr>\n",
       "      <th>1</th>\n",
       "      <td>Toyota Corolla</td>\n",
       "      <td>2019</td>\n",
       "      <td>25000</td>\n",
       "      <td>1.6</td>\n",
       "      <td>1500</td>\n",
       "    </tr>\n",
       "    <tr>\n",
       "      <th>2</th>\n",
       "      <td>Ford Focus</td>\n",
       "      <td>2020</td>\n",
       "      <td>27000</td>\n",
       "      <td>1.4</td>\n",
       "      <td>0</td>\n",
       "    </tr>\n",
       "  </tbody>\n",
       "</table>\n",
       "</div>"
      ],
      "text/plain": [
       "            Marca  Modelo  Precio  Tanque  Kilometros\n",
       "1  Toyota Corolla    2019   25000     1.6        1500\n",
       "2      Ford Focus    2020   27000     1.4           0"
      ]
     },
     "execution_count": 906,
     "metadata": {},
     "output_type": "execute_result"
    }
   ],
   "source": [
    "df_cars.iloc[1:3,:]"
   ]
  },
  {
   "cell_type": "code",
   "execution_count": 907,
   "metadata": {},
   "outputs": [
    {
     "data": {
      "text/html": [
       "<div>\n",
       "<style scoped>\n",
       "    .dataframe tbody tr th:only-of-type {\n",
       "        vertical-align: middle;\n",
       "    }\n",
       "\n",
       "    .dataframe tbody tr th {\n",
       "        vertical-align: top;\n",
       "    }\n",
       "\n",
       "    .dataframe thead th {\n",
       "        text-align: right;\n",
       "    }\n",
       "</style>\n",
       "<table border=\"1\" class=\"dataframe\">\n",
       "  <thead>\n",
       "    <tr style=\"text-align: right;\">\n",
       "      <th></th>\n",
       "      <th>Modelo</th>\n",
       "      <th>Precio</th>\n",
       "    </tr>\n",
       "  </thead>\n",
       "  <tbody>\n",
       "    <tr>\n",
       "      <th>0</th>\n",
       "      <td>2018</td>\n",
       "      <td>22000</td>\n",
       "    </tr>\n",
       "    <tr>\n",
       "      <th>1</th>\n",
       "      <td>2019</td>\n",
       "      <td>25000</td>\n",
       "    </tr>\n",
       "    <tr>\n",
       "      <th>2</th>\n",
       "      <td>2020</td>\n",
       "      <td>27000</td>\n",
       "    </tr>\n",
       "    <tr>\n",
       "      <th>3</th>\n",
       "      <td>2017</td>\n",
       "      <td>35000</td>\n",
       "    </tr>\n",
       "  </tbody>\n",
       "</table>\n",
       "</div>"
      ],
      "text/plain": [
       "   Modelo  Precio\n",
       "0    2018   22000\n",
       "1    2019   25000\n",
       "2    2020   27000\n",
       "3    2017   35000"
      ]
     },
     "execution_count": 907,
     "metadata": {},
     "output_type": "execute_result"
    }
   ],
   "source": [
    "df_cars.iloc[:,1:3]"
   ]
  },
  {
   "cell_type": "markdown",
   "metadata": {},
   "source": [
    "Siempre que el resultado se pueda mapear en 1 sola fila o columna, la devolución va a ser una Serie en vez de un Data Frame."
   ]
  },
  {
   "cell_type": "code",
   "execution_count": 908,
   "metadata": {},
   "outputs": [
    {
     "data": {
      "text/plain": [
       "Marca         Ford Focus\n",
       "Modelo              2020\n",
       "Precio             27000\n",
       "Tanque               1.4\n",
       "Kilometros             0\n",
       "Name: 2, dtype: object"
      ]
     },
     "execution_count": 908,
     "metadata": {},
     "output_type": "execute_result"
    }
   ],
   "source": [
    "df_cars.iloc[2,:]"
   ]
  },
  {
   "cell_type": "code",
   "execution_count": 909,
   "metadata": {},
   "outputs": [
    {
     "data": {
      "text/plain": [
       "0    22000\n",
       "1    25000\n",
       "2    27000\n",
       "3    35000\n",
       "Name: Precio, dtype: int64"
      ]
     },
     "execution_count": 909,
     "metadata": {},
     "output_type": "execute_result"
    }
   ],
   "source": [
    "df_cars.iloc[:,2]"
   ]
  },
  {
   "cell_type": "code",
   "execution_count": 911,
   "metadata": {},
   "outputs": [
    {
     "name": "stdout",
     "output_type": "stream",
     "text": [
      "<class 'pandas.core.series.Series'>\n",
      "<class 'pandas.core.series.Series'>\n"
     ]
    }
   ],
   "source": [
    "print(type(df_cars.iloc[2,:]))\n",
    "print(type(df_cars.iloc[:,2]))"
   ]
  },
  {
   "cell_type": "markdown",
   "metadata": {},
   "source": [
    "Si no utilizamos la coma, iloc o loc van a reconocer el valor insertado como el de las filas, tomando todas las columnas del data frame."
   ]
  },
  {
   "cell_type": "code",
   "execution_count": 900,
   "metadata": {},
   "outputs": [
    {
     "data": {
      "text/plain": [
       "Marca         Ford Focus\n",
       "Modelo              2020\n",
       "Precio             27000\n",
       "Tanque               1.4\n",
       "Kilometros             0\n",
       "Name: 2, dtype: object"
      ]
     },
     "execution_count": 900,
     "metadata": {},
     "output_type": "execute_result"
    }
   ],
   "source": [
    "df_cars.iloc[2]"
   ]
  },
  {
   "cell_type": "markdown",
   "metadata": {},
   "source": [
    "Lo mismo se puede hacer con loc, aunque en este caso tenemos que usar explícitamente los índices o nombres de columna. En el caso de que el índice sea numérico, se usa la misma notación que con iloc."
   ]
  },
  {
   "cell_type": "code",
   "execution_count": 875,
   "metadata": {},
   "outputs": [
    {
     "data": {
      "text/html": [
       "<div>\n",
       "<style scoped>\n",
       "    .dataframe tbody tr th:only-of-type {\n",
       "        vertical-align: middle;\n",
       "    }\n",
       "\n",
       "    .dataframe tbody tr th {\n",
       "        vertical-align: top;\n",
       "    }\n",
       "\n",
       "    .dataframe thead th {\n",
       "        text-align: right;\n",
       "    }\n",
       "</style>\n",
       "<table border=\"1\" class=\"dataframe\">\n",
       "  <thead>\n",
       "    <tr style=\"text-align: right;\">\n",
       "      <th></th>\n",
       "      <th>Marca</th>\n",
       "      <th>Modelo</th>\n",
       "    </tr>\n",
       "  </thead>\n",
       "  <tbody>\n",
       "    <tr>\n",
       "      <th>0</th>\n",
       "      <td>Honda Civic</td>\n",
       "      <td>2018</td>\n",
       "    </tr>\n",
       "    <tr>\n",
       "      <th>1</th>\n",
       "      <td>Toyota Corolla</td>\n",
       "      <td>2019</td>\n",
       "    </tr>\n",
       "    <tr>\n",
       "      <th>2</th>\n",
       "      <td>Ford Focus</td>\n",
       "      <td>2020</td>\n",
       "    </tr>\n",
       "    <tr>\n",
       "      <th>3</th>\n",
       "      <td>Audi A4</td>\n",
       "      <td>2017</td>\n",
       "    </tr>\n",
       "  </tbody>\n",
       "</table>\n",
       "</div>"
      ],
      "text/plain": [
       "            Marca  Modelo\n",
       "0     Honda Civic    2018\n",
       "1  Toyota Corolla    2019\n",
       "2      Ford Focus    2020\n",
       "3         Audi A4    2017"
      ]
     },
     "execution_count": 875,
     "metadata": {},
     "output_type": "execute_result"
    }
   ],
   "source": [
    "df_cars.loc[:,['Marca','Modelo']]"
   ]
  },
  {
   "cell_type": "code",
   "execution_count": 912,
   "metadata": {},
   "outputs": [
    {
     "data": {
      "text/html": [
       "<div>\n",
       "<style scoped>\n",
       "    .dataframe tbody tr th:only-of-type {\n",
       "        vertical-align: middle;\n",
       "    }\n",
       "\n",
       "    .dataframe tbody tr th {\n",
       "        vertical-align: top;\n",
       "    }\n",
       "\n",
       "    .dataframe thead th {\n",
       "        text-align: right;\n",
       "    }\n",
       "</style>\n",
       "<table border=\"1\" class=\"dataframe\">\n",
       "  <thead>\n",
       "    <tr style=\"text-align: right;\">\n",
       "      <th></th>\n",
       "      <th>Marca</th>\n",
       "      <th>Modelo</th>\n",
       "    </tr>\n",
       "  </thead>\n",
       "  <tbody>\n",
       "    <tr>\n",
       "      <th>1</th>\n",
       "      <td>Toyota Corolla</td>\n",
       "      <td>2019</td>\n",
       "    </tr>\n",
       "    <tr>\n",
       "      <th>2</th>\n",
       "      <td>Ford Focus</td>\n",
       "      <td>2020</td>\n",
       "    </tr>\n",
       "    <tr>\n",
       "      <th>3</th>\n",
       "      <td>Audi A4</td>\n",
       "      <td>2017</td>\n",
       "    </tr>\n",
       "  </tbody>\n",
       "</table>\n",
       "</div>"
      ],
      "text/plain": [
       "            Marca  Modelo\n",
       "1  Toyota Corolla    2019\n",
       "2      Ford Focus    2020\n",
       "3         Audi A4    2017"
      ]
     },
     "execution_count": 912,
     "metadata": {},
     "output_type": "execute_result"
    }
   ],
   "source": [
    "df_cars.loc[1:3,['Marca','Modelo']]"
   ]
  },
  {
   "cell_type": "code",
   "execution_count": 892,
   "metadata": {},
   "outputs": [
    {
     "data": {
      "text/plain": [
       "Marca         Ford Focus\n",
       "Modelo              2020\n",
       "Precio             27000\n",
       "Tanque               1.4\n",
       "Kilometros             0\n",
       "Name: 2, dtype: object"
      ]
     },
     "execution_count": 892,
     "metadata": {},
     "output_type": "execute_result"
    }
   ],
   "source": [
    "df_cars.loc[2,]"
   ]
  },
  {
   "cell_type": "markdown",
   "metadata": {},
   "source": [
    "#### FILTROS"
   ]
  },
  {
   "cell_type": "markdown",
   "metadata": {},
   "source": [
    "Para realizar un filtrado generalmente lo haremos por filas. Cuando generamos una condición dentro de un data frame, el resultado va a ser una Serie del tamaño de la cantidad de filas del data frame con valores booleanos (True o False) según cumpla la condición."
   ]
  },
  {
   "cell_type": "code",
   "execution_count": 918,
   "metadata": {},
   "outputs": [
    {
     "data": {
      "text/plain": [
       "0    False\n",
       "1     True\n",
       "2     True\n",
       "3    False\n",
       "Name: Modelo, dtype: bool"
      ]
     },
     "execution_count": 918,
     "metadata": {},
     "output_type": "execute_result"
    }
   ],
   "source": [
    "df_cars['Modelo'] > 2018"
   ]
  },
  {
   "cell_type": "markdown",
   "metadata": {},
   "source": [
    "Por eso, para ver los resultados del data frame filtrados, tenemos que aplicarle esa Serie."
   ]
  },
  {
   "cell_type": "code",
   "execution_count": 919,
   "metadata": {},
   "outputs": [
    {
     "data": {
      "text/html": [
       "<div>\n",
       "<style scoped>\n",
       "    .dataframe tbody tr th:only-of-type {\n",
       "        vertical-align: middle;\n",
       "    }\n",
       "\n",
       "    .dataframe tbody tr th {\n",
       "        vertical-align: top;\n",
       "    }\n",
       "\n",
       "    .dataframe thead th {\n",
       "        text-align: right;\n",
       "    }\n",
       "</style>\n",
       "<table border=\"1\" class=\"dataframe\">\n",
       "  <thead>\n",
       "    <tr style=\"text-align: right;\">\n",
       "      <th></th>\n",
       "      <th>Marca</th>\n",
       "      <th>Modelo</th>\n",
       "      <th>Precio</th>\n",
       "      <th>Tanque</th>\n",
       "      <th>Kilometros</th>\n",
       "    </tr>\n",
       "  </thead>\n",
       "  <tbody>\n",
       "    <tr>\n",
       "      <th>1</th>\n",
       "      <td>Toyota Corolla</td>\n",
       "      <td>2019</td>\n",
       "      <td>25000</td>\n",
       "      <td>1.6</td>\n",
       "      <td>1500</td>\n",
       "    </tr>\n",
       "    <tr>\n",
       "      <th>2</th>\n",
       "      <td>Ford Focus</td>\n",
       "      <td>2020</td>\n",
       "      <td>27000</td>\n",
       "      <td>1.4</td>\n",
       "      <td>0</td>\n",
       "    </tr>\n",
       "  </tbody>\n",
       "</table>\n",
       "</div>"
      ],
      "text/plain": [
       "            Marca  Modelo  Precio  Tanque  Kilometros\n",
       "1  Toyota Corolla    2019   25000     1.6        1500\n",
       "2      Ford Focus    2020   27000     1.4           0"
      ]
     },
     "execution_count": 919,
     "metadata": {},
     "output_type": "execute_result"
    }
   ],
   "source": [
    "df_cars[df_cars['Modelo'] > 2018]"
   ]
  },
  {
   "cell_type": "markdown",
   "metadata": {},
   "source": [
    "Dentro del filtro se pueden incluir varias condiciones utilizando los operadores & y | pero tenemos que tener en ccuenta que la separación entre las condiciones siempre tiene que estar entre paréntesis."
   ]
  },
  {
   "cell_type": "code",
   "execution_count": 1331,
   "metadata": {},
   "outputs": [
    {
     "data": {
      "text/html": [
       "<div>\n",
       "<style scoped>\n",
       "    .dataframe tbody tr th:only-of-type {\n",
       "        vertical-align: middle;\n",
       "    }\n",
       "\n",
       "    .dataframe tbody tr th {\n",
       "        vertical-align: top;\n",
       "    }\n",
       "\n",
       "    .dataframe thead th {\n",
       "        text-align: right;\n",
       "    }\n",
       "</style>\n",
       "<table border=\"1\" class=\"dataframe\">\n",
       "  <thead>\n",
       "    <tr style=\"text-align: right;\">\n",
       "      <th></th>\n",
       "      <th>Marca</th>\n",
       "      <th>Modelo</th>\n",
       "      <th>Precio</th>\n",
       "      <th>Tanque</th>\n",
       "      <th>Kilometros</th>\n",
       "    </tr>\n",
       "  </thead>\n",
       "  <tbody>\n",
       "    <tr>\n",
       "      <th>0</th>\n",
       "      <td>Honda Civic</td>\n",
       "      <td>2018</td>\n",
       "      <td>22000</td>\n",
       "      <td>1.6</td>\n",
       "      <td>2000</td>\n",
       "    </tr>\n",
       "    <tr>\n",
       "      <th>1</th>\n",
       "      <td>Toyota Corolla</td>\n",
       "      <td>2019</td>\n",
       "      <td>25000</td>\n",
       "      <td>1.6</td>\n",
       "      <td>1500</td>\n",
       "    </tr>\n",
       "  </tbody>\n",
       "</table>\n",
       "</div>"
      ],
      "text/plain": [
       "            Marca  Modelo  Precio  Tanque  Kilometros\n",
       "0     Honda Civic    2018   22000     1.6        2000\n",
       "1  Toyota Corolla    2019   25000     1.6        1500"
      ]
     },
     "execution_count": 1331,
     "metadata": {},
     "output_type": "execute_result"
    }
   ],
   "source": [
    "df_cars[(df_cars['Modelo']>2017)&(df_cars.Tanque == 1.6)]"
   ]
  },
  {
   "cell_type": "markdown",
   "metadata": {},
   "source": [
    "Con loc también podemos combinar un masking y la selección de las columnas"
   ]
  },
  {
   "cell_type": "code",
   "execution_count": 952,
   "metadata": {},
   "outputs": [
    {
     "data": {
      "text/html": [
       "<div>\n",
       "<style scoped>\n",
       "    .dataframe tbody tr th:only-of-type {\n",
       "        vertical-align: middle;\n",
       "    }\n",
       "\n",
       "    .dataframe tbody tr th {\n",
       "        vertical-align: top;\n",
       "    }\n",
       "\n",
       "    .dataframe thead th {\n",
       "        text-align: right;\n",
       "    }\n",
       "</style>\n",
       "<table border=\"1\" class=\"dataframe\">\n",
       "  <thead>\n",
       "    <tr style=\"text-align: right;\">\n",
       "      <th></th>\n",
       "      <th>Marca</th>\n",
       "      <th>Modelo</th>\n",
       "    </tr>\n",
       "  </thead>\n",
       "  <tbody>\n",
       "    <tr>\n",
       "      <th>0</th>\n",
       "      <td>Honda Civic</td>\n",
       "      <td>2018</td>\n",
       "    </tr>\n",
       "    <tr>\n",
       "      <th>1</th>\n",
       "      <td>Toyota Corolla</td>\n",
       "      <td>2019</td>\n",
       "    </tr>\n",
       "  </tbody>\n",
       "</table>\n",
       "</div>"
      ],
      "text/plain": [
       "            Marca  Modelo\n",
       "0     Honda Civic    2018\n",
       "1  Toyota Corolla    2019"
      ]
     },
     "execution_count": 952,
     "metadata": {},
     "output_type": "execute_result"
    }
   ],
   "source": [
    "df_cars.loc[df_cars.Tanque == 1.6, 'Marca':'Modelo']"
   ]
  },
  {
   "cell_type": "markdown",
   "metadata": {},
   "source": [
    "Otro método equivalente pero más limpio y mucho más eficiente (porque no aloja nuevos elementos en memoria) es query. La sintaxis queda mucho más limpia y nos permite ahorrar tiempo y espacio."
   ]
  },
  {
   "cell_type": "code",
   "execution_count": 1332,
   "metadata": {},
   "outputs": [
    {
     "data": {
      "text/html": [
       "<div>\n",
       "<style scoped>\n",
       "    .dataframe tbody tr th:only-of-type {\n",
       "        vertical-align: middle;\n",
       "    }\n",
       "\n",
       "    .dataframe tbody tr th {\n",
       "        vertical-align: top;\n",
       "    }\n",
       "\n",
       "    .dataframe thead th {\n",
       "        text-align: right;\n",
       "    }\n",
       "</style>\n",
       "<table border=\"1\" class=\"dataframe\">\n",
       "  <thead>\n",
       "    <tr style=\"text-align: right;\">\n",
       "      <th></th>\n",
       "      <th>Marca</th>\n",
       "      <th>Modelo</th>\n",
       "      <th>Precio</th>\n",
       "      <th>Tanque</th>\n",
       "      <th>Kilometros</th>\n",
       "    </tr>\n",
       "  </thead>\n",
       "  <tbody>\n",
       "    <tr>\n",
       "      <th>0</th>\n",
       "      <td>Honda Civic</td>\n",
       "      <td>2018</td>\n",
       "      <td>22000</td>\n",
       "      <td>1.6</td>\n",
       "      <td>2000</td>\n",
       "    </tr>\n",
       "    <tr>\n",
       "      <th>1</th>\n",
       "      <td>Toyota Corolla</td>\n",
       "      <td>2019</td>\n",
       "      <td>25000</td>\n",
       "      <td>1.6</td>\n",
       "      <td>1500</td>\n",
       "    </tr>\n",
       "  </tbody>\n",
       "</table>\n",
       "</div>"
      ],
      "text/plain": [
       "            Marca  Modelo  Precio  Tanque  Kilometros\n",
       "0     Honda Civic    2018   22000     1.6        2000\n",
       "1  Toyota Corolla    2019   25000     1.6        1500"
      ]
     },
     "execution_count": 1332,
     "metadata": {},
     "output_type": "execute_result"
    }
   ],
   "source": [
    "df_cars.query('Modelo>2017 & Tanque==1.6')"
   ]
  },
  {
   "cell_type": "markdown",
   "metadata": {},
   "source": [
    "#### MÉTODOS"
   ]
  },
  {
   "cell_type": "markdown",
   "metadata": {},
   "source": [
    "A continuación veremos los métodos que podemos utilizar con data frames. Todos los que vimos anteriormente para las Series son también válidos para los data frames aunque también se incorporan otros que veremos a continuación."
   ]
  },
  {
   "cell_type": "code",
   "execution_count": null,
   "metadata": {},
   "outputs": [],
   "source": [
    "# Append, Describe, Duplicated, Drop_duplicates, Reset_index, Head, Isna, Nunique, Sort_values, Plot, To_csv"
   ]
  },
  {
   "cell_type": "markdown",
   "metadata": {},
   "source": [
    "Además, a veces podemos necesitar la info de cuánta memoria está ocupando."
   ]
  },
  {
   "cell_type": "code",
   "execution_count": 961,
   "metadata": {},
   "outputs": [
    {
     "name": "stdout",
     "output_type": "stream",
     "text": [
      "<class 'pandas.core.frame.DataFrame'>\n",
      "RangeIndex: 4 entries, 0 to 3\n",
      "Data columns (total 5 columns):\n",
      " #   Column      Non-Null Count  Dtype  \n",
      "---  ------      --------------  -----  \n",
      " 0   Marca       4 non-null      object \n",
      " 1   Modelo      4 non-null      int64  \n",
      " 2   Precio      4 non-null      int64  \n",
      " 3   Tanque      4 non-null      float64\n",
      " 4   Kilometros  4 non-null      int64  \n",
      "dtypes: float64(1), int64(3), object(1)\n",
      "memory usage: 288.0+ bytes\n"
     ]
    }
   ],
   "source": [
    "# Info\n",
    "df_cars.info()"
   ]
  },
  {
   "cell_type": "markdown",
   "metadata": {},
   "source": [
    "Recordemos la noción de reasignar el resultado para poder utilizarlo. Con la mayoría de los métodos si no lo reasignamos a un data frame lo veremos impreso en pantalla pero inmediatamente lo perderemos. Una de las pocas excepciones a la idea de reasignación de data frames es el método insert."
   ]
  },
  {
   "cell_type": "code",
   "execution_count": 631,
   "metadata": {},
   "outputs": [
    {
     "name": "stdout",
     "output_type": "stream",
     "text": [
      "            Brand  Modelo  Price  Tanque  Kilometros\n",
      "0     Honda Civic    2018  22000     1.6        2000\n",
      "1  Toyota Corolla    2019  25000     1.6        1500\n",
      "2      Ford Focus    2020  27000     1.4           0\n",
      "3         Audi A4    2017  35000     2.0        3500\n"
     ]
    }
   ],
   "source": [
    "# Insert\n",
    "df_cars.insert(2,\"Tanque\",[1.6,1.6,1.4,2.0]) # Tenemos que pasar el numero de columna que queremos insertar\n",
    "df_cars.insert(len(df_cars)-1,\"Kilometros\",[2000,1500,0,3500]) # Podemos hacerlo programaticamente\n",
    "df_cars.insert(1,\"Modelo\",[2018,2019,2020,2017]) # Si lo hacemos con un indice menor, se mueven las columnas\n",
    "print(df_cars)"
   ]
  },
  {
   "cell_type": "code",
   "execution_count": 644,
   "metadata": {},
   "outputs": [
    {
     "name": "stdout",
     "output_type": "stream",
     "text": [
      "Si no asignamos:\n",
      "             Brand  Modelo  Price  Tanque  Kilometros\n",
      "0     Honda Civic    2018  22000     1.6        2000\n",
      "1  Toyota Corolla    2019  25000     1.6        1500\n",
      "2      Ford Focus    2020  27000     1.4           0\n",
      "3         Audi A4    2017  35000     2.0        3500\n",
      "\n",
      "Si asignamos:\n",
      "             Brand  Modelo  Price  Tanque  Kilometros  Dolares\n",
      "0     Honda Civic    2018  22000     1.6        2000    220.0\n",
      "1  Toyota Corolla    2019  25000     1.6        1500    250.0\n",
      "2      Ford Focus    2020  27000     1.4           0    270.0\n",
      "3         Audi A4    2017  35000     2.0        3500    350.0\n"
     ]
    }
   ],
   "source": [
    "# Assign\n",
    "df_cars.assign(Dolares = df_cars['Price']/100) # Podemos crear columnas a partir de cálculos con otras columnas\n",
    "print(\"Si no asignamos:\\n\",df_cars) \n",
    "df_cars = df_cars.assign(Dolares = df_cars['Price']/100) # Pero tenemos que reasignar el data frame\n",
    "print(\"\\nSi asignamos:\\n\",df_cars)"
   ]
  },
  {
   "cell_type": "code",
   "execution_count": 645,
   "metadata": {},
   "outputs": [
    {
     "name": "stdout",
     "output_type": "stream",
     "text": [
      "\n",
      "Reasignando:\n",
      "             Brand  Modelo  Price  Tanque  Kilometros\n",
      "0     Honda Civic    2018  22000     1.6        2000\n",
      "1  Toyota Corolla    2019  25000     1.6        1500\n",
      "2      Ford Focus    2020  27000     1.4           0\n",
      "3         Audi A4    2017  35000     2.0        3500\n"
     ]
    }
   ],
   "source": [
    "# Drop\n",
    "df_cars = df_cars.drop('Dolares',axis=1) # Drop es muy flexible, podemos eliminar filas o columnas. Axis 0 es fila, 1 columna\n",
    "print(df_cars)"
   ]
  },
  {
   "cell_type": "code",
   "execution_count": 647,
   "metadata": {},
   "outputs": [
    {
     "name": "stdout",
     "output_type": "stream",
     "text": [
      "            Marca  Modelo  Precio  Tanque  Kilometros\n",
      "0     Honda Civic    2018   22000     1.6        2000\n",
      "1  Toyota Corolla    2019   25000     1.6        1500\n",
      "2      Ford Focus    2020   27000     1.4           0\n",
      "3         Audi A4    2017   35000     2.0        3500\n"
     ]
    }
   ],
   "source": [
    "# Rename\n",
    "df_cars = df_cars.rename(columns={'Brand':'Marca','Price': 'Precio'}) # La función rename es muy potente\n",
    "print(df_cars)"
   ]
  },
  {
   "cell_type": "markdown",
   "metadata": {},
   "source": [
    "#### MÉTODOS MÁS AVANZADOS"
   ]
  },
  {
   "cell_type": "markdown",
   "metadata": {},
   "source": [
    "Para los métodos que vamos a examinar a continuación vamos a construir un nuevo data set intentando recuperar las ideas que vimos anteriormente."
   ]
  },
  {
   "cell_type": "code",
   "execution_count": 676,
   "metadata": {},
   "outputs": [],
   "source": [
    "# A partir de 2 diccionarios\n",
    "jugadores = {\n",
    "    'Messi': ['Barcelona',80,48,100],\n",
    "    'Cristiano Ronaldo': ['Juventus',75,22,97],\n",
    "    'Mbappe': ['PSG',88,18,92],\n",
    "    'Lautaro Martinez':['Inter',78,25,91]\n",
    "}\n",
    "\n",
    "equipos = {\n",
    "    'Barcelona':['Espana',1,8],\n",
    "    'Juventus':['Italia',1,16],\n",
    "    'PSG':['Francia',1,16],\n",
    "    'Inter':['Italia',2,32]\n",
    "}\n"
   ]
  },
  {
   "cell_type": "code",
   "execution_count": 677,
   "metadata": {},
   "outputs": [
    {
     "data": {
      "text/html": [
       "<div>\n",
       "<style scoped>\n",
       "    .dataframe tbody tr th:only-of-type {\n",
       "        vertical-align: middle;\n",
       "    }\n",
       "\n",
       "    .dataframe tbody tr th {\n",
       "        vertical-align: top;\n",
       "    }\n",
       "\n",
       "    .dataframe thead th {\n",
       "        text-align: right;\n",
       "    }\n",
       "</style>\n",
       "<table border=\"1\" class=\"dataframe\">\n",
       "  <thead>\n",
       "    <tr style=\"text-align: right;\">\n",
       "      <th></th>\n",
       "      <th>Messi</th>\n",
       "      <th>Cristiano Ronaldo</th>\n",
       "      <th>Mbappe</th>\n",
       "      <th>Lautaro Martinez</th>\n",
       "    </tr>\n",
       "  </thead>\n",
       "  <tbody>\n",
       "    <tr>\n",
       "      <th>0</th>\n",
       "      <td>Barcelona</td>\n",
       "      <td>Juventus</td>\n",
       "      <td>PSG</td>\n",
       "      <td>Inter</td>\n",
       "    </tr>\n",
       "    <tr>\n",
       "      <th>1</th>\n",
       "      <td>80</td>\n",
       "      <td>75</td>\n",
       "      <td>88</td>\n",
       "      <td>78</td>\n",
       "    </tr>\n",
       "    <tr>\n",
       "      <th>2</th>\n",
       "      <td>48</td>\n",
       "      <td>22</td>\n",
       "      <td>18</td>\n",
       "      <td>25</td>\n",
       "    </tr>\n",
       "    <tr>\n",
       "      <th>3</th>\n",
       "      <td>100</td>\n",
       "      <td>97</td>\n",
       "      <td>92</td>\n",
       "      <td>91</td>\n",
       "    </tr>\n",
       "  </tbody>\n",
       "</table>\n",
       "</div>"
      ],
      "text/plain": [
       "       Messi Cristiano Ronaldo Mbappe Lautaro Martinez\n",
       "0  Barcelona          Juventus    PSG            Inter\n",
       "1         80                75     88               78\n",
       "2         48                22     18               25\n",
       "3        100                97     92               91"
      ]
     },
     "execution_count": 677,
     "metadata": {},
     "output_type": "execute_result"
    }
   ],
   "source": [
    "# Si creamos el data frame, las columnas serán determinadas por las claves\n",
    "pd.DataFrame(jugadores)"
   ]
  },
  {
   "cell_type": "code",
   "execution_count": 1108,
   "metadata": {},
   "outputs": [
    {
     "data": {
      "text/html": [
       "<div>\n",
       "<style scoped>\n",
       "    .dataframe tbody tr th:only-of-type {\n",
       "        vertical-align: middle;\n",
       "    }\n",
       "\n",
       "    .dataframe tbody tr th {\n",
       "        vertical-align: top;\n",
       "    }\n",
       "\n",
       "    .dataframe thead th {\n",
       "        text-align: right;\n",
       "    }\n",
       "</style>\n",
       "<table border=\"1\" class=\"dataframe\">\n",
       "  <thead>\n",
       "    <tr style=\"text-align: right;\">\n",
       "      <th></th>\n",
       "      <th>Equipo</th>\n",
       "      <th>Goles</th>\n",
       "      <th>Asistencias</th>\n",
       "      <th>Calificacion</th>\n",
       "    </tr>\n",
       "  </thead>\n",
       "  <tbody>\n",
       "    <tr>\n",
       "      <th>Messi</th>\n",
       "      <td>Barcelona</td>\n",
       "      <td>80</td>\n",
       "      <td>48</td>\n",
       "      <td>100</td>\n",
       "    </tr>\n",
       "    <tr>\n",
       "      <th>Cristiano Ronaldo</th>\n",
       "      <td>Juventus</td>\n",
       "      <td>75</td>\n",
       "      <td>22</td>\n",
       "      <td>97</td>\n",
       "    </tr>\n",
       "    <tr>\n",
       "      <th>Mbappe</th>\n",
       "      <td>PSG</td>\n",
       "      <td>88</td>\n",
       "      <td>18</td>\n",
       "      <td>92</td>\n",
       "    </tr>\n",
       "    <tr>\n",
       "      <th>Lautaro Martinez</th>\n",
       "      <td>Inter</td>\n",
       "      <td>78</td>\n",
       "      <td>25</td>\n",
       "      <td>91</td>\n",
       "    </tr>\n",
       "  </tbody>\n",
       "</table>\n",
       "</div>"
      ],
      "text/plain": [
       "                      Equipo  Goles  Asistencias  Calificacion\n",
       "Messi              Barcelona     80           48           100\n",
       "Cristiano Ronaldo   Juventus     75           22            97\n",
       "Mbappe                   PSG     88           18            92\n",
       "Lautaro Martinez       Inter     78           25            91"
      ]
     },
     "execution_count": 1108,
     "metadata": {},
     "output_type": "execute_result"
    }
   ],
   "source": [
    "# Para eso, indicamos que se oriente por índice y pasamos los nombres de las columans para que no queden vacíos\n",
    "pd.DataFrame.from_dict(jugadores,orient='index',columns=[\"Equipo\",\"Goles\",\"Asistencias\",\"Calificacion\"]) # Usamos from_dict"
   ]
  },
  {
   "cell_type": "code",
   "execution_count": 688,
   "metadata": {},
   "outputs": [
    {
     "data": {
      "text/html": [
       "<div>\n",
       "<style scoped>\n",
       "    .dataframe tbody tr th:only-of-type {\n",
       "        vertical-align: middle;\n",
       "    }\n",
       "\n",
       "    .dataframe tbody tr th {\n",
       "        vertical-align: top;\n",
       "    }\n",
       "\n",
       "    .dataframe thead th {\n",
       "        text-align: right;\n",
       "    }\n",
       "</style>\n",
       "<table border=\"1\" class=\"dataframe\">\n",
       "  <thead>\n",
       "    <tr style=\"text-align: right;\">\n",
       "      <th></th>\n",
       "      <th>Equipo</th>\n",
       "      <th>Goles</th>\n",
       "      <th>Asistencias</th>\n",
       "      <th>Calificacion</th>\n",
       "    </tr>\n",
       "    <tr>\n",
       "      <th>Jugador</th>\n",
       "      <th></th>\n",
       "      <th></th>\n",
       "      <th></th>\n",
       "      <th></th>\n",
       "    </tr>\n",
       "  </thead>\n",
       "  <tbody>\n",
       "    <tr>\n",
       "      <th>Messi</th>\n",
       "      <td>Barcelona</td>\n",
       "      <td>80</td>\n",
       "      <td>48</td>\n",
       "      <td>100</td>\n",
       "    </tr>\n",
       "    <tr>\n",
       "      <th>Cristiano Ronaldo</th>\n",
       "      <td>Juventus</td>\n",
       "      <td>75</td>\n",
       "      <td>22</td>\n",
       "      <td>97</td>\n",
       "    </tr>\n",
       "    <tr>\n",
       "      <th>Mbappe</th>\n",
       "      <td>PSG</td>\n",
       "      <td>88</td>\n",
       "      <td>18</td>\n",
       "      <td>92</td>\n",
       "    </tr>\n",
       "    <tr>\n",
       "      <th>Lautaro Martinez</th>\n",
       "      <td>Inter</td>\n",
       "      <td>78</td>\n",
       "      <td>25</td>\n",
       "      <td>91</td>\n",
       "    </tr>\n",
       "  </tbody>\n",
       "</table>\n",
       "</div>"
      ],
      "text/plain": [
       "                      Equipo  Goles  Asistencias  Calificacion\n",
       "Jugador                                                       \n",
       "Messi              Barcelona     80           48           100\n",
       "Cristiano Ronaldo   Juventus     75           22            97\n",
       "Mbappe                   PSG     88           18            92\n",
       "Lautaro Martinez       Inter     78           25            91"
      ]
     },
     "execution_count": 688,
     "metadata": {},
     "output_type": "execute_result"
    }
   ],
   "source": [
    "# Renombramos el índice para que sea más claro\n",
    "pd.DataFrame.from_dict(jugadores,orient='index',columns=[\"Equipo\",\"Goles\",\"Asistencias\",\"Calificacion\"]).rename_axis(\"Jugador\")"
   ]
  },
  {
   "cell_type": "code",
   "execution_count": 692,
   "metadata": {},
   "outputs": [
    {
     "data": {
      "text/html": [
       "<div>\n",
       "<style scoped>\n",
       "    .dataframe tbody tr th:only-of-type {\n",
       "        vertical-align: middle;\n",
       "    }\n",
       "\n",
       "    .dataframe tbody tr th {\n",
       "        vertical-align: top;\n",
       "    }\n",
       "\n",
       "    .dataframe thead th {\n",
       "        text-align: right;\n",
       "    }\n",
       "</style>\n",
       "<table border=\"1\" class=\"dataframe\">\n",
       "  <thead>\n",
       "    <tr style=\"text-align: right;\">\n",
       "      <th></th>\n",
       "      <th>Jugador</th>\n",
       "      <th>Equipo</th>\n",
       "      <th>Goles</th>\n",
       "      <th>Asistencias</th>\n",
       "      <th>Calificacion</th>\n",
       "    </tr>\n",
       "  </thead>\n",
       "  <tbody>\n",
       "    <tr>\n",
       "      <th>0</th>\n",
       "      <td>Messi</td>\n",
       "      <td>Barcelona</td>\n",
       "      <td>80</td>\n",
       "      <td>48</td>\n",
       "      <td>100</td>\n",
       "    </tr>\n",
       "    <tr>\n",
       "      <th>1</th>\n",
       "      <td>Cristiano Ronaldo</td>\n",
       "      <td>Juventus</td>\n",
       "      <td>75</td>\n",
       "      <td>22</td>\n",
       "      <td>97</td>\n",
       "    </tr>\n",
       "    <tr>\n",
       "      <th>2</th>\n",
       "      <td>Mbappe</td>\n",
       "      <td>PSG</td>\n",
       "      <td>88</td>\n",
       "      <td>18</td>\n",
       "      <td>92</td>\n",
       "    </tr>\n",
       "    <tr>\n",
       "      <th>3</th>\n",
       "      <td>Lautaro Martinez</td>\n",
       "      <td>Inter</td>\n",
       "      <td>78</td>\n",
       "      <td>25</td>\n",
       "      <td>91</td>\n",
       "    </tr>\n",
       "  </tbody>\n",
       "</table>\n",
       "</div>"
      ],
      "text/plain": [
       "             Jugador     Equipo  Goles  Asistencias  Calificacion\n",
       "0              Messi  Barcelona     80           48           100\n",
       "1  Cristiano Ronaldo   Juventus     75           22            97\n",
       "2             Mbappe        PSG     88           18            92\n",
       "3   Lautaro Martinez      Inter     78           25            91"
      ]
     },
     "execution_count": 692,
     "metadata": {},
     "output_type": "execute_result"
    }
   ],
   "source": [
    "# Y podemos resetear el índice para que pase a ser una nueva columna\n",
    "pd.DataFrame.from_dict(jugadores,orient='index',columns=[\"Equipo\",\"Goles\",\"Asistencias\",\"Calificacion\"]).rename_axis(\"Jugador\").reset_index()"
   ]
  },
  {
   "cell_type": "code",
   "execution_count": 1399,
   "metadata": {},
   "outputs": [
    {
     "name": "stdout",
     "output_type": "stream",
     "text": [
      "                      Equipo  Goles  Asistencias  Calificacion\n",
      "Messi              Barcelona     80           48           100\n",
      "Cristiano Ronaldo   Juventus     75           22            97\n",
      "Mbappe                   PSG     88           18            92\n",
      "Lautaro Martinez       Inter     78           25            91\n",
      "\n",
      "               Pais  Posicion  Champions\n",
      "Barcelona   Espana         1          8\n",
      "Juventus    Italia         1         16\n",
      "PSG        Francia         1         16\n",
      "Inter       Italia         2         32\n"
     ]
    }
   ],
   "source": [
    "# Creamos los data frame con la versión que más nos gustó\n",
    "df_jugadores = pd.DataFrame.from_dict(jugadores,orient='index',columns=[\"Equipo\",\"Goles\",\"Asistencias\",\"Calificacion\"])\n",
    "print(df_jugadores)\n",
    "# También el data frame de equipos\n",
    "df_equipos = pd.DataFrame.from_dict(equipos,orient='index',columns=[\"Pais\",\"Posicion\",\"Champions\"])\n",
    "print(\"\\n\",df_equipos)"
   ]
  },
  {
   "cell_type": "markdown",
   "metadata": {},
   "source": [
    "#### CONCAT Y APPEND"
   ]
  },
  {
   "cell_type": "markdown",
   "metadata": {},
   "source": [
    "Para combinar data frame tenemos varias opciones. La primera que veremos es concat que simplemente pega un data frame a otro."
   ]
  },
  {
   "cell_type": "code",
   "execution_count": 1138,
   "metadata": {},
   "outputs": [
    {
     "data": {
      "text/html": [
       "<div>\n",
       "<style scoped>\n",
       "    .dataframe tbody tr th:only-of-type {\n",
       "        vertical-align: middle;\n",
       "    }\n",
       "\n",
       "    .dataframe tbody tr th {\n",
       "        vertical-align: top;\n",
       "    }\n",
       "\n",
       "    .dataframe thead th {\n",
       "        text-align: right;\n",
       "    }\n",
       "</style>\n",
       "<table border=\"1\" class=\"dataframe\">\n",
       "  <thead>\n",
       "    <tr style=\"text-align: right;\">\n",
       "      <th></th>\n",
       "      <th>Equipo</th>\n",
       "      <th>Goles</th>\n",
       "      <th>Asistencias</th>\n",
       "      <th>Calificacion</th>\n",
       "    </tr>\n",
       "  </thead>\n",
       "  <tbody>\n",
       "    <tr>\n",
       "      <th>Ivan Pillud</th>\n",
       "      <td>Racing</td>\n",
       "      <td>2</td>\n",
       "      <td>4</td>\n",
       "      <td>71</td>\n",
       "    </tr>\n",
       "  </tbody>\n",
       "</table>\n",
       "</div>"
      ],
      "text/plain": [
       "             Equipo  Goles  Asistencias  Calificacion\n",
       "Ivan Pillud  Racing      2            4            71"
      ]
     },
     "execution_count": 1138,
     "metadata": {},
     "output_type": "execute_result"
    }
   ],
   "source": [
    "# Data frame con 1 fila. Definido a partir de lista de listas y copiando las columnas\n",
    "test = pd.DataFrame([['Racing',2,4,71]], index = ['Ivan Pillud'], columns = df_jugadores.columns)\n",
    "test"
   ]
  },
  {
   "cell_type": "code",
   "execution_count": 1144,
   "metadata": {},
   "outputs": [
    {
     "data": {
      "text/html": [
       "<div>\n",
       "<style scoped>\n",
       "    .dataframe tbody tr th:only-of-type {\n",
       "        vertical-align: middle;\n",
       "    }\n",
       "\n",
       "    .dataframe tbody tr th {\n",
       "        vertical-align: top;\n",
       "    }\n",
       "\n",
       "    .dataframe thead th {\n",
       "        text-align: right;\n",
       "    }\n",
       "</style>\n",
       "<table border=\"1\" class=\"dataframe\">\n",
       "  <thead>\n",
       "    <tr style=\"text-align: right;\">\n",
       "      <th></th>\n",
       "      <th>Equipo</th>\n",
       "      <th>Goles</th>\n",
       "      <th>Asistencias</th>\n",
       "      <th>Calificacion</th>\n",
       "    </tr>\n",
       "  </thead>\n",
       "  <tbody>\n",
       "    <tr>\n",
       "      <th>Haaland</th>\n",
       "      <td>Dortmund</td>\n",
       "      <td>88</td>\n",
       "      <td>15</td>\n",
       "      <td>90</td>\n",
       "    </tr>\n",
       "  </tbody>\n",
       "</table>\n",
       "</div>"
      ],
      "text/plain": [
       "           Equipo  Goles  Asistencias  Calificacion\n",
       "Haaland  Dortmund     88           15            90"
      ]
     },
     "execution_count": 1144,
     "metadata": {},
     "output_type": "execute_result"
    }
   ],
   "source": [
    "# Data frame con 1 fila. Definido a partir de un diccionario con columnas como keys\n",
    "test2 = pd.DataFrame({'Equipo':'Dortmund','Goles': 88,'Asistencias': 15,'Calificacion': 90},index = ['Haaland'])\n",
    "test2"
   ]
  },
  {
   "cell_type": "code",
   "execution_count": 1141,
   "metadata": {},
   "outputs": [
    {
     "data": {
      "text/html": [
       "<div>\n",
       "<style scoped>\n",
       "    .dataframe tbody tr th:only-of-type {\n",
       "        vertical-align: middle;\n",
       "    }\n",
       "\n",
       "    .dataframe tbody tr th {\n",
       "        vertical-align: top;\n",
       "    }\n",
       "\n",
       "    .dataframe thead th {\n",
       "        text-align: right;\n",
       "    }\n",
       "</style>\n",
       "<table border=\"1\" class=\"dataframe\">\n",
       "  <thead>\n",
       "    <tr style=\"text-align: right;\">\n",
       "      <th></th>\n",
       "      <th>Equipo</th>\n",
       "      <th>Goles</th>\n",
       "      <th>Asistencias</th>\n",
       "      <th>Calificacion</th>\n",
       "    </tr>\n",
       "  </thead>\n",
       "  <tbody>\n",
       "    <tr>\n",
       "      <th>Messi</th>\n",
       "      <td>Barcelona</td>\n",
       "      <td>80</td>\n",
       "      <td>48</td>\n",
       "      <td>100</td>\n",
       "    </tr>\n",
       "    <tr>\n",
       "      <th>Cristiano Ronaldo</th>\n",
       "      <td>Juventus</td>\n",
       "      <td>75</td>\n",
       "      <td>22</td>\n",
       "      <td>97</td>\n",
       "    </tr>\n",
       "    <tr>\n",
       "      <th>Mbappe</th>\n",
       "      <td>PSG</td>\n",
       "      <td>88</td>\n",
       "      <td>18</td>\n",
       "      <td>92</td>\n",
       "    </tr>\n",
       "    <tr>\n",
       "      <th>Lautaro Martinez</th>\n",
       "      <td>Inter</td>\n",
       "      <td>78</td>\n",
       "      <td>25</td>\n",
       "      <td>91</td>\n",
       "    </tr>\n",
       "    <tr>\n",
       "      <th>Ivan Pillud</th>\n",
       "      <td>Racing</td>\n",
       "      <td>2</td>\n",
       "      <td>4</td>\n",
       "      <td>71</td>\n",
       "    </tr>\n",
       "  </tbody>\n",
       "</table>\n",
       "</div>"
      ],
      "text/plain": [
       "                      Equipo  Goles  Asistencias  Calificacion\n",
       "Messi              Barcelona     80           48           100\n",
       "Cristiano Ronaldo   Juventus     75           22            97\n",
       "Mbappe                   PSG     88           18            92\n",
       "Lautaro Martinez       Inter     78           25            91\n",
       "Ivan Pillud           Racing      2            4            71"
      ]
     },
     "execution_count": 1141,
     "metadata": {},
     "output_type": "execute_result"
    }
   ],
   "source": [
    "# Concatenamos con axis = 0 (default)\n",
    "df_jugadores = pd.concat([df_jugadores, test], axis = 0) # Se llama desde pd!\n",
    "df_jugadores"
   ]
  },
  {
   "cell_type": "code",
   "execution_count": 1147,
   "metadata": {},
   "outputs": [
    {
     "data": {
      "text/html": [
       "<div>\n",
       "<style scoped>\n",
       "    .dataframe tbody tr th:only-of-type {\n",
       "        vertical-align: middle;\n",
       "    }\n",
       "\n",
       "    .dataframe tbody tr th {\n",
       "        vertical-align: top;\n",
       "    }\n",
       "\n",
       "    .dataframe thead th {\n",
       "        text-align: right;\n",
       "    }\n",
       "</style>\n",
       "<table border=\"1\" class=\"dataframe\">\n",
       "  <thead>\n",
       "    <tr style=\"text-align: right;\">\n",
       "      <th></th>\n",
       "      <th>Equipo</th>\n",
       "      <th>Goles</th>\n",
       "      <th>Asistencias</th>\n",
       "      <th>Calificacion</th>\n",
       "    </tr>\n",
       "  </thead>\n",
       "  <tbody>\n",
       "    <tr>\n",
       "      <th>Messi</th>\n",
       "      <td>Barcelona</td>\n",
       "      <td>80</td>\n",
       "      <td>48</td>\n",
       "      <td>100</td>\n",
       "    </tr>\n",
       "    <tr>\n",
       "      <th>Cristiano Ronaldo</th>\n",
       "      <td>Juventus</td>\n",
       "      <td>75</td>\n",
       "      <td>22</td>\n",
       "      <td>97</td>\n",
       "    </tr>\n",
       "    <tr>\n",
       "      <th>Mbappe</th>\n",
       "      <td>PSG</td>\n",
       "      <td>88</td>\n",
       "      <td>18</td>\n",
       "      <td>92</td>\n",
       "    </tr>\n",
       "    <tr>\n",
       "      <th>Lautaro Martinez</th>\n",
       "      <td>Inter</td>\n",
       "      <td>78</td>\n",
       "      <td>25</td>\n",
       "      <td>91</td>\n",
       "    </tr>\n",
       "    <tr>\n",
       "      <th>Ivan Pillud</th>\n",
       "      <td>Racing</td>\n",
       "      <td>2</td>\n",
       "      <td>4</td>\n",
       "      <td>71</td>\n",
       "    </tr>\n",
       "    <tr>\n",
       "      <th>Haaland</th>\n",
       "      <td>Dortmund</td>\n",
       "      <td>88</td>\n",
       "      <td>15</td>\n",
       "      <td>90</td>\n",
       "    </tr>\n",
       "  </tbody>\n",
       "</table>\n",
       "</div>"
      ],
      "text/plain": [
       "                      Equipo  Goles  Asistencias  Calificacion\n",
       "Messi              Barcelona     80           48           100\n",
       "Cristiano Ronaldo   Juventus     75           22            97\n",
       "Mbappe                   PSG     88           18            92\n",
       "Lautaro Martinez       Inter     78           25            91\n",
       "Ivan Pillud           Racing      2            4            71\n",
       "Haaland             Dortmund     88           15            90"
      ]
     },
     "execution_count": 1147,
     "metadata": {},
     "output_type": "execute_result"
    }
   ],
   "source": [
    "# Append. Es el mismo método pero resumido\n",
    "df_jugadores = df_jugadores.append(test2) # Se llama desde el data frame\n",
    "df_jugadores"
   ]
  },
  {
   "cell_type": "code",
   "execution_count": 1153,
   "metadata": {},
   "outputs": [],
   "source": [
    "# Data frame de una columna con valores repetidos\n",
    "posicion = pd.DataFrame({'Posicion':['Delantero']*4+['Defensor']+['Delantero']})"
   ]
  },
  {
   "cell_type": "code",
   "execution_count": 1154,
   "metadata": {},
   "outputs": [
    {
     "data": {
      "text/html": [
       "<div>\n",
       "<style scoped>\n",
       "    .dataframe tbody tr th:only-of-type {\n",
       "        vertical-align: middle;\n",
       "    }\n",
       "\n",
       "    .dataframe tbody tr th {\n",
       "        vertical-align: top;\n",
       "    }\n",
       "\n",
       "    .dataframe thead th {\n",
       "        text-align: right;\n",
       "    }\n",
       "</style>\n",
       "<table border=\"1\" class=\"dataframe\">\n",
       "  <thead>\n",
       "    <tr style=\"text-align: right;\">\n",
       "      <th></th>\n",
       "      <th>index</th>\n",
       "      <th>Equipo</th>\n",
       "      <th>Goles</th>\n",
       "      <th>Asistencias</th>\n",
       "      <th>Calificacion</th>\n",
       "      <th>Posicion</th>\n",
       "    </tr>\n",
       "  </thead>\n",
       "  <tbody>\n",
       "    <tr>\n",
       "      <th>0</th>\n",
       "      <td>Messi</td>\n",
       "      <td>Barcelona</td>\n",
       "      <td>80</td>\n",
       "      <td>48</td>\n",
       "      <td>100</td>\n",
       "      <td>Delantero</td>\n",
       "    </tr>\n",
       "    <tr>\n",
       "      <th>1</th>\n",
       "      <td>Cristiano Ronaldo</td>\n",
       "      <td>Juventus</td>\n",
       "      <td>75</td>\n",
       "      <td>22</td>\n",
       "      <td>97</td>\n",
       "      <td>Delantero</td>\n",
       "    </tr>\n",
       "    <tr>\n",
       "      <th>2</th>\n",
       "      <td>Mbappe</td>\n",
       "      <td>PSG</td>\n",
       "      <td>88</td>\n",
       "      <td>18</td>\n",
       "      <td>92</td>\n",
       "      <td>Delantero</td>\n",
       "    </tr>\n",
       "    <tr>\n",
       "      <th>3</th>\n",
       "      <td>Lautaro Martinez</td>\n",
       "      <td>Inter</td>\n",
       "      <td>78</td>\n",
       "      <td>25</td>\n",
       "      <td>91</td>\n",
       "      <td>Delantero</td>\n",
       "    </tr>\n",
       "    <tr>\n",
       "      <th>4</th>\n",
       "      <td>Ivan Pillud</td>\n",
       "      <td>Racing</td>\n",
       "      <td>2</td>\n",
       "      <td>4</td>\n",
       "      <td>71</td>\n",
       "      <td>Defensor</td>\n",
       "    </tr>\n",
       "    <tr>\n",
       "      <th>5</th>\n",
       "      <td>Haaland</td>\n",
       "      <td>Dortmund</td>\n",
       "      <td>88</td>\n",
       "      <td>15</td>\n",
       "      <td>90</td>\n",
       "      <td>Delantero</td>\n",
       "    </tr>\n",
       "  </tbody>\n",
       "</table>\n",
       "</div>"
      ],
      "text/plain": [
       "               index     Equipo  Goles  Asistencias  Calificacion   Posicion\n",
       "0              Messi  Barcelona     80           48           100  Delantero\n",
       "1  Cristiano Ronaldo   Juventus     75           22            97  Delantero\n",
       "2             Mbappe        PSG     88           18            92  Delantero\n",
       "3   Lautaro Martinez      Inter     78           25            91  Delantero\n",
       "4        Ivan Pillud     Racing      2            4            71   Defensor\n",
       "5            Haaland   Dortmund     88           15            90  Delantero"
      ]
     },
     "execution_count": 1154,
     "metadata": {},
     "output_type": "execute_result"
    }
   ],
   "source": [
    "# Concat con axis = 1 para pegar una columna al final con índices comunes\n",
    "pd.concat([df_jugadores.reset_index(), posicion], axis = 1)"
   ]
  },
  {
   "cell_type": "markdown",
   "metadata": {},
   "source": [
    "#### MERGE Y JOIN"
   ]
  },
  {
   "cell_type": "markdown",
   "metadata": {},
   "source": [
    "Vamos a ver dos métodos muy parecidos para unir datasets: Join y Merge. Ambos sirven para combinar dataframes y realizar operaciones de tipo join (SQL). Con Join esa unión se va a hacer a partir de los índices de cada data frame mientras que Merge nos permite mayor flexibilidad para elegir de qué manera hacer la integración. Ejemplo sacado de https://towardsdatascience.com/pandas-join-vs-merge-c365fd4fbf49#:~:text=The%20join%20method%20works%20best,join%20on%20for%20both%20dataframes."
   ]
  },
  {
   "cell_type": "markdown",
   "metadata": {},
   "source": [
    "Con el MERGE podemos obtenemos mucha flexibilidad para indicar las keys pero también vemos que trae algunas problemas que van a requerir un tratamiento posterior para que quede exactamente como queremos."
   ]
  },
  {
   "cell_type": "code",
   "execution_count": 720,
   "metadata": {},
   "outputs": [
    {
     "data": {
      "text/html": [
       "<div>\n",
       "<style scoped>\n",
       "    .dataframe tbody tr th:only-of-type {\n",
       "        vertical-align: middle;\n",
       "    }\n",
       "\n",
       "    .dataframe tbody tr th {\n",
       "        vertical-align: top;\n",
       "    }\n",
       "\n",
       "    .dataframe thead th {\n",
       "        text-align: right;\n",
       "    }\n",
       "</style>\n",
       "<table border=\"1\" class=\"dataframe\">\n",
       "  <thead>\n",
       "    <tr style=\"text-align: right;\">\n",
       "      <th></th>\n",
       "      <th>Pais</th>\n",
       "      <th>Posicion</th>\n",
       "      <th>Champions</th>\n",
       "      <th>Equipo</th>\n",
       "      <th>Goles</th>\n",
       "      <th>Asistencias</th>\n",
       "      <th>Calificacion</th>\n",
       "    </tr>\n",
       "  </thead>\n",
       "  <tbody>\n",
       "    <tr>\n",
       "      <th>Messi</th>\n",
       "      <td>Espana</td>\n",
       "      <td>1</td>\n",
       "      <td>8</td>\n",
       "      <td>Barcelona</td>\n",
       "      <td>80</td>\n",
       "      <td>48</td>\n",
       "      <td>100</td>\n",
       "    </tr>\n",
       "    <tr>\n",
       "      <th>Cristiano Ronaldo</th>\n",
       "      <td>Italia</td>\n",
       "      <td>1</td>\n",
       "      <td>16</td>\n",
       "      <td>Juventus</td>\n",
       "      <td>75</td>\n",
       "      <td>22</td>\n",
       "      <td>97</td>\n",
       "    </tr>\n",
       "    <tr>\n",
       "      <th>Mbappe</th>\n",
       "      <td>Francia</td>\n",
       "      <td>1</td>\n",
       "      <td>16</td>\n",
       "      <td>PSG</td>\n",
       "      <td>88</td>\n",
       "      <td>18</td>\n",
       "      <td>92</td>\n",
       "    </tr>\n",
       "    <tr>\n",
       "      <th>Lautaro Martinez</th>\n",
       "      <td>Italia</td>\n",
       "      <td>2</td>\n",
       "      <td>32</td>\n",
       "      <td>Inter</td>\n",
       "      <td>78</td>\n",
       "      <td>25</td>\n",
       "      <td>91</td>\n",
       "    </tr>\n",
       "  </tbody>\n",
       "</table>\n",
       "</div>"
      ],
      "text/plain": [
       "                      Pais  Posicion  Champions     Equipo  Goles  \\\n",
       "Messi               Espana         1          8  Barcelona     80   \n",
       "Cristiano Ronaldo   Italia         1         16   Juventus     75   \n",
       "Mbappe             Francia         1         16        PSG     88   \n",
       "Lautaro Martinez    Italia         2         32      Inter     78   \n",
       "\n",
       "                   Asistencias  Calificacion  \n",
       "Messi                       48           100  \n",
       "Cristiano Ronaldo           22            97  \n",
       "Mbappe                      18            92  \n",
       "Lautaro Martinez            25            91  "
      ]
     },
     "execution_count": 720,
     "metadata": {},
     "output_type": "execute_result"
    }
   ],
   "source": [
    "# Merge\n",
    "df_equipos.merge(df_jugadores,left_index=True,right_on=\"Equipo\") # Podemos usar un index y una columna"
   ]
  },
  {
   "cell_type": "markdown",
   "metadata": {},
   "source": [
    "El índice no queda incorporado al nuevo data frame, no importa si está en la derecha o en la izquierda."
   ]
  },
  {
   "cell_type": "code",
   "execution_count": 722,
   "metadata": {},
   "outputs": [
    {
     "data": {
      "text/html": [
       "<div>\n",
       "<style scoped>\n",
       "    .dataframe tbody tr th:only-of-type {\n",
       "        vertical-align: middle;\n",
       "    }\n",
       "\n",
       "    .dataframe tbody tr th {\n",
       "        vertical-align: top;\n",
       "    }\n",
       "\n",
       "    .dataframe thead th {\n",
       "        text-align: right;\n",
       "    }\n",
       "</style>\n",
       "<table border=\"1\" class=\"dataframe\">\n",
       "  <thead>\n",
       "    <tr style=\"text-align: right;\">\n",
       "      <th></th>\n",
       "      <th>Equipo</th>\n",
       "      <th>Goles</th>\n",
       "      <th>Asistencias</th>\n",
       "      <th>Calificacion</th>\n",
       "      <th>Pais</th>\n",
       "      <th>Posicion</th>\n",
       "      <th>Champions</th>\n",
       "    </tr>\n",
       "  </thead>\n",
       "  <tbody>\n",
       "    <tr>\n",
       "      <th>Messi</th>\n",
       "      <td>Barcelona</td>\n",
       "      <td>80</td>\n",
       "      <td>48</td>\n",
       "      <td>100</td>\n",
       "      <td>Espana</td>\n",
       "      <td>1</td>\n",
       "      <td>8</td>\n",
       "    </tr>\n",
       "    <tr>\n",
       "      <th>Cristiano Ronaldo</th>\n",
       "      <td>Juventus</td>\n",
       "      <td>75</td>\n",
       "      <td>22</td>\n",
       "      <td>97</td>\n",
       "      <td>Italia</td>\n",
       "      <td>1</td>\n",
       "      <td>16</td>\n",
       "    </tr>\n",
       "    <tr>\n",
       "      <th>Mbappe</th>\n",
       "      <td>PSG</td>\n",
       "      <td>88</td>\n",
       "      <td>18</td>\n",
       "      <td>92</td>\n",
       "      <td>Francia</td>\n",
       "      <td>1</td>\n",
       "      <td>16</td>\n",
       "    </tr>\n",
       "    <tr>\n",
       "      <th>Lautaro Martinez</th>\n",
       "      <td>Inter</td>\n",
       "      <td>78</td>\n",
       "      <td>25</td>\n",
       "      <td>91</td>\n",
       "      <td>Italia</td>\n",
       "      <td>2</td>\n",
       "      <td>32</td>\n",
       "    </tr>\n",
       "  </tbody>\n",
       "</table>\n",
       "</div>"
      ],
      "text/plain": [
       "                      Equipo  Goles  Asistencias  Calificacion     Pais  \\\n",
       "Messi              Barcelona     80           48           100   Espana   \n",
       "Cristiano Ronaldo   Juventus     75           22            97   Italia   \n",
       "Mbappe                   PSG     88           18            92  Francia   \n",
       "Lautaro Martinez       Inter     78           25            91   Italia   \n",
       "\n",
       "                   Posicion  Champions  \n",
       "Messi                     1          8  \n",
       "Cristiano Ronaldo         1         16  \n",
       "Mbappe                    1         16  \n",
       "Lautaro Martinez          2         32  "
      ]
     },
     "execution_count": 722,
     "metadata": {},
     "output_type": "execute_result"
    }
   ],
   "source": [
    "df_jugadores.merge(df_equipos,left_on=\"Equipo\",right_index=True)"
   ]
  },
  {
   "cell_type": "markdown",
   "metadata": {},
   "source": [
    "Para eso, tenemos que resetear el index y hacer un merge por columnas"
   ]
  },
  {
   "cell_type": "code",
   "execution_count": 711,
   "metadata": {},
   "outputs": [
    {
     "data": {
      "text/html": [
       "<div>\n",
       "<style scoped>\n",
       "    .dataframe tbody tr th:only-of-type {\n",
       "        vertical-align: middle;\n",
       "    }\n",
       "\n",
       "    .dataframe tbody tr th {\n",
       "        vertical-align: top;\n",
       "    }\n",
       "\n",
       "    .dataframe thead th {\n",
       "        text-align: right;\n",
       "    }\n",
       "</style>\n",
       "<table border=\"1\" class=\"dataframe\">\n",
       "  <thead>\n",
       "    <tr style=\"text-align: right;\">\n",
       "      <th></th>\n",
       "      <th>index</th>\n",
       "      <th>Pais</th>\n",
       "      <th>Posicion</th>\n",
       "      <th>Champions</th>\n",
       "      <th>Equipo</th>\n",
       "      <th>Goles</th>\n",
       "      <th>Asistencias</th>\n",
       "      <th>Calificacion</th>\n",
       "    </tr>\n",
       "  </thead>\n",
       "  <tbody>\n",
       "    <tr>\n",
       "      <th>0</th>\n",
       "      <td>Barcelona</td>\n",
       "      <td>Espana</td>\n",
       "      <td>1</td>\n",
       "      <td>8</td>\n",
       "      <td>Barcelona</td>\n",
       "      <td>80</td>\n",
       "      <td>48</td>\n",
       "      <td>100</td>\n",
       "    </tr>\n",
       "    <tr>\n",
       "      <th>1</th>\n",
       "      <td>Juventus</td>\n",
       "      <td>Italia</td>\n",
       "      <td>1</td>\n",
       "      <td>16</td>\n",
       "      <td>Juventus</td>\n",
       "      <td>75</td>\n",
       "      <td>22</td>\n",
       "      <td>97</td>\n",
       "    </tr>\n",
       "    <tr>\n",
       "      <th>2</th>\n",
       "      <td>PSG</td>\n",
       "      <td>Francia</td>\n",
       "      <td>1</td>\n",
       "      <td>16</td>\n",
       "      <td>PSG</td>\n",
       "      <td>88</td>\n",
       "      <td>18</td>\n",
       "      <td>92</td>\n",
       "    </tr>\n",
       "    <tr>\n",
       "      <th>3</th>\n",
       "      <td>Inter</td>\n",
       "      <td>Italia</td>\n",
       "      <td>2</td>\n",
       "      <td>32</td>\n",
       "      <td>Inter</td>\n",
       "      <td>78</td>\n",
       "      <td>25</td>\n",
       "      <td>91</td>\n",
       "    </tr>\n",
       "  </tbody>\n",
       "</table>\n",
       "</div>"
      ],
      "text/plain": [
       "       index     Pais  Posicion  Champions     Equipo  Goles  Asistencias  \\\n",
       "0  Barcelona   Espana         1          8  Barcelona     80           48   \n",
       "1   Juventus   Italia         1         16   Juventus     75           22   \n",
       "2        PSG  Francia         1         16        PSG     88           18   \n",
       "3      Inter   Italia         2         32      Inter     78           25   \n",
       "\n",
       "   Calificacion  \n",
       "0           100  \n",
       "1            97  \n",
       "2            92  \n",
       "3            91  "
      ]
     },
     "execution_count": 711,
     "metadata": {},
     "output_type": "execute_result"
    }
   ],
   "source": [
    "df_equipos.reset_index().merge(df_jugadores,left_on='index',right_on='Equipo')"
   ]
  },
  {
   "cell_type": "markdown",
   "metadata": {},
   "source": [
    "Sin embargo, vemos que queda repetida la columna por la cual hacemos el merge. Para que eso no pase, tienen que tener el mismo nombre."
   ]
  },
  {
   "cell_type": "code",
   "execution_count": 723,
   "metadata": {},
   "outputs": [
    {
     "data": {
      "text/html": [
       "<div>\n",
       "<style scoped>\n",
       "    .dataframe tbody tr th:only-of-type {\n",
       "        vertical-align: middle;\n",
       "    }\n",
       "\n",
       "    .dataframe tbody tr th {\n",
       "        vertical-align: top;\n",
       "    }\n",
       "\n",
       "    .dataframe thead th {\n",
       "        text-align: right;\n",
       "    }\n",
       "</style>\n",
       "<table border=\"1\" class=\"dataframe\">\n",
       "  <thead>\n",
       "    <tr style=\"text-align: right;\">\n",
       "      <th></th>\n",
       "      <th>Equipo</th>\n",
       "      <th>Pais</th>\n",
       "      <th>Posicion</th>\n",
       "      <th>Champions</th>\n",
       "      <th>Goles</th>\n",
       "      <th>Asistencias</th>\n",
       "      <th>Calificacion</th>\n",
       "    </tr>\n",
       "  </thead>\n",
       "  <tbody>\n",
       "    <tr>\n",
       "      <th>0</th>\n",
       "      <td>Barcelona</td>\n",
       "      <td>Espana</td>\n",
       "      <td>1</td>\n",
       "      <td>8</td>\n",
       "      <td>80</td>\n",
       "      <td>48</td>\n",
       "      <td>100</td>\n",
       "    </tr>\n",
       "    <tr>\n",
       "      <th>1</th>\n",
       "      <td>Juventus</td>\n",
       "      <td>Italia</td>\n",
       "      <td>1</td>\n",
       "      <td>16</td>\n",
       "      <td>75</td>\n",
       "      <td>22</td>\n",
       "      <td>97</td>\n",
       "    </tr>\n",
       "    <tr>\n",
       "      <th>2</th>\n",
       "      <td>PSG</td>\n",
       "      <td>Francia</td>\n",
       "      <td>1</td>\n",
       "      <td>16</td>\n",
       "      <td>88</td>\n",
       "      <td>18</td>\n",
       "      <td>92</td>\n",
       "    </tr>\n",
       "    <tr>\n",
       "      <th>3</th>\n",
       "      <td>Inter</td>\n",
       "      <td>Italia</td>\n",
       "      <td>2</td>\n",
       "      <td>32</td>\n",
       "      <td>78</td>\n",
       "      <td>25</td>\n",
       "      <td>91</td>\n",
       "    </tr>\n",
       "  </tbody>\n",
       "</table>\n",
       "</div>"
      ],
      "text/plain": [
       "      Equipo     Pais  Posicion  Champions  Goles  Asistencias  Calificacion\n",
       "0  Barcelona   Espana         1          8     80           48           100\n",
       "1   Juventus   Italia         1         16     75           22            97\n",
       "2        PSG  Francia         1         16     88           18            92\n",
       "3      Inter   Italia         2         32     78           25            91"
      ]
     },
     "execution_count": 723,
     "metadata": {},
     "output_type": "execute_result"
    }
   ],
   "source": [
    "df_equipos.rename_axis(\"Equipo\").reset_index().merge(df_jugadores)"
   ]
  },
  {
   "cell_type": "markdown",
   "metadata": {},
   "source": [
    "La ventaja de este método con respecto al Join es que no necesitamos que las columnas sean índices pero sí tenemos que tener cuidado con el nombre de las mismas para que no se repita y para tratar con sufijos o prefijos la repetición de otras columnas."
   ]
  },
  {
   "cell_type": "markdown",
   "metadata": {},
   "source": [
    "Con el JOIN, juntamos ambos data frames en base a su índice. Para eso, vamos a renombrar los índices del data frame de jugadores así podemos ver más claramente cómo sería esa unión."
   ]
  },
  {
   "cell_type": "code",
   "execution_count": 724,
   "metadata": {},
   "outputs": [
    {
     "name": "stdout",
     "output_type": "stream",
     "text": [
      "                     Jugador  Goles  Asistencias  Calificacion\n",
      "Equipo                                                        \n",
      "Barcelona              Messi     80           48           100\n",
      "Juventus   Cristiano Ronaldo     75           22            97\n",
      "PSG                   Mbappe     88           18            92\n",
      "Inter       Lautaro Martinez     78           25            91\n",
      "\n",
      "               Pais  Posicion  Champions\n",
      "Barcelona   Espana         1          8\n",
      "Juventus    Italia         1         16\n",
      "PSG        Francia         1         16\n",
      "Inter       Italia         2         32\n"
     ]
    }
   ],
   "source": [
    "df_jugadores2 = df_jugadores.rename_axis(\"Jugador\").reset_index().set_index(\"Equipo\")\n",
    "print(df_jugadores2)\n",
    "print(\"\\n\",df_equipos)"
   ]
  },
  {
   "cell_type": "code",
   "execution_count": 725,
   "metadata": {},
   "outputs": [
    {
     "data": {
      "text/html": [
       "<div>\n",
       "<style scoped>\n",
       "    .dataframe tbody tr th:only-of-type {\n",
       "        vertical-align: middle;\n",
       "    }\n",
       "\n",
       "    .dataframe tbody tr th {\n",
       "        vertical-align: top;\n",
       "    }\n",
       "\n",
       "    .dataframe thead th {\n",
       "        text-align: right;\n",
       "    }\n",
       "</style>\n",
       "<table border=\"1\" class=\"dataframe\">\n",
       "  <thead>\n",
       "    <tr style=\"text-align: right;\">\n",
       "      <th></th>\n",
       "      <th>Jugador</th>\n",
       "      <th>Goles</th>\n",
       "      <th>Asistencias</th>\n",
       "      <th>Calificacion</th>\n",
       "      <th>Pais</th>\n",
       "      <th>Posicion</th>\n",
       "      <th>Champions</th>\n",
       "    </tr>\n",
       "    <tr>\n",
       "      <th>Equipo</th>\n",
       "      <th></th>\n",
       "      <th></th>\n",
       "      <th></th>\n",
       "      <th></th>\n",
       "      <th></th>\n",
       "      <th></th>\n",
       "      <th></th>\n",
       "    </tr>\n",
       "  </thead>\n",
       "  <tbody>\n",
       "    <tr>\n",
       "      <th>Barcelona</th>\n",
       "      <td>Messi</td>\n",
       "      <td>80</td>\n",
       "      <td>48</td>\n",
       "      <td>100</td>\n",
       "      <td>Espana</td>\n",
       "      <td>1</td>\n",
       "      <td>8</td>\n",
       "    </tr>\n",
       "    <tr>\n",
       "      <th>Juventus</th>\n",
       "      <td>Cristiano Ronaldo</td>\n",
       "      <td>75</td>\n",
       "      <td>22</td>\n",
       "      <td>97</td>\n",
       "      <td>Italia</td>\n",
       "      <td>1</td>\n",
       "      <td>16</td>\n",
       "    </tr>\n",
       "    <tr>\n",
       "      <th>PSG</th>\n",
       "      <td>Mbappe</td>\n",
       "      <td>88</td>\n",
       "      <td>18</td>\n",
       "      <td>92</td>\n",
       "      <td>Francia</td>\n",
       "      <td>1</td>\n",
       "      <td>16</td>\n",
       "    </tr>\n",
       "    <tr>\n",
       "      <th>Inter</th>\n",
       "      <td>Lautaro Martinez</td>\n",
       "      <td>78</td>\n",
       "      <td>25</td>\n",
       "      <td>91</td>\n",
       "      <td>Italia</td>\n",
       "      <td>2</td>\n",
       "      <td>32</td>\n",
       "    </tr>\n",
       "  </tbody>\n",
       "</table>\n",
       "</div>"
      ],
      "text/plain": [
       "                     Jugador  Goles  Asistencias  Calificacion     Pais  \\\n",
       "Equipo                                                                    \n",
       "Barcelona              Messi     80           48           100   Espana   \n",
       "Juventus   Cristiano Ronaldo     75           22            97   Italia   \n",
       "PSG                   Mbappe     88           18            92  Francia   \n",
       "Inter       Lautaro Martinez     78           25            91   Italia   \n",
       "\n",
       "           Posicion  Champions  \n",
       "Equipo                          \n",
       "Barcelona         1          8  \n",
       "Juventus          1         16  \n",
       "PSG               1         16  \n",
       "Inter             2         32  "
      ]
     },
     "execution_count": 725,
     "metadata": {},
     "output_type": "execute_result"
    }
   ],
   "source": [
    "# Join\n",
    "df_jugadores2.join(df_equipos) # Se hace un left join y las keys son los índices"
   ]
  },
  {
   "cell_type": "code",
   "execution_count": 703,
   "metadata": {},
   "outputs": [
    {
     "data": {
      "text/html": [
       "<div>\n",
       "<style scoped>\n",
       "    .dataframe tbody tr th:only-of-type {\n",
       "        vertical-align: middle;\n",
       "    }\n",
       "\n",
       "    .dataframe tbody tr th {\n",
       "        vertical-align: top;\n",
       "    }\n",
       "\n",
       "    .dataframe thead th {\n",
       "        text-align: right;\n",
       "    }\n",
       "</style>\n",
       "<table border=\"1\" class=\"dataframe\">\n",
       "  <thead>\n",
       "    <tr style=\"text-align: right;\">\n",
       "      <th></th>\n",
       "      <th>Pais</th>\n",
       "      <th>Posicion</th>\n",
       "      <th>Champions</th>\n",
       "      <th>Jugador</th>\n",
       "      <th>Goles</th>\n",
       "      <th>Asistencias</th>\n",
       "      <th>Calificacion</th>\n",
       "    </tr>\n",
       "  </thead>\n",
       "  <tbody>\n",
       "    <tr>\n",
       "      <th>Barcelona</th>\n",
       "      <td>Espana</td>\n",
       "      <td>1</td>\n",
       "      <td>8</td>\n",
       "      <td>Messi</td>\n",
       "      <td>80</td>\n",
       "      <td>48</td>\n",
       "      <td>100</td>\n",
       "    </tr>\n",
       "    <tr>\n",
       "      <th>Juventus</th>\n",
       "      <td>Italia</td>\n",
       "      <td>1</td>\n",
       "      <td>16</td>\n",
       "      <td>Cristiano Ronaldo</td>\n",
       "      <td>75</td>\n",
       "      <td>22</td>\n",
       "      <td>97</td>\n",
       "    </tr>\n",
       "    <tr>\n",
       "      <th>PSG</th>\n",
       "      <td>Francia</td>\n",
       "      <td>1</td>\n",
       "      <td>16</td>\n",
       "      <td>Mbappe</td>\n",
       "      <td>88</td>\n",
       "      <td>18</td>\n",
       "      <td>92</td>\n",
       "    </tr>\n",
       "    <tr>\n",
       "      <th>Inter</th>\n",
       "      <td>Italia</td>\n",
       "      <td>2</td>\n",
       "      <td>32</td>\n",
       "      <td>Lautaro Martinez</td>\n",
       "      <td>78</td>\n",
       "      <td>25</td>\n",
       "      <td>91</td>\n",
       "    </tr>\n",
       "  </tbody>\n",
       "</table>\n",
       "</div>"
      ],
      "text/plain": [
       "              Pais  Posicion  Champions            Jugador  Goles  \\\n",
       "Barcelona   Espana         1          8              Messi     80   \n",
       "Juventus    Italia         1         16  Cristiano Ronaldo     75   \n",
       "PSG        Francia         1         16             Mbappe     88   \n",
       "Inter       Italia         2         32   Lautaro Martinez     78   \n",
       "\n",
       "           Asistencias  Calificacion  \n",
       "Barcelona           48           100  \n",
       "Juventus            22            97  \n",
       "PSG                 18            92  \n",
       "Inter               25            91  "
      ]
     },
     "execution_count": 703,
     "metadata": {},
     "output_type": "execute_result"
    }
   ],
   "source": [
    "df_equipos.join(df_jugadores2) # Podemos hacerlo al revés. En este caso, no tenemos el nombre del índice \"Equipo\""
   ]
  },
  {
   "cell_type": "code",
   "execution_count": 776,
   "metadata": {},
   "outputs": [
    {
     "name": "stdout",
     "output_type": "stream",
     "text": [
      "                     Jugador  Goles  Asistencias  Calificacion     Pais  \\\n",
      "Equipo                                                                    \n",
      "Barcelona              Messi     80           48           100   Espana   \n",
      "Juventus   Cristiano Ronaldo     75           22            97   Italia   \n",
      "PSG                   Mbappe     88           18            92  Francia   \n",
      "Inter       Lautaro Martinez     78           25            91   Italia   \n",
      "\n",
      "           Posicion  Champions  \n",
      "Equipo                          \n",
      "Barcelona         1          8  \n",
      "Juventus          1         16  \n",
      "PSG               1         16  \n",
      "Inter             2         32  \n"
     ]
    }
   ],
   "source": [
    "df_join = df_jugadores.rename_axis(\"Jugador\").reset_index().set_index(\"Equipo\").join(df_equipos)\n",
    "print(df_join)"
   ]
  },
  {
   "cell_type": "markdown",
   "metadata": {},
   "source": [
    "#### GROUP BY"
   ]
  },
  {
   "cell_type": "markdown",
   "metadata": {},
   "source": [
    "Otra función muy importante cuando trabajemos con datos es la posibilidad de realizar agrupaciones y operaciones sobre los datos. Para eso, un método fundamental es Group By. Este nos permite agrupar un data frame por una columna determinada y operar operar sobre el resto de las columnas."
   ]
  },
  {
   "cell_type": "code",
   "execution_count": 777,
   "metadata": {},
   "outputs": [
    {
     "data": {
      "text/html": [
       "<div>\n",
       "<style scoped>\n",
       "    .dataframe tbody tr th:only-of-type {\n",
       "        vertical-align: middle;\n",
       "    }\n",
       "\n",
       "    .dataframe tbody tr th {\n",
       "        vertical-align: top;\n",
       "    }\n",
       "\n",
       "    .dataframe thead th {\n",
       "        text-align: right;\n",
       "    }\n",
       "</style>\n",
       "<table border=\"1\" class=\"dataframe\">\n",
       "  <thead>\n",
       "    <tr style=\"text-align: right;\">\n",
       "      <th></th>\n",
       "      <th>Jugador</th>\n",
       "      <th>Goles</th>\n",
       "      <th>Asistencias</th>\n",
       "      <th>Calificacion</th>\n",
       "      <th>Posicion</th>\n",
       "      <th>Champions</th>\n",
       "    </tr>\n",
       "    <tr>\n",
       "      <th>Pais</th>\n",
       "      <th></th>\n",
       "      <th></th>\n",
       "      <th></th>\n",
       "      <th></th>\n",
       "      <th></th>\n",
       "      <th></th>\n",
       "    </tr>\n",
       "  </thead>\n",
       "  <tbody>\n",
       "    <tr>\n",
       "      <th>Espana</th>\n",
       "      <td>1</td>\n",
       "      <td>1</td>\n",
       "      <td>1</td>\n",
       "      <td>1</td>\n",
       "      <td>1</td>\n",
       "      <td>1</td>\n",
       "    </tr>\n",
       "    <tr>\n",
       "      <th>Francia</th>\n",
       "      <td>1</td>\n",
       "      <td>1</td>\n",
       "      <td>1</td>\n",
       "      <td>1</td>\n",
       "      <td>1</td>\n",
       "      <td>1</td>\n",
       "    </tr>\n",
       "    <tr>\n",
       "      <th>Italia</th>\n",
       "      <td>2</td>\n",
       "      <td>2</td>\n",
       "      <td>2</td>\n",
       "      <td>2</td>\n",
       "      <td>2</td>\n",
       "      <td>2</td>\n",
       "    </tr>\n",
       "  </tbody>\n",
       "</table>\n",
       "</div>"
      ],
      "text/plain": [
       "         Jugador  Goles  Asistencias  Calificacion  Posicion  Champions\n",
       "Pais                                                                   \n",
       "Espana         1      1            1             1         1          1\n",
       "Francia        1      1            1             1         1          1\n",
       "Italia         2      2            2             2         2          2"
      ]
     },
     "execution_count": 777,
     "metadata": {},
     "output_type": "execute_result"
    }
   ],
   "source": [
    "# Group by\n",
    "df_join.groupby(\"Pais\").count()"
   ]
  },
  {
   "cell_type": "markdown",
   "metadata": {},
   "source": [
    "Como vemos, el groupby toma todas las columnas originales del data frame. Para lograr algo más parecido a lo que buscamos, podemos filtrar solo alguna columna."
   ]
  },
  {
   "cell_type": "code",
   "execution_count": 779,
   "metadata": {},
   "outputs": [
    {
     "data": {
      "text/html": [
       "<div>\n",
       "<style scoped>\n",
       "    .dataframe tbody tr th:only-of-type {\n",
       "        vertical-align: middle;\n",
       "    }\n",
       "\n",
       "    .dataframe tbody tr th {\n",
       "        vertical-align: top;\n",
       "    }\n",
       "\n",
       "    .dataframe thead th {\n",
       "        text-align: right;\n",
       "    }\n",
       "</style>\n",
       "<table border=\"1\" class=\"dataframe\">\n",
       "  <thead>\n",
       "    <tr style=\"text-align: right;\">\n",
       "      <th></th>\n",
       "      <th>Posicion</th>\n",
       "    </tr>\n",
       "    <tr>\n",
       "      <th>Pais</th>\n",
       "      <th></th>\n",
       "    </tr>\n",
       "  </thead>\n",
       "  <tbody>\n",
       "    <tr>\n",
       "      <th>Espana</th>\n",
       "      <td>1</td>\n",
       "    </tr>\n",
       "    <tr>\n",
       "      <th>Francia</th>\n",
       "      <td>1</td>\n",
       "    </tr>\n",
       "    <tr>\n",
       "      <th>Italia</th>\n",
       "      <td>2</td>\n",
       "    </tr>\n",
       "  </tbody>\n",
       "</table>\n",
       "</div>"
      ],
      "text/plain": [
       "         Posicion\n",
       "Pais             \n",
       "Espana          1\n",
       "Francia         1\n",
       "Italia          2"
      ]
     },
     "execution_count": 779,
     "metadata": {},
     "output_type": "execute_result"
    }
   ],
   "source": [
    "df_join[[\"Pais\",\"Posicion\"]].groupby(\"Pais\").count()"
   ]
  },
  {
   "cell_type": "markdown",
   "metadata": {},
   "source": [
    "Describe es un método que arroja descriptores estadísticos básicos"
   ]
  },
  {
   "cell_type": "code",
   "execution_count": 1337,
   "metadata": {},
   "outputs": [
    {
     "data": {
      "text/html": [
       "<div>\n",
       "<style scoped>\n",
       "    .dataframe tbody tr th:only-of-type {\n",
       "        vertical-align: middle;\n",
       "    }\n",
       "\n",
       "    .dataframe tbody tr th {\n",
       "        vertical-align: top;\n",
       "    }\n",
       "\n",
       "    .dataframe thead tr th {\n",
       "        text-align: left;\n",
       "    }\n",
       "\n",
       "    .dataframe thead tr:last-of-type th {\n",
       "        text-align: right;\n",
       "    }\n",
       "</style>\n",
       "<table border=\"1\" class=\"dataframe\">\n",
       "  <thead>\n",
       "    <tr>\n",
       "      <th></th>\n",
       "      <th colspan=\"8\" halign=\"left\">Posicion</th>\n",
       "    </tr>\n",
       "    <tr>\n",
       "      <th></th>\n",
       "      <th>count</th>\n",
       "      <th>mean</th>\n",
       "      <th>std</th>\n",
       "      <th>min</th>\n",
       "      <th>25%</th>\n",
       "      <th>50%</th>\n",
       "      <th>75%</th>\n",
       "      <th>max</th>\n",
       "    </tr>\n",
       "    <tr>\n",
       "      <th>Pais</th>\n",
       "      <th></th>\n",
       "      <th></th>\n",
       "      <th></th>\n",
       "      <th></th>\n",
       "      <th></th>\n",
       "      <th></th>\n",
       "      <th></th>\n",
       "      <th></th>\n",
       "    </tr>\n",
       "  </thead>\n",
       "  <tbody>\n",
       "    <tr>\n",
       "      <th>Espana</th>\n",
       "      <td>1.0</td>\n",
       "      <td>1.0</td>\n",
       "      <td>NaN</td>\n",
       "      <td>1.0</td>\n",
       "      <td>1.00</td>\n",
       "      <td>1.0</td>\n",
       "      <td>1.00</td>\n",
       "      <td>1.0</td>\n",
       "    </tr>\n",
       "    <tr>\n",
       "      <th>Francia</th>\n",
       "      <td>1.0</td>\n",
       "      <td>1.0</td>\n",
       "      <td>NaN</td>\n",
       "      <td>1.0</td>\n",
       "      <td>1.00</td>\n",
       "      <td>1.0</td>\n",
       "      <td>1.00</td>\n",
       "      <td>1.0</td>\n",
       "    </tr>\n",
       "    <tr>\n",
       "      <th>Italia</th>\n",
       "      <td>2.0</td>\n",
       "      <td>1.5</td>\n",
       "      <td>0.707107</td>\n",
       "      <td>1.0</td>\n",
       "      <td>1.25</td>\n",
       "      <td>1.5</td>\n",
       "      <td>1.75</td>\n",
       "      <td>2.0</td>\n",
       "    </tr>\n",
       "  </tbody>\n",
       "</table>\n",
       "</div>"
      ],
      "text/plain": [
       "        Posicion                                          \n",
       "           count mean       std  min   25%  50%   75%  max\n",
       "Pais                                                      \n",
       "Espana       1.0  1.0       NaN  1.0  1.00  1.0  1.00  1.0\n",
       "Francia      1.0  1.0       NaN  1.0  1.00  1.0  1.00  1.0\n",
       "Italia       2.0  1.5  0.707107  1.0  1.25  1.5  1.75  2.0"
      ]
     },
     "execution_count": 1337,
     "metadata": {},
     "output_type": "execute_result"
    }
   ],
   "source": [
    "df_join[['Pais','Posicion']].groupby(\"Pais\").describe()"
   ]
  },
  {
   "cell_type": "markdown",
   "metadata": {},
   "source": [
    "Pero es mucho mejor acostumbrarnos a usar la función agg porque nos servirá para realizar varios cálculos sobre el mismo data frame con mucha flexibilidad."
   ]
  },
  {
   "cell_type": "code",
   "execution_count": 778,
   "metadata": {},
   "outputs": [
    {
     "data": {
      "text/html": [
       "<div>\n",
       "<style scoped>\n",
       "    .dataframe tbody tr th:only-of-type {\n",
       "        vertical-align: middle;\n",
       "    }\n",
       "\n",
       "    .dataframe tbody tr th {\n",
       "        vertical-align: top;\n",
       "    }\n",
       "\n",
       "    .dataframe thead th {\n",
       "        text-align: right;\n",
       "    }\n",
       "</style>\n",
       "<table border=\"1\" class=\"dataframe\">\n",
       "  <thead>\n",
       "    <tr style=\"text-align: right;\">\n",
       "      <th></th>\n",
       "      <th>Cantidad</th>\n",
       "    </tr>\n",
       "    <tr>\n",
       "      <th>Pais</th>\n",
       "      <th></th>\n",
       "    </tr>\n",
       "  </thead>\n",
       "  <tbody>\n",
       "    <tr>\n",
       "      <th>Espana</th>\n",
       "      <td>1</td>\n",
       "    </tr>\n",
       "    <tr>\n",
       "      <th>Francia</th>\n",
       "      <td>1</td>\n",
       "    </tr>\n",
       "    <tr>\n",
       "      <th>Italia</th>\n",
       "      <td>2</td>\n",
       "    </tr>\n",
       "  </tbody>\n",
       "</table>\n",
       "</div>"
      ],
      "text/plain": [
       "         Cantidad\n",
       "Pais             \n",
       "Espana          1\n",
       "Francia         1\n",
       "Italia          2"
      ]
     },
     "execution_count": 778,
     "metadata": {},
     "output_type": "execute_result"
    }
   ],
   "source": [
    "df_join.groupby(\"Pais\").agg(Cantidad=(\"Pais\",\"count\"))"
   ]
  },
  {
   "cell_type": "markdown",
   "metadata": {},
   "source": [
    "A través de aggregate podemos definir varias funciones para operar sobre todas las filas de cada columna en base a la agrupación propuesta. El único requisito es conocer exactamente el nombre de las funciones a aplicar. Los más conocidos son: describe, count, sum, mean, median, min, max, mode, std, var, quantile, value_counts. Por defecto, se aplican a todas las columnas. Si queremos que apliquen para todas las columnas de cada fila, tenemos que definir el axis = 0.\n",
    "\n",
    "A su vez, estas funciones también  pueden ser funciones definidas por nosotros. También veremos cómo generar en un paso, por ejemplo, proporciones sobre el total."
   ]
  },
  {
   "cell_type": "code",
   "execution_count": 860,
   "metadata": {},
   "outputs": [],
   "source": [
    "def lautaro(x):\n",
    "    for i in x:\n",
    "        if i in \"Lautaro Martinez\":\n",
    "            return True\n",
    "    return False"
   ]
  },
  {
   "cell_type": "code",
   "execution_count": 1163,
   "metadata": {},
   "outputs": [
    {
     "data": {
      "text/html": [
       "<div>\n",
       "<style scoped>\n",
       "    .dataframe tbody tr th:only-of-type {\n",
       "        vertical-align: middle;\n",
       "    }\n",
       "\n",
       "    .dataframe tbody tr th {\n",
       "        vertical-align: top;\n",
       "    }\n",
       "\n",
       "    .dataframe thead th {\n",
       "        text-align: right;\n",
       "    }\n",
       "</style>\n",
       "<table border=\"1\" class=\"dataframe\">\n",
       "  <thead>\n",
       "    <tr style=\"text-align: right;\">\n",
       "      <th></th>\n",
       "      <th>Cantidad</th>\n",
       "      <th>Mejor_Champions</th>\n",
       "      <th>Cantidad_Goles</th>\n",
       "      <th>Proporcion_Goles</th>\n",
       "      <th>Cantidad_Asistencias</th>\n",
       "      <th>Promedio_Calificacion</th>\n",
       "      <th>Esta_Lautaro</th>\n",
       "    </tr>\n",
       "    <tr>\n",
       "      <th>Pais</th>\n",
       "      <th></th>\n",
       "      <th></th>\n",
       "      <th></th>\n",
       "      <th></th>\n",
       "      <th></th>\n",
       "      <th></th>\n",
       "      <th></th>\n",
       "    </tr>\n",
       "  </thead>\n",
       "  <tbody>\n",
       "    <tr>\n",
       "      <th>Espana</th>\n",
       "      <td>1</td>\n",
       "      <td>8</td>\n",
       "      <td>80</td>\n",
       "      <td>0.249221</td>\n",
       "      <td>48</td>\n",
       "      <td>100</td>\n",
       "      <td>False</td>\n",
       "    </tr>\n",
       "    <tr>\n",
       "      <th>Francia</th>\n",
       "      <td>1</td>\n",
       "      <td>16</td>\n",
       "      <td>88</td>\n",
       "      <td>0.274143</td>\n",
       "      <td>18</td>\n",
       "      <td>92</td>\n",
       "      <td>False</td>\n",
       "    </tr>\n",
       "    <tr>\n",
       "      <th>Italia</th>\n",
       "      <td>2</td>\n",
       "      <td>16</td>\n",
       "      <td>153</td>\n",
       "      <td>0.476636</td>\n",
       "      <td>47</td>\n",
       "      <td>94</td>\n",
       "      <td>True</td>\n",
       "    </tr>\n",
       "  </tbody>\n",
       "</table>\n",
       "</div>"
      ],
      "text/plain": [
       "         Cantidad  Mejor_Champions  Cantidad_Goles  Proporcion_Goles  \\\n",
       "Pais                                                                   \n",
       "Espana          1                8              80          0.249221   \n",
       "Francia         1               16              88          0.274143   \n",
       "Italia          2               16             153          0.476636   \n",
       "\n",
       "         Cantidad_Asistencias  Promedio_Calificacion  Esta_Lautaro  \n",
       "Pais                                                                \n",
       "Espana                     48                    100         False  \n",
       "Francia                    18                     92         False  \n",
       "Italia                     47                     94          True  "
      ]
     },
     "execution_count": 1163,
     "metadata": {},
     "output_type": "execute_result"
    }
   ],
   "source": [
    "# AGG\n",
    "df_join.groupby(\"Pais\").agg(\n",
    "    Cantidad = ('Pais','count'),\n",
    "    Mejor_Champions = ('Champions',min),\n",
    "    Cantidad_Goles = ('Goles',sum),\n",
    "    Proporcion_Goles = ('Goles',lambda x: x.sum() / df_join[['Goles']].sum()),\n",
    "    Cantidad_Asistencias = ('Asistencias','sum'),\n",
    "    Promedio_Calificacion = ('Calificacion','mean'),\n",
    "    Esta_Lautaro = ('Jugador',lautaro)\n",
    "    )"
   ]
  },
  {
   "cell_type": "markdown",
   "metadata": {},
   "source": [
    "#### PIVOT TABLES"
   ]
  },
  {
   "cell_type": "markdown",
   "metadata": {},
   "source": [
    "La ventaja de crear tablas pivot en Pandas es que el comando resulta bastante explícito y sencillo de generar. Esto nos va a permitir visualizar fácilmente medidas agregadas en data frames grandes. El parámetro aggfunc funciona de manera similar a lo que vimos antes para el aggregate, podemos pasar funciones ya seteadas en Pandas o bien crear una función customizada y también podemos incluir varias funciones en forma de diccinario."
   ]
  },
  {
   "cell_type": "code",
   "execution_count": 1179,
   "metadata": {},
   "outputs": [
    {
     "data": {
      "text/html": [
       "<div>\n",
       "<style scoped>\n",
       "    .dataframe tbody tr th:only-of-type {\n",
       "        vertical-align: middle;\n",
       "    }\n",
       "\n",
       "    .dataframe tbody tr th {\n",
       "        vertical-align: top;\n",
       "    }\n",
       "\n",
       "    .dataframe thead th {\n",
       "        text-align: right;\n",
       "    }\n",
       "</style>\n",
       "<table border=\"1\" class=\"dataframe\">\n",
       "  <thead>\n",
       "    <tr style=\"text-align: right;\">\n",
       "      <th>Jugador</th>\n",
       "      <th>Cristiano Ronaldo</th>\n",
       "      <th>Lautaro Martinez</th>\n",
       "      <th>Mbappe</th>\n",
       "      <th>Messi</th>\n",
       "    </tr>\n",
       "  </thead>\n",
       "  <tbody>\n",
       "    <tr>\n",
       "      <th>Goles</th>\n",
       "      <td>75</td>\n",
       "      <td>78</td>\n",
       "      <td>88</td>\n",
       "      <td>80</td>\n",
       "    </tr>\n",
       "  </tbody>\n",
       "</table>\n",
       "</div>"
      ],
      "text/plain": [
       "Jugador  Cristiano Ronaldo  Lautaro Martinez  Mbappe  Messi\n",
       "Goles                   75                78      88     80"
      ]
     },
     "execution_count": 1179,
     "metadata": {},
     "output_type": "execute_result"
    }
   ],
   "source": [
    "df_join.pivot_table('Goles',columns = 'Jugador', aggfunc = sum)"
   ]
  },
  {
   "cell_type": "code",
   "execution_count": 1186,
   "metadata": {},
   "outputs": [
    {
     "data": {
      "text/html": [
       "<div>\n",
       "<style scoped>\n",
       "    .dataframe tbody tr th:only-of-type {\n",
       "        vertical-align: middle;\n",
       "    }\n",
       "\n",
       "    .dataframe tbody tr th {\n",
       "        vertical-align: top;\n",
       "    }\n",
       "\n",
       "    .dataframe thead th {\n",
       "        text-align: right;\n",
       "    }\n",
       "</style>\n",
       "<table border=\"1\" class=\"dataframe\">\n",
       "  <thead>\n",
       "    <tr style=\"text-align: right;\">\n",
       "      <th>Jugador</th>\n",
       "      <th>Cristiano Ronaldo</th>\n",
       "      <th>Lautaro Martinez</th>\n",
       "      <th>Mbappe</th>\n",
       "      <th>Messi</th>\n",
       "    </tr>\n",
       "  </thead>\n",
       "  <tbody>\n",
       "    <tr>\n",
       "      <th>&lt;lambda_0&gt;</th>\n",
       "      <td>0.23</td>\n",
       "      <td>0.24</td>\n",
       "      <td>0.27</td>\n",
       "      <td>0.25</td>\n",
       "    </tr>\n",
       "    <tr>\n",
       "      <th>sum</th>\n",
       "      <td>75.00</td>\n",
       "      <td>78.00</td>\n",
       "      <td>88.00</td>\n",
       "      <td>80.00</td>\n",
       "    </tr>\n",
       "  </tbody>\n",
       "</table>\n",
       "</div>"
      ],
      "text/plain": [
       "Jugador     Cristiano Ronaldo  Lautaro Martinez  Mbappe  Messi\n",
       "<lambda_0>               0.23              0.24    0.27   0.25\n",
       "sum                     75.00             78.00   88.00  80.00"
      ]
     },
     "execution_count": 1186,
     "metadata": {},
     "output_type": "execute_result"
    }
   ],
   "source": [
    "df_join.pivot_table('Goles', columns='Jugador', aggfunc = {sum, lambda x: round(x.sum() / df_join[['Goles']].sum(),2)})"
   ]
  },
  {
   "cell_type": "markdown",
   "metadata": {},
   "source": [
    "A su vez, también podemos usar el comando unstack para pasar del formato de tabla pivoteada a una tabla multiíndice y viceversa."
   ]
  },
  {
   "cell_type": "code",
   "execution_count": 1174,
   "metadata": {},
   "outputs": [
    {
     "data": {
      "text/plain": [
       "Jugador                 \n",
       "Cristiano Ronaldo  Goles    75\n",
       "Lautaro Martinez   Goles    78\n",
       "Mbappe             Goles    88\n",
       "Messi              Goles    80\n",
       "dtype: int64"
      ]
     },
     "execution_count": 1174,
     "metadata": {},
     "output_type": "execute_result"
    }
   ],
   "source": [
    "df_join.pivot_table('Goles', columns = 'Jugador', aggfunc = sum).unstack()"
   ]
  },
  {
   "cell_type": "markdown",
   "metadata": {},
   "source": [
    "#### DATES"
   ]
  },
  {
   "cell_type": "markdown",
   "metadata": {},
   "source": [
    "Para manipular fechas hay muchas funciones útiles en Pandas. Aquí solo dejaremos date_range en una versión básica, pero sabiendo que es un método que tiene varios parámetros útiles."
   ]
  },
  {
   "cell_type": "code",
   "execution_count": 1324,
   "metadata": {},
   "outputs": [
    {
     "data": {
      "text/plain": [
       "DatetimeIndex(['2020-01-01', '2020-01-02', '2020-01-03', '2020-01-04',\n",
       "               '2020-01-05', '2020-01-06', '2020-01-07', '2020-01-08',\n",
       "               '2020-01-09', '2020-01-10', '2020-01-11', '2020-01-12',\n",
       "               '2020-01-13', '2020-01-14', '2020-01-15', '2020-01-16',\n",
       "               '2020-01-17', '2020-01-18', '2020-01-19', '2020-01-20',\n",
       "               '2020-01-21', '2020-01-22', '2020-01-23', '2020-01-24',\n",
       "               '2020-01-25', '2020-01-26', '2020-01-27', '2020-01-28',\n",
       "               '2020-01-29', '2020-01-30', '2020-01-31'],\n",
       "              dtype='datetime64[ns]', freq='D')"
      ]
     },
     "execution_count": 1324,
     "metadata": {},
     "output_type": "execute_result"
    }
   ],
   "source": [
    "# Start y end\n",
    "pd.date_range(\"2020-01-01\",\"2020-01-31\")"
   ]
  },
  {
   "cell_type": "code",
   "execution_count": 1325,
   "metadata": {},
   "outputs": [
    {
     "data": {
      "text/plain": [
       "DatetimeIndex(['2020-01-11', '2020-01-12', '2020-01-13', '2020-01-14',\n",
       "               '2020-01-15'],\n",
       "              dtype='datetime64[ns]', freq='D')"
      ]
     },
     "execution_count": 1325,
     "metadata": {},
     "output_type": "execute_result"
    }
   ],
   "source": [
    "# Slicing\n",
    "pd.date_range(\"2020-01-01\",\"2020-01-31\")[10:15]"
   ]
  },
  {
   "cell_type": "code",
   "execution_count": 1326,
   "metadata": {},
   "outputs": [
    {
     "data": {
      "text/plain": [
       "DatetimeIndex(['2020-01-01 00:00:00', '2020-01-01 01:00:00',\n",
       "               '2020-01-01 02:00:00', '2020-01-01 03:00:00',\n",
       "               '2020-01-01 04:00:00', '2020-01-01 05:00:00',\n",
       "               '2020-01-01 06:00:00', '2020-01-01 07:00:00',\n",
       "               '2020-01-01 08:00:00', '2020-01-01 09:00:00',\n",
       "               '2020-01-01 10:00:00', '2020-01-01 11:00:00',\n",
       "               '2020-01-01 12:00:00', '2020-01-01 13:00:00',\n",
       "               '2020-01-01 14:00:00', '2020-01-01 15:00:00',\n",
       "               '2020-01-01 16:00:00', '2020-01-01 17:00:00',\n",
       "               '2020-01-01 18:00:00', '2020-01-01 19:00:00',\n",
       "               '2020-01-01 20:00:00', '2020-01-01 21:00:00',\n",
       "               '2020-01-01 22:00:00', '2020-01-01 23:00:00',\n",
       "               '2020-01-02 00:00:00'],\n",
       "              dtype='datetime64[ns]', freq='H')"
      ]
     },
     "execution_count": 1326,
     "metadata": {},
     "output_type": "execute_result"
    }
   ],
   "source": [
    "# Frequency\n",
    "pd.date_range(\"2020-01-01\",\"2020-01-02\",freq=\"H\")"
   ]
  },
  {
   "cell_type": "code",
   "execution_count": 1327,
   "metadata": {},
   "outputs": [
    {
     "data": {
      "text/plain": [
       "DatetimeIndex(['2020-01-01 23:00:00'], dtype='datetime64[ns]', freq='H')"
      ]
     },
     "execution_count": 1327,
     "metadata": {},
     "output_type": "execute_result"
    }
   ],
   "source": [
    "# Slicing negativo\n",
    "pd.date_range(\"2020-01-01\",\"2020-01-02\",freq=\"H\")[-2:-1]"
   ]
  },
  {
   "cell_type": "code",
   "execution_count": 1328,
   "metadata": {},
   "outputs": [
    {
     "data": {
      "text/plain": [
       "DatetimeIndex(['2020-01-01 00:00:00', '2020-01-01 01:00:00',\n",
       "               '2020-01-01 02:00:00'],\n",
       "              dtype='datetime64[ns]', freq='H')"
      ]
     },
     "execution_count": 1328,
     "metadata": {},
     "output_type": "execute_result"
    }
   ],
   "source": [
    "# Periods\n",
    "pd.date_range(\"2020-01-01\",periods=3,freq=\"H\")"
   ]
  },
  {
   "cell_type": "markdown",
   "metadata": {},
   "source": [
    "#### STRINGS"
   ]
  },
  {
   "cell_type": "markdown",
   "metadata": {},
   "source": [
    "En Pandas con el método str incorporamos muchas funciones que son preconstruidas en Python o bien que matchean con las de la librería re (regular expression). Vamos a ver algunas de ellas aunque hay mucha documentación para buscar la operación deseada."
   ]
  },
  {
   "cell_type": "markdown",
   "metadata": {},
   "source": [
    "Creamos un texto a partir de oraciones en una lista. Vamos a ver la diferencia con generar una Serie de Pandas a partir de esa lista."
   ]
  },
  {
   "cell_type": "code",
   "execution_count": 1288,
   "metadata": {},
   "outputs": [
    {
     "name": "stdout",
     "output_type": "stream",
     "text": [
      "['Esto es lo que pasa', 'Cuando separas un texto', 'En oraciones']\n",
      "\n",
      " 0        Esto es lo que pasa\n",
      "1    Cuando separas un texto\n",
      "2               En oraciones\n",
      "dtype: object\n"
     ]
    }
   ],
   "source": [
    "text = ['Esto es lo que pasa','Cuando separas un texto','En oraciones']\n",
    "serie_text = pd.Series(text)\n",
    "print(text)\n",
    "print(\"\\n\",serie_text)"
   ]
  },
  {
   "cell_type": "markdown",
   "metadata": {},
   "source": [
    "Si queremos pasar todo el texto a minúsculas, vamos a tener un problema al trabajar con una lista"
   ]
  },
  {
   "cell_type": "code",
   "execution_count": 1220,
   "metadata": {},
   "outputs": [
    {
     "ename": "AttributeError",
     "evalue": "'list' object has no attribute 'lower'",
     "output_type": "error",
     "traceback": [
      "\u001b[0;31m---------------------------------------------------------------------------\u001b[0m",
      "\u001b[0;31mAttributeError\u001b[0m                            Traceback (most recent call last)",
      "\u001b[0;32m<ipython-input-1220-10ebb3994871>\u001b[0m in \u001b[0;36m<module>\u001b[0;34m\u001b[0m\n\u001b[0;32m----> 1\u001b[0;31m \u001b[0mtext\u001b[0m\u001b[0;34m.\u001b[0m\u001b[0mlower\u001b[0m\u001b[0;34m(\u001b[0m\u001b[0;34m)\u001b[0m\u001b[0;34m\u001b[0m\u001b[0;34m\u001b[0m\u001b[0m\n\u001b[0m",
      "\u001b[0;31mAttributeError\u001b[0m: 'list' object has no attribute 'lower'"
     ]
    }
   ],
   "source": [
    "text.lower()"
   ]
  },
  {
   "cell_type": "markdown",
   "metadata": {},
   "source": [
    "Por lo cual, vamos a tener que iterar sobre los elementos. Esta solución es poco eficiente y escalable."
   ]
  },
  {
   "cell_type": "code",
   "execution_count": 1221,
   "metadata": {},
   "outputs": [
    {
     "name": "stdout",
     "output_type": "stream",
     "text": [
      "esto es lo que pasa\n",
      "cuando separas un texto\n",
      "en oraciones\n"
     ]
    }
   ],
   "source": [
    "for sentence in text:\n",
    "    print(sentence.lower())"
   ]
  },
  {
   "cell_type": "markdown",
   "metadata": {},
   "source": [
    "En cambio, al convertir la lista en una Serie, podemos ganar el beneficio de los métodos definidos bajo str."
   ]
  },
  {
   "cell_type": "code",
   "execution_count": 1237,
   "metadata": {},
   "outputs": [
    {
     "data": {
      "text/plain": [
       "0          esto es lo que pasa\n",
       "1    \\ncuando separas un texto\n",
       "2                 en oraciones\n",
       "dtype: object"
      ]
     },
     "execution_count": 1237,
     "metadata": {},
     "output_type": "execute_result"
    }
   ],
   "source": [
    "# Lower\n",
    "serie_text.str.lower()"
   ]
  },
  {
   "cell_type": "code",
   "execution_count": 1238,
   "metadata": {},
   "outputs": [
    {
     "data": {
      "text/plain": [
       "0          ESTO ES LO QUE PASA\n",
       "1    \\nCUANDO SEPARAS UN TEXTO\n",
       "2                 EN ORACIONES\n",
       "dtype: object"
      ]
     },
     "execution_count": 1238,
     "metadata": {},
     "output_type": "execute_result"
    }
   ],
   "source": [
    "# Upper\n",
    "serie_text.str.upper()"
   ]
  },
  {
   "cell_type": "markdown",
   "metadata": {},
   "source": [
    "Strip sirve para eliminar caracteres especiales"
   ]
  },
  {
   "cell_type": "code",
   "execution_count": 1234,
   "metadata": {},
   "outputs": [
    {
     "data": {
      "text/plain": [
       "0          Esto es lo que pasa\n",
       "1    \\nCuando separas un texto\n",
       "2                 En oraciones\n",
       "dtype: object"
      ]
     },
     "execution_count": 1234,
     "metadata": {},
     "output_type": "execute_result"
    }
   ],
   "source": [
    "serie_text[1] = \"\\nCuando separas un texto\"\n",
    "serie_text"
   ]
  },
  {
   "cell_type": "code",
   "execution_count": 1239,
   "metadata": {},
   "outputs": [
    {
     "data": {
      "text/plain": [
       "0        Esto es lo que pasa\n",
       "1    Cuando separas un texto\n",
       "2               En oraciones\n",
       "dtype: object"
      ]
     },
     "execution_count": 1239,
     "metadata": {},
     "output_type": "execute_result"
    }
   ],
   "source": [
    "# Strip\n",
    "serie_text.str.strip()"
   ]
  },
  {
   "cell_type": "code",
   "execution_count": 1240,
   "metadata": {},
   "outputs": [
    {
     "data": {
      "text/plain": [
       "0       [Esto, es, lo, que, pasa]\n",
       "1    [Cuando, separas, un, texto]\n",
       "2                 [En, oraciones]\n",
       "dtype: object"
      ]
     },
     "execution_count": 1240,
     "metadata": {},
     "output_type": "execute_result"
    }
   ],
   "source": [
    "# Split\n",
    "serie_text.str.split()"
   ]
  },
  {
   "cell_type": "code",
   "execution_count": 1253,
   "metadata": {},
   "outputs": [
    {
     "data": {
      "text/plain": [
       "0             Esto es lo que pasa\n",
       "1    \\nCuando separas un articulo\n",
       "2                    En oraciones\n",
       "dtype: object"
      ]
     },
     "execution_count": 1253,
     "metadata": {},
     "output_type": "execute_result"
    }
   ],
   "source": [
    "# Replace\n",
    "serie_text.str.replace(\"texto\", \"articulo\")"
   ]
  },
  {
   "cell_type": "code",
   "execution_count": 1300,
   "metadata": {},
   "outputs": [
    {
     "data": {
      "text/html": [
       "<div>\n",
       "<style scoped>\n",
       "    .dataframe tbody tr th:only-of-type {\n",
       "        vertical-align: middle;\n",
       "    }\n",
       "\n",
       "    .dataframe tbody tr th {\n",
       "        vertical-align: top;\n",
       "    }\n",
       "\n",
       "    .dataframe thead th {\n",
       "        text-align: right;\n",
       "    }\n",
       "</style>\n",
       "<table border=\"1\" class=\"dataframe\">\n",
       "  <thead>\n",
       "    <tr style=\"text-align: right;\">\n",
       "      <th></th>\n",
       "      <th>0</th>\n",
       "    </tr>\n",
       "  </thead>\n",
       "  <tbody>\n",
       "    <tr>\n",
       "      <th>0</th>\n",
       "      <td>Esto</td>\n",
       "    </tr>\n",
       "    <tr>\n",
       "      <th>1</th>\n",
       "      <td>NaN</td>\n",
       "    </tr>\n",
       "    <tr>\n",
       "      <th>2</th>\n",
       "      <td>En</td>\n",
       "    </tr>\n",
       "  </tbody>\n",
       "</table>\n",
       "</div>"
      ],
      "text/plain": [
       "      0\n",
       "0  Esto\n",
       "1   NaN\n",
       "2    En"
      ]
     },
     "execution_count": 1300,
     "metadata": {},
     "output_type": "execute_result"
    }
   ],
   "source": [
    "# Extract\n",
    "serie_text[1] = \"cuando separas un articulo\"\n",
    "serie_text.str.extract(\"([A-Z]+[a-z]+)\") # Para extraer la primera palabra de cada oracion"
   ]
  },
  {
   "cell_type": "code",
   "execution_count": 1302,
   "metadata": {},
   "outputs": [
    {
     "data": {
      "text/html": [
       "<div>\n",
       "<style scoped>\n",
       "    .dataframe tbody tr th:only-of-type {\n",
       "        vertical-align: middle;\n",
       "    }\n",
       "\n",
       "    .dataframe tbody tr th {\n",
       "        vertical-align: top;\n",
       "    }\n",
       "\n",
       "    .dataframe thead th {\n",
       "        text-align: right;\n",
       "    }\n",
       "</style>\n",
       "<table border=\"1\" class=\"dataframe\">\n",
       "  <thead>\n",
       "    <tr style=\"text-align: right;\">\n",
       "      <th></th>\n",
       "      <th>0</th>\n",
       "    </tr>\n",
       "  </thead>\n",
       "  <tbody>\n",
       "    <tr>\n",
       "      <th>0</th>\n",
       "      <td>Esto</td>\n",
       "    </tr>\n",
       "    <tr>\n",
       "      <th>1</th>\n",
       "      <td>Cuando</td>\n",
       "    </tr>\n",
       "    <tr>\n",
       "      <th>2</th>\n",
       "      <td>En</td>\n",
       "    </tr>\n",
       "  </tbody>\n",
       "</table>\n",
       "</div>"
      ],
      "text/plain": [
       "        0\n",
       "0    Esto\n",
       "1  Cuando\n",
       "2      En"
      ]
     },
     "execution_count": 1302,
     "metadata": {},
     "output_type": "execute_result"
    }
   ],
   "source": [
    "serie_text.str.strip().str.capitalize().str.extract(\"([A-Z]+[a-z]+)\") # Capitalizamos y luego extraemos"
   ]
  },
  {
   "cell_type": "code",
   "execution_count": 1309,
   "metadata": {},
   "outputs": [
    {
     "data": {
      "text/plain": [
       "0    [Es, es]\n",
       "1          []\n",
       "2        [es]\n",
       "dtype: object"
      ]
     },
     "execution_count": 1309,
     "metadata": {},
     "output_type": "execute_result"
    }
   ],
   "source": [
    "# Findall\n",
    "serie_text.str.findall(\"[Ee]s\") # Encuentra todas las coincidencias dentro de cada elemento"
   ]
  },
  {
   "cell_type": "markdown",
   "metadata": {},
   "source": [
    "### CARGA DE DATASETS"
   ]
  },
  {
   "cell_type": "markdown",
   "metadata": {},
   "source": [
    "#### PANDAS"
   ]
  },
  {
   "cell_type": "markdown",
   "metadata": {},
   "source": [
    "En Pandas tenemos 2 métodos principales para la carga y grabado de datasets."
   ]
  },
  {
   "cell_type": "code",
   "execution_count": 1376,
   "metadata": {},
   "outputs": [],
   "source": [
    "# Data Frame\n",
    "test = df_join.groupby(\"Pais\").agg(\n",
    "    Cantidad = ('Pais','count'),\n",
    "    Mejor_Champions = ('Champions',min),\n",
    "    Cantidad_Goles = ('Goles',sum),\n",
    "    Proporcion_Goles = ('Goles',lambda x: x.sum() / df_join[['Goles']].sum()),\n",
    "    Cantidad_Asistencias = ('Asistencias','sum'),\n",
    "    Promedio_Calificacion = ('Calificacion','mean'),\n",
    "    Esta_Lautaro = ('Jugador',lautaro)\n",
    "    )"
   ]
  },
  {
   "cell_type": "code",
   "execution_count": 1383,
   "metadata": {},
   "outputs": [],
   "source": [
    "# To_csv\n",
    "test.to_csv(\"test.csv\", mode = \"w\")"
   ]
  },
  {
   "cell_type": "code",
   "execution_count": 1384,
   "metadata": {},
   "outputs": [
    {
     "data": {
      "text/html": [
       "<div>\n",
       "<style scoped>\n",
       "    .dataframe tbody tr th:only-of-type {\n",
       "        vertical-align: middle;\n",
       "    }\n",
       "\n",
       "    .dataframe tbody tr th {\n",
       "        vertical-align: top;\n",
       "    }\n",
       "\n",
       "    .dataframe thead th {\n",
       "        text-align: right;\n",
       "    }\n",
       "</style>\n",
       "<table border=\"1\" class=\"dataframe\">\n",
       "  <thead>\n",
       "    <tr style=\"text-align: right;\">\n",
       "      <th></th>\n",
       "      <th>Pais</th>\n",
       "      <th>Cantidad</th>\n",
       "      <th>Mejor_Champions</th>\n",
       "      <th>Cantidad_Goles</th>\n",
       "      <th>Proporcion_Goles</th>\n",
       "      <th>Cantidad_Asistencias</th>\n",
       "      <th>Promedio_Calificacion</th>\n",
       "      <th>Esta_Lautaro</th>\n",
       "    </tr>\n",
       "  </thead>\n",
       "  <tbody>\n",
       "    <tr>\n",
       "      <th>0</th>\n",
       "      <td>Espana</td>\n",
       "      <td>1</td>\n",
       "      <td>8</td>\n",
       "      <td>80</td>\n",
       "      <td>0.249221</td>\n",
       "      <td>48</td>\n",
       "      <td>100</td>\n",
       "      <td>False</td>\n",
       "    </tr>\n",
       "    <tr>\n",
       "      <th>1</th>\n",
       "      <td>Francia</td>\n",
       "      <td>1</td>\n",
       "      <td>16</td>\n",
       "      <td>88</td>\n",
       "      <td>0.274143</td>\n",
       "      <td>18</td>\n",
       "      <td>92</td>\n",
       "      <td>False</td>\n",
       "    </tr>\n",
       "    <tr>\n",
       "      <th>2</th>\n",
       "      <td>Italia</td>\n",
       "      <td>2</td>\n",
       "      <td>16</td>\n",
       "      <td>153</td>\n",
       "      <td>0.476636</td>\n",
       "      <td>47</td>\n",
       "      <td>94</td>\n",
       "      <td>True</td>\n",
       "    </tr>\n",
       "  </tbody>\n",
       "</table>\n",
       "</div>"
      ],
      "text/plain": [
       "      Pais  Cantidad  Mejor_Champions  Cantidad_Goles  Proporcion_Goles  \\\n",
       "0   Espana         1                8              80          0.249221   \n",
       "1  Francia         1               16              88          0.274143   \n",
       "2   Italia         2               16             153          0.476636   \n",
       "\n",
       "   Cantidad_Asistencias  Promedio_Calificacion  Esta_Lautaro  \n",
       "0                    48                    100         False  \n",
       "1                    18                     92         False  \n",
       "2                    47                     94          True  "
      ]
     },
     "execution_count": 1384,
     "metadata": {},
     "output_type": "execute_result"
    }
   ],
   "source": [
    "# Read_csv\n",
    "pd.read_csv('test.csv')"
   ]
  },
  {
   "cell_type": "code",
   "execution_count": 1385,
   "metadata": {},
   "outputs": [
    {
     "data": {
      "text/html": [
       "<div>\n",
       "<style scoped>\n",
       "    .dataframe tbody tr th:only-of-type {\n",
       "        vertical-align: middle;\n",
       "    }\n",
       "\n",
       "    .dataframe tbody tr th {\n",
       "        vertical-align: top;\n",
       "    }\n",
       "\n",
       "    .dataframe thead th {\n",
       "        text-align: right;\n",
       "    }\n",
       "</style>\n",
       "<table border=\"1\" class=\"dataframe\">\n",
       "  <thead>\n",
       "    <tr style=\"text-align: right;\">\n",
       "      <th></th>\n",
       "      <th>Pais</th>\n",
       "      <th>Cantidad</th>\n",
       "      <th>Mejor_Champions</th>\n",
       "      <th>Cantidad_Goles</th>\n",
       "      <th>Proporcion_Goles</th>\n",
       "      <th>Cantidad_Asistencias</th>\n",
       "      <th>Promedio_Calificacion</th>\n",
       "      <th>Esta_Lautaro</th>\n",
       "    </tr>\n",
       "  </thead>\n",
       "  <tbody>\n",
       "    <tr>\n",
       "      <th>0</th>\n",
       "      <td>Espana</td>\n",
       "      <td>1</td>\n",
       "      <td>8</td>\n",
       "      <td>80</td>\n",
       "      <td>0.249221</td>\n",
       "      <td>48</td>\n",
       "      <td>100</td>\n",
       "      <td>False</td>\n",
       "    </tr>\n",
       "    <tr>\n",
       "      <th>1</th>\n",
       "      <td>Francia</td>\n",
       "      <td>1</td>\n",
       "      <td>16</td>\n",
       "      <td>88</td>\n",
       "      <td>0.274143</td>\n",
       "      <td>18</td>\n",
       "      <td>92</td>\n",
       "      <td>False</td>\n",
       "    </tr>\n",
       "    <tr>\n",
       "      <th>2</th>\n",
       "      <td>Italia</td>\n",
       "      <td>2</td>\n",
       "      <td>16</td>\n",
       "      <td>153</td>\n",
       "      <td>0.476636</td>\n",
       "      <td>47</td>\n",
       "      <td>94</td>\n",
       "      <td>True</td>\n",
       "    </tr>\n",
       "    <tr>\n",
       "      <th>3</th>\n",
       "      <td>Espana</td>\n",
       "      <td>1</td>\n",
       "      <td>8</td>\n",
       "      <td>80</td>\n",
       "      <td>0.249221</td>\n",
       "      <td>48</td>\n",
       "      <td>100</td>\n",
       "      <td>False</td>\n",
       "    </tr>\n",
       "    <tr>\n",
       "      <th>4</th>\n",
       "      <td>Francia</td>\n",
       "      <td>1</td>\n",
       "      <td>16</td>\n",
       "      <td>88</td>\n",
       "      <td>0.274143</td>\n",
       "      <td>18</td>\n",
       "      <td>92</td>\n",
       "      <td>False</td>\n",
       "    </tr>\n",
       "    <tr>\n",
       "      <th>5</th>\n",
       "      <td>Italia</td>\n",
       "      <td>2</td>\n",
       "      <td>16</td>\n",
       "      <td>153</td>\n",
       "      <td>0.476636</td>\n",
       "      <td>47</td>\n",
       "      <td>94</td>\n",
       "      <td>True</td>\n",
       "    </tr>\n",
       "  </tbody>\n",
       "</table>\n",
       "</div>"
      ],
      "text/plain": [
       "      Pais  Cantidad  Mejor_Champions  Cantidad_Goles  Proporcion_Goles  \\\n",
       "0   Espana         1                8              80          0.249221   \n",
       "1  Francia         1               16              88          0.274143   \n",
       "2   Italia         2               16             153          0.476636   \n",
       "3   Espana         1                8              80          0.249221   \n",
       "4  Francia         1               16              88          0.274143   \n",
       "5   Italia         2               16             153          0.476636   \n",
       "\n",
       "   Cantidad_Asistencias  Promedio_Calificacion  Esta_Lautaro  \n",
       "0                    48                    100         False  \n",
       "1                    18                     92         False  \n",
       "2                    47                     94          True  \n",
       "3                    48                    100         False  \n",
       "4                    18                     92         False  \n",
       "5                    47                     94          True  "
      ]
     },
     "execution_count": 1385,
     "metadata": {},
     "output_type": "execute_result"
    }
   ],
   "source": [
    "# Modo append\n",
    "test.to_csv(\"test.csv\", mode = \"a\", header = False)\n",
    "pd.read_csv('test.csv')"
   ]
  },
  {
   "cell_type": "markdown",
   "metadata": {},
   "source": [
    "#### PYTHON"
   ]
  },
  {
   "cell_type": "markdown",
   "metadata": {},
   "source": [
    "En caso de que no queramos trabajar con Pandas, podemos utilizar los métodos pre-built de Python."
   ]
  },
  {
   "cell_type": "code",
   "execution_count": 1374,
   "metadata": {},
   "outputs": [
    {
     "data": {
      "text/plain": [
       "'Pais,Cantidad,Mejor_Champions,Cantidad_Goles,Proporcion_Goles,Cantidad_Asistencias,Promedio_Calificacion,Esta_Lautaro\\nEspana,1,8,80,0.24922118380062305,48,100,False\\nFrancia,1,16,88,0.27414330218068533,18,92,False\\nItalia,2,16,153,0.4766355140186916,47,94,True\\n'"
      ]
     },
     "execution_count": 1374,
     "metadata": {},
     "output_type": "execute_result"
    }
   ],
   "source": [
    "with open(\"test.csv\",\"r\") as f:\n",
    "    prueba = f.read()\n",
    "prueba"
   ]
  },
  {
   "cell_type": "code",
   "execution_count": 1375,
   "metadata": {},
   "outputs": [
    {
     "name": "stdout",
     "output_type": "stream",
     "text": [
      "['Pais', 'Cantidad', 'Mejor_Champions', 'Cantidad_Goles', 'Proporcion_Goles', 'Cantidad_Asistencias', 'Promedio_Calificacion', 'Esta_Lautaro']\n",
      "['Espana', '1', '8', '80', '0.24922118380062305', '48', '100', 'False']\n",
      "['Francia', '1', '16', '88', '0.27414330218068533', '18', '92', 'False']\n",
      "['Italia', '2', '16', '153', '0.4766355140186916', '47', '94', 'True']\n"
     ]
    }
   ],
   "source": [
    "import csv\n",
    "with open(\"test.csv\") as f:\n",
    "    reader = csv.reader(f)\n",
    "    for row in reader:\n",
    "        print(row)"
   ]
  },
  {
   "cell_type": "markdown",
   "metadata": {},
   "source": [
    "#### DRIVE"
   ]
  },
  {
   "cell_type": "code",
   "execution_count": 1400,
   "metadata": {},
   "outputs": [],
   "source": [
    "# TODO"
   ]
  },
  {
   "cell_type": "markdown",
   "metadata": {},
   "source": [
    "### GRÁFICOS"
   ]
  },
  {
   "cell_type": "markdown",
   "metadata": {},
   "source": [
    "En Python la libreria estándar para generar visualizaciones es Matplotlib. Sin embargo, existe una librería más reciente que funciona sobre Matplotlib y permite no solo mejorar la calidad de las visualizaciones sino también trabajar de manera más cómoda con las estructuras de datos de Pandas. Esta librería es Seaborn y veremos directamente cómo funciona y las diferencias que agrega."
   ]
  },
  {
   "cell_type": "markdown",
   "metadata": {},
   "source": [
    "Podríamos hacer una guía entera sobre visualización pero no es la idea. Solo vamos a ver la aplicación para un caso básico y dejar acceso a recursos para complementar con diferentes estrategias."
   ]
  },
  {
   "cell_type": "markdown",
   "metadata": {},
   "source": [
    "Primero creamos la data con la que vamos a trabajar. Usamos Numpy para crear una distribución multivariada y almacenamos esa información de un DataFrame. Los gráficos que vamos a realizar están alrededor de poder graficar la distribución de este data frame."
   ]
  },
  {
   "cell_type": "code",
   "execution_count": 1774,
   "metadata": {},
   "outputs": [],
   "source": [
    "multivariada = np.random.multivariate_normal([0,0],[[10,2],[2,2]],size=10000) # Creamos el array\n",
    "multivariada = pd.DataFrame(test, columns = ['x','y']) # Lo almacenamos en un DataFrame y renombramos las columnas"
   ]
  },
  {
   "cell_type": "markdown",
   "metadata": {},
   "source": [
    "Los objetos de Pandas ya tienen incorporada la librería matplotlib e incluso se pueden llamar directamente desde el data frame."
   ]
  },
  {
   "cell_type": "code",
   "execution_count": 1803,
   "metadata": {},
   "outputs": [
    {
     "data": {
      "text/plain": [
       "array([[<matplotlib.axes._subplots.AxesSubplot object at 0x7f06a2f17850>,\n",
       "        <matplotlib.axes._subplots.AxesSubplot object at 0x7f06a2f40d90>]],\n",
       "      dtype=object)"
      ]
     },
     "execution_count": 1803,
     "metadata": {},
     "output_type": "execute_result"
    },
    {
     "data": {
      "image/png": "[encoded data removed]",
      "text/plain": [
       "<Figure size 640x480 with 2 Axes>"
      ]
     },
     "metadata": {},
     "output_type": "display_data"
    }
   ],
   "source": [
    "multivariada.hist() # Llamamos el método hist directo desde el DataFrame"
   ]
  },
  {
   "cell_type": "code",
   "execution_count": 1797,
   "metadata": {},
   "outputs": [
    {
     "data": {
      "text/plain": [
       "<matplotlib.axes._subplots.AxesSubplot at 0x7f06a3201a90>"
      ]
     },
     "execution_count": 1797,
     "metadata": {},
     "output_type": "execute_result"
    },
    {
     "data": {
      "image/png": "[encoded data removed]",
      "text/plain": [
       "<Figure size 640x480 with 1 Axes>"
      ]
     },
     "metadata": {},
     "output_type": "display_data"
    }
   ],
   "source": [
    "multivariada.plot(kind = 'hist')"
   ]
  },
  {
   "cell_type": "markdown",
   "metadata": {},
   "source": [
    "Sin embargo, es común importar matplotlib bajo el pseudónimo plt para ordenar mejor las funcionalidades de la visualización, especialmente cuando configuramos varios de sus parámetros."
   ]
  },
  {
   "cell_type": "code",
   "execution_count": 1802,
   "metadata": {},
   "outputs": [],
   "source": [
    "import matplotlib.pyplot as plt\n",
    "plt.rcdefaults() # Esto se usa en caso de que hayamos seteado seaborn y queramos volver al por defecto de plt"
   ]
  },
  {
   "cell_type": "code",
   "execution_count": 1804,
   "metadata": {},
   "outputs": [
    {
     "data": {
      "text/plain": [
       "(array([  36.,  205.,  726., 1792., 2682., 2493., 1421.,  517.,  114.,\n",
       "          14.]),\n",
       " array([-4.84440632, -3.84440227, -2.84439822, -1.84439418, -0.84439013,\n",
       "         0.15561392,  1.15561796,  2.15562201,  3.15562606,  4.1556301 ,\n",
       "         5.15563415]),\n",
       " <a list of 10 Patch objects>)"
      ]
     },
     "execution_count": 1804,
     "metadata": {},
     "output_type": "execute_result"
    },
    {
     "data": {
      "image/png": "[encoded data removed]",
      "text/plain": [
       "<Figure size 640x480 with 1 Axes>"
      ]
     },
     "metadata": {},
     "output_type": "display_data"
    }
   ],
   "source": [
    "plt.hist(multivariada['x'], alpha = 0.5) # También podemos llamar el hist desde matplotlib para cada columna\n",
    "plt.hist(multivariada['y'], alpha = 0.5)"
   ]
  },
  {
   "cell_type": "markdown",
   "metadata": {},
   "source": [
    "A continuación vamos a importar seaborn y a corroborar cómo cambia la apariencia aun con esta visualización sencilla"
   ]
  },
  {
   "cell_type": "code",
   "execution_count": 1805,
   "metadata": {},
   "outputs": [],
   "source": [
    "import seaborn as sns\n",
    "sns.set()"
   ]
  },
  {
   "cell_type": "code",
   "execution_count": 1807,
   "metadata": {},
   "outputs": [
    {
     "data": {
      "text/plain": [
       "(array([  36.,  205.,  726., 1792., 2682., 2493., 1421.,  517.,  114.,\n",
       "          14.]),\n",
       " array([-4.84440632, -3.84440227, -2.84439822, -1.84439418, -0.84439013,\n",
       "         0.15561392,  1.15561796,  2.15562201,  3.15562606,  4.1556301 ,\n",
       "         5.15563415]),\n",
       " <a list of 10 Patch objects>)"
      ]
     },
     "execution_count": 1807,
     "metadata": {},
     "output_type": "execute_result"
    },
    {
     "data": {
      "image/png": "[encoded data removed]",
      "text/plain": [
       "<Figure size 640x480 with 1 Axes>"
      ]
     },
     "metadata": {},
     "output_type": "display_data"
    }
   ],
   "source": [
    "plt.hist(test['x'], alpha = 0.5) # Llamamos la función de la misma manera que antes\n",
    "plt.hist(test['y'], alpha = 0.5)"
   ]
  },
  {
   "cell_type": "code",
   "execution_count": 1765,
   "metadata": {},
   "outputs": [
    {
     "data": {
      "text/plain": [
       "(array([0.00362538, 0.01242986, 0.03314629, 0.12481648, 0.22373743,\n",
       "        0.27293895, 0.21700459, 0.11238663, 0.03003882, 0.00569702]),\n",
       " array([-5.26585146, -4.30043409, -3.33501672, -2.36959936, -1.40418199,\n",
       "        -0.43876462,  0.52665275,  1.49207012,  2.45748749,  3.42290485,\n",
       "         4.38832222]),\n",
       " <a list of 10 Patch objects>)"
      ]
     },
     "execution_count": 1765,
     "metadata": {},
     "output_type": "execute_result"
    },
    {
     "data": {
      "image/png": "[encoded data removed]",
      "text/plain": [
       "<Figure size 432x288 with 1 Axes>"
      ]
     },
     "metadata": {},
     "output_type": "display_data"
    }
   ],
   "source": [
    "plt.hist(test['x'], density  = True, alpha = 0.5)\n",
    "plt.hist(test['y'], density = True, alpha = 0.5)"
   ]
  },
  {
   "cell_type": "markdown",
   "metadata": {},
   "source": [
    "Pero además, seaborn nos permite incorporar otras visualizaciones un poco más sofisticadas."
   ]
  },
  {
   "cell_type": "code",
   "execution_count": 1808,
   "metadata": {},
   "outputs": [
    {
     "data": {
      "text/plain": [
       "<matplotlib.axes._subplots.AxesSubplot at 0x7f06a2d8aa10>"
      ]
     },
     "execution_count": 1808,
     "metadata": {},
     "output_type": "execute_result"
    },
    {
     "data": {
      "image/png": "[encoded data removed]",
      "text/plain": [
       "<Figure size 640x480 with 1 Axes>"
      ]
     },
     "metadata": {},
     "output_type": "display_data"
    }
   ],
   "source": [
    "sns.kdeplot(test['x'], shade=True)\n",
    "sns.kdeplot(test['y'], shade=True)"
   ]
  },
  {
   "cell_type": "code",
   "execution_count": 1809,
   "metadata": {},
   "outputs": [
    {
     "data": {
      "text/plain": [
       "<matplotlib.axes._subplots.AxesSubplot at 0x7f06a2daa750>"
      ]
     },
     "execution_count": 1809,
     "metadata": {},
     "output_type": "execute_result"
    },
    {
     "data": {
      "image/png": "[encoded data removed]",
      "text/plain": [
       "<Figure size 640x480 with 1 Axes>"
      ]
     },
     "metadata": {},
     "output_type": "display_data"
    }
   ],
   "source": [
    "sns.distplot(test['x'])\n",
    "sns.distplot(test['y'])"
   ]
  },
  {
   "cell_type": "code",
   "execution_count": 1812,
   "metadata": {},
   "outputs": [
    {
     "data": {
      "text/plain": [
       "array([ 0.05445526,  1.66764344, -0.69334976, ...,  0.20022014,\n",
       "        0.56434984,  0.88282251])"
      ]
     },
     "execution_count": 1812,
     "metadata": {},
     "output_type": "execute_result"
    }
   ],
   "source": [
    "np.random.normal(0,1,10000)"
   ]
  },
  {
   "cell_type": "code",
   "execution_count": 1840,
   "metadata": {},
   "outputs": [
    {
     "data": {
      "image/png": "[encoded data removed]",
      "text/plain": [
       "<Figure size 640x480 with 2 Axes>"
      ]
     },
     "metadata": {},
     "output_type": "display_data"
    }
   ],
   "source": [
    "test = {'A': [45,37,42,35,39],\n",
    "        'B': [38,31,26,28,33],\n",
    "        'C': [10,15,17,21,12]}\n",
    "\n",
    "test = pd.DataFrame(test,columns=test.keys())\n",
    "\n",
    "corrMatrix = test.corr()\n",
    "sns.heatmap(corrMatrix, annot=True)\n",
    "plt.show()"
   ]
  },
  {
   "cell_type": "code",
   "execution_count": 1841,
   "metadata": {},
   "outputs": [
    {
     "ename": "TypeError",
     "evalue": "'numpy.ndarray' object is not callable",
     "output_type": "error",
     "traceback": [
      "\u001b[0;31m---------------------------------------------------------------------------\u001b[0m",
      "\u001b[0;31mTypeError\u001b[0m                                 Traceback (most recent call last)",
      "\u001b[0;32m<ipython-input-1841-a82f3a9b70b3>\u001b[0m in \u001b[0;36m<module>\u001b[0;34m\u001b[0m\n\u001b[0;32m----> 1\u001b[0;31m \u001b[0mtest\u001b[0m\u001b[0;34m.\u001b[0m\u001b[0mvalues\u001b[0m\u001b[0;34m(\u001b[0m\u001b[0;34m)\u001b[0m\u001b[0;34m\u001b[0m\u001b[0;34m\u001b[0m\u001b[0m\n\u001b[0m",
      "\u001b[0;31mTypeError\u001b[0m: 'numpy.ndarray' object is not callable"
     ]
    }
   ],
   "source": [
    "test.values()"
   ]
  },
  {
   "cell_type": "markdown",
   "metadata": {},
   "source": [
    "Como decíamos anteriormente, hay muchísimas opciones y visualizaciones distintas que podemos generar con Matplotlib y Seaborn. En esta dirección podemos encontrar una galería bastante exhaustiva de los tipos de gráficos y cuáles son sus parámetros: https://matplotlib.org/gallery.html"
   ]
  },
  {
   "cell_type": "markdown",
   "metadata": {},
   "source": [
    "### RESUMEN"
   ]
  },
  {
   "cell_type": "markdown",
   "metadata": {},
   "source": [
    "En esta sección sintetizamos las funciones y conceptos más utilizados en Data Science de todos los vistos anteriormente."
   ]
  },
  {
   "cell_type": "code",
   "execution_count": 927,
   "metadata": {},
   "outputs": [],
   "source": [
    "# Creamos listas simples de python con los datos\n",
    "lista_argentina = [50000000,15000]\n",
    "lista_brasil = [320000000,115000]"
   ]
  },
  {
   "cell_type": "code",
   "execution_count": null,
   "metadata": {},
   "outputs": [],
   "source": [
    "# Creamos un diccionario de python a partir de las listas\n",
    "dict_paises = {'Argentina':lista_argentina,'Brasil':lista_brasil}"
   ]
  },
  {
   "cell_type": "code",
   "execution_count": 947,
   "metadata": {},
   "outputs": [
    {
     "data": {
      "text/html": [
       "<div>\n",
       "<style scoped>\n",
       "    .dataframe tbody tr th:only-of-type {\n",
       "        vertical-align: middle;\n",
       "    }\n",
       "\n",
       "    .dataframe tbody tr th {\n",
       "        vertical-align: top;\n",
       "    }\n",
       "\n",
       "    .dataframe thead th {\n",
       "        text-align: right;\n",
       "    }\n",
       "</style>\n",
       "<table border=\"1\" class=\"dataframe\">\n",
       "  <thead>\n",
       "    <tr style=\"text-align: right;\">\n",
       "      <th></th>\n",
       "      <th>Poblacion</th>\n",
       "      <th>Casos</th>\n",
       "    </tr>\n",
       "  </thead>\n",
       "  <tbody>\n",
       "    <tr>\n",
       "      <th>Argentina</th>\n",
       "      <td>50000000</td>\n",
       "      <td>15000</td>\n",
       "    </tr>\n",
       "    <tr>\n",
       "      <th>Brasil</th>\n",
       "      <td>320000000</td>\n",
       "      <td>115000</td>\n",
       "    </tr>\n",
       "  </tbody>\n",
       "</table>\n",
       "</div>"
      ],
      "text/plain": [
       "           Poblacion   Casos\n",
       "Argentina   50000000   15000\n",
       "Brasil     320000000  115000"
      ]
     },
     "execution_count": 947,
     "metadata": {},
     "output_type": "execute_result"
    }
   ],
   "source": [
    "# Data frame con los paises en filas\n",
    "pd.DataFrame(data = dict_paises.values(), index = dict_paises.keys(), columns = ['Poblacion','Casos'])"
   ]
  },
  {
   "cell_type": "code",
   "execution_count": 945,
   "metadata": {},
   "outputs": [
    {
     "data": {
      "text/html": [
       "<div>\n",
       "<style scoped>\n",
       "    .dataframe tbody tr th:only-of-type {\n",
       "        vertical-align: middle;\n",
       "    }\n",
       "\n",
       "    .dataframe tbody tr th {\n",
       "        vertical-align: top;\n",
       "    }\n",
       "\n",
       "    .dataframe thead th {\n",
       "        text-align: right;\n",
       "    }\n",
       "</style>\n",
       "<table border=\"1\" class=\"dataframe\">\n",
       "  <thead>\n",
       "    <tr style=\"text-align: right;\">\n",
       "      <th></th>\n",
       "      <th>Argentina</th>\n",
       "      <th>Brasil</th>\n",
       "    </tr>\n",
       "  </thead>\n",
       "  <tbody>\n",
       "    <tr>\n",
       "      <th>Poblacion</th>\n",
       "      <td>50000000</td>\n",
       "      <td>320000000</td>\n",
       "    </tr>\n",
       "    <tr>\n",
       "      <th>Casos</th>\n",
       "      <td>15000</td>\n",
       "      <td>115000</td>\n",
       "    </tr>\n",
       "  </tbody>\n",
       "</table>\n",
       "</div>"
      ],
      "text/plain": [
       "           Argentina     Brasil\n",
       "Poblacion   50000000  320000000\n",
       "Casos          15000     115000"
      ]
     },
     "execution_count": 945,
     "metadata": {},
     "output_type": "execute_result"
    }
   ],
   "source": [
    "# Data frame con los paises en columnas\n",
    "pd.DataFrame(dict_paises, index = ['Poblacion','Casos'])"
   ]
  },
  {
   "cell_type": "code",
   "execution_count": 948,
   "metadata": {},
   "outputs": [],
   "source": [
    "df_paises = pd.DataFrame(data = dict_paises.values(), index = dict_paises.keys(), columns = ['Poblacion','Casos'])"
   ]
  },
  {
   "cell_type": "code",
   "execution_count": 949,
   "metadata": {},
   "outputs": [],
   "source": [
    "# Slice en DF\n",
    "# Filtro en DF\n",
    "# Group by para agregar metricas\n",
    "# Plot para visualizar\n",
    "# Guardar en series pedazos de informacion"
   ]
  },
  {
   "cell_type": "markdown",
   "metadata": {},
   "source": [
    "### EJERCICIO"
   ]
  },
  {
   "cell_type": "code",
   "execution_count": 1403,
   "metadata": {},
   "outputs": [],
   "source": [
    "# Descargar un archivo\n",
    "# Leerlo en un Data Frame\n",
    "# Cortarlo en pedazos\n",
    "# Guardar series\n",
    "# Pivotear tabla\n",
    "# Generar funciones específicas\n",
    "# Tratar texto\n",
    "# Hacer un describe\n",
    "# Visualizar de manera clara"
   ]
  }
 ],
 "metadata": {
  "kernelspec": {
   "display_name": "Python 3",
   "language": "python",
   "name": "python3"
  },
  "language_info": {
   "codemirror_mode": {
    "name": "ipython",
    "version": 3
   },
   "file_extension": ".py",
   "mimetype": "text/x-python",
   "name": "python",
   "nbconvert_exporter": "python",
   "pygments_lexer": "ipython3",
   "version": "3.7.6"
  }
 },
 "nbformat": 4,
 "nbformat_minor": 4
}
