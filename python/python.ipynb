{
 "cells": [
  {
   "cell_type": "markdown",
   "metadata": {
    "toc": true
   },
   "source": [
    "<h1>GUÍA DE PYTHON<span class=\"tocSkip\"></span></h1>\n",
    "<div class=\"toc\"><ul class=\"toc-item\"><li><span><a href=\"#INTRODUCCION\" data-toc-modified-id=\"INTRODUCCION-1\"><span class=\"toc-item-num\">1&nbsp;&nbsp;</span>INTRODUCCION</a></span><ul class=\"toc-item\"><li><span><a href=\"#INSTALACIÓN\" data-toc-modified-id=\"INSTALACIÓN-1.1\"><span class=\"toc-item-num\">1.1&nbsp;&nbsp;</span>INSTALACIÓN</a></span></li><li><span><a href=\"#JUPYTER-NOTEBOOK\" data-toc-modified-id=\"JUPYTER-NOTEBOOK-1.2\"><span class=\"toc-item-num\">1.2&nbsp;&nbsp;</span>JUPYTER NOTEBOOK</a></span><ul class=\"toc-item\"><li><span><a href=\"#Qué-es\" data-toc-modified-id=\"Qué-es-1.2.1\"><span class=\"toc-item-num\">1.2.1&nbsp;&nbsp;</span>Qué es</a></span></li><li><span><a href=\"#Cómo-lo-instalo\" data-toc-modified-id=\"Cómo-lo-instalo-1.2.2\"><span class=\"toc-item-num\">1.2.2&nbsp;&nbsp;</span>Cómo lo instalo</a></span></li><li><span><a href=\"#Librerías\" data-toc-modified-id=\"Librerías-1.2.3\"><span class=\"toc-item-num\">1.2.3&nbsp;&nbsp;</span>Librerías</a></span></li></ul></li><li><span><a href=\"#GOOGLE-COLAB\" data-toc-modified-id=\"GOOGLE-COLAB-1.3\"><span class=\"toc-item-num\">1.3&nbsp;&nbsp;</span>GOOGLE COLAB</a></span><ul class=\"toc-item\"><li><span><a href=\"#Qué-es\" data-toc-modified-id=\"Qué-es-1.3.1\"><span class=\"toc-item-num\">1.3.1&nbsp;&nbsp;</span>Qué es</a></span></li><li><span><a href=\"#Ventajas-y-desventajas\" data-toc-modified-id=\"Ventajas-y-desventajas-1.3.2\"><span class=\"toc-item-num\">1.3.2&nbsp;&nbsp;</span>Ventajas y desventajas</a></span></li><li><span><a href=\"#¿Cómo-empezamos?\" data-toc-modified-id=\"¿Cómo-empezamos?-1.3.3\"><span class=\"toc-item-num\">1.3.3&nbsp;&nbsp;</span>¿Cómo empezamos?</a></span></li></ul></li><li><span><a href=\"#GITHUB\" data-toc-modified-id=\"GITHUB-1.4\"><span class=\"toc-item-num\">1.4&nbsp;&nbsp;</span>GITHUB</a></span><ul class=\"toc-item\"><li><span><a href=\"#Qué-es\" data-toc-modified-id=\"Qué-es-1.4.1\"><span class=\"toc-item-num\">1.4.1&nbsp;&nbsp;</span>Qué es</a></span></li><li><span><a href=\"#Cómo-se-usa\" data-toc-modified-id=\"Cómo-se-usa-1.4.2\"><span class=\"toc-item-num\">1.4.2&nbsp;&nbsp;</span>Cómo se usa</a></span><ul class=\"toc-item\"><li><span><a href=\"#Interfaz-gráfica\" data-toc-modified-id=\"Interfaz-gráfica-1.4.2.1\"><span class=\"toc-item-num\">1.4.2.1&nbsp;&nbsp;</span>Interfaz gráfica</a></span></li><li><span><a href=\"#Consola\" data-toc-modified-id=\"Consola-1.4.2.2\"><span class=\"toc-item-num\">1.4.2.2&nbsp;&nbsp;</span>Consola</a></span></li><li><span><a href=\"#COLAB\" data-toc-modified-id=\"COLAB-1.4.2.3\"><span class=\"toc-item-num\">1.4.2.3&nbsp;&nbsp;</span>COLAB</a></span></li></ul></li></ul></li></ul></li><li><span><a href=\"#ESTRUCTURAS-DE-DATOS-(PYTHON-Y-PANDAS)\" data-toc-modified-id=\"ESTRUCTURAS-DE-DATOS-(PYTHON-Y-PANDAS)-2\"><span class=\"toc-item-num\">2&nbsp;&nbsp;</span>ESTRUCTURAS DE DATOS (PYTHON Y PANDAS)</a></span><ul class=\"toc-item\"><li><span><a href=\"#PYTHON-BÁSICO\" data-toc-modified-id=\"PYTHON-BÁSICO-2.1\"><span class=\"toc-item-num\">2.1&nbsp;&nbsp;</span>PYTHON BÁSICO</a></span><ul class=\"toc-item\"><li><span><a href=\"#VARIABLES\" data-toc-modified-id=\"VARIABLES-2.1.1\"><span class=\"toc-item-num\">2.1.1&nbsp;&nbsp;</span>VARIABLES</a></span><ul class=\"toc-item\"><li><span><a href=\"#IMPRESIÓN\" data-toc-modified-id=\"IMPRESIÓN-2.1.1.1\"><span class=\"toc-item-num\">2.1.1.1&nbsp;&nbsp;</span>IMPRESIÓN</a></span></li></ul></li><li><span><a href=\"#LISTAS\" data-toc-modified-id=\"LISTAS-2.1.2\"><span class=\"toc-item-num\">2.1.2&nbsp;&nbsp;</span>LISTAS</a></span><ul class=\"toc-item\"><li><span><a href=\"#METODOS\" data-toc-modified-id=\"METODOS-2.1.2.1\"><span class=\"toc-item-num\">2.1.2.1&nbsp;&nbsp;</span>METODOS</a></span></li></ul></li><li><span><a href=\"#Funciones-básicas\" data-toc-modified-id=\"Funciones-básicas-2.1.3\"><span class=\"toc-item-num\">2.1.3&nbsp;&nbsp;</span>Funciones básicas</a></span><ul class=\"toc-item\"><li><span><a href=\"#FOR\" data-toc-modified-id=\"FOR-2.1.3.1\"><span class=\"toc-item-num\">2.1.3.1&nbsp;&nbsp;</span>FOR</a></span></li><li><span><a href=\"#IF\" data-toc-modified-id=\"IF-2.1.3.2\"><span class=\"toc-item-num\">2.1.3.2&nbsp;&nbsp;</span>IF</a></span></li></ul></li><li><span><a href=\"#DICCIONARIOS\" data-toc-modified-id=\"DICCIONARIOS-2.1.4\"><span class=\"toc-item-num\">2.1.4&nbsp;&nbsp;</span>DICCIONARIOS</a></span></li></ul></li><li><span><a href=\"#NUMPY\" data-toc-modified-id=\"NUMPY-2.2\"><span class=\"toc-item-num\">2.2&nbsp;&nbsp;</span>NUMPY</a></span></li><li><span><a href=\"#PANDAS\" data-toc-modified-id=\"PANDAS-2.3\"><span class=\"toc-item-num\">2.3&nbsp;&nbsp;</span>PANDAS</a></span><ul class=\"toc-item\"><li><span><a href=\"#SERIES\" data-toc-modified-id=\"SERIES-2.3.1\"><span class=\"toc-item-num\">2.3.1&nbsp;&nbsp;</span>SERIES</a></span><ul class=\"toc-item\"><li><span><a href=\"#METODOS\" data-toc-modified-id=\"METODOS-2.3.1.1\"><span class=\"toc-item-num\">2.3.1.1&nbsp;&nbsp;</span>METODOS</a></span></li></ul></li><li><span><a href=\"#DATA-FRAME\" data-toc-modified-id=\"DATA-FRAME-2.3.2\"><span class=\"toc-item-num\">2.3.2&nbsp;&nbsp;</span>DATA FRAME</a></span><ul class=\"toc-item\"><li><span><a href=\"#CREACION\" data-toc-modified-id=\"CREACION-2.3.2.1\"><span class=\"toc-item-num\">2.3.2.1&nbsp;&nbsp;</span>CREACION</a></span></li><li><span><a href=\"#SELECCION\" data-toc-modified-id=\"SELECCION-2.3.2.2\"><span class=\"toc-item-num\">2.3.2.2&nbsp;&nbsp;</span>SELECCION</a></span></li><li><span><a href=\"#LOC,-ILOC\" data-toc-modified-id=\"LOC,-ILOC-2.3.2.3\"><span class=\"toc-item-num\">2.3.2.3&nbsp;&nbsp;</span>LOC, ILOC</a></span></li><li><span><a href=\"#FILTROS\" data-toc-modified-id=\"FILTROS-2.3.2.4\"><span class=\"toc-item-num\">2.3.2.4&nbsp;&nbsp;</span>FILTROS</a></span></li><li><span><a href=\"#MÉTODOS\" data-toc-modified-id=\"MÉTODOS-2.3.2.5\"><span class=\"toc-item-num\">2.3.2.5&nbsp;&nbsp;</span>MÉTODOS</a></span></li><li><span><a href=\"#MÉTODOS-MÁS-AVANZADOS\" data-toc-modified-id=\"MÉTODOS-MÁS-AVANZADOS-2.3.2.6\"><span class=\"toc-item-num\">2.3.2.6&nbsp;&nbsp;</span>MÉTODOS MÁS AVANZADOS</a></span></li><li><span><a href=\"#CONCAT-Y-APPEND\" data-toc-modified-id=\"CONCAT-Y-APPEND-2.3.2.7\"><span class=\"toc-item-num\">2.3.2.7&nbsp;&nbsp;</span>CONCAT Y APPEND</a></span></li><li><span><a href=\"#MERGE-Y-JOIN\" data-toc-modified-id=\"MERGE-Y-JOIN-2.3.2.8\"><span class=\"toc-item-num\">2.3.2.8&nbsp;&nbsp;</span>MERGE Y JOIN</a></span></li><li><span><a href=\"#GROUP-BY\" data-toc-modified-id=\"GROUP-BY-2.3.2.9\"><span class=\"toc-item-num\">2.3.2.9&nbsp;&nbsp;</span>GROUP BY</a></span></li><li><span><a href=\"#PIVOT-TABLES\" data-toc-modified-id=\"PIVOT-TABLES-2.3.2.10\"><span class=\"toc-item-num\">2.3.2.10&nbsp;&nbsp;</span>PIVOT TABLES</a></span></li><li><span><a href=\"#DATES\" data-toc-modified-id=\"DATES-2.3.2.11\"><span class=\"toc-item-num\">2.3.2.11&nbsp;&nbsp;</span>DATES</a></span></li><li><span><a href=\"#STRINGS\" data-toc-modified-id=\"STRINGS-2.3.2.12\"><span class=\"toc-item-num\">2.3.2.12&nbsp;&nbsp;</span>STRINGS</a></span></li></ul></li><li><span><a href=\"#CARGA-DE-DATASETS\" data-toc-modified-id=\"CARGA-DE-DATASETS-2.3.3\"><span class=\"toc-item-num\">2.3.3&nbsp;&nbsp;</span>CARGA DE DATASETS</a></span><ul class=\"toc-item\"><li><span><a href=\"#PANDAS\" data-toc-modified-id=\"PANDAS-2.3.3.1\"><span class=\"toc-item-num\">2.3.3.1&nbsp;&nbsp;</span>PANDAS</a></span></li><li><span><a href=\"#PYTHON\" data-toc-modified-id=\"PYTHON-2.3.3.2\"><span class=\"toc-item-num\">2.3.3.2&nbsp;&nbsp;</span>PYTHON</a></span></li></ul></li><li><span><a href=\"#GRÁFICOS\" data-toc-modified-id=\"GRÁFICOS-2.3.4\"><span class=\"toc-item-num\">2.3.4&nbsp;&nbsp;</span>GRÁFICOS</a></span><ul class=\"toc-item\"><li><span><a href=\"#DRIVE\" data-toc-modified-id=\"DRIVE-2.3.4.1\"><span class=\"toc-item-num\">2.3.4.1&nbsp;&nbsp;</span>DRIVE</a></span></li></ul></li></ul></li><li><span><a href=\"#RESUMEN\" data-toc-modified-id=\"RESUMEN-2.4\"><span class=\"toc-item-num\">2.4&nbsp;&nbsp;</span>RESUMEN</a></span></li></ul></li><li><span><a href=\"#EJERCICIO\" data-toc-modified-id=\"EJERCICIO-3\"><span class=\"toc-item-num\">3&nbsp;&nbsp;</span>EJERCICIO</a></span></li></ul></div>"
   ]
  },
  {
   "cell_type": "markdown",
   "metadata": {},
   "source": [
    "# INTRODUCCION"
   ]
  },
  {
   "cell_type": "markdown",
   "metadata": {},
   "source": [
    "## INSTALACIÓN"
   ]
  },
  {
   "cell_type": "markdown",
   "metadata": {},
   "source": [
    "Python es un lenguaje de programación. Se lo clasifica como parte de los lenguajes de alto nivel por su similitud con el lenguaje natural (humano). Veremos a continuación que es muy intuitivo en sus comandos. Sin embargo, la mayor parte de su código se monta sobre C que es un lenguaje de más bajo nivel por lo cual hay muchas operaciones que podemos optimizarlas para que corran realmente muy rápido (lo veremos más adelante también).\n",
    "\n",
    "Python como lenguaje ya viene pre-instalado tanto en Ubuntu como en MacOS pero no en Windows, por lo cual si usamos este OS el primer paso es instalar Python: https://www.python.org/downloads/windows/ \n",
    "\n",
    "Una vez instalado, veremos que en cualquier consola (Buscar / cmd en Windows, Control + Alt + T en Ubuntu, Spotlight / Terminal en MacOS) podemos tipear \"python\" e inmediatamente comenzar a escribir código en este lenguaje.\n",
    "\n",
    "Sin embargo, esa no es la manera más linda o canchera de correr Python. Veremos 2 formas que hoy son las mejores opciones en términos de comodidad y facilidad: Jupyter Notebooks y Google Colab."
   ]
  },
  {
   "cell_type": "markdown",
   "metadata": {},
   "source": [
    "## JUPYTER NOTEBOOK"
   ]
  },
  {
   "cell_type": "markdown",
   "metadata": {},
   "source": [
    "### Qué es"
   ]
  },
  {
   "cell_type": "markdown",
   "metadata": {},
   "source": [
    "Los notebooks son interfaces donde puedo correr código en un entorno más amable que el de una consola o terminal y que me agregan ciertas funcionalidades: acceso a archivos en el disco local, posibilidad de intercalar texto y otros elementos gráficos y conexión con distintas herramientas para compartir el archivo (GitHub, Markdown, LatEx, HTML y otros)."
   ]
  },
  {
   "cell_type": "markdown",
   "metadata": {},
   "source": [
    "### Cómo lo instalo"
   ]
  },
  {
   "cell_type": "markdown",
   "metadata": {},
   "source": [
    "Para usar Jupyter Notebook tengo que instalarlo. Más adelante tendremos tiempo de mejorar la instalación pero para una primera vez, recomendaría usar Anaconda: https://www.anaconda.com/products/individual\n",
    "\n",
    "Una vez instalado, para crear un Jupyter Notebook, solo tenemos que tipear en una terminal o consola \"jupyter notebook\". De esa manera, veremos que se abre en nuestro navegador una URL del tipo localhost:8888. A continuación, solo tenemos que crear un nuevo notebook en la ubicación que queramos dentro de nuestro disco y voilá, ya tenemos nuestro primer notebook andando.\n",
    "\n",
    "Para tomar el primer contacto, hagamos enter en la celda y escribamos \"print(\"Hola!\")\" y apretemos Shift + Enter. Ahí está: nuestro primer comando en Python."
   ]
  },
  {
   "cell_type": "markdown",
   "metadata": {},
   "source": [
    "### Librerías"
   ]
  },
  {
   "cell_type": "markdown",
   "metadata": {},
   "source": [
    "Por defecto Anaconda va a instalar muchas librerías que vamos a utilizar al crear código en Python. Estos son paquetes que fue armando la comunidad para el bien de todos. Algunos son muy conocidos y estándar, como Numpy, Pandas y Matplotlib (la santa tríada que veremos en esta guía) pero otros son más específicos de ciertas áreas. Los paquetes estándar en general vienen instalados por Anaconda y por ende están disponibles en cualquier notebook que creemos. \n",
    "\n",
    "Para los más específicos, vamos a tener que instalarlos con un comando que se llama pip. Para eso, simplemente vamos a escribir en una celda \"!pip install {nombre de paquete}\" y esperar al proceso de descarga. Cada notebook es lo que se llama un entorno, es decir que tiene sus propias instalaciones: todas las que vienen por defecto + las que instalemos con !pip. Por eso, cuando salimos de un notebook y creamos otro, no vamos a tener las mismas librerías hasta que las instalemos en ese nuevo notebook. Si nos cansamos de instalar siempre la misma librería, hay una forma de ponerla dentro de las \"instalaciones básicas\" pero por ahora podemos seguir instalandola y no cansarnos :)"
   ]
  },
  {
   "cell_type": "markdown",
   "metadata": {},
   "source": [
    "## GOOGLE COLAB"
   ]
  },
  {
   "cell_type": "markdown",
   "metadata": {},
   "source": [
    "### Qué es"
   ]
  },
  {
   "cell_type": "markdown",
   "metadata": {},
   "source": [
    "Otra opción para ejecutar Python que se hizo muy popular en el último tiempo son los Google Colab. Para simplificar, vamos a decir que es lo mismo que cualquier archivo en Drive (sheets, docs, slides) pero para código. Nos permite ejecutar una variedad de lenguajes entre los que, obviamente, se encuentra Python."
   ]
  },
  {
   "cell_type": "markdown",
   "metadata": {},
   "source": [
    "### Ventajas y desventajas"
   ]
  },
  {
   "cell_type": "markdown",
   "metadata": {},
   "source": [
    "La ventaja de esta forma de generar código es que tanto el cómputo como el almacenamiento corren a cuenta de Google. Es decir, mientras corremos un Google Colab estamos usando una computadora que nos presta Google en alguna parte de su inmensa infraestructura para que nosotros ejecutemos el código de forma gratuita. Apenas creamos un Colab, veremos que arriba a la derecha nos indica las especificaciones de la \"computadora\" que estamos usando (cuánta memoria RAM y cuantos GB de almacenamiento). En general, una muy buena computadora va a correr mejor que las que nos provee Google Colab pero la gran mayoría (como la mia) tienen prestaciones muy similares.\n",
    "\n",
    "¿Qué ventajas tiene entonces? Podemos utilizar varios Colab en paralelo, que consume muy pocos recursos de nuestra computadora (el RAM que consume Chrome, que ya es bastante) y podemos seguir usándola para mirar Netflix o trabajar (en ese orden). Por último, Google disponibiliza GPU que son placas de procesamiento que funcionan mucho mejor para determinados procesos y algoritmos.\n",
    "\n",
    "Cuando estemos trabajando con poquitos datos o en la parte exploratoria, veremos que resulta más cómodo hacerlo de forma local (con nuestra compu en un Jupyter Notebook). Sin embargo, cuando empecemos a correr modelos y procesos que tarden mucho tiempo, Colab puede ser de mucha utilidad."
   ]
  },
  {
   "cell_type": "markdown",
   "metadata": {},
   "source": [
    "### ¿Cómo empezamos?"
   ]
  },
  {
   "cell_type": "markdown",
   "metadata": {},
   "source": [
    "Desde nuestro Drive, vamos a Nuevo / Google Colab. Esto nos va a crear una carpeta nueva y amarilla en nuestro Drive. A partir de ahora, allí se almacenarán los notebooks nuevos que vayamos creando (¡por lo que es importante nombrarlos bien!). Los comandos son bastante similares a Jupyter Notebook (con Enter entramos a una celda, con Shift + Enter la ejecutamos). Al igual que Jupyter, hay muchas librerías estándar preinstaladas y podemos agregar otras con \"!pip install\"."
   ]
  },
  {
   "cell_type": "markdown",
   "metadata": {},
   "source": [
    "## GITHUB"
   ]
  },
  {
   "cell_type": "markdown",
   "metadata": {},
   "source": [
    "Este paso es totalmente NO OBLIGATORIO. Solo queda documentado para el momento que nos interese empezar a usar GitHub."
   ]
  },
  {
   "cell_type": "markdown",
   "metadata": {},
   "source": [
    "### Qué es"
   ]
  },
  {
   "cell_type": "markdown",
   "metadata": {},
   "source": [
    "De yapa vamos a conocer una herramienta más que nos va a mejorar la vida cuando trabajemos con datos mediante notebooks. Para ponerlo fácil, GitHub es la herramienta que nos permite solucionar el problema que tenemos al hacer un trabajo en grupo donde terminamos con una carpeta con archivos como \"TP\", \"TPFINAL\", \"TPLAVERDAD\", \"TPFINALFINAL\", \"TPFINALPARAIMPRIMR\".\n",
    "\n",
    "Para eso, GitHub trabaja con lo que se llaman ramas (branches). Sobre un mismo archivo o carpeta, uno puede trabajar en distintas ramas hasta que en un momento decide unificar y consolidar una versión viendo los conflictos que pueden generar las distintas ramas que se fueron abriendo.\n",
    "\n",
    "Para eso, sobre un mismo repositorio (carpeta de archivos), uno se descarga la versión actual y crea una rama a la que va subiendo (commit) los cambios. Una vez que estamos OK con el trabajo, unificamos (pull) con la versión principal. Todos estos pasos tienen que estar documentados con explicaciones de qué fuimos agregando en cada etapa. Esta es una práctica que al principio nos puede resultar engorrosa pero nos va a ahorrar más de un dolor de cabeza a futuro. También podemos revertir cambios o volver a versiones anteriores pero eso lo dejamos para otro momento (confiamos en que por ahora no vamos a querer hacerlo :)).\n",
    "\n",
    "Como útima aclaración, la herramienta que usamos en realidad es GIT, que es un software de control de versiones. Esta viene en distintas formas o sabores. La más conocida es GitHub pero también podríamos usar por ejemplo BitBucket o GitLab. De todas formas, GitHub es casi un estándar, por lo cual es bueno familiarizarnos con el mismo."
   ]
  },
  {
   "cell_type": "markdown",
   "metadata": {},
   "source": [
    "### Cómo se usa"
   ]
  },
  {
   "cell_type": "markdown",
   "metadata": {},
   "source": [
    "El primer paso es crearnos una cuenta en GitHub (gratuita). Además, nos sirve para poner en el CV, queda muy canchero. Hola, ¿qué tal? ¿Me pasás tu GitHub?  ;)\n",
    "\n",
    "Una vez creada, tenemos dos opciones. Usarlo desde la interfaz del sitio web o usarlo desde la línea de comandos (consola o terminal) de nuestra máquina o Colab (¿qué? ¿desde Colab? Sip)."
   ]
  },
  {
   "cell_type": "markdown",
   "metadata": {},
   "source": [
    "#### Interfaz gráfica"
   ]
  },
  {
   "cell_type": "markdown",
   "metadata": {},
   "source": [
    "La interfaz gráfica es bastante intuitiva PERO no funciona de la misma manera que un directorio en nuestro disco o en Google Drive. Para crear un archivo podemos hacerlo con create new file de una manera bastante sencilla. Pero para crear una carpeta, tenemos que crear un archivo e indicar en su ruta mediante \"/\" las nuevas carpetas que queramos ir creando. Lo mismo en el caso de que queramos mover un archivo de una carpeta a otra.\n",
    "\n",
    "Vamos a ver que siempre que creemos un archivo, carpeta o hagamos algún movimiento, en vez de \"guardar\" o \"ejecutar\" vamos a ver un botón de \"commit changes\" y por defecto nos ofrece hacerlo en la master branch (la rama principal). Esto nos sirve para ir acostumbrandonos al lenguaje de Git. Commit es publicar un cambio, la master es la branch principal. \n",
    "\n",
    "Si tuviéramos más de una branch, llega el momento de hacer un pull request que es comparar una branch con otra y aprobar el merge, es decir la unificación de las ramas para crear una nueva versión. Sin embargo, vemos que los cambios que realizamos en la interfaz gráfica por defecto se commitean (sí, estos verbos vas a empezar a usarlos seguido) en la branch principal (master) por lo cual no hace falta ningún pull request."
   ]
  },
  {
   "cell_type": "markdown",
   "metadata": {},
   "source": [
    "#### Consola"
   ]
  },
  {
   "cell_type": "markdown",
   "metadata": {},
   "source": [
    "La otra manera, bastante común, es trabajar a través de la consola. En ese caso, tenemos que instalar git. Con git vamos a poder ejecutar todas las operaciones: clone (clonar un repositorio al disco local), add (agregar un archivo para que Git lo mapee), commit (avisar que un archivo está preparado para modificarse en el repositorio) y push (para empujar todos los cambios que están con commit al repositorio).\n",
    "\n",
    "En general, nos conviene trabajar en un directorio. Iniciamos git ahí con \"git init\". Luego, clonamos un repositorio (si no tenemos, hay que crearlo desde la interfaz gráfica) con \"git clone https://github.com/{usuario}/{repositorio}\". Nos va a pedir usuario y contraseña. Si tenemos, por ejemplo, un notebook que queremos subir al repositorio, lo movemos a ese directorio con \"mv {ruta_del_notebook} {ruta_del_directorio}\". Antes que nada, creamos una nueva branch en Git para no confundirnos con \"git checkout -b {nombre_de_la_branch}\". Ahora sí, agregamos todos los archivos del directorio para que git sepa que estamos trabajando sobre ellos con \"git add .\" Una vez que queremos guardar los cambios, desde la consola hacemos un commit especificando qué agregamos con \"git commit -m {mensaje_entre_comillas}\". Ahora tenemos que indicar que todos estos cambios los vamos a subir al mismo repositorio que clonamos. Para eso, hacemos \"git add remote origin https://github.com/{usuario}/{repositorio}\". Ahora sí, hacemos un push con la branch y el repositorio con \"git push origin {branch}\".\n"
   ]
  },
  {
   "cell_type": "markdown",
   "metadata": {},
   "source": [
    "#### COLAB"
   ]
  },
  {
   "cell_type": "markdown",
   "metadata": {},
   "source": [
    "Desde Colab, tenemos que realizar el proceso en 2 pasos. Por un lado montar el Drive en el que estamos trabajando para que nos sirva de lugar de descarga del repositorio y por otro conectar el repositorio de GitHub. Hay distintos escenarios si trabajamos con un repositorio público o uno privado: https://colab.research.google.com/github/googlecolab/colabtools/blob/master/notebooks/colab-github-demo.ipynb#scrollTo=Rmai0dD30XzL\n",
    "\n",
    "También podemos realizar esto en forma programática que nos va a habilitar más flexibilidad. Esta es la mejor guía para hacerlo:\n",
    "https://towardsdatascience.com/colaboratory-drive-github-the-workflow-made-simpler-bde89fba8a39"
   ]
  },
  {
   "cell_type": "markdown",
   "metadata": {},
   "source": [
    "# ESTRUCTURAS DE DATOS (PYTHON Y PANDAS)"
   ]
  },
  {
   "cell_type": "markdown",
   "metadata": {},
   "source": [
    "## PYTHON BÁSICO"
   ]
  },
  {
   "cell_type": "markdown",
   "metadata": {},
   "source": [
    "Vamos a aprender algunas funciones básicas (asignación, impresión, for e ir) además de 2 estructuras de datos que nos van a servir habitualmente (listas y diccionarios). Hay más funciones y más estructuras de datos pero estas son las básicas y que vamos a seguir usando incluso una vez que pasemos a Pandas."
   ]
  },
  {
   "cell_type": "markdown",
   "metadata": {},
   "source": [
    "### VARIABLES"
   ]
  },
  {
   "cell_type": "markdown",
   "metadata": {},
   "source": [
    "Una variable es lo que se crea para almacenar información. Hay ciertos tipoos de datos básicos que podemoa almacenar en una variable. La asignación se realiza con el =."
   ]
  },
  {
   "cell_type": "code",
   "execution_count": 1,
   "metadata": {},
   "outputs": [],
   "source": [
    "# Asignación y tipos de datos\n",
    "numero_entero = 1\n",
    "numero_decimal = 1.0\n",
    "palabra = 'hola'\n",
    "booleano = True"
   ]
  },
  {
   "cell_type": "markdown",
   "metadata": {},
   "source": [
    "#### IMPRESIÓN"
   ]
  },
  {
   "cell_type": "markdown",
   "metadata": {},
   "source": [
    "Para ver esos resultados en pantalla, usamos el comando print."
   ]
  },
  {
   "cell_type": "code",
   "execution_count": 2,
   "metadata": {},
   "outputs": [
    {
     "name": "stdout",
     "output_type": "stream",
     "text": [
      "1\n",
      "1.0\n",
      "hola\n",
      "True\n"
     ]
    }
   ],
   "source": [
    "# Impresion\n",
    "print(numero_entero)\n",
    "print(numero_decimal)\n",
    "print(palabra)\n",
    "print(booleano)"
   ]
  },
  {
   "cell_type": "markdown",
   "metadata": {},
   "source": [
    "Hay diferentes opciones para no solo imprimir el valor de una variable sino poder ponerlo en contexto."
   ]
  },
  {
   "cell_type": "code",
   "execution_count": 3,
   "metadata": {},
   "outputs": [
    {
     "name": "stdout",
     "output_type": "stream",
     "text": [
      "1 1.0\n",
      "1 | 1.0\n",
      "Numero entero: 1 \tNumero decimal: 1.0\n",
      "Numero entero: 1 \tNumero decimal: 1.0\n",
      "Será hola una palabra? \n",
      "Es True\n"
     ]
    }
   ],
   "source": [
    "# Impresion más compleja\n",
    "print(numero_entero,numero_decimal) # La separación entre las variables es por default un espacio en blanco\n",
    "print(numero_entero,numero_decimal,sep = \" | \") # Pero podemos pasarle otro valor para separar las variables\n",
    "print(\"Numero entero:\",numero_entero,\"\\tNumero decimal:\",numero_decimal) # Con \\t separamos como si fuera un TAB\n",
    "print(f\"Numero entero: {numero_entero} \\tNumero decimal: {numero_decimal}\") # Con f pasamos variables entre llaves\n",
    "print(f\"Será {palabra} una palabra? \\nEs {booleano}\") # con \\n hacemos un salto de línea"
   ]
  },
  {
   "cell_type": "markdown",
   "metadata": {},
   "source": [
    "### LISTAS"
   ]
  },
  {
   "cell_type": "markdown",
   "metadata": {},
   "source": [
    "Más allá de estas variables que hasta ahora solo tienen un valor, en python podemos crear distintas estructuras de datos más complejas. El primer caso son las listas (o arrays) que nos permiten almacenar distintos valores de distinto tipo. Se simbolizan con llaves []."
   ]
  },
  {
   "cell_type": "code",
   "execution_count": 4,
   "metadata": {},
   "outputs": [
    {
     "name": "stdout",
     "output_type": "stream",
     "text": [
      "[1, 2, 3, 4]\n",
      "[1, 1.0, 'hola', True]\n"
     ]
    }
   ],
   "source": [
    "# Crear array\n",
    "lista = [1, 2, 3, 4] # Pasamos los valores entre comas\n",
    "lista_tipos_diferentes = [1, 1.0, \"hola\", True] # Podemos pasar distintos tipos de datos dentro del array\n",
    "print(lista)\n",
    "print(lista_tipos_diferentes)"
   ]
  },
  {
   "cell_type": "markdown",
   "metadata": {},
   "source": [
    "Una vez creado un array podemos obtener información sobre la misma y filtrar ciertos valores"
   ]
  },
  {
   "cell_type": "code",
   "execution_count": 5,
   "metadata": {},
   "outputs": [
    {
     "name": "stdout",
     "output_type": "stream",
     "text": [
      "La lista tiene 4 elementos\n"
     ]
    }
   ],
   "source": [
    "# Longitud de la lista\n",
    "print(f\"La lista tiene {len(lista)} elementos\") # Con la función len obtenemos la cantidad de elementos"
   ]
  },
  {
   "cell_type": "code",
   "execution_count": 6,
   "metadata": {},
   "outputs": [
    {
     "name": "stdout",
     "output_type": "stream",
     "text": [
      "1\n",
      "hola\n"
     ]
    }
   ],
   "source": [
    "# Seleccionar un elemento\n",
    "print(lista_tipos_diferentes[0]) # El primer elemento en las listas es el elemento 0 por convención\n",
    "print(lista_tipos_diferentes[2])"
   ]
  },
  {
   "cell_type": "code",
   "execution_count": 7,
   "metadata": {},
   "outputs": [
    {
     "name": "stdout",
     "output_type": "stream",
     "text": [
      "<class 'str'>\n"
     ]
    }
   ],
   "source": [
    "# Tipo de dato de un elemento\n",
    "print(type(lista_tipos_diferentes[2])) # La funcion type nos permite saber el tipo de dato, en este caso 'string'"
   ]
  },
  {
   "cell_type": "code",
   "execution_count": 8,
   "metadata": {},
   "outputs": [
    {
     "name": "stdout",
     "output_type": "stream",
     "text": [
      "[1, 2]\n",
      "[1, 2, 3, 4]\n",
      "[1, 3]\n",
      "[1, 3]\n",
      "4\n",
      "[2, 3]\n",
      "[]\n"
     ]
    }
   ],
   "source": [
    "# Seleccionar varios elementos (se llama slicing)\n",
    "print(lista[0:2]) # Esto indica desde el elemento 0 hasta el 2 (no inclusive)\n",
    "print(lista[0:len(lista)]) # Esto debería imprimir todos los elementos\n",
    "print(lista[0:len(lista):2]) # El tercer parámetro indica que imprimimos de 2 en 2\n",
    "print(lista[::2]) # Lo mismo pero menos verboso\n",
    "print(lista[-1]) # También podemos usar valores negativos para empezar por el final\n",
    "print(lista[-3:-1]) # Usamos los mismos operadores pero para los negativos\n",
    "print(lista[-1:-3]) # Cuidado porque en este caso cambia el orden en que se recorre la lista, por eso da vacio"
   ]
  },
  {
   "cell_type": "code",
   "execution_count": 1,
   "metadata": {},
   "outputs": [
    {
     "name": "stdout",
     "output_type": "stream",
     "text": [
      "Error\n"
     ]
    }
   ],
   "source": [
    "try:\n",
    "    print(lista_tipos_diferentes[4]) # Esto debería arrojar error por estar por fuera de la lista\n",
    "except:\n",
    "    print(\"Error\")"
   ]
  },
  {
   "cell_type": "markdown",
   "metadata": {},
   "source": [
    "#### METODOS"
   ]
  },
  {
   "cell_type": "markdown",
   "metadata": {},
   "source": [
    "Vamos a ver lo que se llaman métodos, es decir funciones que puedo aplicar sobre las listas"
   ]
  },
  {
   "cell_type": "code",
   "execution_count": null,
   "metadata": {},
   "outputs": [],
   "source": [
    "# Append\n",
    "lista.append(5) # Agregamos un elemento al final de la lista\n",
    "print(lista)"
   ]
  },
  {
   "cell_type": "code",
   "execution_count": null,
   "metadata": {},
   "outputs": [],
   "source": [
    "# Pop\n",
    "lista.pop() # Pop elimina y devuelve el ultimo valor de la lista\n",
    "print(lista)\n",
    "lista.pop(0) # Tambien podemos pasarle el indice (el numero de orden) del elemento a eliminar\n",
    "print(lista)"
   ]
  },
  {
   "cell_type": "code",
   "execution_count": null,
   "metadata": {},
   "outputs": [],
   "source": [
    "# Concatenate\n",
    "lista + [1,5] # Con el + podemos agregar otra lista al final\n",
    "print(lista) # Sin embargo la lista sigue igual\n",
    "lista = lista + [1,5] # Para que se haga efectivo, tenemos que volver a asignarla\n",
    "print(lista)\n",
    "lista += [6,7,8,9] # Esta es una forma abreviada\n",
    "print(lista)"
   ]
  },
  {
   "cell_type": "code",
   "execution_count": null,
   "metadata": {},
   "outputs": [],
   "source": [
    "# Sort\n",
    "lista.sort() # Con sort la podemos ordenar en orden creciente\n",
    "print(lista)\n",
    "lista.sort(reverse=True) # O también en orden decreciente con este parámetro\n",
    "print(lista)"
   ]
  },
  {
   "cell_type": "markdown",
   "metadata": {},
   "source": [
    "### Funciones básicas"
   ]
  },
  {
   "cell_type": "markdown",
   "metadata": {},
   "source": [
    "#### FOR"
   ]
  },
  {
   "cell_type": "markdown",
   "metadata": {},
   "source": [
    "Un for es una función que recorre una variable. El nombre de la variable que recorre es indiferente (acá la llamamos i pero podría llamarse JuanCarlos). Siempre un for se termina con 2 puntos y la instrucción que viene abajo tiene que estar \"indentada\" (es decir, separada por tab o 4 espacios)."
   ]
  },
  {
   "cell_type": "code",
   "execution_count": null,
   "metadata": {},
   "outputs": [],
   "source": [
    "# Imprimir todos los elementos con for\n",
    "for i in lista: # El for se usa para recorrer todos los elementos de una lista con una variable i\n",
    "    print(i) # Imprimimos el valor de esa variable\n",
    "    print(\"La mitad es:\",i/2) # O la mitad de ese valor"
   ]
  },
  {
   "cell_type": "markdown",
   "metadata": {},
   "source": [
    "Con la función range creamos un rango de números. Se define por el número inicial, el final y la distancia entre uno y otro. Por default el inicial es 0 y la distancia es 1. Esta función solo sirve para números enteros. Si queremos usar decimales, tenemos que pasar a Numpy (lo veremos más adelante)."
   ]
  },
  {
   "cell_type": "code",
   "execution_count": null,
   "metadata": {},
   "outputs": [],
   "source": [
    "# Crear un rango\n",
    "rango_10 = range(10)\n",
    "rango_1a10 = range(1,10)\n",
    "rango_pares = range(2,20,2)"
   ]
  },
  {
   "cell_type": "markdown",
   "metadata": {},
   "source": [
    "También podemos meter un for dentro de otro para iterar sobre el elemento del elemento. Siempre cuidar los espacios (indentados) para saber que estamos haciendo lo que queremos hacer."
   ]
  },
  {
   "cell_type": "code",
   "execution_count": null,
   "metadata": {},
   "outputs": [],
   "source": [
    "x = [rango_10,rango_1a10,rango_pares] # Creamos una lista con todos los rangos\n",
    "for i in x: # Creamos un for para recorrer los elementos de la lista\n",
    "    print(i)\n",
    "    print(\"Cantidad de elementos\",len(i)) \n",
    "    for j in i: # Creamos otro for para recorrer los elementos de cada rango\n",
    "        print(j) # Imprimimos cada elemento.\n",
    "    print(\"\\n\")"
   ]
  },
  {
   "cell_type": "markdown",
   "metadata": {},
   "source": [
    "#### IF"
   ]
  },
  {
   "cell_type": "markdown",
   "metadata": {},
   "source": [
    "Otra función importante es el IF. Funciona de una manera similar al Excel: definimos una condición que se evalua True o False y definimos un comportamiento para cada caso"
   ]
  },
  {
   "cell_type": "code",
   "execution_count": null,
   "metadata": {},
   "outputs": [],
   "source": [
    "# If\n",
    "if 2+2 == 3: # Definimos la condición. Usamos == porque no estamos asignando sino comparando\n",
    "    print(\"El mundo no seria como es\") # El caso verdadero\n",
    "else: # Cualquier otro caso\n",
    "    print(\"Tamo tranca\")"
   ]
  },
  {
   "cell_type": "markdown",
   "metadata": {},
   "source": [
    "Estas funciones se pueden aplicar a lo que ya sabemos de las listas."
   ]
  },
  {
   "cell_type": "code",
   "execution_count": null,
   "metadata": {},
   "outputs": [],
   "source": [
    "# Crear array vacío y llenarlo\n",
    "lista_vacia = []\n",
    "for i in range(1,10):\n",
    "    lista_vacia.append(i)\n",
    "print(lista_vacia)\n",
    "lista_rango = list(range(1,10)) # Esto es lo mismo pero menos verbose\n",
    "print(lista_rango)"
   ]
  },
  {
   "cell_type": "code",
   "execution_count": null,
   "metadata": {},
   "outputs": [],
   "source": [
    "# Completar un array\n",
    "lista_incompleta = [2,4,6]\n",
    "for i in range(1,10):\n",
    "    if i not in lista_incompleta: # Si no lo encontramos en la lista\n",
    "        lista_incompleta.append(i) # Lo agregamos al final\n",
    "lista_incompleta.sort() # Después ordenamos. Fijensé la importancia del indentado.\n",
    "print(lista_incompleta) # Imprimimos"
   ]
  },
  {
   "cell_type": "code",
   "execution_count": null,
   "metadata": {},
   "outputs": [],
   "source": [
    "# Filtrar valores\n",
    "grandes = [number for number in lista_incompleta if number > 5] # Una lista que cumple la condición\n",
    "print(grandes)"
   ]
  },
  {
   "cell_type": "markdown",
   "metadata": {},
   "source": [
    "### DICCIONARIOS"
   ]
  },
  {
   "cell_type": "markdown",
   "metadata": {},
   "source": [
    "En una lista los elementos están definidos por un índice que, como vimos, arranca en 0 y va hasta el último elemento de la lista. En un diccionario, el índice lo definimos nosotros. Eso nos permite generar estructuras del tipo clave-valor. Los diccionarios los definimos con {}. Dentro de las llaves, cada par clave valor se define entre comillas (o comillas simples) para la clave y separado por : el valor (que va entre comillas solo si es un string). Los pares clave-valor se separan por comas."
   ]
  },
  {
   "cell_type": "code",
   "execution_count": null,
   "metadata": {},
   "outputs": [],
   "source": [
    "# Diccionario\n",
    "diccionario = {'x':1,'y':2,'z':3} # Esta es la forma tradicional\n",
    "diccionario2 = dict(x='equis',y='i griega',z='zeta') # Esta es una forma alternativa de crear un diccionario\n",
    "diccionario3 = dict(zip(['x','y','z'],[1,2,3])) # La funcion zip agrupa en funcion de los indices de las listas"
   ]
  },
  {
   "cell_type": "code",
   "execution_count": null,
   "metadata": {},
   "outputs": [],
   "source": [
    "# Impresion de todo el diccionario\n",
    "print(diccionario1)\n",
    "print(diccionario2)\n",
    "print(diccionario3)"
   ]
  },
  {
   "cell_type": "code",
   "execution_count": null,
   "metadata": {},
   "outputs": [],
   "source": [
    "# Para agregar un elemento\n",
    "diccionario['a'] = 0"
   ]
  },
  {
   "cell_type": "code",
   "execution_count": null,
   "metadata": {},
   "outputs": [],
   "source": [
    "# Cantidad de elementos\n",
    "print(len(diccionario))"
   ]
  },
  {
   "cell_type": "markdown",
   "metadata": {},
   "source": [
    "En los diccionarios tenemos otras formas de acceder a los valores que almacenamos distintas a las de las listas. Podemos acceder a los índices (claves) o a los valores. Si sabemos la clave, podemos acceder al valor para esa clave."
   ]
  },
  {
   "cell_type": "code",
   "execution_count": null,
   "metadata": {},
   "outputs": [],
   "source": [
    "# Acceder con un indice\n",
    "diccionario['x']"
   ]
  },
  {
   "cell_type": "markdown",
   "metadata": {},
   "source": [
    "También podemos quedarnos con las claves o los valores por separado, y los podemos almacenar en una lista para manipularlos más fácilmente"
   ]
  },
  {
   "cell_type": "code",
   "execution_count": null,
   "metadata": {},
   "outputs": [],
   "source": [
    "# Items, valores y claves\n",
    "print(diccionario.items())\n",
    "print(diccionario.values())\n",
    "print(diccionario.keys())"
   ]
  },
  {
   "cell_type": "code",
   "execution_count": null,
   "metadata": {},
   "outputs": [],
   "source": [
    "# En una lista\n",
    "lista_keys = list(diccionario.keys())\n",
    "lista_values = list(diccionario.values())\n",
    "print(lista_keys)\n",
    "print(lista_values)"
   ]
  },
  {
   "cell_type": "code",
   "execution_count": null,
   "metadata": {},
   "outputs": [],
   "source": [
    "# En una lista con tuplas por pares clave-valor\n",
    "list_pairs = list(zip(diccionario.keys(), diccionario.values()))\n",
    "print(list_pairs)"
   ]
  },
  {
   "cell_type": "markdown",
   "metadata": {},
   "source": [
    "Los diccionarios nos dan la posibilidad de iterar sobre las claves y valores. Esto nos puede servir para filtrar por ejemplo."
   ]
  },
  {
   "cell_type": "code",
   "execution_count": null,
   "metadata": {},
   "outputs": [],
   "source": [
    "# Lista filtrando el valor\n",
    "list_filtrada = [(key,value) for (key,value) in diccionario.items() if value == 2]\n",
    "print(list_filtrada)"
   ]
  },
  {
   "cell_type": "markdown",
   "metadata": {},
   "source": [
    "## NUMPY"
   ]
  },
  {
   "cell_type": "markdown",
   "metadata": {},
   "source": [
    "Las dos librerías estándar en Python para procesamiento de datos son Pandas y Numpy. Numpy nos permite manipular arrays (listas) de una manera mucho más eficiente que con las funciones predefinidas en Python porque cada array de Numpy solo contiene un mismo tipo de datos y además es una librería que está escrita en Python pero corre sobre C (que es un lenguaje de más bajo nivel y mucho más eficiente). \n",
    "\n",
    "Además, incorpora algunos métodos que nos van a ahorrar mucho trabajo en la manipulación de esas estructuras. No vamos a ver esta librería en profundidad ya que sus principales mejoras entran en juego cuando tratamos con una cantidad enorme de información (y sobre todo en el manejo de espacios vectoriales), que no va ser nuestro caso por el momento. \n",
    "\n",
    "Sin embargo, veremos cómo crear arrays en Numpy y algunos métodos que nos pueden resultar útiles. Vamos a ver que con Numpy ganamos muchísimo en eficiencia a costa de sacrificar un poco de la flexibilidad de las listas de Python."
   ]
  },
  {
   "cell_type": "markdown",
   "metadata": {},
   "source": [
    "Primero, vamos a ver que hasta ahora vimos un arrray (lista) como una colección de objetos. Sin embargo, cada elemento del array a su vez puede ser otro array o lista. En ese caso, podremos acceder a los elementos con sucesivos corchetes."
   ]
  },
  {
   "cell_type": "code",
   "execution_count": 10,
   "metadata": {},
   "outputs": [],
   "source": [
    "lista_doble = [[1,2,3],\n",
    "               [4,5,6]]"
   ]
  },
  {
   "cell_type": "code",
   "execution_count": 11,
   "metadata": {},
   "outputs": [
    {
     "data": {
      "text/plain": [
       "5"
      ]
     },
     "execution_count": 11,
     "metadata": {},
     "output_type": "execute_result"
    }
   ],
   "source": [
    "lista_doble[1][1]"
   ]
  },
  {
   "cell_type": "code",
   "execution_count": 12,
   "metadata": {},
   "outputs": [],
   "source": [
    "lista_de_listas = [1,[2,[3,[4,5]]]]"
   ]
  },
  {
   "cell_type": "code",
   "execution_count": 13,
   "metadata": {},
   "outputs": [
    {
     "data": {
      "text/plain": [
       "5"
      ]
     },
     "execution_count": 13,
     "metadata": {},
     "output_type": "execute_result"
    }
   ],
   "source": [
    "lista_de_listas[1][1][1][1]"
   ]
  },
  {
   "cell_type": "markdown",
   "metadata": {},
   "source": [
    "Ahora veremos cómo sucede todo esto en el contexto de Numpy."
   ]
  },
  {
   "cell_type": "code",
   "execution_count": 14,
   "metadata": {},
   "outputs": [],
   "source": [
    "import numpy as np # Este es el seudónimo estándar para la librería"
   ]
  },
  {
   "cell_type": "markdown",
   "metadata": {},
   "source": [
    "A continuación varios métodos para inicializar arrays"
   ]
  },
  {
   "cell_type": "code",
   "execution_count": 15,
   "metadata": {},
   "outputs": [
    {
     "data": {
      "text/plain": [
       "array([1, 2, 3, 4])"
      ]
     },
     "execution_count": 15,
     "metadata": {},
     "output_type": "execute_result"
    }
   ],
   "source": [
    "np.array([1,2,3,4]) # Con np.array creamos un array a partir de una lista"
   ]
  },
  {
   "cell_type": "code",
   "execution_count": 16,
   "metadata": {},
   "outputs": [
    {
     "name": "stdout",
     "output_type": "stream",
     "text": [
      "[0. 0. 0. 0.]\n",
      "[1 1 1 1]\n",
      "[ 2  4  6  8 10 12 14 16 18 20]\n",
      "[0.18718125 0.84959745 0.63819047 0.6627227 ]\n",
      "[ 2.24239022  1.26515067 -0.18984485  1.84799573]\n",
      "[1 8 4 4]\n"
     ]
    }
   ],
   "source": [
    "print(np.zeros(4)) # Podemos crear arrays de 0s\n",
    "print(np.ones(4, dtype='int')) # De 1s, especificando el tipo de dato\n",
    "print(np.arange(2,21,2)) # Con rangos (inicio,fin,pasos)\n",
    "print(np.random.random(4)) # Con numeros random entre 0 y 1\n",
    "print(np.random.normal(0, 1, 4)) # Con numeros random pero distribuidos normalmente alrededor de media y desvio\n",
    "print(np.random.randint(1, 10, 4)) # Con numeros random enteros entre dos valores"
   ]
  },
  {
   "cell_type": "markdown",
   "metadata": {},
   "source": [
    "Otra ventaja de Numpy es que incorpora la creación de valores nulos con np.nan."
   ]
  },
  {
   "cell_type": "code",
   "execution_count": 17,
   "metadata": {},
   "outputs": [
    {
     "data": {
      "text/plain": [
       "array([nan, nan, nan, nan])"
      ]
     },
     "execution_count": 17,
     "metadata": {},
     "output_type": "execute_result"
    }
   ],
   "source": [
    "array_nan = np.empty((4)) # Creamos un array vacío\n",
    "array_nan[:] = np.nan # Lo llenamos con valores nulos\n",
    "array_nan"
   ]
  },
  {
   "cell_type": "markdown",
   "metadata": {},
   "source": [
    "Y todos estos métodos también los podemos aplicar para construir arrays multidimensionales"
   ]
  },
  {
   "cell_type": "code",
   "execution_count": 18,
   "metadata": {},
   "outputs": [
    {
     "name": "stdout",
     "output_type": "stream",
     "text": [
      "\n",
      " [[2 7 5 5]\n",
      " [9 8 1 2]\n",
      " [2 4 8 5]\n",
      " [5 3 8 9]]\n"
     ]
    }
   ],
   "source": [
    "print(\"\\n\",np.random.randint(1,10,size=(4,4))) # Siempre la dimensión de la matriz la pasamos entre paréntesis (tupla)"
   ]
  },
  {
   "cell_type": "markdown",
   "metadata": {},
   "source": [
    "Si corremos el código de arriba veremos que cada vez que lo corremos se crea una matriz distinta porque los valores se eligen de manera random. Sin embargo, si queremos construir la misma matriz con una primer iniciación random tenemos que fijar lo que se llama una semilla. Una semilla es un valor a partir del cual se \"determina\" el random y eso hace que podamos replicar los mismos valores random y, por ende, la misma matriz."
   ]
  },
  {
   "cell_type": "code",
   "execution_count": 19,
   "metadata": {},
   "outputs": [
    {
     "data": {
      "text/plain": [
       "array([[6, 5, 1, 5],\n",
       "       [7, 7, 5, 9],\n",
       "       [5, 3, 9, 8],\n",
       "       [3, 9, 9, 6]])"
      ]
     },
     "execution_count": 19,
     "metadata": {},
     "output_type": "execute_result"
    }
   ],
   "source": [
    "np.random.seed(22) # Fijamos la semilla en un número cualquiera\n",
    "np.random.randint(1,10,(4,4)) # Mientras corramos en la misma celda, se va a preservar la semilla"
   ]
  },
  {
   "cell_type": "code",
   "execution_count": 49,
   "metadata": {},
   "outputs": [
    {
     "data": {
      "text/plain": [
       "array([[6, 5, 1, 5],\n",
       "       [7, 7, 5, 9],\n",
       "       [5, 3, 9, 8],\n",
       "       [3, 9, 9, 6]])"
      ]
     },
     "execution_count": 49,
     "metadata": {},
     "output_type": "execute_result"
    }
   ],
   "source": [
    "rs = np.random.RandomState(22) # Otra manera es crear una variable con la semilla\n",
    "rs.randint(1,10,(4,4)) # Y luego inicializar el metodo desde esa variable"
   ]
  },
  {
   "cell_type": "markdown",
   "metadata": {},
   "source": [
    "En los arrays además podemos incluir una dimensión más"
   ]
  },
  {
   "cell_type": "code",
   "execution_count": 20,
   "metadata": {},
   "outputs": [
    {
     "data": {
      "text/plain": [
       "array([[[2, 6, 6, 5, 2],\n",
       "        [5, 4, 4, 5, 1],\n",
       "        [3, 4, 7, 1, 8],\n",
       "        [6, 1, 6, 9, 2]],\n",
       "\n",
       "       [[9, 9, 4, 2, 6],\n",
       "        [7, 6, 7, 3, 6],\n",
       "        [7, 1, 6, 2, 2],\n",
       "        [3, 1, 4, 6, 8]],\n",
       "\n",
       "       [[7, 2, 9, 5, 9],\n",
       "        [9, 6, 6, 6, 5],\n",
       "        [5, 4, 1, 9, 5],\n",
       "        [1, 2, 6, 7, 9]]])"
      ]
     },
     "execution_count": 20,
     "metadata": {},
     "output_type": "execute_result"
    }
   ],
   "source": [
    "array_1 = np.random.randint(1,10,(4,5)) # Este es el array que ya creamos antes\n",
    "array_3 = np.random.randint(1, 10, (3, 4, 5))  # En este caso el 3 implica que tenemos 3 arrays de tamaño 4x5\n",
    "array_3"
   ]
  },
  {
   "cell_type": "markdown",
   "metadata": {},
   "source": [
    "Algunos métodos para saber la forma del array"
   ]
  },
  {
   "cell_type": "code",
   "execution_count": 21,
   "metadata": {},
   "outputs": [
    {
     "name": "stdout",
     "output_type": "stream",
     "text": [
      "Ndim: 2  |  3\n",
      "Shape: (4, 5)  |  (3, 4, 5)\n",
      "Size: 20  |  60\n"
     ]
    }
   ],
   "source": [
    "print(\"Ndim:\",array_1.ndim,\" | \", array_3.ndim)\n",
    "print(\"Shape:\",array_1.shape ,\" | \", array_3.shape)\n",
    "print(\"Size:\",array_1.size ,\" | \", array_3.size)"
   ]
  },
  {
   "attachments": {
    "Selection_999%28536%29.png": {
     "image/png": "[encoded data removed]"
    }
   },
   "cell_type": "markdown",
   "metadata": {},
   "source": [
    "La manera de acceder a los datos dentro de un array es muy parecida a lo que vimos para las listas. Sin embargo, hay un elemento fundamental para acceder correctamente a los arrays de mas de una dimension y tiene que ver con los ejes. El eje 0 representa las \"columnas\" mientras que el eje 1 representa las \"filas\". En la siguiente imagen podemos apreciarlo mejor\n",
    "\n",
    "![Selection_999%28536%29.png](attachment:Selection_999%28536%29.png)"
   ]
  },
  {
   "cell_type": "code",
   "execution_count": 22,
   "metadata": {},
   "outputs": [
    {
     "data": {
      "text/plain": [
       "4"
      ]
     },
     "execution_count": 22,
     "metadata": {},
     "output_type": "execute_result"
    }
   ],
   "source": [
    "array_3[0][1][1] # Igual que en las listas, con sucesión de corchetes"
   ]
  },
  {
   "cell_type": "code",
   "execution_count": 23,
   "metadata": {},
   "outputs": [
    {
     "data": {
      "text/plain": [
       "4"
      ]
     },
     "execution_count": 23,
     "metadata": {},
     "output_type": "execute_result"
    }
   ],
   "source": [
    "array_3[0,1,1] # O dentro del corchete con comas"
   ]
  },
  {
   "cell_type": "markdown",
   "metadata": {},
   "source": [
    "También podemos utilizar métodos de slicing que veremos también para las estructuras de datos de Pandas. El slicing consiste en seleccionar un subset de los datos a través de parámetros de inicio, fin y pasos que los indicamos entre corchetes y separados por dos puntos."
   ]
  },
  {
   "cell_type": "code",
   "execution_count": 24,
   "metadata": {},
   "outputs": [
    {
     "data": {
      "text/plain": [
       "array([[5, 3, 3, 2, 7],\n",
       "       [4, 4, 3, 8, 8],\n",
       "       [8, 8, 5, 5, 8],\n",
       "       [2, 2, 8, 4, 1]])"
      ]
     },
     "execution_count": 24,
     "metadata": {},
     "output_type": "execute_result"
    }
   ],
   "source": [
    "array_1 # Array multidimensional de 1x4x5"
   ]
  },
  {
   "cell_type": "code",
   "execution_count": 25,
   "metadata": {},
   "outputs": [
    {
     "data": {
      "text/plain": [
       "array([5, 3, 3, 2, 7])"
      ]
     },
     "execution_count": 25,
     "metadata": {},
     "output_type": "execute_result"
    }
   ],
   "source": [
    "array_1[0] # Seleccionamos la primer fila"
   ]
  },
  {
   "cell_type": "code",
   "execution_count": 26,
   "metadata": {},
   "outputs": [
    {
     "data": {
      "text/plain": [
       "3"
      ]
     },
     "execution_count": 26,
     "metadata": {},
     "output_type": "execute_result"
    }
   ],
   "source": [
    "array_1[0,1] # El primer elemento de la primer fila"
   ]
  },
  {
   "cell_type": "code",
   "execution_count": 27,
   "metadata": {},
   "outputs": [
    {
     "data": {
      "text/plain": [
       "array([5, 3, 3, 2, 7])"
      ]
     },
     "execution_count": 27,
     "metadata": {},
     "output_type": "execute_result"
    }
   ],
   "source": [
    "array_1[0,0:] # Todos los elementos de la primer fila"
   ]
  },
  {
   "cell_type": "code",
   "execution_count": 28,
   "metadata": {},
   "outputs": [
    {
     "data": {
      "text/plain": [
       "array([5, 3, 7])"
      ]
     },
     "execution_count": 28,
     "metadata": {},
     "output_type": "execute_result"
    }
   ],
   "source": [
    "array_1[0,0::2] # Todos los elementos de la primer fila, de 2 en 2"
   ]
  },
  {
   "cell_type": "code",
   "execution_count": 29,
   "metadata": {},
   "outputs": [
    {
     "data": {
      "text/plain": [
       "array([7, 9, 9])"
      ]
     },
     "execution_count": 29,
     "metadata": {},
     "output_type": "execute_result"
    }
   ],
   "source": [
    "array_3[2,0,0::2] # Lo mismo pero agregamos una dimensión más para indicar el primer array multidimensional"
   ]
  },
  {
   "cell_type": "markdown",
   "metadata": {},
   "source": [
    "Otra diferencia sustancial de los arrays de Numpy respecto a las listas de Python es que al crear un subset del array orginal, este se mantiene como una vista y no como una copia. Es decir que si modifico el subset, también se va a modificar el array original. Veamos con un ejemplo"
   ]
  },
  {
   "cell_type": "code",
   "execution_count": 30,
   "metadata": {},
   "outputs": [
    {
     "data": {
      "text/plain": [
       "array([0, 0, 0, 0, 0])"
      ]
     },
     "execution_count": 30,
     "metadata": {},
     "output_type": "execute_result"
    }
   ],
   "source": [
    "fila_0_array_1 = array_1[0] # Creamos una variable con un subset del array\n",
    "fila_0_array_1[:] = [0,0,0,0,0] # Reasignamos ese array con nuevos valores\n",
    "fila_0_array_1"
   ]
  },
  {
   "cell_type": "code",
   "execution_count": 31,
   "metadata": {},
   "outputs": [
    {
     "data": {
      "text/plain": [
       "array([[0, 0, 0, 0, 0],\n",
       "       [4, 4, 3, 8, 8],\n",
       "       [8, 8, 5, 5, 8],\n",
       "       [2, 2, 8, 4, 1]])"
      ]
     },
     "execution_count": 31,
     "metadata": {},
     "output_type": "execute_result"
    }
   ],
   "source": [
    "array_1"
   ]
  },
  {
   "cell_type": "markdown",
   "metadata": {},
   "source": [
    "Si lo que queremos es trabajar sobre un array nuevo hecho a partir de un subset del array original, tenemos que hacer una copia."
   ]
  },
  {
   "cell_type": "code",
   "execution_count": 32,
   "metadata": {},
   "outputs": [],
   "source": [
    "copia_array_1 = array_1.copy()\n",
    "copia_array_1[0] = [100,100,100,100,100]"
   ]
  },
  {
   "cell_type": "code",
   "execution_count": 33,
   "metadata": {},
   "outputs": [
    {
     "data": {
      "text/plain": [
       "array([[0, 0, 0, 0, 0],\n",
       "       [4, 4, 3, 8, 8],\n",
       "       [8, 8, 5, 5, 8],\n",
       "       [2, 2, 8, 4, 1]])"
      ]
     },
     "execution_count": 33,
     "metadata": {},
     "output_type": "execute_result"
    }
   ],
   "source": [
    "array_1"
   ]
  },
  {
   "cell_type": "code",
   "execution_count": 34,
   "metadata": {},
   "outputs": [
    {
     "data": {
      "text/plain": [
       "array([[100, 100, 100, 100, 100],\n",
       "       [  4,   4,   3,   8,   8],\n",
       "       [  8,   8,   5,   5,   8],\n",
       "       [  2,   2,   8,   4,   1]])"
      ]
     },
     "execution_count": 34,
     "metadata": {},
     "output_type": "execute_result"
    }
   ],
   "source": [
    "copia_array_1"
   ]
  },
  {
   "cell_type": "markdown",
   "metadata": {},
   "source": [
    "También tenemos métodos para concatenar arrays con parámetros que nos dan mucha flexibilidad a la hora de hacerlo."
   ]
  },
  {
   "cell_type": "code",
   "execution_count": 35,
   "metadata": {},
   "outputs": [
    {
     "data": {
      "text/plain": [
       "array([[0, 0, 0, 0, 0],\n",
       "       [4, 4, 3, 8, 8],\n",
       "       [8, 8, 5, 5, 8],\n",
       "       [2, 2, 8, 4, 1],\n",
       "       [2, 6, 6, 5, 2],\n",
       "       [5, 4, 4, 5, 1],\n",
       "       [3, 4, 7, 1, 8],\n",
       "       [6, 1, 6, 9, 2]])"
      ]
     },
     "execution_count": 35,
     "metadata": {},
     "output_type": "execute_result"
    }
   ],
   "source": [
    "np.concatenate([array_1,array_3[0]])"
   ]
  },
  {
   "cell_type": "code",
   "execution_count": 36,
   "metadata": {},
   "outputs": [
    {
     "data": {
      "text/plain": [
       "array([[0, 0, 0, 0, 0, 2, 6, 6, 5, 2],\n",
       "       [4, 4, 3, 8, 8, 5, 4, 4, 5, 1],\n",
       "       [8, 8, 5, 5, 8, 3, 4, 7, 1, 8],\n",
       "       [2, 2, 8, 4, 1, 6, 1, 6, 9, 2]])"
      ]
     },
     "execution_count": 36,
     "metadata": {},
     "output_type": "execute_result"
    }
   ],
   "source": [
    "np.concatenate([array_1,array_3[0]],axis=1)"
   ]
  },
  {
   "cell_type": "markdown",
   "metadata": {},
   "source": [
    "Otro método útil es el reshape que nos permite cambiar la forma que tiene un array."
   ]
  },
  {
   "cell_type": "code",
   "execution_count": 37,
   "metadata": {},
   "outputs": [
    {
     "name": "stdout",
     "output_type": "stream",
     "text": [
      "[1 2 3 4 5 6 7 8 9]\n"
     ]
    },
    {
     "data": {
      "text/plain": [
       "array([[1, 2, 3],\n",
       "       [4, 5, 6],\n",
       "       [7, 8, 9]])"
      ]
     },
     "execution_count": 37,
     "metadata": {},
     "output_type": "execute_result"
    }
   ],
   "source": [
    "print(np.arange(1,10))\n",
    "np.arange(1,10).reshape(3,3)"
   ]
  },
  {
   "cell_type": "markdown",
   "metadata": {},
   "source": [
    "También contamos con funciones para obtener estadísticos básicos sobre los arrays. En muchos casos, son similares a las funciones que podemos correr en Python pero con una performance mucho más eficiente."
   ]
  },
  {
   "cell_type": "code",
   "execution_count": 38,
   "metadata": {},
   "outputs": [],
   "source": [
    "normal = np.random.normal(0,1, size = 1000000) # Creamos un array de 1 millon de elementos"
   ]
  },
  {
   "cell_type": "markdown",
   "metadata": {},
   "source": [
    "Vamos a usar una magic function (son funciones de Jupyter Notebook o Google Colab que se corren con el signo %). En este caso usamos timeit que permite hacer muchas pasadas de un mismo comando para calcular el tiempo promedio que demora en ejecutarla."
   ]
  },
  {
   "cell_type": "code",
   "execution_count": 39,
   "metadata": {},
   "outputs": [
    {
     "name": "stdout",
     "output_type": "stream",
     "text": [
      "124 ms ± 16.3 ms per loop (mean ± std. dev. of 7 runs, 10 loops each)\n"
     ]
    }
   ],
   "source": [
    "%timeit min(normal) # Calculamos el minimo con la funcion de Python"
   ]
  },
  {
   "cell_type": "code",
   "execution_count": 40,
   "metadata": {},
   "outputs": [
    {
     "name": "stdout",
     "output_type": "stream",
     "text": [
      "698 µs ± 25.5 µs per loop (mean ± std. dev. of 7 runs, 1000 loops each)\n"
     ]
    }
   ],
   "source": [
    "%timeit np.min(normal) # Calculamos el minimo con la funcion de Numpy"
   ]
  },
  {
   "cell_type": "markdown",
   "metadata": {},
   "source": [
    "Además, Numpy nos permite realizar cálculos de una manera flexible: sobre todo el array, sobre las filas o las columnas."
   ]
  },
  {
   "cell_type": "code",
   "execution_count": 41,
   "metadata": {},
   "outputs": [],
   "source": [
    "normal_matrix = normal.reshape(10,100000) # Hacemos un reshape para tener una matriz de 10x100000"
   ]
  },
  {
   "cell_type": "code",
   "execution_count": 42,
   "metadata": {},
   "outputs": [
    {
     "data": {
      "text/plain": [
       "400.6988839521047"
      ]
     },
     "execution_count": 42,
     "metadata": {},
     "output_type": "execute_result"
    }
   ],
   "source": [
    "normal_matrix.sum() # Calculamos la suma de todos los elementos de la matriz"
   ]
  },
  {
   "cell_type": "code",
   "execution_count": 43,
   "metadata": {},
   "outputs": [
    {
     "data": {
      "text/plain": [
       "array([ 2.491068  , -3.30887374,  1.53690926, ...,  0.87914354,\n",
       "       -0.07469581, -0.63801008])"
      ]
     },
     "execution_count": 43,
     "metadata": {},
     "output_type": "execute_result"
    }
   ],
   "source": [
    "normal_matrix.sum(axis=0) # Calculamos ese valor por fila"
   ]
  },
  {
   "cell_type": "code",
   "execution_count": 44,
   "metadata": {},
   "outputs": [
    {
     "data": {
      "text/plain": [
       "array([  -5.65730362,  264.738337  , -521.7169546 , -387.83867118,\n",
       "       -190.35170794,  230.24691141,  -66.79705539,  414.04572197,\n",
       "        255.17039362,  408.85921269])"
      ]
     },
     "execution_count": 44,
     "metadata": {},
     "output_type": "execute_result"
    }
   ],
   "source": [
    "normal_matrix.sum(axis=1) # Calculamos ese valor por columna"
   ]
  },
  {
   "cell_type": "markdown",
   "metadata": {},
   "source": [
    "También podemos filtrar el array en base a ciertas condiciones. Al filtrar, nos va a devolver un array de igual dimensión compuesto por valores booleanos (True o False). Si aplicamos sum sobre ese array, podemos contar la cantidad de Trues (interpretados como 1). O podemos aplicar esa condición sobre el array original, lo cual nos va a devolver un array con los valores que la cumplan."
   ]
  },
  {
   "cell_type": "code",
   "execution_count": 45,
   "metadata": {},
   "outputs": [
    {
     "data": {
      "text/plain": [
       "array([False,  True,  True, ..., False,  True,  True])"
      ]
     },
     "execution_count": 45,
     "metadata": {},
     "output_type": "execute_result"
    }
   ],
   "source": [
    "normal<1"
   ]
  },
  {
   "cell_type": "code",
   "execution_count": 46,
   "metadata": {},
   "outputs": [
    {
     "data": {
      "text/plain": [
       "841363"
      ]
     },
     "execution_count": 46,
     "metadata": {},
     "output_type": "execute_result"
    }
   ],
   "source": [
    "(normal<1).sum() # Obtenemos la cantidad  de lementos que cumplen la condicion"
   ]
  },
  {
   "cell_type": "code",
   "execution_count": 47,
   "metadata": {},
   "outputs": [
    {
     "data": {
      "text/plain": [
       "array([2.78193943, 1.41682624, 1.43368405, ..., 1.45597351, 1.15041319,\n",
       "       1.0453559 ])"
      ]
     },
     "execution_count": 47,
     "metadata": {},
     "output_type": "execute_result"
    }
   ],
   "source": [
    "normal[~(normal < 1)] # El operador ~ transforma el True en False y viceversa"
   ]
  },
  {
   "cell_type": "code",
   "execution_count": 48,
   "metadata": {},
   "outputs": [
    {
     "data": {
      "text/plain": [
       "158637"
      ]
     },
     "execution_count": 48,
     "metadata": {},
     "output_type": "execute_result"
    }
   ],
   "source": [
    "normal[~(normal < 1)].size # Vemos la cantidad de elementos del nuevo array"
   ]
  },
  {
   "cell_type": "markdown",
   "metadata": {},
   "source": [
    "Además de estos métodos, Numpy tiene una gran cantidad de funciones definidas para realizar operaciones sobre los arrays de una manera mucho más eficiente. Estas son llamadas ufunc y se pueden encontrar documentadas aquí: https://numpy.org/doc/stable/reference/ufuncs.html"
   ]
  },
  {
   "cell_type": "markdown",
   "metadata": {},
   "source": [
    "## PANDAS"
   ]
  },
  {
   "cell_type": "markdown",
   "metadata": {},
   "source": [
    "Pandas es una de las librerías básicas y fundamentales por las posibilidades que nos permite en el manejo de datos. Una vez que conozcamos las dos estructuras básicas de datos (series y data frames), vamos a ver algunas funciones (por ejemplo para cargar o guardar un dataset) pero también vamos a explicitar en qué casos hace falta usar Pandas y en cuáles podemos trabajar más fácilmente con las estructuras de datos básicas de Python."
   ]
  },
  {
   "cell_type": "markdown",
   "metadata": {},
   "source": [
    "### SERIES"
   ]
  },
  {
   "cell_type": "markdown",
   "metadata": {},
   "source": [
    "Tanto Pandas como Numpy ya se encuentran instalados por defecto en Jupyter Notebook y en Google Colab, por eso solo las importamos."
   ]
  },
  {
   "cell_type": "code",
   "execution_count": 49,
   "metadata": {},
   "outputs": [],
   "source": [
    "# Importamos la librería\n",
    "import pandas as pd # Le damos un pseudónimo para no tener que escribis \"pandas\" cada vez"
   ]
  },
  {
   "cell_type": "markdown",
   "metadata": {},
   "source": [
    "Las series son objetos asimilables a las listas o los arrays que vimos anteriormente. Mientras que las listas tienen índices implícitos (sabíamos que el primer elemento era el 0 pero no era visible), en las series estos índices se vuelven explícitos. En este sentido, las series están en un punto intermedio entre las listas y los diccionarios."
   ]
  },
  {
   "cell_type": "code",
   "execution_count": 50,
   "metadata": {},
   "outputs": [
    {
     "name": "stdout",
     "output_type": "stream",
     "text": [
      "0    a\n",
      "1    b\n",
      "2    c\n",
      "3    d\n",
      "4    e\n",
      "5    f\n",
      "6    g\n",
      "7    h\n",
      "dtype: object\n"
     ]
    }
   ],
   "source": [
    "# Creamos la serie\n",
    "serie = pd.Series(['a','b','c','d','e','f','g','h']) # Para eso tenemos que llamar la funcion pd.Series()\n",
    "print(serie)"
   ]
  },
  {
   "cell_type": "markdown",
   "metadata": {},
   "source": [
    "Los indices de las series no tienen por qué ser numéricos."
   ]
  },
  {
   "cell_type": "code",
   "execution_count": 51,
   "metadata": {},
   "outputs": [
    {
     "data": {
      "text/plain": [
       "a    1\n",
       "b    2\n",
       "c    3\n",
       "d    4\n",
       "e    5\n",
       "f    6\n",
       "g    7\n",
       "h    8\n",
       "dtype: int64"
      ]
     },
     "execution_count": 51,
     "metadata": {},
     "output_type": "execute_result"
    }
   ],
   "source": [
    "serie2 = pd.Series([1,2,3,4,5,6,7,8], index = ['a','b','c','d','e','f','g','h'])\n",
    "serie2"
   ]
  },
  {
   "cell_type": "markdown",
   "metadata": {},
   "source": [
    "Muchas de las funciones y métodos que podemos aplicar son similares pero también se agregan otros atributos o métodos."
   ]
  },
  {
   "cell_type": "code",
   "execution_count": 52,
   "metadata": {},
   "outputs": [
    {
     "name": "stdout",
     "output_type": "stream",
     "text": [
      "8\n",
      "8\n"
     ]
    }
   ],
   "source": [
    "# Cantidad de elementos\n",
    "print(len(serie)) # Siempre el largo va a ser uno mas que el ultimo indice, porque empieza en 0 guiño guiño\n",
    "print(serie.size) # Otra opción es usar el atributo size"
   ]
  },
  {
   "cell_type": "code",
   "execution_count": 53,
   "metadata": {},
   "outputs": [
    {
     "name": "stdout",
     "output_type": "stream",
     "text": [
      "1    b\n",
      "3    d\n",
      "5    f\n",
      "7    h\n",
      "dtype: object\n",
      "1    b\n",
      "3    d\n",
      "5    f\n",
      "7    h\n",
      "dtype: object\n"
     ]
    }
   ],
   "source": [
    "# Seleccion de elementos\n",
    "print(serie[1:8:2]) # El slicing es igual a las listas\n",
    "print(serie.iloc[1:8:2]) # Pero se agrega loc e iloc, que los veremos mejor con los dataframes"
   ]
  },
  {
   "cell_type": "code",
   "execution_count": 54,
   "metadata": {},
   "outputs": [
    {
     "name": "stdout",
     "output_type": "stream",
     "text": [
      "<class 'list'>\n",
      "<class 'pandas.core.series.Series'>\n",
      "<class 'numpy.ndarray'>\n",
      "<class 'list'>\n",
      "<class 'list'>\n"
     ]
    }
   ],
   "source": [
    "# Tipos de datos\n",
    "serie_lista = pd.Series(lista) # Podemos crear una serie a partir de una lista existente\n",
    "print(type(lista))\n",
    "print(type(serie_lista))\n",
    "print(type(serie_lista.values)) # Al crear una serie, la lista se transforma en un array de Numpy\n",
    "print(type(serie_lista.tolist())) # Siempre podemos volver a la lista con el método tolist()\n",
    "print(type(serie_lista.to_list())) # También sirve to_list()"
   ]
  },
  {
   "cell_type": "markdown",
   "metadata": {},
   "source": [
    "#### METODOS"
   ]
  },
  {
   "cell_type": "markdown",
   "metadata": {},
   "source": [
    "A continuación, vemos algunas de las funciones o métodos más relevantes que aportan las Series en Pandas. Para más información, se puede consultar en https://pandas.pydata.org/pandas-docs/stable/reference/api/pandas.Series.html el listado completo de métodos y atributos."
   ]
  },
  {
   "cell_type": "code",
   "execution_count": 55,
   "metadata": {},
   "outputs": [
    {
     "name": "stdout",
     "output_type": "stream",
     "text": [
      "0    a\n",
      "1    b\n",
      "2    c\n",
      "3    d\n",
      "4    e\n",
      "5    f\n",
      "6    g\n",
      "7    h\n",
      "8    i\n",
      "dtype: object\n"
     ]
    }
   ],
   "source": [
    "# Agregar elementos\n",
    "serie[8] = 'i' # Tenemos que usar el indice para agregar un elemento\n",
    "print(serie)"
   ]
  },
  {
   "cell_type": "markdown",
   "metadata": {},
   "source": [
    "Para la mayoría de los métodos que vamos a ver a continuación tenemos que tener en cuenta que al ejecutarlos devuelven una serie. Esta serie tenemos que asignarla a alguna variable porque, sino, la perdemos. Lo más usual es renombrar la misma serie corriendo el método elegido."
   ]
  },
  {
   "cell_type": "code",
   "execution_count": 56,
   "metadata": {},
   "outputs": [
    {
     "name": "stdout",
     "output_type": "stream",
     "text": [
      "Esto pasa si no definimos los indices: \n",
      " 0    a\n",
      "1    b\n",
      "2    c\n",
      "3    d\n",
      "4    e\n",
      "5    f\n",
      "6    g\n",
      "7    h\n",
      "8    i\n",
      "0    j\n",
      "1    k\n",
      "2    l\n",
      "dtype: object\n",
      "\n",
      "También podemos pedir que los ignore:\n",
      " 0     a\n",
      "1     b\n",
      "2     c\n",
      "3     d\n",
      "4     e\n",
      "5     f\n",
      "6     g\n",
      "7     h\n",
      "8     i\n",
      "9     m\n",
      "10    n\n",
      "11    o\n",
      "dtype: object\n"
     ]
    }
   ],
   "source": [
    "# Append\n",
    "test = serie.append(pd.Series(['j','k','l'])) # El metodo append solo sirve para agregar otra Serie\n",
    "print(\"Esto pasa si no definimos los indices: \\n\",test) # Pero tenemos que tener cuidado con los indices\n",
    "serie = serie.append(pd.Series(['m','n','o']),ignore_index = True) # Para eso pedimos que ignore los índices originales\n",
    "print(\"\\nTambién podemos pedir que los ignore:\\n\",serie) # En el paso anterior asignamos la serie resultante a \"serie\""
   ]
  },
  {
   "cell_type": "code",
   "execution_count": 57,
   "metadata": {},
   "outputs": [
    {
     "name": "stdout",
     "output_type": "stream",
     "text": [
      "Serie de objects/strings: \n",
      " count     12\n",
      "unique    12\n",
      "top        f\n",
      "freq       1\n",
      "dtype: object\n",
      "\n",
      "Serie de floats: \n",
      " count    4.000000\n",
      "mean     2.500000\n",
      "std      1.290994\n",
      "min      1.000000\n",
      "25%      1.750000\n",
      "50%      2.500000\n",
      "75%      3.250000\n",
      "max      4.000000\n",
      "dtype: float64\n"
     ]
    }
   ],
   "source": [
    "# Describe\n",
    "print(\"Serie de objects/strings: \\n\",serie.describe()) # Para una serie conformada por una lista de strings\n",
    "print(\"\\nSerie de floats: \\n\",serie_lista.describe()) # Para una serie conformada por una lista de integers"
   ]
  },
  {
   "cell_type": "code",
   "execution_count": 58,
   "metadata": {},
   "outputs": [
    {
     "name": "stdout",
     "output_type": "stream",
     "text": [
      "0     False\n",
      "1     False\n",
      "2     False\n",
      "3     False\n",
      "4     False\n",
      "5     False\n",
      "6      True\n",
      "7     False\n",
      "8     False\n",
      "9     False\n",
      "10    False\n",
      "11    False\n",
      "dtype: bool\n"
     ]
    }
   ],
   "source": [
    "# Duplicated\n",
    "serie[6] = 'a' # Asigno una a para que encuentre un valor duplicado\n",
    "print(serie.duplicated()) # Devuelve True para el segundo valor"
   ]
  },
  {
   "cell_type": "code",
   "execution_count": 59,
   "metadata": {},
   "outputs": [
    {
     "data": {
      "text/plain": [
       "0     a\n",
       "1     b\n",
       "2     c\n",
       "3     d\n",
       "4     e\n",
       "5     f\n",
       "7     h\n",
       "8     i\n",
       "9     m\n",
       "10    n\n",
       "11    o\n",
       "dtype: object"
      ]
     },
     "execution_count": 59,
     "metadata": {},
     "output_type": "execute_result"
    }
   ],
   "source": [
    "# Drop_duplicates\n",
    "serie.drop_duplicates() # Eliminamos los duplicados pero mantiene los indices originales"
   ]
  },
  {
   "cell_type": "markdown",
   "metadata": {},
   "source": [
    "Como veremos a continuación, los métodos se pueden encadenar para correr varios de ellos sobre la misma serie."
   ]
  },
  {
   "cell_type": "code",
   "execution_count": 60,
   "metadata": {},
   "outputs": [
    {
     "name": "stdout",
     "output_type": "stream",
     "text": [
      "Con drop = False (por defecto):\n",
      "     index  0\n",
      "0       0  a\n",
      "1       1  b\n",
      "2       2  c\n",
      "3       3  d\n",
      "4       4  e\n",
      "5       5  f\n",
      "6       7  h\n",
      "7       8  i\n",
      "8       9  m\n",
      "9      10  n\n",
      "10     11  o\n",
      "\n",
      "Con drop = True:\n",
      " 0     a\n",
      "1     b\n",
      "2     c\n",
      "3     d\n",
      "4     e\n",
      "5     f\n",
      "6     h\n",
      "7     i\n",
      "8     m\n",
      "9     n\n",
      "10    o\n",
      "dtype: object\n"
     ]
    }
   ],
   "source": [
    "# Reset_index\n",
    "print(\"Con drop = False (por defecto):\\n\",serie.drop_duplicates().reset_index()) # Reseteamos el index\n",
    "print(\"\\nCon drop = True:\\n\",serie.drop_duplicates().reset_index(drop=True)) # Lo dropeamos para que no agregue una columna"
   ]
  },
  {
   "cell_type": "markdown",
   "metadata": {},
   "source": [
    "Una vez que estamos contentos con el resultado, almacenamos la serie."
   ]
  },
  {
   "cell_type": "code",
   "execution_count": 61,
   "metadata": {},
   "outputs": [
    {
     "data": {
      "text/plain": [
       "0     a\n",
       "1     b\n",
       "2     c\n",
       "3     d\n",
       "4     e\n",
       "5     f\n",
       "6     h\n",
       "7     i\n",
       "8     m\n",
       "9     n\n",
       "10    o\n",
       "dtype: object"
      ]
     },
     "execution_count": 61,
     "metadata": {},
     "output_type": "execute_result"
    }
   ],
   "source": [
    "# Almacenar la serie\n",
    "serie_unicos = serie.drop_duplicates().reset_index(drop=True)\n",
    "serie_unicos"
   ]
  },
  {
   "cell_type": "code",
   "execution_count": 62,
   "metadata": {},
   "outputs": [
    {
     "data": {
      "text/plain": [
       "0    a\n",
       "1    b\n",
       "2    c\n",
       "3    d\n",
       "dtype: object"
      ]
     },
     "execution_count": 62,
     "metadata": {},
     "output_type": "execute_result"
    }
   ],
   "source": [
    "# Head\n",
    "serie.head(4) # Muestra los primeros n elementos de la serie"
   ]
  },
  {
   "cell_type": "code",
   "execution_count": 63,
   "metadata": {},
   "outputs": [
    {
     "data": {
      "text/plain": [
       "0     False\n",
       "1     False\n",
       "2     False\n",
       "3      True\n",
       "4     False\n",
       "5     False\n",
       "6     False\n",
       "7     False\n",
       "8     False\n",
       "9     False\n",
       "10    False\n",
       "11    False\n",
       "dtype: bool"
      ]
     },
     "execution_count": 63,
     "metadata": {},
     "output_type": "execute_result"
    }
   ],
   "source": [
    "# Isna\n",
    "serie[3] = float('nan') # Asignamos un nulo. Otra opción es con Numpy, con numpy.nan\n",
    "serie.isna()"
   ]
  },
  {
   "cell_type": "code",
   "execution_count": 64,
   "metadata": {},
   "outputs": [
    {
     "data": {
      "text/plain": [
       "10"
      ]
     },
     "execution_count": 64,
     "metadata": {},
     "output_type": "execute_result"
    }
   ],
   "source": [
    "# Nunique\n",
    "serie.nunique() # Devuelve la cantidad de valores únicos"
   ]
  },
  {
   "cell_type": "code",
   "execution_count": 65,
   "metadata": {},
   "outputs": [
    {
     "name": "stdout",
     "output_type": "stream",
     "text": [
      "0    1\n",
      "1    2\n",
      "2    3\n",
      "3    4\n",
      "dtype: int64\n",
      "\n",
      " 0    1\n",
      "1    2\n",
      "2    3\n",
      "3    4\n",
      "dtype: int64\n",
      "\n",
      " 0    1\n",
      "1    2\n",
      "2    3\n",
      "3    4\n",
      "dtype: int64\n"
     ]
    }
   ],
   "source": [
    "# Sort_values\n",
    "print(serie_lista) # Lista original\n",
    "print(\"\\n\",serie_lista.sort_values()) # Lista ordenada manteniendo los índices\n",
    "print(\"\\n\",serie_lista.sort_values(ignore_index=True)) # Lista ordenada reseteando los índices"
   ]
  },
  {
   "cell_type": "markdown",
   "metadata": {},
   "source": [
    "### DATAFRAME"
   ]
  },
  {
   "cell_type": "markdown",
   "metadata": {},
   "source": [
    "El dataframe es una de las estructuras más importantes que nos habilita Pandas. Es una estructura similar a una matriz con filas y columnas pero optimizada para las tareas de Data Science. Aprender a manipular dataframes es fundamental porque probablemente sea la estructura que usemos para almacenar los datos con los que trabajemos."
   ]
  },
  {
   "cell_type": "markdown",
   "metadata": {},
   "source": [
    "Para crear un dataframe tenemos muchas opciones. Cada columna va a equivaler a una lista o serie y sus índices son los que vienen implícitos o explícitos en estas estructuras. A su vez, los nombres de las columnas pueden venir dados en la propia creación del dataframe o bien los podemos setear explícitamente."
   ]
  },
  {
   "cell_type": "markdown",
   "metadata": {},
   "source": [
    "#### CREACION"
   ]
  },
  {
   "cell_type": "code",
   "execution_count": 66,
   "metadata": {},
   "outputs": [
    {
     "name": "stdout",
     "output_type": "stream",
     "text": [
      "            Marca  Precio  Tanque  Kilometros  Modelo\n",
      "0     Honda Civic   22000     1.6        2000    2018\n",
      "1  Toyota Corolla   25000     1.6        1500    2019\n",
      "2      Ford Focus   27000     1.4           0    2020\n",
      "3         Audi A4   35000     2.0        3500    2017\n"
     ]
    }
   ],
   "source": [
    "# Creación de un dataframe 1. A partir de un diccionario\n",
    "cars = {\n",
    "    'Marca': ['Honda Civic','Toyota Corolla','Ford Focus','Audi A4'],\n",
    "    'Precio': [22000,25000,27000,35000],\n",
    "    'Tanque': [1.6,1.6,1.4,2.0],\n",
    "    'Kilometros': [2000,1500,0,3500],\n",
    "    'Modelo': [2018,2019,2020,2017]} \n",
    "df_cars = df_cars1 = pd.DataFrame(cars) # Con el diccionario, las keys pasan a ser nombres de las columnas\n",
    "print(df_cars1)\n",
    "\n"
   ]
  },
  {
   "cell_type": "code",
   "execution_count": 67,
   "metadata": {},
   "outputs": [
    {
     "name": "stdout",
     "output_type": "stream",
     "text": [
      "                      0               1           2        3\n",
      "Marca       Honda Civic  Toyota Corolla  Ford Focus  Audi A4\n",
      "Precio            22000           25000       27000    35000\n",
      "Tanque              1.6             1.6         1.4        2\n",
      "Kilometros         2000            1500           0     3500\n",
      "Modelo             2018            2019        2020     2017\n"
     ]
    }
   ],
   "source": [
    "# Creación de un dataframe 1 BIS. A partir de un diccionario\n",
    "df_cars1bis = pd.DataFrame.from_dict(cars, orient='index') # Para que las keys sean filas, usamos from_dict\n",
    "print(df_cars1bis)"
   ]
  },
  {
   "cell_type": "code",
   "execution_count": 68,
   "metadata": {},
   "outputs": [
    {
     "data": {
      "text/html": [
       "<div>\n",
       "<style scoped>\n",
       "    .dataframe tbody tr th:only-of-type {\n",
       "        vertical-align: middle;\n",
       "    }\n",
       "\n",
       "    .dataframe tbody tr th {\n",
       "        vertical-align: top;\n",
       "    }\n",
       "\n",
       "    .dataframe thead th {\n",
       "        text-align: right;\n",
       "    }\n",
       "</style>\n",
       "<table border=\"1\" class=\"dataframe\">\n",
       "  <thead>\n",
       "    <tr style=\"text-align: right;\">\n",
       "      <th></th>\n",
       "      <th>0</th>\n",
       "    </tr>\n",
       "  </thead>\n",
       "  <tbody>\n",
       "    <tr>\n",
       "      <th>Honda Civic</th>\n",
       "      <td>22000</td>\n",
       "    </tr>\n",
       "    <tr>\n",
       "      <th>Toyota Corolla</th>\n",
       "      <td>25000</td>\n",
       "    </tr>\n",
       "    <tr>\n",
       "      <th>Ford Focus</th>\n",
       "      <td>27000</td>\n",
       "    </tr>\n",
       "    <tr>\n",
       "      <th>Audi A4</th>\n",
       "      <td>35000</td>\n",
       "    </tr>\n",
       "  </tbody>\n",
       "</table>\n",
       "</div>"
      ],
      "text/plain": [
       "                    0\n",
       "Honda Civic     22000\n",
       "Toyota Corolla  25000\n",
       "Ford Focus      27000\n",
       "Audi A4         35000"
      ]
     },
     "execution_count": 68,
     "metadata": {},
     "output_type": "execute_result"
    }
   ],
   "source": [
    "# Creación de un dataframe 2. A partir de un diccionario con datos por fila\n",
    "cars2 = {'Honda Civic':22000, 'Toyota Corolla':25000, 'Ford Focus':27000, 'Audi A4':35000}\n",
    "df_cars2 = pd.DataFrame(cars2.values(), index = cars2.keys())\n",
    "df_cars2"
   ]
  },
  {
   "cell_type": "code",
   "execution_count": 69,
   "metadata": {},
   "outputs": [
    {
     "name": "stdout",
     "output_type": "stream",
     "text": [
      "            Brand  Price\n",
      "0           Honda  22000\n",
      "1  Toyota Corolla  25000\n",
      "2      Ford Focus  27000\n",
      "3         Audi A4  35000\n"
     ]
    }
   ],
   "source": [
    "# Creación de un dataframe 3. A partir de una lista de listas\n",
    "lista_de_listas = [['Honda',22000],['Toyota Corolla',25000],['Ford Focus',27000],['Audi A4',35000]]\n",
    "df_cars3 = pd.DataFrame(lista_de_listas,columns = ['Brand','Price']) # Tenemos que nombrar las columnas\n",
    "print(df_cars3)"
   ]
  },
  {
   "cell_type": "code",
   "execution_count": 70,
   "metadata": {},
   "outputs": [
    {
     "name": "stdout",
     "output_type": "stream",
     "text": [
      "            Brand  Price\n",
      "0     Honda Civic  22000\n",
      "1  Toyota Corolla  25000\n",
      "2      Ford Focus  27000\n",
      "3         Audi A4  35000\n"
     ]
    }
   ],
   "source": [
    "# Creación de un dataframe 4. A partir de 2 listas\n",
    "cars_brand = ['Honda Civic','Toyota Corolla','Ford Focus','Audi A4']\n",
    "cars_price = [22000,25000,27000,35000]\n",
    "df_cars4 = pd.DataFrame(zip(cars_brand,cars_price),columns=[\"Brand\",\"Price\"]) # Usamos zip\n",
    "print(df_cars4)"
   ]
  },
  {
   "cell_type": "code",
   "execution_count": 71,
   "metadata": {},
   "outputs": [
    {
     "name": "stdout",
     "output_type": "stream",
     "text": [
      "            Brand  Price\n",
      "0     Honda Civic  22000\n",
      "1  Toyota Corolla  25000\n",
      "2      Ford Focus  27000\n",
      "3         Audi A4  35000\n"
     ]
    }
   ],
   "source": [
    "# Creación de un dataframe 4bis. A partir de 2 listas en 2 pasos\n",
    "df_cars4bis = pd.DataFrame()\n",
    "df_cars4bis['Brand'] = cars_brand # Con el índice asignamos una nueva columna\n",
    "df_cars4bis['Price'] = cars_price \n",
    "print(df_cars4bis)"
   ]
  },
  {
   "cell_type": "markdown",
   "metadata": {},
   "source": [
    "#### SELECCION"
   ]
  },
  {
   "cell_type": "markdown",
   "metadata": {},
   "source": [
    "Para filtrar un dataframe tenemos algunos métodos con los que tenemos que familiarizarnos ya que van a ser la base de nuestro trabajo. Además, la forma de seleccionar y filtrar datos es distinta a la de las series, los arrays y distinta también a la de otros lenguajes (como R).\n",
    "\n",
    "Lo mejor es familizarnos con los métodos loc e iloc ya que son los más versátiles y claros. En lo posible, deberíamos prescindir de seleccionar datos a través de los corchetes ya que tiene algunas particularidades que es fácil olvidar. De todas maneras, en esta guía dejamos un registro de cómo funcionan para que volvamos a él si lo necesitamos."
   ]
  },
  {
   "cell_type": "code",
   "execution_count": 72,
   "metadata": {},
   "outputs": [
    {
     "data": {
      "text/html": [
       "<div>\n",
       "<style scoped>\n",
       "    .dataframe tbody tr th:only-of-type {\n",
       "        vertical-align: middle;\n",
       "    }\n",
       "\n",
       "    .dataframe tbody tr th {\n",
       "        vertical-align: top;\n",
       "    }\n",
       "\n",
       "    .dataframe thead th {\n",
       "        text-align: right;\n",
       "    }\n",
       "</style>\n",
       "<table border=\"1\" class=\"dataframe\">\n",
       "  <thead>\n",
       "    <tr style=\"text-align: right;\">\n",
       "      <th></th>\n",
       "      <th>Marca</th>\n",
       "      <th>Precio</th>\n",
       "      <th>Tanque</th>\n",
       "      <th>Kilometros</th>\n",
       "      <th>Modelo</th>\n",
       "    </tr>\n",
       "  </thead>\n",
       "  <tbody>\n",
       "    <tr>\n",
       "      <th>0</th>\n",
       "      <td>Honda Civic</td>\n",
       "      <td>22000</td>\n",
       "      <td>1.6</td>\n",
       "      <td>2000</td>\n",
       "      <td>2018</td>\n",
       "    </tr>\n",
       "    <tr>\n",
       "      <th>1</th>\n",
       "      <td>Toyota Corolla</td>\n",
       "      <td>25000</td>\n",
       "      <td>1.6</td>\n",
       "      <td>1500</td>\n",
       "      <td>2019</td>\n",
       "    </tr>\n",
       "    <tr>\n",
       "      <th>2</th>\n",
       "      <td>Ford Focus</td>\n",
       "      <td>27000</td>\n",
       "      <td>1.4</td>\n",
       "      <td>0</td>\n",
       "      <td>2020</td>\n",
       "    </tr>\n",
       "    <tr>\n",
       "      <th>3</th>\n",
       "      <td>Audi A4</td>\n",
       "      <td>35000</td>\n",
       "      <td>2.0</td>\n",
       "      <td>3500</td>\n",
       "      <td>2017</td>\n",
       "    </tr>\n",
       "  </tbody>\n",
       "</table>\n",
       "</div>"
      ],
      "text/plain": [
       "            Marca  Precio  Tanque  Kilometros  Modelo\n",
       "0     Honda Civic   22000     1.6        2000    2018\n",
       "1  Toyota Corolla   25000     1.6        1500    2019\n",
       "2      Ford Focus   27000     1.4           0    2020\n",
       "3         Audi A4   35000     2.0        3500    2017"
      ]
     },
     "execution_count": 72,
     "metadata": {},
     "output_type": "execute_result"
    }
   ],
   "source": [
    "df_cars"
   ]
  },
  {
   "cell_type": "code",
   "execution_count": 73,
   "metadata": {},
   "outputs": [
    {
     "data": {
      "text/plain": [
       "4"
      ]
     },
     "execution_count": 73,
     "metadata": {},
     "output_type": "execute_result"
    }
   ],
   "source": [
    "len(df_cars)"
   ]
  },
  {
   "cell_type": "markdown",
   "metadata": {},
   "source": [
    "Como en este caso len nos queda corto, agregamos el método shape para saber cantidad de filas y columnas del data frame."
   ]
  },
  {
   "cell_type": "code",
   "execution_count": 74,
   "metadata": {},
   "outputs": [
    {
     "data": {
      "text/plain": [
       "(4, 5)"
      ]
     },
     "execution_count": 74,
     "metadata": {},
     "output_type": "execute_result"
    }
   ],
   "source": [
    "# Shape\n",
    "df_cars.shape"
   ]
  },
  {
   "cell_type": "markdown",
   "metadata": {},
   "source": [
    "Si usamos los corchetes sobre un dataset, podemos seleccionar una columna y nos va a devolver una Serie. Este método funciona con una sola columna, solo lo vamos a usar en caso de querer pasar intencionadamente a un formato de Serie."
   ]
  },
  {
   "cell_type": "code",
   "execution_count": 75,
   "metadata": {},
   "outputs": [
    {
     "data": {
      "text/plain": [
       "0       Honda Civic\n",
       "1    Toyota Corolla\n",
       "2        Ford Focus\n",
       "3           Audi A4\n",
       "Name: Marca, dtype: object"
      ]
     },
     "execution_count": 75,
     "metadata": {},
     "output_type": "execute_result"
    }
   ],
   "source": [
    "df_cars['Marca']"
   ]
  },
  {
   "cell_type": "markdown",
   "metadata": {},
   "source": [
    "Si usamos doble corchetes, lo que devuelve es un data frame de una sola columna, aunque también podemos usarlo para seleccionar más de una columna."
   ]
  },
  {
   "cell_type": "code",
   "execution_count": 76,
   "metadata": {},
   "outputs": [
    {
     "data": {
      "text/html": [
       "<div>\n",
       "<style scoped>\n",
       "    .dataframe tbody tr th:only-of-type {\n",
       "        vertical-align: middle;\n",
       "    }\n",
       "\n",
       "    .dataframe tbody tr th {\n",
       "        vertical-align: top;\n",
       "    }\n",
       "\n",
       "    .dataframe thead th {\n",
       "        text-align: right;\n",
       "    }\n",
       "</style>\n",
       "<table border=\"1\" class=\"dataframe\">\n",
       "  <thead>\n",
       "    <tr style=\"text-align: right;\">\n",
       "      <th></th>\n",
       "      <th>Marca</th>\n",
       "    </tr>\n",
       "  </thead>\n",
       "  <tbody>\n",
       "    <tr>\n",
       "      <th>0</th>\n",
       "      <td>Honda Civic</td>\n",
       "    </tr>\n",
       "    <tr>\n",
       "      <th>1</th>\n",
       "      <td>Toyota Corolla</td>\n",
       "    </tr>\n",
       "    <tr>\n",
       "      <th>2</th>\n",
       "      <td>Ford Focus</td>\n",
       "    </tr>\n",
       "    <tr>\n",
       "      <th>3</th>\n",
       "      <td>Audi A4</td>\n",
       "    </tr>\n",
       "  </tbody>\n",
       "</table>\n",
       "</div>"
      ],
      "text/plain": [
       "            Marca\n",
       "0     Honda Civic\n",
       "1  Toyota Corolla\n",
       "2      Ford Focus\n",
       "3         Audi A4"
      ]
     },
     "execution_count": 76,
     "metadata": {},
     "output_type": "execute_result"
    }
   ],
   "source": [
    "df_cars[['Marca']]"
   ]
  },
  {
   "cell_type": "code",
   "execution_count": 77,
   "metadata": {},
   "outputs": [
    {
     "data": {
      "text/html": [
       "<div>\n",
       "<style scoped>\n",
       "    .dataframe tbody tr th:only-of-type {\n",
       "        vertical-align: middle;\n",
       "    }\n",
       "\n",
       "    .dataframe tbody tr th {\n",
       "        vertical-align: top;\n",
       "    }\n",
       "\n",
       "    .dataframe thead th {\n",
       "        text-align: right;\n",
       "    }\n",
       "</style>\n",
       "<table border=\"1\" class=\"dataframe\">\n",
       "  <thead>\n",
       "    <tr style=\"text-align: right;\">\n",
       "      <th></th>\n",
       "      <th>Marca</th>\n",
       "      <th>Modelo</th>\n",
       "    </tr>\n",
       "  </thead>\n",
       "  <tbody>\n",
       "    <tr>\n",
       "      <th>0</th>\n",
       "      <td>Honda Civic</td>\n",
       "      <td>2018</td>\n",
       "    </tr>\n",
       "    <tr>\n",
       "      <th>1</th>\n",
       "      <td>Toyota Corolla</td>\n",
       "      <td>2019</td>\n",
       "    </tr>\n",
       "    <tr>\n",
       "      <th>2</th>\n",
       "      <td>Ford Focus</td>\n",
       "      <td>2020</td>\n",
       "    </tr>\n",
       "    <tr>\n",
       "      <th>3</th>\n",
       "      <td>Audi A4</td>\n",
       "      <td>2017</td>\n",
       "    </tr>\n",
       "  </tbody>\n",
       "</table>\n",
       "</div>"
      ],
      "text/plain": [
       "            Marca  Modelo\n",
       "0     Honda Civic    2018\n",
       "1  Toyota Corolla    2019\n",
       "2      Ford Focus    2020\n",
       "3         Audi A4    2017"
      ]
     },
     "execution_count": 77,
     "metadata": {},
     "output_type": "execute_result"
    }
   ],
   "source": [
    "df_cars[['Marca','Modelo']]"
   ]
  },
  {
   "cell_type": "code",
   "execution_count": 78,
   "metadata": {},
   "outputs": [
    {
     "name": "stdout",
     "output_type": "stream",
     "text": [
      "<class 'pandas.core.series.Series'>\n",
      "<class 'pandas.core.frame.DataFrame'>\n"
     ]
    }
   ],
   "source": [
    "print(type(df_cars['Marca']))\n",
    "print(type(df_cars[['Marca']]))"
   ]
  },
  {
   "cell_type": "markdown",
   "metadata": {},
   "source": [
    "Para seleccionar un subset de filas también podemos usar corchetes simples. La forma de determinar el rango es con dos puntos separando el inicio, el fin y los pasos intermedios."
   ]
  },
  {
   "cell_type": "code",
   "execution_count": 79,
   "metadata": {},
   "outputs": [
    {
     "data": {
      "text/html": [
       "<div>\n",
       "<style scoped>\n",
       "    .dataframe tbody tr th:only-of-type {\n",
       "        vertical-align: middle;\n",
       "    }\n",
       "\n",
       "    .dataframe tbody tr th {\n",
       "        vertical-align: top;\n",
       "    }\n",
       "\n",
       "    .dataframe thead th {\n",
       "        text-align: right;\n",
       "    }\n",
       "</style>\n",
       "<table border=\"1\" class=\"dataframe\">\n",
       "  <thead>\n",
       "    <tr style=\"text-align: right;\">\n",
       "      <th></th>\n",
       "      <th>Marca</th>\n",
       "      <th>Precio</th>\n",
       "      <th>Tanque</th>\n",
       "      <th>Kilometros</th>\n",
       "      <th>Modelo</th>\n",
       "    </tr>\n",
       "  </thead>\n",
       "  <tbody>\n",
       "    <tr>\n",
       "      <th>2</th>\n",
       "      <td>Ford Focus</td>\n",
       "      <td>27000</td>\n",
       "      <td>1.4</td>\n",
       "      <td>0</td>\n",
       "      <td>2020</td>\n",
       "    </tr>\n",
       "    <tr>\n",
       "      <th>3</th>\n",
       "      <td>Audi A4</td>\n",
       "      <td>35000</td>\n",
       "      <td>2.0</td>\n",
       "      <td>3500</td>\n",
       "      <td>2017</td>\n",
       "    </tr>\n",
       "  </tbody>\n",
       "</table>\n",
       "</div>"
      ],
      "text/plain": [
       "        Marca  Precio  Tanque  Kilometros  Modelo\n",
       "2  Ford Focus   27000     1.4           0    2020\n",
       "3     Audi A4   35000     2.0        3500    2017"
      ]
     },
     "execution_count": 79,
     "metadata": {},
     "output_type": "execute_result"
    }
   ],
   "source": [
    "df_cars[2:]"
   ]
  },
  {
   "cell_type": "markdown",
   "metadata": {},
   "source": [
    "Si queremos seleccionar una sola fila, tenemos que usar n:n+1"
   ]
  },
  {
   "cell_type": "code",
   "execution_count": 80,
   "metadata": {},
   "outputs": [
    {
     "data": {
      "text/html": [
       "<div>\n",
       "<style scoped>\n",
       "    .dataframe tbody tr th:only-of-type {\n",
       "        vertical-align: middle;\n",
       "    }\n",
       "\n",
       "    .dataframe tbody tr th {\n",
       "        vertical-align: top;\n",
       "    }\n",
       "\n",
       "    .dataframe thead th {\n",
       "        text-align: right;\n",
       "    }\n",
       "</style>\n",
       "<table border=\"1\" class=\"dataframe\">\n",
       "  <thead>\n",
       "    <tr style=\"text-align: right;\">\n",
       "      <th></th>\n",
       "      <th>Marca</th>\n",
       "      <th>Precio</th>\n",
       "      <th>Tanque</th>\n",
       "      <th>Kilometros</th>\n",
       "      <th>Modelo</th>\n",
       "    </tr>\n",
       "  </thead>\n",
       "  <tbody>\n",
       "    <tr>\n",
       "      <th>2</th>\n",
       "      <td>Ford Focus</td>\n",
       "      <td>27000</td>\n",
       "      <td>1.4</td>\n",
       "      <td>0</td>\n",
       "      <td>2020</td>\n",
       "    </tr>\n",
       "  </tbody>\n",
       "</table>\n",
       "</div>"
      ],
      "text/plain": [
       "        Marca  Precio  Tanque  Kilometros  Modelo\n",
       "2  Ford Focus   27000     1.4           0    2020"
      ]
     },
     "execution_count": 80,
     "metadata": {},
     "output_type": "execute_result"
    }
   ],
   "source": [
    "df_cars[2:3]"
   ]
  },
  {
   "cell_type": "markdown",
   "metadata": {},
   "source": [
    "#### LOC, ILOC"
   ]
  },
  {
   "cell_type": "markdown",
   "metadata": {},
   "source": [
    "Sin embargo, la mejor forma de filtrar es a partir de loc e iloc. El método loc utiliza los nombres de las columnas o índices explícitos para hacer el particionado mientras que iloc utiliza los número de columnas e índices implícitos (siempre numéricos, empezando por 0). En ambos casos, tenemos que separar con una coma las filas de las columnas. En caso de que queramos tomar el subset entero de filas o columnas, alcanza con pasar el valor \":\"."
   ]
  },
  {
   "cell_type": "code",
   "execution_count": 81,
   "metadata": {},
   "outputs": [
    {
     "data": {
      "text/html": [
       "<div>\n",
       "<style scoped>\n",
       "    .dataframe tbody tr th:only-of-type {\n",
       "        vertical-align: middle;\n",
       "    }\n",
       "\n",
       "    .dataframe tbody tr th {\n",
       "        vertical-align: top;\n",
       "    }\n",
       "\n",
       "    .dataframe thead th {\n",
       "        text-align: right;\n",
       "    }\n",
       "</style>\n",
       "<table border=\"1\" class=\"dataframe\">\n",
       "  <thead>\n",
       "    <tr style=\"text-align: right;\">\n",
       "      <th></th>\n",
       "      <th>Marca</th>\n",
       "      <th>Precio</th>\n",
       "      <th>Tanque</th>\n",
       "      <th>Kilometros</th>\n",
       "      <th>Modelo</th>\n",
       "    </tr>\n",
       "  </thead>\n",
       "  <tbody>\n",
       "    <tr>\n",
       "      <th>0</th>\n",
       "      <td>Honda Civic</td>\n",
       "      <td>22000</td>\n",
       "      <td>1.6</td>\n",
       "      <td>2000</td>\n",
       "      <td>2018</td>\n",
       "    </tr>\n",
       "    <tr>\n",
       "      <th>1</th>\n",
       "      <td>Toyota Corolla</td>\n",
       "      <td>25000</td>\n",
       "      <td>1.6</td>\n",
       "      <td>1500</td>\n",
       "      <td>2019</td>\n",
       "    </tr>\n",
       "    <tr>\n",
       "      <th>2</th>\n",
       "      <td>Ford Focus</td>\n",
       "      <td>27000</td>\n",
       "      <td>1.4</td>\n",
       "      <td>0</td>\n",
       "      <td>2020</td>\n",
       "    </tr>\n",
       "    <tr>\n",
       "      <th>3</th>\n",
       "      <td>Audi A4</td>\n",
       "      <td>35000</td>\n",
       "      <td>2.0</td>\n",
       "      <td>3500</td>\n",
       "      <td>2017</td>\n",
       "    </tr>\n",
       "  </tbody>\n",
       "</table>\n",
       "</div>"
      ],
      "text/plain": [
       "            Marca  Precio  Tanque  Kilometros  Modelo\n",
       "0     Honda Civic   22000     1.6        2000    2018\n",
       "1  Toyota Corolla   25000     1.6        1500    2019\n",
       "2      Ford Focus   27000     1.4           0    2020\n",
       "3         Audi A4   35000     2.0        3500    2017"
      ]
     },
     "execution_count": 81,
     "metadata": {},
     "output_type": "execute_result"
    }
   ],
   "source": [
    "df_cars.iloc[:,:]"
   ]
  },
  {
   "cell_type": "code",
   "execution_count": 82,
   "metadata": {},
   "outputs": [
    {
     "data": {
      "text/html": [
       "<div>\n",
       "<style scoped>\n",
       "    .dataframe tbody tr th:only-of-type {\n",
       "        vertical-align: middle;\n",
       "    }\n",
       "\n",
       "    .dataframe tbody tr th {\n",
       "        vertical-align: top;\n",
       "    }\n",
       "\n",
       "    .dataframe thead th {\n",
       "        text-align: right;\n",
       "    }\n",
       "</style>\n",
       "<table border=\"1\" class=\"dataframe\">\n",
       "  <thead>\n",
       "    <tr style=\"text-align: right;\">\n",
       "      <th></th>\n",
       "      <th>Marca</th>\n",
       "      <th>Precio</th>\n",
       "      <th>Tanque</th>\n",
       "      <th>Kilometros</th>\n",
       "      <th>Modelo</th>\n",
       "    </tr>\n",
       "  </thead>\n",
       "  <tbody>\n",
       "    <tr>\n",
       "      <th>1</th>\n",
       "      <td>Toyota Corolla</td>\n",
       "      <td>25000</td>\n",
       "      <td>1.6</td>\n",
       "      <td>1500</td>\n",
       "      <td>2019</td>\n",
       "    </tr>\n",
       "    <tr>\n",
       "      <th>2</th>\n",
       "      <td>Ford Focus</td>\n",
       "      <td>27000</td>\n",
       "      <td>1.4</td>\n",
       "      <td>0</td>\n",
       "      <td>2020</td>\n",
       "    </tr>\n",
       "  </tbody>\n",
       "</table>\n",
       "</div>"
      ],
      "text/plain": [
       "            Marca  Precio  Tanque  Kilometros  Modelo\n",
       "1  Toyota Corolla   25000     1.6        1500    2019\n",
       "2      Ford Focus   27000     1.4           0    2020"
      ]
     },
     "execution_count": 82,
     "metadata": {},
     "output_type": "execute_result"
    }
   ],
   "source": [
    "df_cars.iloc[1:3,:]"
   ]
  },
  {
   "cell_type": "code",
   "execution_count": 83,
   "metadata": {},
   "outputs": [
    {
     "data": {
      "text/html": [
       "<div>\n",
       "<style scoped>\n",
       "    .dataframe tbody tr th:only-of-type {\n",
       "        vertical-align: middle;\n",
       "    }\n",
       "\n",
       "    .dataframe tbody tr th {\n",
       "        vertical-align: top;\n",
       "    }\n",
       "\n",
       "    .dataframe thead th {\n",
       "        text-align: right;\n",
       "    }\n",
       "</style>\n",
       "<table border=\"1\" class=\"dataframe\">\n",
       "  <thead>\n",
       "    <tr style=\"text-align: right;\">\n",
       "      <th></th>\n",
       "      <th>Precio</th>\n",
       "      <th>Tanque</th>\n",
       "    </tr>\n",
       "  </thead>\n",
       "  <tbody>\n",
       "    <tr>\n",
       "      <th>0</th>\n",
       "      <td>22000</td>\n",
       "      <td>1.6</td>\n",
       "    </tr>\n",
       "    <tr>\n",
       "      <th>1</th>\n",
       "      <td>25000</td>\n",
       "      <td>1.6</td>\n",
       "    </tr>\n",
       "    <tr>\n",
       "      <th>2</th>\n",
       "      <td>27000</td>\n",
       "      <td>1.4</td>\n",
       "    </tr>\n",
       "    <tr>\n",
       "      <th>3</th>\n",
       "      <td>35000</td>\n",
       "      <td>2.0</td>\n",
       "    </tr>\n",
       "  </tbody>\n",
       "</table>\n",
       "</div>"
      ],
      "text/plain": [
       "   Precio  Tanque\n",
       "0   22000     1.6\n",
       "1   25000     1.6\n",
       "2   27000     1.4\n",
       "3   35000     2.0"
      ]
     },
     "execution_count": 83,
     "metadata": {},
     "output_type": "execute_result"
    }
   ],
   "source": [
    "df_cars.iloc[:,1:3]"
   ]
  },
  {
   "cell_type": "markdown",
   "metadata": {},
   "source": [
    "Siempre que el resultado se pueda mapear en 1 sola fila o columna, la devolución va a ser una Serie en vez de un Data Frame."
   ]
  },
  {
   "cell_type": "code",
   "execution_count": 84,
   "metadata": {},
   "outputs": [
    {
     "data": {
      "text/plain": [
       "Marca         Ford Focus\n",
       "Precio             27000\n",
       "Tanque               1.4\n",
       "Kilometros             0\n",
       "Modelo              2020\n",
       "Name: 2, dtype: object"
      ]
     },
     "execution_count": 84,
     "metadata": {},
     "output_type": "execute_result"
    }
   ],
   "source": [
    "df_cars.iloc[2,:]"
   ]
  },
  {
   "cell_type": "code",
   "execution_count": 85,
   "metadata": {},
   "outputs": [
    {
     "data": {
      "text/plain": [
       "0    1.6\n",
       "1    1.6\n",
       "2    1.4\n",
       "3    2.0\n",
       "Name: Tanque, dtype: float64"
      ]
     },
     "execution_count": 85,
     "metadata": {},
     "output_type": "execute_result"
    }
   ],
   "source": [
    "df_cars.iloc[:,2]"
   ]
  },
  {
   "cell_type": "code",
   "execution_count": 86,
   "metadata": {},
   "outputs": [
    {
     "name": "stdout",
     "output_type": "stream",
     "text": [
      "<class 'pandas.core.series.Series'>\n",
      "<class 'pandas.core.series.Series'>\n"
     ]
    }
   ],
   "source": [
    "print(type(df_cars.iloc[2,:]))\n",
    "print(type(df_cars.iloc[:,2]))"
   ]
  },
  {
   "cell_type": "markdown",
   "metadata": {},
   "source": [
    "Si no utilizamos la coma, iloc o loc van a reconocer el valor insertado como el de las filas, tomando todas las columnas del data frame."
   ]
  },
  {
   "cell_type": "code",
   "execution_count": 87,
   "metadata": {},
   "outputs": [
    {
     "data": {
      "text/plain": [
       "Marca         Ford Focus\n",
       "Precio             27000\n",
       "Tanque               1.4\n",
       "Kilometros             0\n",
       "Modelo              2020\n",
       "Name: 2, dtype: object"
      ]
     },
     "execution_count": 87,
     "metadata": {},
     "output_type": "execute_result"
    }
   ],
   "source": [
    "df_cars.iloc[2]"
   ]
  },
  {
   "cell_type": "markdown",
   "metadata": {},
   "source": [
    "Lo mismo se puede hacer con loc, aunque en este caso tenemos que usar explícitamente los índices o nombres de columna. En el caso de que el índice sea numérico, se usa la misma notación que con iloc."
   ]
  },
  {
   "cell_type": "code",
   "execution_count": 88,
   "metadata": {},
   "outputs": [
    {
     "data": {
      "text/html": [
       "<div>\n",
       "<style scoped>\n",
       "    .dataframe tbody tr th:only-of-type {\n",
       "        vertical-align: middle;\n",
       "    }\n",
       "\n",
       "    .dataframe tbody tr th {\n",
       "        vertical-align: top;\n",
       "    }\n",
       "\n",
       "    .dataframe thead th {\n",
       "        text-align: right;\n",
       "    }\n",
       "</style>\n",
       "<table border=\"1\" class=\"dataframe\">\n",
       "  <thead>\n",
       "    <tr style=\"text-align: right;\">\n",
       "      <th></th>\n",
       "      <th>Marca</th>\n",
       "      <th>Modelo</th>\n",
       "    </tr>\n",
       "  </thead>\n",
       "  <tbody>\n",
       "    <tr>\n",
       "      <th>0</th>\n",
       "      <td>Honda Civic</td>\n",
       "      <td>2018</td>\n",
       "    </tr>\n",
       "    <tr>\n",
       "      <th>1</th>\n",
       "      <td>Toyota Corolla</td>\n",
       "      <td>2019</td>\n",
       "    </tr>\n",
       "    <tr>\n",
       "      <th>2</th>\n",
       "      <td>Ford Focus</td>\n",
       "      <td>2020</td>\n",
       "    </tr>\n",
       "    <tr>\n",
       "      <th>3</th>\n",
       "      <td>Audi A4</td>\n",
       "      <td>2017</td>\n",
       "    </tr>\n",
       "  </tbody>\n",
       "</table>\n",
       "</div>"
      ],
      "text/plain": [
       "            Marca  Modelo\n",
       "0     Honda Civic    2018\n",
       "1  Toyota Corolla    2019\n",
       "2      Ford Focus    2020\n",
       "3         Audi A4    2017"
      ]
     },
     "execution_count": 88,
     "metadata": {},
     "output_type": "execute_result"
    }
   ],
   "source": [
    "df_cars.loc[:,['Marca','Modelo']]"
   ]
  },
  {
   "cell_type": "code",
   "execution_count": 89,
   "metadata": {},
   "outputs": [
    {
     "data": {
      "text/html": [
       "<div>\n",
       "<style scoped>\n",
       "    .dataframe tbody tr th:only-of-type {\n",
       "        vertical-align: middle;\n",
       "    }\n",
       "\n",
       "    .dataframe tbody tr th {\n",
       "        vertical-align: top;\n",
       "    }\n",
       "\n",
       "    .dataframe thead th {\n",
       "        text-align: right;\n",
       "    }\n",
       "</style>\n",
       "<table border=\"1\" class=\"dataframe\">\n",
       "  <thead>\n",
       "    <tr style=\"text-align: right;\">\n",
       "      <th></th>\n",
       "      <th>Marca</th>\n",
       "      <th>Modelo</th>\n",
       "    </tr>\n",
       "  </thead>\n",
       "  <tbody>\n",
       "    <tr>\n",
       "      <th>1</th>\n",
       "      <td>Toyota Corolla</td>\n",
       "      <td>2019</td>\n",
       "    </tr>\n",
       "    <tr>\n",
       "      <th>2</th>\n",
       "      <td>Ford Focus</td>\n",
       "      <td>2020</td>\n",
       "    </tr>\n",
       "    <tr>\n",
       "      <th>3</th>\n",
       "      <td>Audi A4</td>\n",
       "      <td>2017</td>\n",
       "    </tr>\n",
       "  </tbody>\n",
       "</table>\n",
       "</div>"
      ],
      "text/plain": [
       "            Marca  Modelo\n",
       "1  Toyota Corolla    2019\n",
       "2      Ford Focus    2020\n",
       "3         Audi A4    2017"
      ]
     },
     "execution_count": 89,
     "metadata": {},
     "output_type": "execute_result"
    }
   ],
   "source": [
    "df_cars.loc[1:3,['Marca','Modelo']]"
   ]
  },
  {
   "cell_type": "code",
   "execution_count": 90,
   "metadata": {},
   "outputs": [
    {
     "data": {
      "text/plain": [
       "Marca         Ford Focus\n",
       "Precio             27000\n",
       "Tanque               1.4\n",
       "Kilometros             0\n",
       "Modelo              2020\n",
       "Name: 2, dtype: object"
      ]
     },
     "execution_count": 90,
     "metadata": {},
     "output_type": "execute_result"
    }
   ],
   "source": [
    "df_cars.loc[2,]"
   ]
  },
  {
   "cell_type": "markdown",
   "metadata": {},
   "source": [
    "#### FILTROS"
   ]
  },
  {
   "cell_type": "markdown",
   "metadata": {},
   "source": [
    "Para realizar un filtrado generalmente lo haremos por filas. Cuando generamos una condición dentro de un data frame, el resultado va a ser una Serie del tamaño de la cantidad de filas del data frame con valores booleanos (True o False) según cumpla la condición."
   ]
  },
  {
   "cell_type": "code",
   "execution_count": 91,
   "metadata": {},
   "outputs": [
    {
     "data": {
      "text/plain": [
       "0    False\n",
       "1     True\n",
       "2     True\n",
       "3    False\n",
       "Name: Modelo, dtype: bool"
      ]
     },
     "execution_count": 91,
     "metadata": {},
     "output_type": "execute_result"
    }
   ],
   "source": [
    "df_cars['Modelo'] > 2018"
   ]
  },
  {
   "cell_type": "markdown",
   "metadata": {},
   "source": [
    "Por eso, para ver los resultados del data frame filtrados, tenemos que aplicarle esa Serie."
   ]
  },
  {
   "cell_type": "code",
   "execution_count": 92,
   "metadata": {},
   "outputs": [
    {
     "data": {
      "text/html": [
       "<div>\n",
       "<style scoped>\n",
       "    .dataframe tbody tr th:only-of-type {\n",
       "        vertical-align: middle;\n",
       "    }\n",
       "\n",
       "    .dataframe tbody tr th {\n",
       "        vertical-align: top;\n",
       "    }\n",
       "\n",
       "    .dataframe thead th {\n",
       "        text-align: right;\n",
       "    }\n",
       "</style>\n",
       "<table border=\"1\" class=\"dataframe\">\n",
       "  <thead>\n",
       "    <tr style=\"text-align: right;\">\n",
       "      <th></th>\n",
       "      <th>Marca</th>\n",
       "      <th>Precio</th>\n",
       "      <th>Tanque</th>\n",
       "      <th>Kilometros</th>\n",
       "      <th>Modelo</th>\n",
       "    </tr>\n",
       "  </thead>\n",
       "  <tbody>\n",
       "    <tr>\n",
       "      <th>1</th>\n",
       "      <td>Toyota Corolla</td>\n",
       "      <td>25000</td>\n",
       "      <td>1.6</td>\n",
       "      <td>1500</td>\n",
       "      <td>2019</td>\n",
       "    </tr>\n",
       "    <tr>\n",
       "      <th>2</th>\n",
       "      <td>Ford Focus</td>\n",
       "      <td>27000</td>\n",
       "      <td>1.4</td>\n",
       "      <td>0</td>\n",
       "      <td>2020</td>\n",
       "    </tr>\n",
       "  </tbody>\n",
       "</table>\n",
       "</div>"
      ],
      "text/plain": [
       "            Marca  Precio  Tanque  Kilometros  Modelo\n",
       "1  Toyota Corolla   25000     1.6        1500    2019\n",
       "2      Ford Focus   27000     1.4           0    2020"
      ]
     },
     "execution_count": 92,
     "metadata": {},
     "output_type": "execute_result"
    }
   ],
   "source": [
    "df_cars[df_cars['Modelo'] > 2018]"
   ]
  },
  {
   "cell_type": "markdown",
   "metadata": {},
   "source": [
    "Dentro del filtro se pueden incluir varias condiciones utilizando los operadores & y | pero tenemos que tener en ccuenta que la separación entre las condiciones siempre tiene que estar entre paréntesis."
   ]
  },
  {
   "cell_type": "code",
   "execution_count": 93,
   "metadata": {},
   "outputs": [
    {
     "data": {
      "text/html": [
       "<div>\n",
       "<style scoped>\n",
       "    .dataframe tbody tr th:only-of-type {\n",
       "        vertical-align: middle;\n",
       "    }\n",
       "\n",
       "    .dataframe tbody tr th {\n",
       "        vertical-align: top;\n",
       "    }\n",
       "\n",
       "    .dataframe thead th {\n",
       "        text-align: right;\n",
       "    }\n",
       "</style>\n",
       "<table border=\"1\" class=\"dataframe\">\n",
       "  <thead>\n",
       "    <tr style=\"text-align: right;\">\n",
       "      <th></th>\n",
       "      <th>Marca</th>\n",
       "      <th>Precio</th>\n",
       "      <th>Tanque</th>\n",
       "      <th>Kilometros</th>\n",
       "      <th>Modelo</th>\n",
       "    </tr>\n",
       "  </thead>\n",
       "  <tbody>\n",
       "    <tr>\n",
       "      <th>0</th>\n",
       "      <td>Honda Civic</td>\n",
       "      <td>22000</td>\n",
       "      <td>1.6</td>\n",
       "      <td>2000</td>\n",
       "      <td>2018</td>\n",
       "    </tr>\n",
       "    <tr>\n",
       "      <th>1</th>\n",
       "      <td>Toyota Corolla</td>\n",
       "      <td>25000</td>\n",
       "      <td>1.6</td>\n",
       "      <td>1500</td>\n",
       "      <td>2019</td>\n",
       "    </tr>\n",
       "  </tbody>\n",
       "</table>\n",
       "</div>"
      ],
      "text/plain": [
       "            Marca  Precio  Tanque  Kilometros  Modelo\n",
       "0     Honda Civic   22000     1.6        2000    2018\n",
       "1  Toyota Corolla   25000     1.6        1500    2019"
      ]
     },
     "execution_count": 93,
     "metadata": {},
     "output_type": "execute_result"
    }
   ],
   "source": [
    "df_cars[(df_cars['Modelo']>2017) & (df_cars.Tanque == 1.6)]"
   ]
  },
  {
   "cell_type": "markdown",
   "metadata": {},
   "source": [
    "Con loc también podemos combinar un masking y la selección de las columnas"
   ]
  },
  {
   "cell_type": "code",
   "execution_count": 94,
   "metadata": {},
   "outputs": [
    {
     "data": {
      "text/html": [
       "<div>\n",
       "<style scoped>\n",
       "    .dataframe tbody tr th:only-of-type {\n",
       "        vertical-align: middle;\n",
       "    }\n",
       "\n",
       "    .dataframe tbody tr th {\n",
       "        vertical-align: top;\n",
       "    }\n",
       "\n",
       "    .dataframe thead th {\n",
       "        text-align: right;\n",
       "    }\n",
       "</style>\n",
       "<table border=\"1\" class=\"dataframe\">\n",
       "  <thead>\n",
       "    <tr style=\"text-align: right;\">\n",
       "      <th></th>\n",
       "      <th>Marca</th>\n",
       "      <th>Precio</th>\n",
       "      <th>Tanque</th>\n",
       "      <th>Kilometros</th>\n",
       "      <th>Modelo</th>\n",
       "    </tr>\n",
       "  </thead>\n",
       "  <tbody>\n",
       "    <tr>\n",
       "      <th>0</th>\n",
       "      <td>Honda Civic</td>\n",
       "      <td>22000</td>\n",
       "      <td>1.6</td>\n",
       "      <td>2000</td>\n",
       "      <td>2018</td>\n",
       "    </tr>\n",
       "    <tr>\n",
       "      <th>1</th>\n",
       "      <td>Toyota Corolla</td>\n",
       "      <td>25000</td>\n",
       "      <td>1.6</td>\n",
       "      <td>1500</td>\n",
       "      <td>2019</td>\n",
       "    </tr>\n",
       "  </tbody>\n",
       "</table>\n",
       "</div>"
      ],
      "text/plain": [
       "            Marca  Precio  Tanque  Kilometros  Modelo\n",
       "0     Honda Civic   22000     1.6        2000    2018\n",
       "1  Toyota Corolla   25000     1.6        1500    2019"
      ]
     },
     "execution_count": 94,
     "metadata": {},
     "output_type": "execute_result"
    }
   ],
   "source": [
    "df_cars.loc[df_cars.Tanque == 1.6, 'Marca':'Modelo']"
   ]
  },
  {
   "cell_type": "markdown",
   "metadata": {},
   "source": [
    "Otro método equivalente pero más limpio y mucho más eficiente (porque no aloja nuevos elementos en memoria) es query. La sintaxis queda mucho más limpia y nos permite ahorrar tiempo y espacio."
   ]
  },
  {
   "cell_type": "code",
   "execution_count": 95,
   "metadata": {},
   "outputs": [
    {
     "data": {
      "text/html": [
       "<div>\n",
       "<style scoped>\n",
       "    .dataframe tbody tr th:only-of-type {\n",
       "        vertical-align: middle;\n",
       "    }\n",
       "\n",
       "    .dataframe tbody tr th {\n",
       "        vertical-align: top;\n",
       "    }\n",
       "\n",
       "    .dataframe thead th {\n",
       "        text-align: right;\n",
       "    }\n",
       "</style>\n",
       "<table border=\"1\" class=\"dataframe\">\n",
       "  <thead>\n",
       "    <tr style=\"text-align: right;\">\n",
       "      <th></th>\n",
       "      <th>Marca</th>\n",
       "      <th>Precio</th>\n",
       "      <th>Tanque</th>\n",
       "      <th>Kilometros</th>\n",
       "      <th>Modelo</th>\n",
       "    </tr>\n",
       "  </thead>\n",
       "  <tbody>\n",
       "    <tr>\n",
       "      <th>0</th>\n",
       "      <td>Honda Civic</td>\n",
       "      <td>22000</td>\n",
       "      <td>1.6</td>\n",
       "      <td>2000</td>\n",
       "      <td>2018</td>\n",
       "    </tr>\n",
       "    <tr>\n",
       "      <th>1</th>\n",
       "      <td>Toyota Corolla</td>\n",
       "      <td>25000</td>\n",
       "      <td>1.6</td>\n",
       "      <td>1500</td>\n",
       "      <td>2019</td>\n",
       "    </tr>\n",
       "  </tbody>\n",
       "</table>\n",
       "</div>"
      ],
      "text/plain": [
       "            Marca  Precio  Tanque  Kilometros  Modelo\n",
       "0     Honda Civic   22000     1.6        2000    2018\n",
       "1  Toyota Corolla   25000     1.6        1500    2019"
      ]
     },
     "execution_count": 95,
     "metadata": {},
     "output_type": "execute_result"
    }
   ],
   "source": [
    "df_cars.query('Modelo>2017 & Tanque==1.6')"
   ]
  },
  {
   "cell_type": "markdown",
   "metadata": {},
   "source": [
    "#### MÉTODOS"
   ]
  },
  {
   "cell_type": "markdown",
   "metadata": {},
   "source": [
    "A continuación veremos los métodos que podemos utilizar con data frames. Todos los que vimos anteriormente para las Series son también válidos para los data frames aunque también se incorporan otros que veremos a continuación. \n",
    "\n",
    "Los que funcionan igual que lo explicado para Series:"
   ]
  },
  {
   "cell_type": "code",
   "execution_count": 96,
   "metadata": {},
   "outputs": [],
   "source": [
    "# Append, Describe, Duplicated, Drop_duplicates, Reset_index, Head, Isna, Nunique, Sort_values, Plot, To_csv"
   ]
  },
  {
   "cell_type": "markdown",
   "metadata": {},
   "source": [
    "Además, a veces podemos necesitar la info de cuánta memoria está ocupando."
   ]
  },
  {
   "cell_type": "code",
   "execution_count": 97,
   "metadata": {},
   "outputs": [],
   "source": [
    "df_cars = df_cars3 # Renombramos para empezar de vuelta el proceso"
   ]
  },
  {
   "cell_type": "code",
   "execution_count": 98,
   "metadata": {},
   "outputs": [
    {
     "name": "stdout",
     "output_type": "stream",
     "text": [
      "<class 'pandas.core.frame.DataFrame'>\n",
      "RangeIndex: 4 entries, 0 to 3\n",
      "Data columns (total 2 columns):\n",
      " #   Column  Non-Null Count  Dtype \n",
      "---  ------  --------------  ----- \n",
      " 0   Brand   4 non-null      object\n",
      " 1   Price   4 non-null      int64 \n",
      "dtypes: int64(1), object(1)\n",
      "memory usage: 192.0+ bytes\n"
     ]
    }
   ],
   "source": [
    "# Info\n",
    "df_cars.info()"
   ]
  },
  {
   "cell_type": "markdown",
   "metadata": {},
   "source": [
    "Recordemos la noción de reasignar el resultado para poder utilizarlo. Con la mayoría de los métodos si no lo reasignamos a un data frame lo veremos impreso en pantalla pero inmediatamente lo perderemos. Una de las pocas excepciones a la idea de reasignación de data frames es el método insert."
   ]
  },
  {
   "cell_type": "code",
   "execution_count": 99,
   "metadata": {},
   "outputs": [
    {
     "name": "stdout",
     "output_type": "stream",
     "text": [
      "            Brand  Modelo  Price  Tanque  Kilometros\n",
      "0           Honda    2018  22000     1.6        2000\n",
      "1  Toyota Corolla    2019  25000     1.6        1500\n",
      "2      Ford Focus    2020  27000     1.4           0\n",
      "3         Audi A4    2017  35000     2.0        3500\n"
     ]
    }
   ],
   "source": [
    "# Insert\n",
    "df_cars.insert(2,\"Tanque\",[1.6,1.6,1.4,2.0]) # Tenemos que pasar el numero de columna que queremos insertar\n",
    "df_cars.insert(len(df_cars)-1,\"Kilometros\",[2000,1500,0,3500]) # Podemos hacerlo programaticamente\n",
    "df_cars.insert(1,\"Modelo\",[2018,2019,2020,2017]) # Si lo hacemos con un indice menor, se mueven las columnas\n",
    "print(df_cars)"
   ]
  },
  {
   "cell_type": "code",
   "execution_count": 100,
   "metadata": {},
   "outputs": [
    {
     "name": "stdout",
     "output_type": "stream",
     "text": [
      "Si no asignamos:\n",
      "             Brand  Modelo  Price  Tanque  Kilometros\n",
      "0           Honda    2018  22000     1.6        2000\n",
      "1  Toyota Corolla    2019  25000     1.6        1500\n",
      "2      Ford Focus    2020  27000     1.4           0\n",
      "3         Audi A4    2017  35000     2.0        3500\n",
      "\n",
      "Si asignamos:\n",
      "             Brand  Modelo  Price  Tanque  Kilometros  Dolares\n",
      "0           Honda    2018  22000     1.6        2000    220.0\n",
      "1  Toyota Corolla    2019  25000     1.6        1500    250.0\n",
      "2      Ford Focus    2020  27000     1.4           0    270.0\n",
      "3         Audi A4    2017  35000     2.0        3500    350.0\n"
     ]
    }
   ],
   "source": [
    "# Assign\n",
    "df_cars.assign(Dolares = df_cars['Price']/100) # Podemos crear columnas a partir de cálculos con otras columnas\n",
    "print(\"Si no asignamos:\\n\",df_cars) \n",
    "df_cars = df_cars.assign(Dolares = df_cars['Price']/100) # Pero tenemos que reasignar el data frame\n",
    "print(\"\\nSi asignamos:\\n\",df_cars)"
   ]
  },
  {
   "cell_type": "code",
   "execution_count": 101,
   "metadata": {},
   "outputs": [
    {
     "name": "stdout",
     "output_type": "stream",
     "text": [
      "            Brand  Modelo  Price  Tanque  Kilometros\n",
      "0           Honda    2018  22000     1.6        2000\n",
      "1  Toyota Corolla    2019  25000     1.6        1500\n",
      "2      Ford Focus    2020  27000     1.4           0\n",
      "3         Audi A4    2017  35000     2.0        3500\n"
     ]
    }
   ],
   "source": [
    "# Drop\n",
    "df_cars = df_cars.drop('Dolares',axis=1) # Drop es muy flexible, podemos eliminar filas o columnas. Axis 0 es fila, 1 columna\n",
    "print(df_cars)"
   ]
  },
  {
   "cell_type": "code",
   "execution_count": 102,
   "metadata": {},
   "outputs": [
    {
     "name": "stdout",
     "output_type": "stream",
     "text": [
      "            Marca  Modelo  Precio  Tanque  Kilometros\n",
      "0           Honda    2018   22000     1.6        2000\n",
      "1  Toyota Corolla    2019   25000     1.6        1500\n",
      "2      Ford Focus    2020   27000     1.4           0\n",
      "3         Audi A4    2017   35000     2.0        3500\n"
     ]
    }
   ],
   "source": [
    "# Rename\n",
    "df_cars = df_cars.rename(columns={'Brand':'Marca','Price': 'Precio'}) # La función rename es muy potente\n",
    "print(df_cars)"
   ]
  },
  {
   "cell_type": "markdown",
   "metadata": {},
   "source": [
    "#### MÉTODOS MÁS AVANZADOS"
   ]
  },
  {
   "cell_type": "markdown",
   "metadata": {},
   "source": [
    "Para los métodos que vamos a examinar a continuación vamos a construir un nuevo data set intentando recuperar las ideas que vimos anteriormente."
   ]
  },
  {
   "cell_type": "code",
   "execution_count": 103,
   "metadata": {},
   "outputs": [],
   "source": [
    "# A partir de 2 diccionarios\n",
    "jugadores = {\n",
    "    'Messi': ['Barcelona',80,48,100],\n",
    "    'Cristiano Ronaldo': ['Juventus',75,22,97],\n",
    "    'Mbappe': ['PSG',88,18,92],\n",
    "    'Lautaro Martinez':['Inter',78,25,91]\n",
    "}\n",
    "\n",
    "equipos = {\n",
    "    'Barcelona':['Espana',1,8],\n",
    "    'Juventus':['Italia',1,16],\n",
    "    'PSG':['Francia',1,16],\n",
    "    'Inter':['Italia',2,32]\n",
    "}\n"
   ]
  },
  {
   "cell_type": "code",
   "execution_count": 104,
   "metadata": {},
   "outputs": [
    {
     "data": {
      "text/html": [
       "<div>\n",
       "<style scoped>\n",
       "    .dataframe tbody tr th:only-of-type {\n",
       "        vertical-align: middle;\n",
       "    }\n",
       "\n",
       "    .dataframe tbody tr th {\n",
       "        vertical-align: top;\n",
       "    }\n",
       "\n",
       "    .dataframe thead th {\n",
       "        text-align: right;\n",
       "    }\n",
       "</style>\n",
       "<table border=\"1\" class=\"dataframe\">\n",
       "  <thead>\n",
       "    <tr style=\"text-align: right;\">\n",
       "      <th></th>\n",
       "      <th>Messi</th>\n",
       "      <th>Cristiano Ronaldo</th>\n",
       "      <th>Mbappe</th>\n",
       "      <th>Lautaro Martinez</th>\n",
       "    </tr>\n",
       "  </thead>\n",
       "  <tbody>\n",
       "    <tr>\n",
       "      <th>0</th>\n",
       "      <td>Barcelona</td>\n",
       "      <td>Juventus</td>\n",
       "      <td>PSG</td>\n",
       "      <td>Inter</td>\n",
       "    </tr>\n",
       "    <tr>\n",
       "      <th>1</th>\n",
       "      <td>80</td>\n",
       "      <td>75</td>\n",
       "      <td>88</td>\n",
       "      <td>78</td>\n",
       "    </tr>\n",
       "    <tr>\n",
       "      <th>2</th>\n",
       "      <td>48</td>\n",
       "      <td>22</td>\n",
       "      <td>18</td>\n",
       "      <td>25</td>\n",
       "    </tr>\n",
       "    <tr>\n",
       "      <th>3</th>\n",
       "      <td>100</td>\n",
       "      <td>97</td>\n",
       "      <td>92</td>\n",
       "      <td>91</td>\n",
       "    </tr>\n",
       "  </tbody>\n",
       "</table>\n",
       "</div>"
      ],
      "text/plain": [
       "       Messi Cristiano Ronaldo Mbappe Lautaro Martinez\n",
       "0  Barcelona          Juventus    PSG            Inter\n",
       "1         80                75     88               78\n",
       "2         48                22     18               25\n",
       "3        100                97     92               91"
      ]
     },
     "execution_count": 104,
     "metadata": {},
     "output_type": "execute_result"
    }
   ],
   "source": [
    "# Si creamos el data frame, las columnas serán determinadas por las claves\n",
    "pd.DataFrame(jugadores)"
   ]
  },
  {
   "cell_type": "code",
   "execution_count": 105,
   "metadata": {},
   "outputs": [
    {
     "data": {
      "text/html": [
       "<div>\n",
       "<style scoped>\n",
       "    .dataframe tbody tr th:only-of-type {\n",
       "        vertical-align: middle;\n",
       "    }\n",
       "\n",
       "    .dataframe tbody tr th {\n",
       "        vertical-align: top;\n",
       "    }\n",
       "\n",
       "    .dataframe thead th {\n",
       "        text-align: right;\n",
       "    }\n",
       "</style>\n",
       "<table border=\"1\" class=\"dataframe\">\n",
       "  <thead>\n",
       "    <tr style=\"text-align: right;\">\n",
       "      <th></th>\n",
       "      <th>Equipo</th>\n",
       "      <th>Goles</th>\n",
       "      <th>Asistencias</th>\n",
       "      <th>Calificacion</th>\n",
       "    </tr>\n",
       "  </thead>\n",
       "  <tbody>\n",
       "    <tr>\n",
       "      <th>Messi</th>\n",
       "      <td>Barcelona</td>\n",
       "      <td>80</td>\n",
       "      <td>48</td>\n",
       "      <td>100</td>\n",
       "    </tr>\n",
       "    <tr>\n",
       "      <th>Cristiano Ronaldo</th>\n",
       "      <td>Juventus</td>\n",
       "      <td>75</td>\n",
       "      <td>22</td>\n",
       "      <td>97</td>\n",
       "    </tr>\n",
       "    <tr>\n",
       "      <th>Mbappe</th>\n",
       "      <td>PSG</td>\n",
       "      <td>88</td>\n",
       "      <td>18</td>\n",
       "      <td>92</td>\n",
       "    </tr>\n",
       "    <tr>\n",
       "      <th>Lautaro Martinez</th>\n",
       "      <td>Inter</td>\n",
       "      <td>78</td>\n",
       "      <td>25</td>\n",
       "      <td>91</td>\n",
       "    </tr>\n",
       "  </tbody>\n",
       "</table>\n",
       "</div>"
      ],
      "text/plain": [
       "                      Equipo  Goles  Asistencias  Calificacion\n",
       "Messi              Barcelona     80           48           100\n",
       "Cristiano Ronaldo   Juventus     75           22            97\n",
       "Mbappe                   PSG     88           18            92\n",
       "Lautaro Martinez       Inter     78           25            91"
      ]
     },
     "execution_count": 105,
     "metadata": {},
     "output_type": "execute_result"
    }
   ],
   "source": [
    "# Para eso, indicamos que se oriente por índice y pasamos los nombres de las columans para que no queden vacíos\n",
    "pd.DataFrame.from_dict(jugadores,orient='index',columns=[\"Equipo\",\"Goles\",\"Asistencias\",\"Calificacion\"]) # Usamos from_dict"
   ]
  },
  {
   "cell_type": "code",
   "execution_count": 106,
   "metadata": {},
   "outputs": [
    {
     "data": {
      "text/html": [
       "<div>\n",
       "<style scoped>\n",
       "    .dataframe tbody tr th:only-of-type {\n",
       "        vertical-align: middle;\n",
       "    }\n",
       "\n",
       "    .dataframe tbody tr th {\n",
       "        vertical-align: top;\n",
       "    }\n",
       "\n",
       "    .dataframe thead th {\n",
       "        text-align: right;\n",
       "    }\n",
       "</style>\n",
       "<table border=\"1\" class=\"dataframe\">\n",
       "  <thead>\n",
       "    <tr style=\"text-align: right;\">\n",
       "      <th></th>\n",
       "      <th>Equipo</th>\n",
       "      <th>Goles</th>\n",
       "      <th>Asistencias</th>\n",
       "      <th>Calificacion</th>\n",
       "    </tr>\n",
       "    <tr>\n",
       "      <th>Jugador</th>\n",
       "      <th></th>\n",
       "      <th></th>\n",
       "      <th></th>\n",
       "      <th></th>\n",
       "    </tr>\n",
       "  </thead>\n",
       "  <tbody>\n",
       "    <tr>\n",
       "      <th>Messi</th>\n",
       "      <td>Barcelona</td>\n",
       "      <td>80</td>\n",
       "      <td>48</td>\n",
       "      <td>100</td>\n",
       "    </tr>\n",
       "    <tr>\n",
       "      <th>Cristiano Ronaldo</th>\n",
       "      <td>Juventus</td>\n",
       "      <td>75</td>\n",
       "      <td>22</td>\n",
       "      <td>97</td>\n",
       "    </tr>\n",
       "    <tr>\n",
       "      <th>Mbappe</th>\n",
       "      <td>PSG</td>\n",
       "      <td>88</td>\n",
       "      <td>18</td>\n",
       "      <td>92</td>\n",
       "    </tr>\n",
       "    <tr>\n",
       "      <th>Lautaro Martinez</th>\n",
       "      <td>Inter</td>\n",
       "      <td>78</td>\n",
       "      <td>25</td>\n",
       "      <td>91</td>\n",
       "    </tr>\n",
       "  </tbody>\n",
       "</table>\n",
       "</div>"
      ],
      "text/plain": [
       "                      Equipo  Goles  Asistencias  Calificacion\n",
       "Jugador                                                       \n",
       "Messi              Barcelona     80           48           100\n",
       "Cristiano Ronaldo   Juventus     75           22            97\n",
       "Mbappe                   PSG     88           18            92\n",
       "Lautaro Martinez       Inter     78           25            91"
      ]
     },
     "execution_count": 106,
     "metadata": {},
     "output_type": "execute_result"
    }
   ],
   "source": [
    "# Renombramos el índice para que sea más claro\n",
    "pd.DataFrame.from_dict(jugadores,orient='index',columns=[\"Equipo\",\"Goles\",\"Asistencias\",\"Calificacion\"]).rename_axis(\"Jugador\")"
   ]
  },
  {
   "cell_type": "code",
   "execution_count": 107,
   "metadata": {},
   "outputs": [
    {
     "data": {
      "text/html": [
       "<div>\n",
       "<style scoped>\n",
       "    .dataframe tbody tr th:only-of-type {\n",
       "        vertical-align: middle;\n",
       "    }\n",
       "\n",
       "    .dataframe tbody tr th {\n",
       "        vertical-align: top;\n",
       "    }\n",
       "\n",
       "    .dataframe thead th {\n",
       "        text-align: right;\n",
       "    }\n",
       "</style>\n",
       "<table border=\"1\" class=\"dataframe\">\n",
       "  <thead>\n",
       "    <tr style=\"text-align: right;\">\n",
       "      <th></th>\n",
       "      <th>Jugador</th>\n",
       "      <th>Equipo</th>\n",
       "      <th>Goles</th>\n",
       "      <th>Asistencias</th>\n",
       "      <th>Calificacion</th>\n",
       "    </tr>\n",
       "  </thead>\n",
       "  <tbody>\n",
       "    <tr>\n",
       "      <th>0</th>\n",
       "      <td>Messi</td>\n",
       "      <td>Barcelona</td>\n",
       "      <td>80</td>\n",
       "      <td>48</td>\n",
       "      <td>100</td>\n",
       "    </tr>\n",
       "    <tr>\n",
       "      <th>1</th>\n",
       "      <td>Cristiano Ronaldo</td>\n",
       "      <td>Juventus</td>\n",
       "      <td>75</td>\n",
       "      <td>22</td>\n",
       "      <td>97</td>\n",
       "    </tr>\n",
       "    <tr>\n",
       "      <th>2</th>\n",
       "      <td>Mbappe</td>\n",
       "      <td>PSG</td>\n",
       "      <td>88</td>\n",
       "      <td>18</td>\n",
       "      <td>92</td>\n",
       "    </tr>\n",
       "    <tr>\n",
       "      <th>3</th>\n",
       "      <td>Lautaro Martinez</td>\n",
       "      <td>Inter</td>\n",
       "      <td>78</td>\n",
       "      <td>25</td>\n",
       "      <td>91</td>\n",
       "    </tr>\n",
       "  </tbody>\n",
       "</table>\n",
       "</div>"
      ],
      "text/plain": [
       "             Jugador     Equipo  Goles  Asistencias  Calificacion\n",
       "0              Messi  Barcelona     80           48           100\n",
       "1  Cristiano Ronaldo   Juventus     75           22            97\n",
       "2             Mbappe        PSG     88           18            92\n",
       "3   Lautaro Martinez      Inter     78           25            91"
      ]
     },
     "execution_count": 107,
     "metadata": {},
     "output_type": "execute_result"
    }
   ],
   "source": [
    "# Y podemos resetear el índice para que pase a ser una nueva columna\n",
    "pd.DataFrame.from_dict(jugadores,orient='index',columns=[\"Equipo\",\"Goles\",\"Asistencias\",\"Calificacion\"]).rename_axis(\"Jugador\").reset_index()"
   ]
  },
  {
   "cell_type": "code",
   "execution_count": 108,
   "metadata": {},
   "outputs": [
    {
     "name": "stdout",
     "output_type": "stream",
     "text": [
      "                      Equipo  Goles  Asistencias  Calificacion\n",
      "Messi              Barcelona     80           48           100\n",
      "Cristiano Ronaldo   Juventus     75           22            97\n",
      "Mbappe                   PSG     88           18            92\n",
      "Lautaro Martinez       Inter     78           25            91\n",
      "\n",
      "               Pais  Posicion  Champions\n",
      "Barcelona   Espana         1          8\n",
      "Juventus    Italia         1         16\n",
      "PSG        Francia         1         16\n",
      "Inter       Italia         2         32\n"
     ]
    }
   ],
   "source": [
    "# Creamos los data frame con la versión que más nos gustó\n",
    "df_jugadores = pd.DataFrame.from_dict(jugadores,orient='index',columns=[\"Equipo\",\"Goles\",\"Asistencias\",\"Calificacion\"])\n",
    "print(df_jugadores)\n",
    "# También el data frame de equipos\n",
    "df_equipos = pd.DataFrame.from_dict(equipos,orient='index',columns=[\"Pais\",\"Posicion\",\"Champions\"])\n",
    "print(\"\\n\",df_equipos)"
   ]
  },
  {
   "cell_type": "markdown",
   "metadata": {},
   "source": [
    "#### CONCAT Y APPEND"
   ]
  },
  {
   "cell_type": "markdown",
   "metadata": {},
   "source": [
    "Para combinar data frame tenemos varias opciones. La primera que veremos es concat que simplemente pega un data frame a otro."
   ]
  },
  {
   "cell_type": "code",
   "execution_count": 109,
   "metadata": {},
   "outputs": [
    {
     "data": {
      "text/html": [
       "<div>\n",
       "<style scoped>\n",
       "    .dataframe tbody tr th:only-of-type {\n",
       "        vertical-align: middle;\n",
       "    }\n",
       "\n",
       "    .dataframe tbody tr th {\n",
       "        vertical-align: top;\n",
       "    }\n",
       "\n",
       "    .dataframe thead th {\n",
       "        text-align: right;\n",
       "    }\n",
       "</style>\n",
       "<table border=\"1\" class=\"dataframe\">\n",
       "  <thead>\n",
       "    <tr style=\"text-align: right;\">\n",
       "      <th></th>\n",
       "      <th>Equipo</th>\n",
       "      <th>Goles</th>\n",
       "      <th>Asistencias</th>\n",
       "      <th>Calificacion</th>\n",
       "    </tr>\n",
       "  </thead>\n",
       "  <tbody>\n",
       "    <tr>\n",
       "      <th>Ivan Pillud</th>\n",
       "      <td>Racing</td>\n",
       "      <td>2</td>\n",
       "      <td>4</td>\n",
       "      <td>71</td>\n",
       "    </tr>\n",
       "  </tbody>\n",
       "</table>\n",
       "</div>"
      ],
      "text/plain": [
       "             Equipo  Goles  Asistencias  Calificacion\n",
       "Ivan Pillud  Racing      2            4            71"
      ]
     },
     "execution_count": 109,
     "metadata": {},
     "output_type": "execute_result"
    }
   ],
   "source": [
    "# Data frame con 1 fila. Definido a partir de lista de listas y copiando las columnas\n",
    "test = pd.DataFrame([['Racing',2,4,71]], index = ['Ivan Pillud'], columns = df_jugadores.columns)\n",
    "test"
   ]
  },
  {
   "cell_type": "code",
   "execution_count": 110,
   "metadata": {},
   "outputs": [
    {
     "data": {
      "text/html": [
       "<div>\n",
       "<style scoped>\n",
       "    .dataframe tbody tr th:only-of-type {\n",
       "        vertical-align: middle;\n",
       "    }\n",
       "\n",
       "    .dataframe tbody tr th {\n",
       "        vertical-align: top;\n",
       "    }\n",
       "\n",
       "    .dataframe thead th {\n",
       "        text-align: right;\n",
       "    }\n",
       "</style>\n",
       "<table border=\"1\" class=\"dataframe\">\n",
       "  <thead>\n",
       "    <tr style=\"text-align: right;\">\n",
       "      <th></th>\n",
       "      <th>Equipo</th>\n",
       "      <th>Goles</th>\n",
       "      <th>Asistencias</th>\n",
       "      <th>Calificacion</th>\n",
       "    </tr>\n",
       "  </thead>\n",
       "  <tbody>\n",
       "    <tr>\n",
       "      <th>Haaland</th>\n",
       "      <td>Dortmund</td>\n",
       "      <td>88</td>\n",
       "      <td>15</td>\n",
       "      <td>90</td>\n",
       "    </tr>\n",
       "  </tbody>\n",
       "</table>\n",
       "</div>"
      ],
      "text/plain": [
       "           Equipo  Goles  Asistencias  Calificacion\n",
       "Haaland  Dortmund     88           15            90"
      ]
     },
     "execution_count": 110,
     "metadata": {},
     "output_type": "execute_result"
    }
   ],
   "source": [
    "# Data frame con 1 fila. Definido a partir de un diccionario con columnas como keys\n",
    "test2 = pd.DataFrame({'Equipo':'Dortmund','Goles': 88,'Asistencias': 15,'Calificacion': 90},index = ['Haaland'])\n",
    "test2"
   ]
  },
  {
   "cell_type": "code",
   "execution_count": 111,
   "metadata": {},
   "outputs": [
    {
     "data": {
      "text/html": [
       "<div>\n",
       "<style scoped>\n",
       "    .dataframe tbody tr th:only-of-type {\n",
       "        vertical-align: middle;\n",
       "    }\n",
       "\n",
       "    .dataframe tbody tr th {\n",
       "        vertical-align: top;\n",
       "    }\n",
       "\n",
       "    .dataframe thead th {\n",
       "        text-align: right;\n",
       "    }\n",
       "</style>\n",
       "<table border=\"1\" class=\"dataframe\">\n",
       "  <thead>\n",
       "    <tr style=\"text-align: right;\">\n",
       "      <th></th>\n",
       "      <th>Equipo</th>\n",
       "      <th>Goles</th>\n",
       "      <th>Asistencias</th>\n",
       "      <th>Calificacion</th>\n",
       "    </tr>\n",
       "  </thead>\n",
       "  <tbody>\n",
       "    <tr>\n",
       "      <th>Messi</th>\n",
       "      <td>Barcelona</td>\n",
       "      <td>80</td>\n",
       "      <td>48</td>\n",
       "      <td>100</td>\n",
       "    </tr>\n",
       "    <tr>\n",
       "      <th>Cristiano Ronaldo</th>\n",
       "      <td>Juventus</td>\n",
       "      <td>75</td>\n",
       "      <td>22</td>\n",
       "      <td>97</td>\n",
       "    </tr>\n",
       "    <tr>\n",
       "      <th>Mbappe</th>\n",
       "      <td>PSG</td>\n",
       "      <td>88</td>\n",
       "      <td>18</td>\n",
       "      <td>92</td>\n",
       "    </tr>\n",
       "    <tr>\n",
       "      <th>Lautaro Martinez</th>\n",
       "      <td>Inter</td>\n",
       "      <td>78</td>\n",
       "      <td>25</td>\n",
       "      <td>91</td>\n",
       "    </tr>\n",
       "    <tr>\n",
       "      <th>Ivan Pillud</th>\n",
       "      <td>Racing</td>\n",
       "      <td>2</td>\n",
       "      <td>4</td>\n",
       "      <td>71</td>\n",
       "    </tr>\n",
       "  </tbody>\n",
       "</table>\n",
       "</div>"
      ],
      "text/plain": [
       "                      Equipo  Goles  Asistencias  Calificacion\n",
       "Messi              Barcelona     80           48           100\n",
       "Cristiano Ronaldo   Juventus     75           22            97\n",
       "Mbappe                   PSG     88           18            92\n",
       "Lautaro Martinez       Inter     78           25            91\n",
       "Ivan Pillud           Racing      2            4            71"
      ]
     },
     "execution_count": 111,
     "metadata": {},
     "output_type": "execute_result"
    }
   ],
   "source": [
    "# Concatenamos con axis = 0 (default)\n",
    "df_jugadores = pd.concat([df_jugadores, test], axis = 0) # Se llama desde pd!\n",
    "df_jugadores"
   ]
  },
  {
   "cell_type": "code",
   "execution_count": 112,
   "metadata": {},
   "outputs": [
    {
     "data": {
      "text/html": [
       "<div>\n",
       "<style scoped>\n",
       "    .dataframe tbody tr th:only-of-type {\n",
       "        vertical-align: middle;\n",
       "    }\n",
       "\n",
       "    .dataframe tbody tr th {\n",
       "        vertical-align: top;\n",
       "    }\n",
       "\n",
       "    .dataframe thead th {\n",
       "        text-align: right;\n",
       "    }\n",
       "</style>\n",
       "<table border=\"1\" class=\"dataframe\">\n",
       "  <thead>\n",
       "    <tr style=\"text-align: right;\">\n",
       "      <th></th>\n",
       "      <th>Equipo</th>\n",
       "      <th>Goles</th>\n",
       "      <th>Asistencias</th>\n",
       "      <th>Calificacion</th>\n",
       "    </tr>\n",
       "  </thead>\n",
       "  <tbody>\n",
       "    <tr>\n",
       "      <th>Messi</th>\n",
       "      <td>Barcelona</td>\n",
       "      <td>80</td>\n",
       "      <td>48</td>\n",
       "      <td>100</td>\n",
       "    </tr>\n",
       "    <tr>\n",
       "      <th>Cristiano Ronaldo</th>\n",
       "      <td>Juventus</td>\n",
       "      <td>75</td>\n",
       "      <td>22</td>\n",
       "      <td>97</td>\n",
       "    </tr>\n",
       "    <tr>\n",
       "      <th>Mbappe</th>\n",
       "      <td>PSG</td>\n",
       "      <td>88</td>\n",
       "      <td>18</td>\n",
       "      <td>92</td>\n",
       "    </tr>\n",
       "    <tr>\n",
       "      <th>Lautaro Martinez</th>\n",
       "      <td>Inter</td>\n",
       "      <td>78</td>\n",
       "      <td>25</td>\n",
       "      <td>91</td>\n",
       "    </tr>\n",
       "    <tr>\n",
       "      <th>Ivan Pillud</th>\n",
       "      <td>Racing</td>\n",
       "      <td>2</td>\n",
       "      <td>4</td>\n",
       "      <td>71</td>\n",
       "    </tr>\n",
       "    <tr>\n",
       "      <th>Haaland</th>\n",
       "      <td>Dortmund</td>\n",
       "      <td>88</td>\n",
       "      <td>15</td>\n",
       "      <td>90</td>\n",
       "    </tr>\n",
       "  </tbody>\n",
       "</table>\n",
       "</div>"
      ],
      "text/plain": [
       "                      Equipo  Goles  Asistencias  Calificacion\n",
       "Messi              Barcelona     80           48           100\n",
       "Cristiano Ronaldo   Juventus     75           22            97\n",
       "Mbappe                   PSG     88           18            92\n",
       "Lautaro Martinez       Inter     78           25            91\n",
       "Ivan Pillud           Racing      2            4            71\n",
       "Haaland             Dortmund     88           15            90"
      ]
     },
     "execution_count": 112,
     "metadata": {},
     "output_type": "execute_result"
    }
   ],
   "source": [
    "# Append. Es el mismo método pero resumido\n",
    "df_jugadores = df_jugadores.append(test2) # Se llama desde el dataframe\n",
    "df_jugadores"
   ]
  },
  {
   "cell_type": "code",
   "execution_count": 113,
   "metadata": {},
   "outputs": [],
   "source": [
    "# Dataframe de una columna con valores repetidos\n",
    "posicion = pd.DataFrame({'Posicion':['Delantero']*4+['Defensor']+['Delantero']})"
   ]
  },
  {
   "cell_type": "code",
   "execution_count": 114,
   "metadata": {},
   "outputs": [
    {
     "data": {
      "text/html": [
       "<div>\n",
       "<style scoped>\n",
       "    .dataframe tbody tr th:only-of-type {\n",
       "        vertical-align: middle;\n",
       "    }\n",
       "\n",
       "    .dataframe tbody tr th {\n",
       "        vertical-align: top;\n",
       "    }\n",
       "\n",
       "    .dataframe thead th {\n",
       "        text-align: right;\n",
       "    }\n",
       "</style>\n",
       "<table border=\"1\" class=\"dataframe\">\n",
       "  <thead>\n",
       "    <tr style=\"text-align: right;\">\n",
       "      <th></th>\n",
       "      <th>index</th>\n",
       "      <th>Equipo</th>\n",
       "      <th>Goles</th>\n",
       "      <th>Asistencias</th>\n",
       "      <th>Calificacion</th>\n",
       "      <th>Posicion</th>\n",
       "    </tr>\n",
       "  </thead>\n",
       "  <tbody>\n",
       "    <tr>\n",
       "      <th>0</th>\n",
       "      <td>Messi</td>\n",
       "      <td>Barcelona</td>\n",
       "      <td>80</td>\n",
       "      <td>48</td>\n",
       "      <td>100</td>\n",
       "      <td>Delantero</td>\n",
       "    </tr>\n",
       "    <tr>\n",
       "      <th>1</th>\n",
       "      <td>Cristiano Ronaldo</td>\n",
       "      <td>Juventus</td>\n",
       "      <td>75</td>\n",
       "      <td>22</td>\n",
       "      <td>97</td>\n",
       "      <td>Delantero</td>\n",
       "    </tr>\n",
       "    <tr>\n",
       "      <th>2</th>\n",
       "      <td>Mbappe</td>\n",
       "      <td>PSG</td>\n",
       "      <td>88</td>\n",
       "      <td>18</td>\n",
       "      <td>92</td>\n",
       "      <td>Delantero</td>\n",
       "    </tr>\n",
       "    <tr>\n",
       "      <th>3</th>\n",
       "      <td>Lautaro Martinez</td>\n",
       "      <td>Inter</td>\n",
       "      <td>78</td>\n",
       "      <td>25</td>\n",
       "      <td>91</td>\n",
       "      <td>Delantero</td>\n",
       "    </tr>\n",
       "    <tr>\n",
       "      <th>4</th>\n",
       "      <td>Ivan Pillud</td>\n",
       "      <td>Racing</td>\n",
       "      <td>2</td>\n",
       "      <td>4</td>\n",
       "      <td>71</td>\n",
       "      <td>Defensor</td>\n",
       "    </tr>\n",
       "    <tr>\n",
       "      <th>5</th>\n",
       "      <td>Haaland</td>\n",
       "      <td>Dortmund</td>\n",
       "      <td>88</td>\n",
       "      <td>15</td>\n",
       "      <td>90</td>\n",
       "      <td>Delantero</td>\n",
       "    </tr>\n",
       "  </tbody>\n",
       "</table>\n",
       "</div>"
      ],
      "text/plain": [
       "               index     Equipo  Goles  Asistencias  Calificacion   Posicion\n",
       "0              Messi  Barcelona     80           48           100  Delantero\n",
       "1  Cristiano Ronaldo   Juventus     75           22            97  Delantero\n",
       "2             Mbappe        PSG     88           18            92  Delantero\n",
       "3   Lautaro Martinez      Inter     78           25            91  Delantero\n",
       "4        Ivan Pillud     Racing      2            4            71   Defensor\n",
       "5            Haaland   Dortmund     88           15            90  Delantero"
      ]
     },
     "execution_count": 114,
     "metadata": {},
     "output_type": "execute_result"
    }
   ],
   "source": [
    "# Concat con axis = 1 para pegar una columna al final con índices comunes\n",
    "pd.concat([df_jugadores.reset_index(), posicion], axis = 1)"
   ]
  },
  {
   "cell_type": "markdown",
   "metadata": {},
   "source": [
    "#### MERGE Y JOIN"
   ]
  },
  {
   "cell_type": "markdown",
   "metadata": {},
   "source": [
    "Vamos a ver dos métodos muy parecidos para unir datasets: Join y Merge. Ambos sirven para combinar dataframes y realizar operaciones de tipo join (SQL). Con Join esa unión se va a hacer a partir de los índices de cada dataframe mientras que Merge nos permite mayor flexibilidad para elegir de qué manera hacer la integración. Ejemplo sacado de https://towardsdatascience.com/pandas-join-vs-merge-c365fd4fbf49#:~:text=The%20join%20method%20works%20best,join%20on%20for%20both%20dataframes."
   ]
  },
  {
   "cell_type": "markdown",
   "metadata": {},
   "source": [
    "Con el MERGE podemos obtenemos mucha flexibilidad para indicar las keys pero también vemos que trae algunas problemas que van a requerir un tratamiento posterior para que quede exactamente como queremos."
   ]
  },
  {
   "cell_type": "code",
   "execution_count": 115,
   "metadata": {},
   "outputs": [
    {
     "data": {
      "text/html": [
       "<div>\n",
       "<style scoped>\n",
       "    .dataframe tbody tr th:only-of-type {\n",
       "        vertical-align: middle;\n",
       "    }\n",
       "\n",
       "    .dataframe tbody tr th {\n",
       "        vertical-align: top;\n",
       "    }\n",
       "\n",
       "    .dataframe thead th {\n",
       "        text-align: right;\n",
       "    }\n",
       "</style>\n",
       "<table border=\"1\" class=\"dataframe\">\n",
       "  <thead>\n",
       "    <tr style=\"text-align: right;\">\n",
       "      <th></th>\n",
       "      <th>Pais</th>\n",
       "      <th>Posicion</th>\n",
       "      <th>Champions</th>\n",
       "      <th>Equipo</th>\n",
       "      <th>Goles</th>\n",
       "      <th>Asistencias</th>\n",
       "      <th>Calificacion</th>\n",
       "    </tr>\n",
       "  </thead>\n",
       "  <tbody>\n",
       "    <tr>\n",
       "      <th>Messi</th>\n",
       "      <td>Espana</td>\n",
       "      <td>1</td>\n",
       "      <td>8</td>\n",
       "      <td>Barcelona</td>\n",
       "      <td>80</td>\n",
       "      <td>48</td>\n",
       "      <td>100</td>\n",
       "    </tr>\n",
       "    <tr>\n",
       "      <th>Cristiano Ronaldo</th>\n",
       "      <td>Italia</td>\n",
       "      <td>1</td>\n",
       "      <td>16</td>\n",
       "      <td>Juventus</td>\n",
       "      <td>75</td>\n",
       "      <td>22</td>\n",
       "      <td>97</td>\n",
       "    </tr>\n",
       "    <tr>\n",
       "      <th>Mbappe</th>\n",
       "      <td>Francia</td>\n",
       "      <td>1</td>\n",
       "      <td>16</td>\n",
       "      <td>PSG</td>\n",
       "      <td>88</td>\n",
       "      <td>18</td>\n",
       "      <td>92</td>\n",
       "    </tr>\n",
       "    <tr>\n",
       "      <th>Lautaro Martinez</th>\n",
       "      <td>Italia</td>\n",
       "      <td>2</td>\n",
       "      <td>32</td>\n",
       "      <td>Inter</td>\n",
       "      <td>78</td>\n",
       "      <td>25</td>\n",
       "      <td>91</td>\n",
       "    </tr>\n",
       "  </tbody>\n",
       "</table>\n",
       "</div>"
      ],
      "text/plain": [
       "                      Pais  Posicion  Champions     Equipo  Goles  \\\n",
       "Messi               Espana         1          8  Barcelona     80   \n",
       "Cristiano Ronaldo   Italia         1         16   Juventus     75   \n",
       "Mbappe             Francia         1         16        PSG     88   \n",
       "Lautaro Martinez    Italia         2         32      Inter     78   \n",
       "\n",
       "                   Asistencias  Calificacion  \n",
       "Messi                       48           100  \n",
       "Cristiano Ronaldo           22            97  \n",
       "Mbappe                      18            92  \n",
       "Lautaro Martinez            25            91  "
      ]
     },
     "execution_count": 115,
     "metadata": {},
     "output_type": "execute_result"
    }
   ],
   "source": [
    "# Merge\n",
    "df_equipos.merge(df_jugadores,left_index=True,right_on=\"Equipo\") # Podemos usar un index y una columna"
   ]
  },
  {
   "cell_type": "markdown",
   "metadata": {},
   "source": [
    "El índice no queda incorporado al nuevo dataframe, no importa si está en la derecha o en la izquierda."
   ]
  },
  {
   "cell_type": "code",
   "execution_count": 116,
   "metadata": {},
   "outputs": [
    {
     "data": {
      "text/html": [
       "<div>\n",
       "<style scoped>\n",
       "    .dataframe tbody tr th:only-of-type {\n",
       "        vertical-align: middle;\n",
       "    }\n",
       "\n",
       "    .dataframe tbody tr th {\n",
       "        vertical-align: top;\n",
       "    }\n",
       "\n",
       "    .dataframe thead th {\n",
       "        text-align: right;\n",
       "    }\n",
       "</style>\n",
       "<table border=\"1\" class=\"dataframe\">\n",
       "  <thead>\n",
       "    <tr style=\"text-align: right;\">\n",
       "      <th></th>\n",
       "      <th>Equipo</th>\n",
       "      <th>Goles</th>\n",
       "      <th>Asistencias</th>\n",
       "      <th>Calificacion</th>\n",
       "      <th>Pais</th>\n",
       "      <th>Posicion</th>\n",
       "      <th>Champions</th>\n",
       "    </tr>\n",
       "  </thead>\n",
       "  <tbody>\n",
       "    <tr>\n",
       "      <th>Messi</th>\n",
       "      <td>Barcelona</td>\n",
       "      <td>80</td>\n",
       "      <td>48</td>\n",
       "      <td>100</td>\n",
       "      <td>Espana</td>\n",
       "      <td>1</td>\n",
       "      <td>8</td>\n",
       "    </tr>\n",
       "    <tr>\n",
       "      <th>Cristiano Ronaldo</th>\n",
       "      <td>Juventus</td>\n",
       "      <td>75</td>\n",
       "      <td>22</td>\n",
       "      <td>97</td>\n",
       "      <td>Italia</td>\n",
       "      <td>1</td>\n",
       "      <td>16</td>\n",
       "    </tr>\n",
       "    <tr>\n",
       "      <th>Mbappe</th>\n",
       "      <td>PSG</td>\n",
       "      <td>88</td>\n",
       "      <td>18</td>\n",
       "      <td>92</td>\n",
       "      <td>Francia</td>\n",
       "      <td>1</td>\n",
       "      <td>16</td>\n",
       "    </tr>\n",
       "    <tr>\n",
       "      <th>Lautaro Martinez</th>\n",
       "      <td>Inter</td>\n",
       "      <td>78</td>\n",
       "      <td>25</td>\n",
       "      <td>91</td>\n",
       "      <td>Italia</td>\n",
       "      <td>2</td>\n",
       "      <td>32</td>\n",
       "    </tr>\n",
       "  </tbody>\n",
       "</table>\n",
       "</div>"
      ],
      "text/plain": [
       "                      Equipo  Goles  Asistencias  Calificacion     Pais  \\\n",
       "Messi              Barcelona     80           48           100   Espana   \n",
       "Cristiano Ronaldo   Juventus     75           22            97   Italia   \n",
       "Mbappe                   PSG     88           18            92  Francia   \n",
       "Lautaro Martinez       Inter     78           25            91   Italia   \n",
       "\n",
       "                   Posicion  Champions  \n",
       "Messi                     1          8  \n",
       "Cristiano Ronaldo         1         16  \n",
       "Mbappe                    1         16  \n",
       "Lautaro Martinez          2         32  "
      ]
     },
     "execution_count": 116,
     "metadata": {},
     "output_type": "execute_result"
    }
   ],
   "source": [
    "df_jugadores.merge(df_equipos,left_on=\"Equipo\",right_index=True)"
   ]
  },
  {
   "cell_type": "markdown",
   "metadata": {},
   "source": [
    "Para eso, tenemos que resetear el index y hacer un merge por columnas"
   ]
  },
  {
   "cell_type": "code",
   "execution_count": 117,
   "metadata": {},
   "outputs": [
    {
     "data": {
      "text/html": [
       "<div>\n",
       "<style scoped>\n",
       "    .dataframe tbody tr th:only-of-type {\n",
       "        vertical-align: middle;\n",
       "    }\n",
       "\n",
       "    .dataframe tbody tr th {\n",
       "        vertical-align: top;\n",
       "    }\n",
       "\n",
       "    .dataframe thead th {\n",
       "        text-align: right;\n",
       "    }\n",
       "</style>\n",
       "<table border=\"1\" class=\"dataframe\">\n",
       "  <thead>\n",
       "    <tr style=\"text-align: right;\">\n",
       "      <th></th>\n",
       "      <th>index</th>\n",
       "      <th>Pais</th>\n",
       "      <th>Posicion</th>\n",
       "      <th>Champions</th>\n",
       "      <th>Equipo</th>\n",
       "      <th>Goles</th>\n",
       "      <th>Asistencias</th>\n",
       "      <th>Calificacion</th>\n",
       "    </tr>\n",
       "  </thead>\n",
       "  <tbody>\n",
       "    <tr>\n",
       "      <th>0</th>\n",
       "      <td>Barcelona</td>\n",
       "      <td>Espana</td>\n",
       "      <td>1</td>\n",
       "      <td>8</td>\n",
       "      <td>Barcelona</td>\n",
       "      <td>80</td>\n",
       "      <td>48</td>\n",
       "      <td>100</td>\n",
       "    </tr>\n",
       "    <tr>\n",
       "      <th>1</th>\n",
       "      <td>Juventus</td>\n",
       "      <td>Italia</td>\n",
       "      <td>1</td>\n",
       "      <td>16</td>\n",
       "      <td>Juventus</td>\n",
       "      <td>75</td>\n",
       "      <td>22</td>\n",
       "      <td>97</td>\n",
       "    </tr>\n",
       "    <tr>\n",
       "      <th>2</th>\n",
       "      <td>PSG</td>\n",
       "      <td>Francia</td>\n",
       "      <td>1</td>\n",
       "      <td>16</td>\n",
       "      <td>PSG</td>\n",
       "      <td>88</td>\n",
       "      <td>18</td>\n",
       "      <td>92</td>\n",
       "    </tr>\n",
       "    <tr>\n",
       "      <th>3</th>\n",
       "      <td>Inter</td>\n",
       "      <td>Italia</td>\n",
       "      <td>2</td>\n",
       "      <td>32</td>\n",
       "      <td>Inter</td>\n",
       "      <td>78</td>\n",
       "      <td>25</td>\n",
       "      <td>91</td>\n",
       "    </tr>\n",
       "  </tbody>\n",
       "</table>\n",
       "</div>"
      ],
      "text/plain": [
       "       index     Pais  Posicion  Champions     Equipo  Goles  Asistencias  \\\n",
       "0  Barcelona   Espana         1          8  Barcelona     80           48   \n",
       "1   Juventus   Italia         1         16   Juventus     75           22   \n",
       "2        PSG  Francia         1         16        PSG     88           18   \n",
       "3      Inter   Italia         2         32      Inter     78           25   \n",
       "\n",
       "   Calificacion  \n",
       "0           100  \n",
       "1            97  \n",
       "2            92  \n",
       "3            91  "
      ]
     },
     "execution_count": 117,
     "metadata": {},
     "output_type": "execute_result"
    }
   ],
   "source": [
    "df_equipos.reset_index().merge(df_jugadores,left_on='index',right_on='Equipo')"
   ]
  },
  {
   "cell_type": "markdown",
   "metadata": {},
   "source": [
    "Sin embargo, vemos que queda repetida la columna por la cual hacemos el merge. Para que eso no pase, tienen que tener el mismo nombre."
   ]
  },
  {
   "cell_type": "code",
   "execution_count": 118,
   "metadata": {},
   "outputs": [
    {
     "data": {
      "text/html": [
       "<div>\n",
       "<style scoped>\n",
       "    .dataframe tbody tr th:only-of-type {\n",
       "        vertical-align: middle;\n",
       "    }\n",
       "\n",
       "    .dataframe tbody tr th {\n",
       "        vertical-align: top;\n",
       "    }\n",
       "\n",
       "    .dataframe thead th {\n",
       "        text-align: right;\n",
       "    }\n",
       "</style>\n",
       "<table border=\"1\" class=\"dataframe\">\n",
       "  <thead>\n",
       "    <tr style=\"text-align: right;\">\n",
       "      <th></th>\n",
       "      <th>Equipo</th>\n",
       "      <th>Pais</th>\n",
       "      <th>Posicion</th>\n",
       "      <th>Champions</th>\n",
       "      <th>Goles</th>\n",
       "      <th>Asistencias</th>\n",
       "      <th>Calificacion</th>\n",
       "    </tr>\n",
       "  </thead>\n",
       "  <tbody>\n",
       "    <tr>\n",
       "      <th>0</th>\n",
       "      <td>Barcelona</td>\n",
       "      <td>Espana</td>\n",
       "      <td>1</td>\n",
       "      <td>8</td>\n",
       "      <td>80</td>\n",
       "      <td>48</td>\n",
       "      <td>100</td>\n",
       "    </tr>\n",
       "    <tr>\n",
       "      <th>1</th>\n",
       "      <td>Juventus</td>\n",
       "      <td>Italia</td>\n",
       "      <td>1</td>\n",
       "      <td>16</td>\n",
       "      <td>75</td>\n",
       "      <td>22</td>\n",
       "      <td>97</td>\n",
       "    </tr>\n",
       "    <tr>\n",
       "      <th>2</th>\n",
       "      <td>PSG</td>\n",
       "      <td>Francia</td>\n",
       "      <td>1</td>\n",
       "      <td>16</td>\n",
       "      <td>88</td>\n",
       "      <td>18</td>\n",
       "      <td>92</td>\n",
       "    </tr>\n",
       "    <tr>\n",
       "      <th>3</th>\n",
       "      <td>Inter</td>\n",
       "      <td>Italia</td>\n",
       "      <td>2</td>\n",
       "      <td>32</td>\n",
       "      <td>78</td>\n",
       "      <td>25</td>\n",
       "      <td>91</td>\n",
       "    </tr>\n",
       "  </tbody>\n",
       "</table>\n",
       "</div>"
      ],
      "text/plain": [
       "      Equipo     Pais  Posicion  Champions  Goles  Asistencias  Calificacion\n",
       "0  Barcelona   Espana         1          8     80           48           100\n",
       "1   Juventus   Italia         1         16     75           22            97\n",
       "2        PSG  Francia         1         16     88           18            92\n",
       "3      Inter   Italia         2         32     78           25            91"
      ]
     },
     "execution_count": 118,
     "metadata": {},
     "output_type": "execute_result"
    }
   ],
   "source": [
    "df_equipos.rename_axis(\"Equipo\").reset_index().merge(df_jugadores)"
   ]
  },
  {
   "cell_type": "markdown",
   "metadata": {},
   "source": [
    "La ventaja de este método con respecto al Join es que no necesitamos que las columnas sean índices pero sí tenemos que tener cuidado con el nombre de las mismas para que no se repita y para tratar con sufijos o prefijos la repetición de otras columnas."
   ]
  },
  {
   "cell_type": "markdown",
   "metadata": {},
   "source": [
    "Con el JOIN, juntamos ambos dataframes en base a su índice. Para eso, vamos a renombrar los índices del dataframe de jugadores así podemos ver más claramente cómo sería esa unión."
   ]
  },
  {
   "cell_type": "code",
   "execution_count": 119,
   "metadata": {},
   "outputs": [
    {
     "name": "stdout",
     "output_type": "stream",
     "text": [
      "                     Jugador  Goles  Asistencias  Calificacion\n",
      "Equipo                                                        \n",
      "Barcelona              Messi     80           48           100\n",
      "Juventus   Cristiano Ronaldo     75           22            97\n",
      "PSG                   Mbappe     88           18            92\n",
      "Inter       Lautaro Martinez     78           25            91\n",
      "Racing           Ivan Pillud      2            4            71\n",
      "Dortmund             Haaland     88           15            90\n",
      "\n",
      "               Pais  Posicion  Champions\n",
      "Barcelona   Espana         1          8\n",
      "Juventus    Italia         1         16\n",
      "PSG        Francia         1         16\n",
      "Inter       Italia         2         32\n"
     ]
    }
   ],
   "source": [
    "df_jugadores2 = df_jugadores.rename_axis(\"Jugador\").reset_index().set_index(\"Equipo\")\n",
    "print(df_jugadores2)\n",
    "print(\"\\n\",df_equipos)"
   ]
  },
  {
   "cell_type": "code",
   "execution_count": 120,
   "metadata": {},
   "outputs": [
    {
     "data": {
      "text/html": [
       "<div>\n",
       "<style scoped>\n",
       "    .dataframe tbody tr th:only-of-type {\n",
       "        vertical-align: middle;\n",
       "    }\n",
       "\n",
       "    .dataframe tbody tr th {\n",
       "        vertical-align: top;\n",
       "    }\n",
       "\n",
       "    .dataframe thead th {\n",
       "        text-align: right;\n",
       "    }\n",
       "</style>\n",
       "<table border=\"1\" class=\"dataframe\">\n",
       "  <thead>\n",
       "    <tr style=\"text-align: right;\">\n",
       "      <th></th>\n",
       "      <th>Jugador</th>\n",
       "      <th>Goles</th>\n",
       "      <th>Asistencias</th>\n",
       "      <th>Calificacion</th>\n",
       "      <th>Pais</th>\n",
       "      <th>Posicion</th>\n",
       "      <th>Champions</th>\n",
       "    </tr>\n",
       "    <tr>\n",
       "      <th>Equipo</th>\n",
       "      <th></th>\n",
       "      <th></th>\n",
       "      <th></th>\n",
       "      <th></th>\n",
       "      <th></th>\n",
       "      <th></th>\n",
       "      <th></th>\n",
       "    </tr>\n",
       "  </thead>\n",
       "  <tbody>\n",
       "    <tr>\n",
       "      <th>Barcelona</th>\n",
       "      <td>Messi</td>\n",
       "      <td>80</td>\n",
       "      <td>48</td>\n",
       "      <td>100</td>\n",
       "      <td>Espana</td>\n",
       "      <td>1.0</td>\n",
       "      <td>8.0</td>\n",
       "    </tr>\n",
       "    <tr>\n",
       "      <th>Juventus</th>\n",
       "      <td>Cristiano Ronaldo</td>\n",
       "      <td>75</td>\n",
       "      <td>22</td>\n",
       "      <td>97</td>\n",
       "      <td>Italia</td>\n",
       "      <td>1.0</td>\n",
       "      <td>16.0</td>\n",
       "    </tr>\n",
       "    <tr>\n",
       "      <th>PSG</th>\n",
       "      <td>Mbappe</td>\n",
       "      <td>88</td>\n",
       "      <td>18</td>\n",
       "      <td>92</td>\n",
       "      <td>Francia</td>\n",
       "      <td>1.0</td>\n",
       "      <td>16.0</td>\n",
       "    </tr>\n",
       "    <tr>\n",
       "      <th>Inter</th>\n",
       "      <td>Lautaro Martinez</td>\n",
       "      <td>78</td>\n",
       "      <td>25</td>\n",
       "      <td>91</td>\n",
       "      <td>Italia</td>\n",
       "      <td>2.0</td>\n",
       "      <td>32.0</td>\n",
       "    </tr>\n",
       "    <tr>\n",
       "      <th>Racing</th>\n",
       "      <td>Ivan Pillud</td>\n",
       "      <td>2</td>\n",
       "      <td>4</td>\n",
       "      <td>71</td>\n",
       "      <td>NaN</td>\n",
       "      <td>NaN</td>\n",
       "      <td>NaN</td>\n",
       "    </tr>\n",
       "    <tr>\n",
       "      <th>Dortmund</th>\n",
       "      <td>Haaland</td>\n",
       "      <td>88</td>\n",
       "      <td>15</td>\n",
       "      <td>90</td>\n",
       "      <td>NaN</td>\n",
       "      <td>NaN</td>\n",
       "      <td>NaN</td>\n",
       "    </tr>\n",
       "  </tbody>\n",
       "</table>\n",
       "</div>"
      ],
      "text/plain": [
       "                     Jugador  Goles  Asistencias  Calificacion     Pais  \\\n",
       "Equipo                                                                    \n",
       "Barcelona              Messi     80           48           100   Espana   \n",
       "Juventus   Cristiano Ronaldo     75           22            97   Italia   \n",
       "PSG                   Mbappe     88           18            92  Francia   \n",
       "Inter       Lautaro Martinez     78           25            91   Italia   \n",
       "Racing           Ivan Pillud      2            4            71      NaN   \n",
       "Dortmund             Haaland     88           15            90      NaN   \n",
       "\n",
       "           Posicion  Champions  \n",
       "Equipo                          \n",
       "Barcelona       1.0        8.0  \n",
       "Juventus        1.0       16.0  \n",
       "PSG             1.0       16.0  \n",
       "Inter           2.0       32.0  \n",
       "Racing          NaN        NaN  \n",
       "Dortmund        NaN        NaN  "
      ]
     },
     "execution_count": 120,
     "metadata": {},
     "output_type": "execute_result"
    }
   ],
   "source": [
    "# Join\n",
    "df_jugadores2.join(df_equipos) # Se hace un left join y las keys son los índices"
   ]
  },
  {
   "cell_type": "code",
   "execution_count": 121,
   "metadata": {},
   "outputs": [
    {
     "data": {
      "text/html": [
       "<div>\n",
       "<style scoped>\n",
       "    .dataframe tbody tr th:only-of-type {\n",
       "        vertical-align: middle;\n",
       "    }\n",
       "\n",
       "    .dataframe tbody tr th {\n",
       "        vertical-align: top;\n",
       "    }\n",
       "\n",
       "    .dataframe thead th {\n",
       "        text-align: right;\n",
       "    }\n",
       "</style>\n",
       "<table border=\"1\" class=\"dataframe\">\n",
       "  <thead>\n",
       "    <tr style=\"text-align: right;\">\n",
       "      <th></th>\n",
       "      <th>Pais</th>\n",
       "      <th>Posicion</th>\n",
       "      <th>Champions</th>\n",
       "      <th>Jugador</th>\n",
       "      <th>Goles</th>\n",
       "      <th>Asistencias</th>\n",
       "      <th>Calificacion</th>\n",
       "    </tr>\n",
       "  </thead>\n",
       "  <tbody>\n",
       "    <tr>\n",
       "      <th>Barcelona</th>\n",
       "      <td>Espana</td>\n",
       "      <td>1</td>\n",
       "      <td>8</td>\n",
       "      <td>Messi</td>\n",
       "      <td>80</td>\n",
       "      <td>48</td>\n",
       "      <td>100</td>\n",
       "    </tr>\n",
       "    <tr>\n",
       "      <th>Juventus</th>\n",
       "      <td>Italia</td>\n",
       "      <td>1</td>\n",
       "      <td>16</td>\n",
       "      <td>Cristiano Ronaldo</td>\n",
       "      <td>75</td>\n",
       "      <td>22</td>\n",
       "      <td>97</td>\n",
       "    </tr>\n",
       "    <tr>\n",
       "      <th>PSG</th>\n",
       "      <td>Francia</td>\n",
       "      <td>1</td>\n",
       "      <td>16</td>\n",
       "      <td>Mbappe</td>\n",
       "      <td>88</td>\n",
       "      <td>18</td>\n",
       "      <td>92</td>\n",
       "    </tr>\n",
       "    <tr>\n",
       "      <th>Inter</th>\n",
       "      <td>Italia</td>\n",
       "      <td>2</td>\n",
       "      <td>32</td>\n",
       "      <td>Lautaro Martinez</td>\n",
       "      <td>78</td>\n",
       "      <td>25</td>\n",
       "      <td>91</td>\n",
       "    </tr>\n",
       "  </tbody>\n",
       "</table>\n",
       "</div>"
      ],
      "text/plain": [
       "              Pais  Posicion  Champions            Jugador  Goles  \\\n",
       "Barcelona   Espana         1          8              Messi     80   \n",
       "Juventus    Italia         1         16  Cristiano Ronaldo     75   \n",
       "PSG        Francia         1         16             Mbappe     88   \n",
       "Inter       Italia         2         32   Lautaro Martinez     78   \n",
       "\n",
       "           Asistencias  Calificacion  \n",
       "Barcelona           48           100  \n",
       "Juventus            22            97  \n",
       "PSG                 18            92  \n",
       "Inter               25            91  "
      ]
     },
     "execution_count": 121,
     "metadata": {},
     "output_type": "execute_result"
    }
   ],
   "source": [
    "df_equipos.join(df_jugadores2) # Podemos hacerlo al revés. En este caso, no tenemos el nombre del índice \"Equipo\""
   ]
  },
  {
   "cell_type": "code",
   "execution_count": 122,
   "metadata": {},
   "outputs": [
    {
     "name": "stdout",
     "output_type": "stream",
     "text": [
      "                     Jugador  Goles  Asistencias  Calificacion     Pais  \\\n",
      "Equipo                                                                    \n",
      "Barcelona              Messi     80           48           100   Espana   \n",
      "Juventus   Cristiano Ronaldo     75           22            97   Italia   \n",
      "PSG                   Mbappe     88           18            92  Francia   \n",
      "Inter       Lautaro Martinez     78           25            91   Italia   \n",
      "Racing           Ivan Pillud      2            4            71      NaN   \n",
      "Dortmund             Haaland     88           15            90      NaN   \n",
      "\n",
      "           Posicion  Champions  \n",
      "Equipo                          \n",
      "Barcelona       1.0        8.0  \n",
      "Juventus        1.0       16.0  \n",
      "PSG             1.0       16.0  \n",
      "Inter           2.0       32.0  \n",
      "Racing          NaN        NaN  \n",
      "Dortmund        NaN        NaN  \n"
     ]
    }
   ],
   "source": [
    "df_join = df_jugadores.rename_axis(\"Jugador\").reset_index().set_index(\"Equipo\").join(df_equipos)\n",
    "print(df_join)"
   ]
  },
  {
   "cell_type": "markdown",
   "metadata": {},
   "source": [
    "#### GROUP BY"
   ]
  },
  {
   "cell_type": "markdown",
   "metadata": {},
   "source": [
    "Otra función muy importante cuando trabajemos con datos es la posibilidad de realizar agrupaciones y operaciones sobre los datos. Para eso, un método fundamental es Group By. Este nos permite agrupar un dataframe por una columna determinada y operar operar sobre el resto de las columnas."
   ]
  },
  {
   "cell_type": "code",
   "execution_count": 123,
   "metadata": {},
   "outputs": [
    {
     "data": {
      "text/html": [
       "<div>\n",
       "<style scoped>\n",
       "    .dataframe tbody tr th:only-of-type {\n",
       "        vertical-align: middle;\n",
       "    }\n",
       "\n",
       "    .dataframe tbody tr th {\n",
       "        vertical-align: top;\n",
       "    }\n",
       "\n",
       "    .dataframe thead th {\n",
       "        text-align: right;\n",
       "    }\n",
       "</style>\n",
       "<table border=\"1\" class=\"dataframe\">\n",
       "  <thead>\n",
       "    <tr style=\"text-align: right;\">\n",
       "      <th></th>\n",
       "      <th>Jugador</th>\n",
       "      <th>Goles</th>\n",
       "      <th>Asistencias</th>\n",
       "      <th>Calificacion</th>\n",
       "      <th>Posicion</th>\n",
       "      <th>Champions</th>\n",
       "    </tr>\n",
       "    <tr>\n",
       "      <th>Pais</th>\n",
       "      <th></th>\n",
       "      <th></th>\n",
       "      <th></th>\n",
       "      <th></th>\n",
       "      <th></th>\n",
       "      <th></th>\n",
       "    </tr>\n",
       "  </thead>\n",
       "  <tbody>\n",
       "    <tr>\n",
       "      <th>Espana</th>\n",
       "      <td>1</td>\n",
       "      <td>1</td>\n",
       "      <td>1</td>\n",
       "      <td>1</td>\n",
       "      <td>1</td>\n",
       "      <td>1</td>\n",
       "    </tr>\n",
       "    <tr>\n",
       "      <th>Francia</th>\n",
       "      <td>1</td>\n",
       "      <td>1</td>\n",
       "      <td>1</td>\n",
       "      <td>1</td>\n",
       "      <td>1</td>\n",
       "      <td>1</td>\n",
       "    </tr>\n",
       "    <tr>\n",
       "      <th>Italia</th>\n",
       "      <td>2</td>\n",
       "      <td>2</td>\n",
       "      <td>2</td>\n",
       "      <td>2</td>\n",
       "      <td>2</td>\n",
       "      <td>2</td>\n",
       "    </tr>\n",
       "  </tbody>\n",
       "</table>\n",
       "</div>"
      ],
      "text/plain": [
       "         Jugador  Goles  Asistencias  Calificacion  Posicion  Champions\n",
       "Pais                                                                   \n",
       "Espana         1      1            1             1         1          1\n",
       "Francia        1      1            1             1         1          1\n",
       "Italia         2      2            2             2         2          2"
      ]
     },
     "execution_count": 123,
     "metadata": {},
     "output_type": "execute_result"
    }
   ],
   "source": [
    "# Group by\n",
    "df_join.groupby(\"Pais\").count()"
   ]
  },
  {
   "cell_type": "markdown",
   "metadata": {},
   "source": [
    "Como vemos, el groupby toma todas las columnas originales del dataframe. Para lograr algo más parecido a lo que buscamos, podemos filtrar solo alguna columna."
   ]
  },
  {
   "cell_type": "code",
   "execution_count": 124,
   "metadata": {},
   "outputs": [
    {
     "data": {
      "text/html": [
       "<div>\n",
       "<style scoped>\n",
       "    .dataframe tbody tr th:only-of-type {\n",
       "        vertical-align: middle;\n",
       "    }\n",
       "\n",
       "    .dataframe tbody tr th {\n",
       "        vertical-align: top;\n",
       "    }\n",
       "\n",
       "    .dataframe thead th {\n",
       "        text-align: right;\n",
       "    }\n",
       "</style>\n",
       "<table border=\"1\" class=\"dataframe\">\n",
       "  <thead>\n",
       "    <tr style=\"text-align: right;\">\n",
       "      <th></th>\n",
       "      <th>Posicion</th>\n",
       "    </tr>\n",
       "    <tr>\n",
       "      <th>Pais</th>\n",
       "      <th></th>\n",
       "    </tr>\n",
       "  </thead>\n",
       "  <tbody>\n",
       "    <tr>\n",
       "      <th>Espana</th>\n",
       "      <td>1</td>\n",
       "    </tr>\n",
       "    <tr>\n",
       "      <th>Francia</th>\n",
       "      <td>1</td>\n",
       "    </tr>\n",
       "    <tr>\n",
       "      <th>Italia</th>\n",
       "      <td>2</td>\n",
       "    </tr>\n",
       "  </tbody>\n",
       "</table>\n",
       "</div>"
      ],
      "text/plain": [
       "         Posicion\n",
       "Pais             \n",
       "Espana          1\n",
       "Francia         1\n",
       "Italia          2"
      ]
     },
     "execution_count": 124,
     "metadata": {},
     "output_type": "execute_result"
    }
   ],
   "source": [
    "df_join[[\"Pais\",\"Posicion\"]].groupby(\"Pais\").count()"
   ]
  },
  {
   "cell_type": "markdown",
   "metadata": {},
   "source": [
    "Describe es un método que arroja descriptores estadísticos básicos."
   ]
  },
  {
   "cell_type": "code",
   "execution_count": 125,
   "metadata": {},
   "outputs": [
    {
     "data": {
      "text/html": [
       "<div>\n",
       "<style scoped>\n",
       "    .dataframe tbody tr th:only-of-type {\n",
       "        vertical-align: middle;\n",
       "    }\n",
       "\n",
       "    .dataframe tbody tr th {\n",
       "        vertical-align: top;\n",
       "    }\n",
       "\n",
       "    .dataframe thead tr th {\n",
       "        text-align: left;\n",
       "    }\n",
       "\n",
       "    .dataframe thead tr:last-of-type th {\n",
       "        text-align: right;\n",
       "    }\n",
       "</style>\n",
       "<table border=\"1\" class=\"dataframe\">\n",
       "  <thead>\n",
       "    <tr>\n",
       "      <th></th>\n",
       "      <th colspan=\"8\" halign=\"left\">Posicion</th>\n",
       "    </tr>\n",
       "    <tr>\n",
       "      <th></th>\n",
       "      <th>count</th>\n",
       "      <th>mean</th>\n",
       "      <th>std</th>\n",
       "      <th>min</th>\n",
       "      <th>25%</th>\n",
       "      <th>50%</th>\n",
       "      <th>75%</th>\n",
       "      <th>max</th>\n",
       "    </tr>\n",
       "    <tr>\n",
       "      <th>Pais</th>\n",
       "      <th></th>\n",
       "      <th></th>\n",
       "      <th></th>\n",
       "      <th></th>\n",
       "      <th></th>\n",
       "      <th></th>\n",
       "      <th></th>\n",
       "      <th></th>\n",
       "    </tr>\n",
       "  </thead>\n",
       "  <tbody>\n",
       "    <tr>\n",
       "      <th>Espana</th>\n",
       "      <td>1.0</td>\n",
       "      <td>1.0</td>\n",
       "      <td>NaN</td>\n",
       "      <td>1.0</td>\n",
       "      <td>1.00</td>\n",
       "      <td>1.0</td>\n",
       "      <td>1.00</td>\n",
       "      <td>1.0</td>\n",
       "    </tr>\n",
       "    <tr>\n",
       "      <th>Francia</th>\n",
       "      <td>1.0</td>\n",
       "      <td>1.0</td>\n",
       "      <td>NaN</td>\n",
       "      <td>1.0</td>\n",
       "      <td>1.00</td>\n",
       "      <td>1.0</td>\n",
       "      <td>1.00</td>\n",
       "      <td>1.0</td>\n",
       "    </tr>\n",
       "    <tr>\n",
       "      <th>Italia</th>\n",
       "      <td>2.0</td>\n",
       "      <td>1.5</td>\n",
       "      <td>0.707107</td>\n",
       "      <td>1.0</td>\n",
       "      <td>1.25</td>\n",
       "      <td>1.5</td>\n",
       "      <td>1.75</td>\n",
       "      <td>2.0</td>\n",
       "    </tr>\n",
       "  </tbody>\n",
       "</table>\n",
       "</div>"
      ],
      "text/plain": [
       "        Posicion                                          \n",
       "           count mean       std  min   25%  50%   75%  max\n",
       "Pais                                                      \n",
       "Espana       1.0  1.0       NaN  1.0  1.00  1.0  1.00  1.0\n",
       "Francia      1.0  1.0       NaN  1.0  1.00  1.0  1.00  1.0\n",
       "Italia       2.0  1.5  0.707107  1.0  1.25  1.5  1.75  2.0"
      ]
     },
     "execution_count": 125,
     "metadata": {},
     "output_type": "execute_result"
    }
   ],
   "source": [
    "df_join[['Pais','Posicion']].groupby(\"Pais\").describe()"
   ]
  },
  {
   "cell_type": "markdown",
   "metadata": {},
   "source": [
    "Pero es mucho mejor acostumbrarnos a usar la función agg porque nos servirá para realizar varios cálculos sobre el mismo dataframe con mucha flexibilidad."
   ]
  },
  {
   "cell_type": "code",
   "execution_count": 126,
   "metadata": {},
   "outputs": [
    {
     "data": {
      "text/html": [
       "<div>\n",
       "<style scoped>\n",
       "    .dataframe tbody tr th:only-of-type {\n",
       "        vertical-align: middle;\n",
       "    }\n",
       "\n",
       "    .dataframe tbody tr th {\n",
       "        vertical-align: top;\n",
       "    }\n",
       "\n",
       "    .dataframe thead th {\n",
       "        text-align: right;\n",
       "    }\n",
       "</style>\n",
       "<table border=\"1\" class=\"dataframe\">\n",
       "  <thead>\n",
       "    <tr style=\"text-align: right;\">\n",
       "      <th></th>\n",
       "      <th>Cantidad</th>\n",
       "    </tr>\n",
       "    <tr>\n",
       "      <th>Pais</th>\n",
       "      <th></th>\n",
       "    </tr>\n",
       "  </thead>\n",
       "  <tbody>\n",
       "    <tr>\n",
       "      <th>Espana</th>\n",
       "      <td>1</td>\n",
       "    </tr>\n",
       "    <tr>\n",
       "      <th>Francia</th>\n",
       "      <td>1</td>\n",
       "    </tr>\n",
       "    <tr>\n",
       "      <th>Italia</th>\n",
       "      <td>2</td>\n",
       "    </tr>\n",
       "  </tbody>\n",
       "</table>\n",
       "</div>"
      ],
      "text/plain": [
       "         Cantidad\n",
       "Pais             \n",
       "Espana          1\n",
       "Francia         1\n",
       "Italia          2"
      ]
     },
     "execution_count": 126,
     "metadata": {},
     "output_type": "execute_result"
    }
   ],
   "source": [
    "df_join.groupby(\"Pais\").agg(Cantidad=(\"Pais\",\"count\"))"
   ]
  },
  {
   "cell_type": "markdown",
   "metadata": {},
   "source": [
    "A través de aggregate podemos definir varias funciones para operar sobre todas las filas de cada columna en base a la agrupación propuesta. El único requisito es conocer exactamente el nombre de las funciones a aplicar. Los más conocidos son: describe, count, sum, mean, median, min, max, mode, std, var, quantile, value_counts. Por defecto, se aplican a todas las columnas. Si queremos que apliquen para todas las columnas de cada fila, tenemos que definir el axis = 0.\n",
    "\n",
    "A su vez, estas funciones también  pueden ser funciones definidas por nosotros. También veremos cómo generar en un paso, por ejemplo, proporciones sobre el total."
   ]
  },
  {
   "cell_type": "code",
   "execution_count": 127,
   "metadata": {},
   "outputs": [],
   "source": [
    "def lautaro(x):\n",
    "    for i in x:\n",
    "        if i in \"Lautaro Martinez\":\n",
    "            return True\n",
    "    return False"
   ]
  },
  {
   "cell_type": "code",
   "execution_count": 128,
   "metadata": {},
   "outputs": [
    {
     "data": {
      "text/html": [
       "<div>\n",
       "<style scoped>\n",
       "    .dataframe tbody tr th:only-of-type {\n",
       "        vertical-align: middle;\n",
       "    }\n",
       "\n",
       "    .dataframe tbody tr th {\n",
       "        vertical-align: top;\n",
       "    }\n",
       "\n",
       "    .dataframe thead th {\n",
       "        text-align: right;\n",
       "    }\n",
       "</style>\n",
       "<table border=\"1\" class=\"dataframe\">\n",
       "  <thead>\n",
       "    <tr style=\"text-align: right;\">\n",
       "      <th></th>\n",
       "      <th>Cantidad</th>\n",
       "      <th>Mejor_Champions</th>\n",
       "      <th>Cantidad_Goles</th>\n",
       "      <th>Proporcion_Goles</th>\n",
       "      <th>Cantidad_Asistencias</th>\n",
       "      <th>Promedio_Calificacion</th>\n",
       "      <th>Esta_Lautaro</th>\n",
       "    </tr>\n",
       "    <tr>\n",
       "      <th>Pais</th>\n",
       "      <th></th>\n",
       "      <th></th>\n",
       "      <th></th>\n",
       "      <th></th>\n",
       "      <th></th>\n",
       "      <th></th>\n",
       "      <th></th>\n",
       "    </tr>\n",
       "  </thead>\n",
       "  <tbody>\n",
       "    <tr>\n",
       "      <th>Espana</th>\n",
       "      <td>1</td>\n",
       "      <td>8.0</td>\n",
       "      <td>80</td>\n",
       "      <td>0.194647</td>\n",
       "      <td>48</td>\n",
       "      <td>100</td>\n",
       "      <td>False</td>\n",
       "    </tr>\n",
       "    <tr>\n",
       "      <th>Francia</th>\n",
       "      <td>1</td>\n",
       "      <td>16.0</td>\n",
       "      <td>88</td>\n",
       "      <td>0.214112</td>\n",
       "      <td>18</td>\n",
       "      <td>92</td>\n",
       "      <td>False</td>\n",
       "    </tr>\n",
       "    <tr>\n",
       "      <th>Italia</th>\n",
       "      <td>2</td>\n",
       "      <td>16.0</td>\n",
       "      <td>153</td>\n",
       "      <td>0.372263</td>\n",
       "      <td>47</td>\n",
       "      <td>94</td>\n",
       "      <td>True</td>\n",
       "    </tr>\n",
       "  </tbody>\n",
       "</table>\n",
       "</div>"
      ],
      "text/plain": [
       "         Cantidad  Mejor_Champions  Cantidad_Goles  Proporcion_Goles  \\\n",
       "Pais                                                                   \n",
       "Espana          1              8.0              80          0.194647   \n",
       "Francia         1             16.0              88          0.214112   \n",
       "Italia          2             16.0             153          0.372263   \n",
       "\n",
       "         Cantidad_Asistencias  Promedio_Calificacion  Esta_Lautaro  \n",
       "Pais                                                                \n",
       "Espana                     48                    100         False  \n",
       "Francia                    18                     92         False  \n",
       "Italia                     47                     94          True  "
      ]
     },
     "execution_count": 128,
     "metadata": {},
     "output_type": "execute_result"
    }
   ],
   "source": [
    "# AGG\n",
    "df_join.groupby(\"Pais\").agg(\n",
    "    Cantidad = ('Pais','count'),\n",
    "    Mejor_Champions = ('Champions',min),\n",
    "    Cantidad_Goles = ('Goles',sum),\n",
    "    Proporcion_Goles = ('Goles',lambda x: x.sum() / df_join[['Goles']].sum()),\n",
    "    Cantidad_Asistencias = ('Asistencias','sum'),\n",
    "    Promedio_Calificacion = ('Calificacion','mean'),\n",
    "    Esta_Lautaro = ('Jugador',lautaro)\n",
    "    )"
   ]
  },
  {
   "cell_type": "markdown",
   "metadata": {},
   "source": [
    "#### PIVOT TABLES"
   ]
  },
  {
   "cell_type": "markdown",
   "metadata": {},
   "source": [
    "La ventaja de crear tablas pivot en Pandas es que el comando resulta bastante explícito y sencillo de generar. Esto nos va a permitir visualizar fácilmente medidas agregadas en dataframes grandes. El parámetro aggfunc funciona de manera similar a lo que vimos antes para el aggregate, podemos pasar funciones ya seteadas en Pandas o bien crear una función customizada y también podemos incluir varias funciones en forma de diccionario."
   ]
  },
  {
   "cell_type": "code",
   "execution_count": 129,
   "metadata": {},
   "outputs": [
    {
     "data": {
      "text/html": [
       "<div>\n",
       "<style scoped>\n",
       "    .dataframe tbody tr th:only-of-type {\n",
       "        vertical-align: middle;\n",
       "    }\n",
       "\n",
       "    .dataframe tbody tr th {\n",
       "        vertical-align: top;\n",
       "    }\n",
       "\n",
       "    .dataframe thead th {\n",
       "        text-align: right;\n",
       "    }\n",
       "</style>\n",
       "<table border=\"1\" class=\"dataframe\">\n",
       "  <thead>\n",
       "    <tr style=\"text-align: right;\">\n",
       "      <th>Jugador</th>\n",
       "      <th>Cristiano Ronaldo</th>\n",
       "      <th>Haaland</th>\n",
       "      <th>Ivan Pillud</th>\n",
       "      <th>Lautaro Martinez</th>\n",
       "      <th>Mbappe</th>\n",
       "      <th>Messi</th>\n",
       "    </tr>\n",
       "  </thead>\n",
       "  <tbody>\n",
       "    <tr>\n",
       "      <th>Goles</th>\n",
       "      <td>75</td>\n",
       "      <td>88</td>\n",
       "      <td>2</td>\n",
       "      <td>78</td>\n",
       "      <td>88</td>\n",
       "      <td>80</td>\n",
       "    </tr>\n",
       "  </tbody>\n",
       "</table>\n",
       "</div>"
      ],
      "text/plain": [
       "Jugador  Cristiano Ronaldo  Haaland  Ivan Pillud  Lautaro Martinez  Mbappe  \\\n",
       "Goles                   75       88            2                78      88   \n",
       "\n",
       "Jugador  Messi  \n",
       "Goles       80  "
      ]
     },
     "execution_count": 129,
     "metadata": {},
     "output_type": "execute_result"
    }
   ],
   "source": [
    "df_join.pivot_table('Goles',columns = 'Jugador', aggfunc = sum)"
   ]
  },
  {
   "cell_type": "code",
   "execution_count": 130,
   "metadata": {},
   "outputs": [
    {
     "data": {
      "text/html": [
       "<div>\n",
       "<style scoped>\n",
       "    .dataframe tbody tr th:only-of-type {\n",
       "        vertical-align: middle;\n",
       "    }\n",
       "\n",
       "    .dataframe tbody tr th {\n",
       "        vertical-align: top;\n",
       "    }\n",
       "\n",
       "    .dataframe thead th {\n",
       "        text-align: right;\n",
       "    }\n",
       "</style>\n",
       "<table border=\"1\" class=\"dataframe\">\n",
       "  <thead>\n",
       "    <tr style=\"text-align: right;\">\n",
       "      <th>Jugador</th>\n",
       "      <th>Cristiano Ronaldo</th>\n",
       "      <th>Haaland</th>\n",
       "      <th>Ivan Pillud</th>\n",
       "      <th>Lautaro Martinez</th>\n",
       "      <th>Mbappe</th>\n",
       "      <th>Messi</th>\n",
       "    </tr>\n",
       "  </thead>\n",
       "  <tbody>\n",
       "    <tr>\n",
       "      <th>&lt;lambda_0&gt;</th>\n",
       "      <td>0.18</td>\n",
       "      <td>0.21</td>\n",
       "      <td>0.0</td>\n",
       "      <td>0.19</td>\n",
       "      <td>0.21</td>\n",
       "      <td>0.19</td>\n",
       "    </tr>\n",
       "    <tr>\n",
       "      <th>sum</th>\n",
       "      <td>75.00</td>\n",
       "      <td>88.00</td>\n",
       "      <td>2.0</td>\n",
       "      <td>78.00</td>\n",
       "      <td>88.00</td>\n",
       "      <td>80.00</td>\n",
       "    </tr>\n",
       "  </tbody>\n",
       "</table>\n",
       "</div>"
      ],
      "text/plain": [
       "Jugador     Cristiano Ronaldo  Haaland  Ivan Pillud  Lautaro Martinez  Mbappe  \\\n",
       "<lambda_0>               0.18     0.21          0.0              0.19    0.21   \n",
       "sum                     75.00    88.00          2.0             78.00   88.00   \n",
       "\n",
       "Jugador     Messi  \n",
       "<lambda_0>   0.19  \n",
       "sum         80.00  "
      ]
     },
     "execution_count": 130,
     "metadata": {},
     "output_type": "execute_result"
    }
   ],
   "source": [
    "df_join.pivot_table('Goles', columns='Jugador', aggfunc = {sum, lambda x: round(x.sum() / df_join[['Goles']].sum(),2)})"
   ]
  },
  {
   "cell_type": "markdown",
   "metadata": {},
   "source": [
    "A su vez, también podemos usar el comando unstack para pasar del formato de tabla pivoteada a una tabla multiíndice y viceversa."
   ]
  },
  {
   "cell_type": "code",
   "execution_count": 131,
   "metadata": {},
   "outputs": [
    {
     "data": {
      "text/plain": [
       "Jugador                 \n",
       "Cristiano Ronaldo  Goles    75\n",
       "Haaland            Goles    88\n",
       "Ivan Pillud        Goles     2\n",
       "Lautaro Martinez   Goles    78\n",
       "Mbappe             Goles    88\n",
       "Messi              Goles    80\n",
       "dtype: int64"
      ]
     },
     "execution_count": 131,
     "metadata": {},
     "output_type": "execute_result"
    }
   ],
   "source": [
    "df_join.pivot_table('Goles', columns = 'Jugador', aggfunc = sum).unstack()"
   ]
  },
  {
   "cell_type": "markdown",
   "metadata": {},
   "source": [
    "#### DATES"
   ]
  },
  {
   "cell_type": "markdown",
   "metadata": {},
   "source": [
    "Para manipular fechas hay muchas funciones útiles en Pandas. Aquí solo dejaremos date_range en una versión básica, pero sabiendo que es un método que tiene varios parámetros útiles."
   ]
  },
  {
   "cell_type": "code",
   "execution_count": 132,
   "metadata": {},
   "outputs": [
    {
     "data": {
      "text/plain": [
       "DatetimeIndex(['2020-01-01', '2020-01-02', '2020-01-03', '2020-01-04',\n",
       "               '2020-01-05', '2020-01-06', '2020-01-07', '2020-01-08',\n",
       "               '2020-01-09', '2020-01-10', '2020-01-11', '2020-01-12',\n",
       "               '2020-01-13', '2020-01-14', '2020-01-15', '2020-01-16',\n",
       "               '2020-01-17', '2020-01-18', '2020-01-19', '2020-01-20',\n",
       "               '2020-01-21', '2020-01-22', '2020-01-23', '2020-01-24',\n",
       "               '2020-01-25', '2020-01-26', '2020-01-27', '2020-01-28',\n",
       "               '2020-01-29', '2020-01-30', '2020-01-31'],\n",
       "              dtype='datetime64[ns]', freq='D')"
      ]
     },
     "execution_count": 132,
     "metadata": {},
     "output_type": "execute_result"
    }
   ],
   "source": [
    "# Start y end\n",
    "pd.date_range(\"2020-01-01\",\"2020-01-31\")"
   ]
  },
  {
   "cell_type": "code",
   "execution_count": 133,
   "metadata": {},
   "outputs": [
    {
     "data": {
      "text/plain": [
       "DatetimeIndex(['2020-01-11', '2020-01-12', '2020-01-13', '2020-01-14',\n",
       "               '2020-01-15'],\n",
       "              dtype='datetime64[ns]', freq='D')"
      ]
     },
     "execution_count": 133,
     "metadata": {},
     "output_type": "execute_result"
    }
   ],
   "source": [
    "# Slicing\n",
    "pd.date_range(\"2020-01-01\",\"2020-01-31\")[10:15]"
   ]
  },
  {
   "cell_type": "code",
   "execution_count": 134,
   "metadata": {},
   "outputs": [
    {
     "data": {
      "text/plain": [
       "DatetimeIndex(['2020-01-01 00:00:00', '2020-01-01 01:00:00',\n",
       "               '2020-01-01 02:00:00', '2020-01-01 03:00:00',\n",
       "               '2020-01-01 04:00:00', '2020-01-01 05:00:00',\n",
       "               '2020-01-01 06:00:00', '2020-01-01 07:00:00',\n",
       "               '2020-01-01 08:00:00', '2020-01-01 09:00:00',\n",
       "               '2020-01-01 10:00:00', '2020-01-01 11:00:00',\n",
       "               '2020-01-01 12:00:00', '2020-01-01 13:00:00',\n",
       "               '2020-01-01 14:00:00', '2020-01-01 15:00:00',\n",
       "               '2020-01-01 16:00:00', '2020-01-01 17:00:00',\n",
       "               '2020-01-01 18:00:00', '2020-01-01 19:00:00',\n",
       "               '2020-01-01 20:00:00', '2020-01-01 21:00:00',\n",
       "               '2020-01-01 22:00:00', '2020-01-01 23:00:00',\n",
       "               '2020-01-02 00:00:00'],\n",
       "              dtype='datetime64[ns]', freq='H')"
      ]
     },
     "execution_count": 134,
     "metadata": {},
     "output_type": "execute_result"
    }
   ],
   "source": [
    "# Frequency\n",
    "pd.date_range(\"2020-01-01\",\"2020-01-02\",freq=\"H\")"
   ]
  },
  {
   "cell_type": "code",
   "execution_count": 135,
   "metadata": {},
   "outputs": [
    {
     "data": {
      "text/plain": [
       "DatetimeIndex(['2020-01-01 23:00:00'], dtype='datetime64[ns]', freq='H')"
      ]
     },
     "execution_count": 135,
     "metadata": {},
     "output_type": "execute_result"
    }
   ],
   "source": [
    "# Slicing negativo\n",
    "pd.date_range(\"2020-01-01\",\"2020-01-02\",freq=\"H\")[-2:-1]"
   ]
  },
  {
   "cell_type": "code",
   "execution_count": 136,
   "metadata": {},
   "outputs": [
    {
     "data": {
      "text/plain": [
       "DatetimeIndex(['2020-01-01 00:00:00', '2020-01-01 01:00:00',\n",
       "               '2020-01-01 02:00:00'],\n",
       "              dtype='datetime64[ns]', freq='H')"
      ]
     },
     "execution_count": 136,
     "metadata": {},
     "output_type": "execute_result"
    }
   ],
   "source": [
    "# Periods\n",
    "pd.date_range(\"2020-01-01\",periods=3,freq=\"H\")"
   ]
  },
  {
   "cell_type": "markdown",
   "metadata": {},
   "source": [
    "#### STRINGS"
   ]
  },
  {
   "cell_type": "markdown",
   "metadata": {},
   "source": [
    "En Pandas con el método str incorporamos muchas funciones que son preconstruidas en Python o bien que matchean con las de la librería re (regular expression). Vamos a ver algunas de ellas aunque hay mucha documentación para buscar la operación deseada."
   ]
  },
  {
   "cell_type": "markdown",
   "metadata": {},
   "source": [
    "Creamos un texto a partir de oraciones en una lista. Vamos a ver la diferencia con generar una Serie de Pandas a partir de esa lista."
   ]
  },
  {
   "cell_type": "code",
   "execution_count": 137,
   "metadata": {},
   "outputs": [
    {
     "name": "stdout",
     "output_type": "stream",
     "text": [
      "['Esto es lo que pasa', 'Cuando separas un texto', 'En oraciones']\n",
      "\n",
      " 0        Esto es lo que pasa\n",
      "1    Cuando separas un texto\n",
      "2               En oraciones\n",
      "dtype: object\n"
     ]
    }
   ],
   "source": [
    "text = ['Esto es lo que pasa','Cuando separas un texto','En oraciones']\n",
    "serie_text = pd.Series(text)\n",
    "print(text)\n",
    "print(\"\\n\",serie_text)"
   ]
  },
  {
   "cell_type": "markdown",
   "metadata": {},
   "source": [
    "Si queremos pasar todo el texto a minúsculas, vamos a tener un problema al trabajar con una lista."
   ]
  },
  {
   "cell_type": "code",
   "execution_count": 138,
   "metadata": {},
   "outputs": [
    {
     "ename": "AttributeError",
     "evalue": "'list' object has no attribute 'lower'",
     "output_type": "error",
     "traceback": [
      "\u001b[0;31m---------------------------------------------------------------------------\u001b[0m",
      "\u001b[0;31mAttributeError\u001b[0m                            Traceback (most recent call last)",
      "\u001b[0;32m<ipython-input-138-10ebb3994871>\u001b[0m in \u001b[0;36m<module>\u001b[0;34m\u001b[0m\n\u001b[0;32m----> 1\u001b[0;31m \u001b[0mtext\u001b[0m\u001b[0;34m.\u001b[0m\u001b[0mlower\u001b[0m\u001b[0;34m(\u001b[0m\u001b[0;34m)\u001b[0m\u001b[0;34m\u001b[0m\u001b[0;34m\u001b[0m\u001b[0m\n\u001b[0m",
      "\u001b[0;31mAttributeError\u001b[0m: 'list' object has no attribute 'lower'"
     ]
    }
   ],
   "source": [
    "text.lower()"
   ]
  },
  {
   "cell_type": "markdown",
   "metadata": {},
   "source": [
    "Por lo cual, vamos a tener que iterar sobre los elementos. Esta solución es poco eficiente y escalable."
   ]
  },
  {
   "cell_type": "code",
   "execution_count": null,
   "metadata": {},
   "outputs": [],
   "source": [
    "for sentence in text:\n",
    "    print(sentence.lower())"
   ]
  },
  {
   "cell_type": "markdown",
   "metadata": {},
   "source": [
    "En cambio, al convertir la lista en una Serie, podemos ganar el beneficio de los métodos definidos bajo str."
   ]
  },
  {
   "cell_type": "code",
   "execution_count": null,
   "metadata": {},
   "outputs": [],
   "source": [
    "# Lower\n",
    "serie_text.str.lower()"
   ]
  },
  {
   "cell_type": "code",
   "execution_count": null,
   "metadata": {},
   "outputs": [],
   "source": [
    "# Upper\n",
    "serie_text.str.upper()"
   ]
  },
  {
   "cell_type": "markdown",
   "metadata": {},
   "source": [
    "Strip sirve para eliminar caracteres especiales"
   ]
  },
  {
   "cell_type": "code",
   "execution_count": null,
   "metadata": {},
   "outputs": [],
   "source": [
    "serie_text[1] = \"\\nCuando separas un texto\"\n",
    "serie_text"
   ]
  },
  {
   "cell_type": "code",
   "execution_count": null,
   "metadata": {},
   "outputs": [],
   "source": [
    "# Strip\n",
    "serie_text.str.strip()"
   ]
  },
  {
   "cell_type": "code",
   "execution_count": null,
   "metadata": {},
   "outputs": [],
   "source": [
    "# Split\n",
    "serie_text.str.split()"
   ]
  },
  {
   "cell_type": "code",
   "execution_count": null,
   "metadata": {},
   "outputs": [],
   "source": [
    "# Replace\n",
    "serie_text.str.replace(\"texto\", \"articulo\")"
   ]
  },
  {
   "cell_type": "code",
   "execution_count": null,
   "metadata": {},
   "outputs": [],
   "source": [
    "# Extract\n",
    "serie_text[1] = \"cuando separas un articulo\"\n",
    "serie_text.str.extract(\"([A-Z]+[a-z]+)\") # Para extraer la primera palabra de cada oracion"
   ]
  },
  {
   "cell_type": "code",
   "execution_count": null,
   "metadata": {},
   "outputs": [],
   "source": [
    "serie_text.str.strip().str.capitalize().str.extract(\"([A-Z]+[a-z]+)\") # Capitalizamos y luego extraemos"
   ]
  },
  {
   "cell_type": "code",
   "execution_count": null,
   "metadata": {},
   "outputs": [],
   "source": [
    "# Findall\n",
    "serie_text.str.findall(\"[Ee]s\") # Encuentra todas las coincidencias dentro de cada elemento"
   ]
  },
  {
   "cell_type": "markdown",
   "metadata": {},
   "source": [
    "### CARGA DE DATASETS"
   ]
  },
  {
   "cell_type": "markdown",
   "metadata": {},
   "source": [
    "#### PANDAS"
   ]
  },
  {
   "cell_type": "markdown",
   "metadata": {},
   "source": [
    "En Pandas tenemos 2 métodos principales para la carga y grabado de datasets."
   ]
  },
  {
   "cell_type": "code",
   "execution_count": null,
   "metadata": {},
   "outputs": [],
   "source": [
    "# DataFrame\n",
    "test = df_join.groupby(\"Pais\").agg(\n",
    "    Cantidad = ('Pais','count'),\n",
    "    Mejor_Champions = ('Champions',min),\n",
    "    Cantidad_Goles = ('Goles',sum),\n",
    "    Proporcion_Goles = ('Goles',lambda x: x.sum() / df_join[['Goles']].sum()),\n",
    "    Cantidad_Asistencias = ('Asistencias','sum'),\n",
    "    Promedio_Calificacion = ('Calificacion','mean'),\n",
    "    Esta_Lautaro = ('Jugador',lautaro))"
   ]
  },
  {
   "cell_type": "code",
   "execution_count": null,
   "metadata": {},
   "outputs": [],
   "source": [
    "# To_csv\n",
    "test.to_csv(\"test.csv\", mode = \"w\") # Con mode \"w\" escribimos sobre el archivo"
   ]
  },
  {
   "cell_type": "code",
   "execution_count": null,
   "metadata": {},
   "outputs": [],
   "source": [
    "# Read_csv\n",
    "pd.read_csv('test.csv') # Si el archivo es separado por comas, con este comando solo lo pasamos a un dataframe"
   ]
  },
  {
   "cell_type": "code",
   "execution_count": null,
   "metadata": {},
   "outputs": [],
   "source": [
    "# Modo append\n",
    "test.to_csv(\"test.csv\", mode = \"a\", header = False) # Con mode \"a\" appendeamos al archivo\n",
    "pd.read_csv('test.csv')"
   ]
  },
  {
   "cell_type": "markdown",
   "metadata": {},
   "source": [
    "#### PYTHON"
   ]
  },
  {
   "cell_type": "markdown",
   "metadata": {},
   "source": [
    "En caso de que no queramos trabajar con Pandas, podemos utilizar los métodos pre-built de Python."
   ]
  },
  {
   "cell_type": "code",
   "execution_count": null,
   "metadata": {},
   "outputs": [],
   "source": [
    "with open(\"test.csv\",\"r\") as f: # Creamos un open\n",
    "    prueba = f.read() # Aplicamos el método read\n",
    "prueba"
   ]
  },
  {
   "cell_type": "code",
   "execution_count": null,
   "metadata": {},
   "outputs": [],
   "source": [
    "import csv\n",
    "with open(\"test.csv\") as f:\n",
    "    reader = csv.reader(f) # También tenemos un método para leer CSVs\n",
    "    for row in reader:\n",
    "        print(row)"
   ]
  },
  {
   "cell_type": "markdown",
   "metadata": {},
   "source": [
    "### GRÁFICOS"
   ]
  },
  {
   "cell_type": "markdown",
   "metadata": {},
   "source": [
    "En Python la libreria estándar para generar visualizaciones es Matplotlib. Sin embargo, existe una librería más reciente que funciona sobre Matplotlib y permite no solo mejorar la calidad de las visualizaciones sino también trabajar de manera más cómoda con las estructuras de datos de Pandas. Esta librería es Seaborn y veremos directamente cómo funciona y las diferencias que agrega."
   ]
  },
  {
   "cell_type": "markdown",
   "metadata": {},
   "source": [
    "Podríamos hacer una guía entera sobre visualización pero no es la idea. Solo vamos a ver la aplicación para un caso básico y dejar acceso a recursos para complementar con diferentes estrategias. Por ejemplo esta cheatsheet: https://medium.com/swlh/your-ultimate-python-visualization-cheat-sheet-663318470db"
   ]
  },
  {
   "cell_type": "markdown",
   "metadata": {},
   "source": [
    "Primero creamos la data con la que vamos a trabajar. Usamos Numpy para crear una distribución multivariada y almacenamos esa información de un DataFrame. Los gráficos que vamos a realizar están alrededor de poder graficar la distribución de este dataframe."
   ]
  },
  {
   "cell_type": "code",
   "execution_count": null,
   "metadata": {},
   "outputs": [],
   "source": [
    "multivariada = np.random.multivariate_normal([0,0],[[10,2],[2,2]],size=10000) # Creamos el array\n",
    "multivariada = pd.DataFrame(test, columns = ['x','y']) # Lo almacenamos en un DataFrame y renombramos las columnas"
   ]
  },
  {
   "cell_type": "markdown",
   "metadata": {},
   "source": [
    "Los objetos de Pandas ya tienen incorporada la librería matplotlib e incluso se pueden llamar directamente desde el dataframe."
   ]
  },
  {
   "cell_type": "code",
   "execution_count": null,
   "metadata": {},
   "outputs": [],
   "source": [
    "multivariada.hist() # Llamamos el método hist directo desde el DataFrame"
   ]
  },
  {
   "cell_type": "code",
   "execution_count": null,
   "metadata": {},
   "outputs": [],
   "source": [
    "multivariada.plot(kind = 'hist')"
   ]
  },
  {
   "cell_type": "markdown",
   "metadata": {},
   "source": [
    "Sin embargo, es común importar matplotlib bajo el pseudónimo plt para ordenar mejor las funcionalidades de la visualización, especialmente cuando configuramos varios de sus parámetros."
   ]
  },
  {
   "cell_type": "code",
   "execution_count": null,
   "metadata": {},
   "outputs": [],
   "source": [
    "import matplotlib.pyplot as plt\n",
    "plt.rcdefaults() # Esto se usa en caso de que hayamos seteado seaborn y queramos volver al por defecto de plt"
   ]
  },
  {
   "cell_type": "code",
   "execution_count": null,
   "metadata": {},
   "outputs": [],
   "source": [
    "plt.hist(multivariada['x'], alpha = 0.5) # También podemos llamar el hist desde matplotlib para cada columna\n",
    "plt.hist(multivariada['y'], alpha = 0.5)"
   ]
  },
  {
   "cell_type": "markdown",
   "metadata": {},
   "source": [
    "A continuación vamos a importar seaborn y a corroborar cómo cambia la apariencia aun con esta visualización sencilla"
   ]
  },
  {
   "cell_type": "code",
   "execution_count": null,
   "metadata": {},
   "outputs": [],
   "source": [
    "import seaborn as sns\n",
    "sns.set()"
   ]
  },
  {
   "cell_type": "code",
   "execution_count": null,
   "metadata": {},
   "outputs": [],
   "source": [
    "plt.hist(test['x'], alpha = 0.5) # Llamamos la función de la misma manera que antes\n",
    "plt.hist(test['y'], alpha = 0.5)"
   ]
  },
  {
   "cell_type": "code",
   "execution_count": null,
   "metadata": {},
   "outputs": [],
   "source": [
    "plt.hist(test['x'], density  = True, alpha = 0.5)\n",
    "plt.hist(test['y'], density = True, alpha = 0.5)"
   ]
  },
  {
   "cell_type": "markdown",
   "metadata": {},
   "source": [
    "Pero además, seaborn nos permite incorporar otras visualizaciones un poco más sofisticadas."
   ]
  },
  {
   "cell_type": "code",
   "execution_count": null,
   "metadata": {},
   "outputs": [],
   "source": [
    "sns.kdeplot(test['x'], shade=True)\n",
    "sns.kdeplot(test['y'], shade=True)"
   ]
  },
  {
   "cell_type": "code",
   "execution_count": null,
   "metadata": {},
   "outputs": [],
   "source": [
    "sns.distplot(test['x'])\n",
    "sns.distplot(test['y'])"
   ]
  },
  {
   "cell_type": "markdown",
   "metadata": {},
   "source": [
    "Otra visualización útil es un heatmap que se puede aplicar, particularmente, sobre una matriz de correlación."
   ]
  },
  {
   "cell_type": "code",
   "execution_count": null,
   "metadata": {},
   "outputs": [],
   "source": [
    "df_correlacion = {'A': [45,37,42,35,39],\n",
    "        'B': [38,31,26,28,33],\n",
    "        'C': [10,15,17,21,12]}\n",
    "\n",
    "df_correlacion = pd.DataFrame(test,columns=test.keys())\n",
    "\n",
    "sns.heatmap(df_correlacion.corr(), annot=True)"
   ]
  },
  {
   "cell_type": "markdown",
   "metadata": {},
   "source": [
    "Como decíamos anteriormente, hay muchísimas opciones y visualizaciones distintas que podemos generar con Matplotlib y Seaborn. En esta dirección podemos encontrar una galería bastante exhaustiva de los tipos de gráficos y cuáles son sus parámetros: https://matplotlib.org/gallery.html"
   ]
  },
  {
   "cell_type": "markdown",
   "metadata": {},
   "source": [
    "## SCIKIT - LEARN"
   ]
  },
  {
   "cell_type": "markdown",
   "metadata": {},
   "source": [
    "A continuación vamos a ver la librería que completa la santa tríada de trabajo con Ciencia de datos: Pandas + Numpy / Matplotlib + Seaborn / Sklearn. Con esta librería vamos a tener muchas funciones y métodos para particionar datasets, crear modelos y evaluarlos."
   ]
  },
  {
   "cell_type": "markdown",
   "metadata": {},
   "source": [
    "Según la propia documentación de Scikit - Learn, los pasos a seguir para el trabajo con modelos (ya sea supervisados o no supervisados) es el siguiente:\n",
    "\n",
    "1) Choose a class of model by importing the appropriate estimator class from Scikit-Learn.\n",
    "\n",
    "2) Choose model hyperparameters by instantiating this class with desired values.\n",
    "\n",
    "3) Arrange data into a features matrix and target vector following the discussion above.\n",
    "\n",
    "4) Fit the model to your data by calling the fit() method of the model instance.\n",
    "\n",
    "5) Apply the Model to new data:\n",
    "    \n",
    "a) For supervised learning, often we predict labels for unknown data using the predict() method.\n",
    "\n",
    "b) For unsupervised learning, we often transform or infer properties of the data using the transform() or predict() method.\n",
    "\n",
    "\n"
   ]
  },
  {
   "cell_type": "markdown",
   "metadata": {},
   "source": [
    "Vamos a ver una versión más criolla de este procedimiento. Es la base de todo el trabajo que vamos a hacer con datos, por eso es importante que se entienda. Acá vamos a ver la estructura básica de trabajo con modelos. Obviamente, esto no nos va a resolver más que problemas muy sencillos (como los que veremos acá). Cuando estemos trabajando un caso real, toda la magia en la resolución de los problemas está en todos los pasos intermedios. Sin embargo, con lo que veremos acá ya tenemos la estructura con la cual trabajar."
   ]
  },
  {
   "cell_type": "markdown",
   "metadata": {},
   "source": []
  },
  {
   "cell_type": "markdown",
   "metadata": {},
   "source": [
    "### REGRESION LINEAL"
   ]
  },
  {
   "cell_type": "markdown",
   "metadata": {},
   "source": [
    "A continuación vamos a generar los datos necesarios para construir nuestro primer modelo: una regresión lineal. Para eso, usaremos algunas de las mejores funcionalidades que vimos en las librerías Pandas, Numpy y Matplotlib con el agregado que nos permite hacer Scikit-Learn para este tipo de tareas"
   ]
  },
  {
   "cell_type": "code",
   "execution_count": 55,
   "metadata": {},
   "outputs": [],
   "source": [
    "# Importamos todas las librerias necesarias\n",
    "import pandas as pd\n",
    "import numpy as np\n",
    "import matplotlib.pyplot as plt\n",
    "import seaborn as sns; sns.set()"
   ]
  },
  {
   "cell_type": "markdown",
   "metadata": {},
   "source": [
    "#### Los datos"
   ]
  },
  {
   "cell_type": "code",
   "execution_count": 54,
   "metadata": {},
   "outputs": [
    {
     "data": {
      "text/plain": [
       "<matplotlib.collections.PathCollection at 0x7f2ad3e94750>"
      ]
     },
     "execution_count": 54,
     "metadata": {},
     "output_type": "execute_result"
    },
    {
     "data": {
      "image/png": "[encoded data removed]",
      "text/plain": [
       "<Figure size 432x288 with 1 Axes>"
      ]
     },
     "metadata": {},
     "output_type": "display_data"
    }
   ],
   "source": [
    "np.random.seed(42) # Fijamos la semilla para poder volver a los resultados\n",
    "x = 10 * np.random.rand(100) # Creamos una variable x con numeros random\n",
    "y = 2 * x - 1 + np.random.randn(100) # Creamos la etiqueta y con una funcion lineal y un error\n",
    "plt.scatter(x,y) # Graficamos"
   ]
  },
  {
   "cell_type": "markdown",
   "metadata": {},
   "source": [
    "#### El modelo"
   ]
  },
  {
   "cell_type": "code",
   "execution_count": 56,
   "metadata": {},
   "outputs": [],
   "source": [
    "from sklearn.linear_model import LinearRegression # Importamos el modelo a utilizar"
   ]
  },
  {
   "cell_type": "markdown",
   "metadata": {},
   "source": [
    "El primer paso es crear la estructura del modelo a utilizar, con los hiperparametros que queramos definir (o utilizar los que vienen por defecto)."
   ]
  },
  {
   "cell_type": "code",
   "execution_count": 90,
   "metadata": {},
   "outputs": [
    {
     "data": {
      "text/plain": [
       "LinearRegression(copy_X=True, fit_intercept=True, n_jobs=None, normalize=False)"
      ]
     },
     "execution_count": 90,
     "metadata": {},
     "output_type": "execute_result"
    }
   ],
   "source": [
    "model = LinearRegression()\n",
    "model # Imprimimos para ver los hiperparametros por default"
   ]
  },
  {
   "cell_type": "markdown",
   "metadata": {},
   "source": [
    "Para ajustar el modelo a los datos, necesitamos que estos esten en un array 2D de Numpy (o en un Data Frame de Pandas)."
   ]
  },
  {
   "cell_type": "code",
   "execution_count": 78,
   "metadata": {},
   "outputs": [
    {
     "name": "stdout",
     "output_type": "stream",
     "text": [
      "No se pudo\n"
     ]
    }
   ],
   "source": [
    "try:\n",
    "    model.fit(x,y)\n",
    "except:\n",
    "    print(\"No se pudo\")"
   ]
  },
  {
   "cell_type": "code",
   "execution_count": 82,
   "metadata": {},
   "outputs": [
    {
     "data": {
      "text/plain": [
       "(100,)"
      ]
     },
     "execution_count": 82,
     "metadata": {},
     "output_type": "execute_result"
    }
   ],
   "source": [
    "x.shape # Vemos la forma del array 1D"
   ]
  },
  {
   "cell_type": "markdown",
   "metadata": {},
   "source": [
    "Lo que tenemos hasta el momento es un array 1D, por eso necesitamos transformarlo para que sea aceptado por el modelo."
   ]
  },
  {
   "cell_type": "code",
   "execution_count": 83,
   "metadata": {},
   "outputs": [
    {
     "data": {
      "text/plain": [
       "(100, 1)"
      ]
     },
     "execution_count": 83,
     "metadata": {},
     "output_type": "execute_result"
    }
   ],
   "source": [
    "X = x[:,np.newaxis] # De esta manera generamos un nuevo eje para que tenga la forma indicada\n",
    "X.shape"
   ]
  },
  {
   "cell_type": "code",
   "execution_count": 107,
   "metadata": {},
   "outputs": [
    {
     "data": {
      "text/plain": [
       "LinearRegression(copy_X=True, fit_intercept=True, n_jobs=None, normalize=False)"
      ]
     },
     "execution_count": 107,
     "metadata": {},
     "output_type": "execute_result"
    }
   ],
   "source": [
    "model.fit(X,y) # Ahora si, corremos el modelo"
   ]
  },
  {
   "cell_type": "markdown",
   "metadata": {},
   "source": [
    "Una vez que corremos el modelo sobre los datos, ya tenemos un modelo entrenado con ciertos parametros. En la mayoria de los casos, estos no tienen una interpretacion pero si aun asi queremos verlos, tenemos metodos para esa finalidad."
   ]
  },
  {
   "cell_type": "code",
   "execution_count": 88,
   "metadata": {},
   "outputs": [
    {
     "data": {
      "text/plain": [
       "array([1.95402268])"
      ]
     },
     "execution_count": 88,
     "metadata": {},
     "output_type": "execute_result"
    }
   ],
   "source": [
    "model.coef_ # El coeficiente de la unica variable del modelo"
   ]
  },
  {
   "cell_type": "code",
   "execution_count": 89,
   "metadata": {},
   "outputs": [
    {
     "data": {
      "text/plain": [
       "-0.7849038424532502"
      ]
     },
     "execution_count": 89,
     "metadata": {},
     "output_type": "execute_result"
    }
   ],
   "source": [
    "model.intercept_ # El intercepeto del modelo"
   ]
  },
  {
   "cell_type": "markdown",
   "metadata": {},
   "source": [
    "Es importante notar que estos metodos solo estan disponibles una vez que entrenamos (corrimos o fiteamos) el modelo."
   ]
  },
  {
   "cell_type": "markdown",
   "metadata": {},
   "source": [
    "#### Puesta en practica"
   ]
  },
  {
   "cell_type": "markdown",
   "metadata": {},
   "source": [
    "Para probar como funciona el modelo con datos nuevos podemos utilizar la funcion predict que viene incorporada en la libreria Scikit - Learn. Para eso, tenemos que pasarle un nuevo array de datos con la misma forma que el array con el que entrenamos el mismo."
   ]
  },
  {
   "cell_type": "code",
   "execution_count": 105,
   "metadata": {},
   "outputs": [
    {
     "data": {
      "text/plain": [
       "(20, 1)"
      ]
     },
     "execution_count": 105,
     "metadata": {},
     "output_type": "execute_result"
    }
   ],
   "source": [
    "Xfit = np.linspace(-1,11,20)[:,np.newaxis] # Creamos un array con 20 valores del 1 al 10\n",
    "Xfit.shape # Chequeamos que la forma sea la correcta"
   ]
  },
  {
   "cell_type": "code",
   "execution_count": 108,
   "metadata": {},
   "outputs": [],
   "source": [
    "Yfit = model.predict(Xfit) # Predecimos el resultado para los valores nuevos"
   ]
  },
  {
   "cell_type": "markdown",
   "metadata": {},
   "source": [
    "Podemos graficarlo para visualizar los resultados del modelo recientemente entrenado y su prediccion sobre valores nuevos"
   ]
  },
  {
   "cell_type": "code",
   "execution_count": 111,
   "metadata": {},
   "outputs": [
    {
     "data": {
      "text/plain": [
       "[<matplotlib.lines.Line2D at 0x7f2ad510fc10>]"
      ]
     },
     "execution_count": 111,
     "metadata": {},
     "output_type": "execute_result"
    },
    {
     "data": {
      "image/png": "[encoded data removed]",
      "text/plain": [
       "<Figure size 432x288 with 1 Axes>"
      ]
     },
     "metadata": {},
     "output_type": "display_data"
    }
   ],
   "source": [
    "plt.scatter(x, y) # Graficamos los valores originales en el scatter\n",
    "plt.plot(Xfit, Yfit) # Y una linea para unir los puntos nuevos"
   ]
  },
  {
   "cell_type": "markdown",
   "metadata": {},
   "source": [
    "### CLASIFICACION"
   ]
  },
  {
   "cell_type": "markdown",
   "metadata": {},
   "source": [
    "A continuacion vemos la aplicacion de un modelo de clasificacion sobre un dataset muy famoso, el de Iris. Vamos a introducir una nueva función incorporada en Scikit - Learn para partir en train y test."
   ]
  },
  {
   "cell_type": "markdown",
   "metadata": {},
   "source": [
    "#### Carga de datos"
   ]
  },
  {
   "cell_type": "code",
   "execution_count": 160,
   "metadata": {},
   "outputs": [],
   "source": [
    "iris = sns.load_dataset(\"iris\") # Cargamos el dataset que ya viene incluido con Seaborn"
   ]
  },
  {
   "cell_type": "code",
   "execution_count": 136,
   "metadata": {},
   "outputs": [],
   "source": [
    "X_iris, Y_iris = iris.iloc[:,1:-1], iris.iloc[:,-1] # Separamos en atributos y clase"
   ]
  },
  {
   "cell_type": "code",
   "execution_count": 156,
   "metadata": {},
   "outputs": [],
   "source": [
    "from sklearn.model_selection import train_test_split\n",
    "X_train, X_test, Y_train, Y_test = train_test_split(X_iris, Y_iris) # Usamos la funcion para dividr en train y test"
   ]
  },
  {
   "cell_type": "code",
   "execution_count": 157,
   "metadata": {},
   "outputs": [],
   "source": [
    "from sklearn.naive_bayes import GaussianNB # 1. choose model class\n",
    "model = GaussianNB()                       # 2. instantiate model\n",
    "model.fit(X_train, Y_train)                # 3. fit model to data\n",
    "Y_predict = model.predict(X_test)          # 4. predict on new data"
   ]
  },
  {
   "cell_type": "code",
   "execution_count": 159,
   "metadata": {},
   "outputs": [
    {
     "data": {
      "text/plain": [
       "0.9210526315789473"
      ]
     },
     "execution_count": 159,
     "metadata": {},
     "output_type": "execute_result"
    }
   ],
   "source": [
    "from sklearn.metrics import accuracy_score\n",
    "accuracy_score(Y_test, Y_predict) # Usamos la funcion de sklearn para calcular el accuracy"
   ]
  },
  {
   "cell_type": "markdown",
   "metadata": {},
   "source": [
    "### REDUCCION DE DIMENSIONALIDAD"
   ]
  },
  {
   "cell_type": "code",
   "execution_count": 161,
   "metadata": {},
   "outputs": [],
   "source": [
    "from sklearn.decomposition import PCA  # 1. Choose the model class\n",
    "model = PCA(n_components=2)            # 2. Instantiate the model with hyperparameters\n",
    "model.fit(X_iris)                      # 3. Fit to data. Notice y is not specified!\n",
    "X_2D = model.transform(X_iris)         # 4. Transform the data to two dimensions"
   ]
  },
  {
   "cell_type": "code",
   "execution_count": 162,
   "metadata": {},
   "outputs": [
    {
     "data": {
      "image/png": "[encoded data removed]",
      "text/plain": [
       "<Figure size 453.85x360 with 1 Axes>"
      ]
     },
     "metadata": {},
     "output_type": "display_data"
    }
   ],
   "source": [
    "iris['PCA1'] = X_2D[:, 0]\n",
    "iris['PCA2'] = X_2D[:, 1]\n",
    "sns.lmplot(\"PCA1\", \"PCA2\", hue='species', data=iris, fit_reg=False);"
   ]
  },
  {
   "cell_type": "markdown",
   "metadata": {},
   "source": [
    "### CLUSTERING"
   ]
  },
  {
   "cell_type": "code",
   "execution_count": 166,
   "metadata": {},
   "outputs": [],
   "source": [
    "from sklearn.mixture import GaussianMixture      # 1. Choose the model class\n",
    "model = GaussianMixture(n_components=3,\n",
    "            covariance_type='full')  # 2. Instantiate the model with hyperparameters\n",
    "model.fit(X_iris)                    # 3. Fit to data. Notice y is not specified!\n",
    "y_gmm = model.predict(X_iris)        # 4. Determine cluster labels"
   ]
  },
  {
   "cell_type": "code",
   "execution_count": 167,
   "metadata": {},
   "outputs": [
    {
     "data": {
      "image/png": "[encoded data removed]",
      "text/plain": [
       "<Figure size 1173.85x360 with 3 Axes>"
      ]
     },
     "metadata": {},
     "output_type": "display_data"
    }
   ],
   "source": [
    "iris['cluster'] = y_gmm\n",
    "sns.lmplot(\"PCA1\", \"PCA2\", data=iris, hue='species',\n",
    "           col='cluster', fit_reg=False);"
   ]
  },
  {
   "cell_type": "markdown",
   "metadata": {},
   "source": [
    "### CLASIFICACION DE DIGITOS"
   ]
  },
  {
   "cell_type": "code",
   "execution_count": 169,
   "metadata": {},
   "outputs": [
    {
     "data": {
      "text/plain": [
       "(1797, 8, 8)"
      ]
     },
     "execution_count": 169,
     "metadata": {},
     "output_type": "execute_result"
    }
   ],
   "source": [
    "from sklearn.datasets import load_digits\n",
    "digits = load_digits()\n",
    "digits.images.shape"
   ]
  },
  {
   "cell_type": "code",
   "execution_count": 170,
   "metadata": {},
   "outputs": [
    {
     "data": {
      "image/png": "[encoded data removed]",
      "text/plain": [
       "<Figure size 576x576 with 100 Axes>"
      ]
     },
     "metadata": {},
     "output_type": "display_data"
    }
   ],
   "source": [
    "import matplotlib.pyplot as plt\n",
    "\n",
    "fig, axes = plt.subplots(10, 10, figsize=(8, 8),\n",
    "                         subplot_kw={'xticks':[], 'yticks':[]},\n",
    "                         gridspec_kw=dict(hspace=0.1, wspace=0.1))\n",
    "\n",
    "for i, ax in enumerate(axes.flat):\n",
    "    ax.imshow(digits.images[i], cmap='binary', interpolation='nearest')\n",
    "    ax.text(0.05, 0.05, str(digits.target[i]),\n",
    "            transform=ax.transAxes, color='green')"
   ]
  },
  {
   "cell_type": "code",
   "execution_count": 179,
   "metadata": {},
   "outputs": [
    {
     "data": {
      "text/plain": [
       "(1797, 64)"
      ]
     },
     "execution_count": 179,
     "metadata": {},
     "output_type": "execute_result"
    }
   ],
   "source": [
    "X = digits.data\n",
    "X.shape"
   ]
  },
  {
   "cell_type": "code",
   "execution_count": 180,
   "metadata": {},
   "outputs": [
    {
     "data": {
      "text/plain": [
       "(1797,)"
      ]
     },
     "execution_count": 180,
     "metadata": {},
     "output_type": "execute_result"
    }
   ],
   "source": [
    "y = digits.target\n",
    "y.shape"
   ]
  },
  {
   "cell_type": "code",
   "execution_count": 181,
   "metadata": {},
   "outputs": [
    {
     "data": {
      "text/plain": [
       "(1797, 2)"
      ]
     },
     "execution_count": 181,
     "metadata": {},
     "output_type": "execute_result"
    }
   ],
   "source": [
    "from sklearn.manifold import Isomap\n",
    "iso = Isomap(n_components=2)\n",
    "iso.fit(digits.data)\n",
    "data_projected = iso.transform(digits.data)\n",
    "data_projected.shape"
   ]
  },
  {
   "cell_type": "code",
   "execution_count": 182,
   "metadata": {},
   "outputs": [
    {
     "data": {
      "image/png": "[encoded data removed]",
      "text/plain": [
       "<Figure size 432x288 with 2 Axes>"
      ]
     },
     "metadata": {},
     "output_type": "display_data"
    }
   ],
   "source": [
    "plt.scatter(data_projected[:, 0], data_projected[:, 1], c=digits.target,\n",
    "            edgecolor='none', alpha=0.5,\n",
    "            cmap=plt.cm.get_cmap('viridis', 10))\n",
    "plt.colorbar(label='digit label', ticks=range(10))\n",
    "plt.clim(-0.5, 9.5)"
   ]
  },
  {
   "cell_type": "code",
   "execution_count": 183,
   "metadata": {},
   "outputs": [],
   "source": [
    "Xtrain, Xtest, ytrain, ytest = train_test_split(X, y, random_state=0)"
   ]
  },
  {
   "cell_type": "code",
   "execution_count": 184,
   "metadata": {},
   "outputs": [],
   "source": [
    "from sklearn.naive_bayes import GaussianNB\n",
    "model = GaussianNB()\n",
    "model.fit(Xtrain, ytrain)\n",
    "y_model = model.predict(Xtest)"
   ]
  },
  {
   "cell_type": "code",
   "execution_count": 185,
   "metadata": {},
   "outputs": [
    {
     "data": {
      "text/plain": [
       "0.8333333333333334"
      ]
     },
     "execution_count": 185,
     "metadata": {},
     "output_type": "execute_result"
    }
   ],
   "source": [
    "from sklearn.metrics import accuracy_score\n",
    "accuracy_score(ytest, y_model)"
   ]
  },
  {
   "cell_type": "code",
   "execution_count": 186,
   "metadata": {},
   "outputs": [
    {
     "data": {
      "image/png": "[encoded data removed]",
      "text/plain": [
       "<Figure size 432x288 with 1 Axes>"
      ]
     },
     "metadata": {},
     "output_type": "display_data"
    }
   ],
   "source": [
    "from sklearn.metrics import confusion_matrix\n",
    "\n",
    "mat = confusion_matrix(ytest, y_model)\n",
    "\n",
    "sns.heatmap(mat, square=True, annot=True, cbar=False)\n",
    "plt.xlabel('predicted value')\n",
    "plt.ylabel('true value');"
   ]
  },
  {
   "cell_type": "code",
   "execution_count": 187,
   "metadata": {},
   "outputs": [
    {
     "data": {
      "image/png": "[encoded data removed]",
      "text/plain": [
       "<Figure size 576x576 with 100 Axes>"
      ]
     },
     "metadata": {},
     "output_type": "display_data"
    }
   ],
   "source": [
    "fig, axes = plt.subplots(10, 10, figsize=(8, 8),\n",
    "                         subplot_kw={'xticks':[], 'yticks':[]},\n",
    "                         gridspec_kw=dict(hspace=0.1, wspace=0.1))\n",
    "\n",
    "test_images = Xtest.reshape(-1, 8, 8)\n",
    "\n",
    "for i, ax in enumerate(axes.flat):\n",
    "    ax.imshow(test_images[i], cmap='binary', interpolation='nearest')\n",
    "    ax.text(0.05, 0.05, str(y_model[i]),\n",
    "            transform=ax.transAxes,\n",
    "            color='green' if (ytest[i] == y_model[i]) else 'red')"
   ]
  },
  {
   "cell_type": "markdown",
   "metadata": {},
   "source": [
    "## RESUMEN"
   ]
  },
  {
   "cell_type": "markdown",
   "metadata": {},
   "source": [
    "En esta sección sintetizamos las funciones y conceptos más utilizados en Data Science de todo lo visto anteriormente."
   ]
  },
  {
   "cell_type": "code",
   "execution_count": null,
   "metadata": {},
   "outputs": [],
   "source": [
    "import requests\n",
    "import io\n",
    "\n",
    "url = 'https://cdn.buenosaires.gob.ar/datosabiertos/datasets/compras-coronavirus/compras-coronavirus.csv'\n",
    "r = requests.post(url)\n",
    "test = r.content.decode('utf8')\n",
    "df = pd.read_csv(io.StringIO(test))"
   ]
  },
  {
   "cell_type": "code",
   "execution_count": null,
   "metadata": {},
   "outputs": [],
   "source": [
    "# Creamos listas simples de python con los datos\n",
    "lista_argentina = [50000000,15000]\n",
    "lista_brasil = [320000000,115000]"
   ]
  },
  {
   "cell_type": "code",
   "execution_count": null,
   "metadata": {},
   "outputs": [],
   "source": [
    "# Creamos un diccionario de python a partir de las listas\n",
    "dict_paises = {'Argentina':lista_argentina,'Brasil':lista_brasil}"
   ]
  },
  {
   "cell_type": "code",
   "execution_count": null,
   "metadata": {},
   "outputs": [],
   "source": [
    "# Data frame con los paises en filas\n",
    "pd.DataFrame(data = dict_paises.values(), index = dict_paises.keys(), columns = ['Poblacion','Casos'])"
   ]
  },
  {
   "cell_type": "code",
   "execution_count": null,
   "metadata": {},
   "outputs": [],
   "source": [
    "# Data frame con los paises en columnas\n",
    "pd.DataFrame(dict_paises, index = ['Poblacion','Casos'])"
   ]
  },
  {
   "cell_type": "code",
   "execution_count": null,
   "metadata": {},
   "outputs": [],
   "source": [
    "df_paises = pd.DataFrame(data = dict_paises.values(), index = dict_paises.keys(), columns = ['Poblacion','Casos'])"
   ]
  },
  {
   "cell_type": "code",
   "execution_count": null,
   "metadata": {},
   "outputs": [],
   "source": [
    "# Slice en DF\n",
    "# Filtro en DF\n",
    "# Group by para agregar metricas\n",
    "# Plot para visualizar\n",
    "# Guardar en series pedazos de informacion"
   ]
  },
  {
   "cell_type": "markdown",
   "metadata": {},
   "source": [
    "# EJERCICIO"
   ]
  },
  {
   "cell_type": "code",
   "execution_count": null,
   "metadata": {},
   "outputs": [],
   "source": [
    "# Descargar un archivo\n",
    "# Leerlo en un Data Frame\n",
    "# Cortarlo en pedazos\n",
    "# Guardar series\n",
    "# Pivotear tabla\n",
    "# Generar funciones específicas\n",
    "# Tratar texto\n",
    "# Hacer un describe\n",
    "# Visualizar de manera clara"
   ]
  },
  {
   "cell_type": "code",
   "execution_count": null,
   "metadata": {},
   "outputs": [],
   "source": [
    "np.random.normal(0,1,10000)"
   ]
  },
  {
   "cell_type": "code",
   "execution_count": null,
   "metadata": {},
   "outputs": [],
   "source": [
    "test"
   ]
  },
  {
   "cell_type": "markdown",
   "metadata": {},
   "source": [
    "# BONUS TRACK"
   ]
  },
  {
   "cell_type": "code",
   "execution_count": null,
   "metadata": {},
   "outputs": [],
   "source": [
    "#pip install sweetviz"
   ]
  }
 ],
 "metadata": {
  "kernelspec": {
   "display_name": "Python 3",
   "language": "python",
   "name": "python3"
  },
  "language_info": {
   "codemirror_mode": {
    "name": "ipython",
    "version": 3
   },
   "file_extension": ".py",
   "mimetype": "text/x-python",
   "name": "python",
   "nbconvert_exporter": "python",
   "pygments_lexer": "ipython3",
   "version": "3.7.6"
  },
  "toc": {
   "base_numbering": 1,
   "nav_menu": {
    "height": "203.993px",
    "width": "234.983px"
   },
   "number_sections": true,
   "sideBar": true,
   "skip_h1_title": false,
   "title_cell": "Table of Contents",
   "title_sidebar": "Contents",
   "toc_cell": true,
   "toc_position": {
    "height": "calc(100% - 180px)",
    "left": "10px",
    "top": "150px",
    "width": "340.66px"
   },
   "toc_section_display": true,
   "toc_window_display": true
  }
 },
 "nbformat": 4,
 "nbformat_minor": 4
}
