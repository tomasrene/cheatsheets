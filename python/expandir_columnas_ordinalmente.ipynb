{
  "nbformat": 4,
  "nbformat_minor": 0,
  "metadata": {
    "colab": {
      "name": "expandir_columnas_ordinalmente.ipynb",
      "provenance": []
    },
    "kernelspec": {
      "name": "python3",
      "display_name": "Python 3"
    }
  },
  "cells": [
    {
      "cell_type": "code",
      "metadata": {
        "id": "r8LO5mbNNagI",
        "colab_type": "code",
        "colab": {}
      },
      "source": [
        "import pandas as pd"
      ],
      "execution_count": 134,
      "outputs": []
    },
    {
      "cell_type": "code",
      "metadata": {
        "id": "1F7XqzJsYAEy",
        "colab_type": "code",
        "colab": {}
      },
      "source": [
        "def crear_columnas(tabla_original, columna_a_conservar, columna_a_expandir):\n",
        "  tabla_nueva = pd.DataFrame({columna_a_conservar:tabla_original[columna_a_conservar].unique()}).set_index(columna_a_conservar)\n",
        "  for cid in tabla_original[columna_a_conservar].unique():\n",
        "    for i in range(sum(tabla_original[columna_a_conservar] == cid)):\n",
        "      tabla_nueva.loc[cid,i+1] = tabla_original[tabla_original[columna_a_conservar]==cid][columna_a_expandir].reset_index().loc[i].at[columna_a_expandir]\n",
        "  return tabla_nueva"
      ],
      "execution_count": 132,
      "outputs": []
    },
    {
      "cell_type": "code",
      "metadata": {
        "id": "sAI8W0x8OQc-",
        "colab_type": "code",
        "colab": {}
      },
      "source": [
        "tabla_original = pd.DataFrame({'fecha':['10-ene',\n",
        "                                        '10-feb',\n",
        "                                        '10-mar',\n",
        "                                        '10-mar',\n",
        "                                        '10-abr',\n",
        "                                        '10-ene'],\n",
        "                               'clientID':[123,\n",
        "                                           123,\n",
        "                                           123,\n",
        "                                           456,\n",
        "                                           789,\n",
        "                                           1011]})"
      ],
      "execution_count": 135,
      "outputs": []
    },
    {
      "cell_type": "code",
      "metadata": {
        "id": "8lvphuAEOpYz",
        "colab_type": "code",
        "colab": {
          "base_uri": "https://localhost:8080/",
          "height": 235
        },
        "outputId": "fbb0d1f1-8dde-4dad-b19f-21b9039b08ca"
      },
      "source": [
        "tabla_original"
      ],
      "execution_count": 136,
      "outputs": [
        {
          "output_type": "execute_result",
          "data": {
            "text/html": [
              "<div>\n",
              "<style scoped>\n",
              "    .dataframe tbody tr th:only-of-type {\n",
              "        vertical-align: middle;\n",
              "    }\n",
              "\n",
              "    .dataframe tbody tr th {\n",
              "        vertical-align: top;\n",
              "    }\n",
              "\n",
              "    .dataframe thead th {\n",
              "        text-align: right;\n",
              "    }\n",
              "</style>\n",
              "<table border=\"1\" class=\"dataframe\">\n",
              "  <thead>\n",
              "    <tr style=\"text-align: right;\">\n",
              "      <th></th>\n",
              "      <th>fecha</th>\n",
              "      <th>clientID</th>\n",
              "    </tr>\n",
              "  </thead>\n",
              "  <tbody>\n",
              "    <tr>\n",
              "      <th>0</th>\n",
              "      <td>10-ene</td>\n",
              "      <td>123</td>\n",
              "    </tr>\n",
              "    <tr>\n",
              "      <th>1</th>\n",
              "      <td>10-feb</td>\n",
              "      <td>123</td>\n",
              "    </tr>\n",
              "    <tr>\n",
              "      <th>2</th>\n",
              "      <td>10-mar</td>\n",
              "      <td>123</td>\n",
              "    </tr>\n",
              "    <tr>\n",
              "      <th>3</th>\n",
              "      <td>10-mar</td>\n",
              "      <td>456</td>\n",
              "    </tr>\n",
              "    <tr>\n",
              "      <th>4</th>\n",
              "      <td>10-abr</td>\n",
              "      <td>789</td>\n",
              "    </tr>\n",
              "    <tr>\n",
              "      <th>5</th>\n",
              "      <td>10-ene</td>\n",
              "      <td>1011</td>\n",
              "    </tr>\n",
              "  </tbody>\n",
              "</table>\n",
              "</div>"
            ],
            "text/plain": [
              "    fecha  clientID\n",
              "0  10-ene       123\n",
              "1  10-feb       123\n",
              "2  10-mar       123\n",
              "3  10-mar       456\n",
              "4  10-abr       789\n",
              "5  10-ene      1011"
            ]
          },
          "metadata": {
            "tags": []
          },
          "execution_count": 136
        }
      ]
    },
    {
      "cell_type": "code",
      "metadata": {
        "id": "QoMxvBSQYn0U",
        "colab_type": "code",
        "colab": {
          "base_uri": "https://localhost:8080/",
          "height": 204
        },
        "outputId": "5674e282-3367-4ff9-d9df-05e16b93c54c"
      },
      "source": [
        "crear_columnas(tabla_original,'clientID','fecha')"
      ],
      "execution_count": 137,
      "outputs": [
        {
          "output_type": "execute_result",
          "data": {
            "text/html": [
              "<div>\n",
              "<style scoped>\n",
              "    .dataframe tbody tr th:only-of-type {\n",
              "        vertical-align: middle;\n",
              "    }\n",
              "\n",
              "    .dataframe tbody tr th {\n",
              "        vertical-align: top;\n",
              "    }\n",
              "\n",
              "    .dataframe thead th {\n",
              "        text-align: right;\n",
              "    }\n",
              "</style>\n",
              "<table border=\"1\" class=\"dataframe\">\n",
              "  <thead>\n",
              "    <tr style=\"text-align: right;\">\n",
              "      <th></th>\n",
              "      <th>1</th>\n",
              "      <th>2</th>\n",
              "      <th>3</th>\n",
              "    </tr>\n",
              "    <tr>\n",
              "      <th>clientID</th>\n",
              "      <th></th>\n",
              "      <th></th>\n",
              "      <th></th>\n",
              "    </tr>\n",
              "  </thead>\n",
              "  <tbody>\n",
              "    <tr>\n",
              "      <th>123</th>\n",
              "      <td>10-ene</td>\n",
              "      <td>10-feb</td>\n",
              "      <td>10-mar</td>\n",
              "    </tr>\n",
              "    <tr>\n",
              "      <th>456</th>\n",
              "      <td>10-mar</td>\n",
              "      <td>NaN</td>\n",
              "      <td>NaN</td>\n",
              "    </tr>\n",
              "    <tr>\n",
              "      <th>789</th>\n",
              "      <td>10-abr</td>\n",
              "      <td>NaN</td>\n",
              "      <td>NaN</td>\n",
              "    </tr>\n",
              "    <tr>\n",
              "      <th>1011</th>\n",
              "      <td>10-ene</td>\n",
              "      <td>NaN</td>\n",
              "      <td>NaN</td>\n",
              "    </tr>\n",
              "  </tbody>\n",
              "</table>\n",
              "</div>"
            ],
            "text/plain": [
              "               1       2       3\n",
              "clientID                        \n",
              "123       10-ene  10-feb  10-mar\n",
              "456       10-mar     NaN     NaN\n",
              "789       10-abr     NaN     NaN\n",
              "1011      10-ene     NaN     NaN"
            ]
          },
          "metadata": {
            "tags": []
          },
          "execution_count": 137
        }
      ]
    }
  ]
}